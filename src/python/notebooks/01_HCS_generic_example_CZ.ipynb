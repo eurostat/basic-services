{
 "cells": [
  {
   "cell_type": "markdown",
   "metadata": {},
   "source": [
    "# Input/Output data integration and harmonisation - CZ healthcare services\n",
    "\n",
    "Prepared by [**J.Grazzini**](mailto:jacopo.grazzini@ec.europa.eu) ([_Eurostat_](https://ec.europa.eu/eurostat)).\n",
    "\n",
    "## Introduction\n",
    "\n",
    "This notebook illustrates some basic usage of the [`pyeudatanat`](https://github.com/eurostat/pyEUDatNat) and [`pyeufacility`](https://github.com/eurostat/pyeufacility) packages in order to ingest and harmonise data collected from national providers. \n",
    "\n",
    "The example presented herein aims at formatting CZ data on healthcare services according to an agreed [common template](https://github.com/eurostat/basic-services/blob/master/data/healthcare/metadata.pdf).\n",
    "\n",
    "**Table of contents**\n",
    "\n",
    "* [Setting and checking the environment](#environment).\n",
    "* [Definition of the output configuration format](#configuration).\n",
    "* [Loading the input data](#loading).\n",
    "* [Use of input metadata and output configuration template](#metadata).\n",
    "* [Geocoding and formatting the input data](#geocode-format).\n",
    "* [Adopting a metadata-based approach](#metadata-approach).\n",
    "* [Automated metadata-based harmonisation](#harmonisation).\n",
    "* [Automated metadata-based validation](#validation).\n",
    "\n",
    "## Setting and checking the environment <a id=\"environment\"></a>\n",
    "\n",
    "Let's run some setup necessary to import the dependency(ies) required to run the project... "
   ]
  },
  {
   "cell_type": "code",
   "execution_count": 1,
   "metadata": {},
   "outputs": [],
   "source": [
    "thisdir = !pwd # os.getcwd()\n",
    "PROJECT = 'basic-services'\n",
    "\n",
    "import os, sys\n",
    "import numpy as np\n",
    "import pandas as pd\n",
    "import json\n",
    "from pprint import pprint as pprint"
   ]
  },
  {
   "cell_type": "markdown",
   "metadata": {},
   "source": [
    "First, you will need to import the `pyeudatnat` package that contains various useful functions/methods: "
   ]
  },
  {
   "cell_type": "code",
   "execution_count": 2,
   "metadata": {},
   "outputs": [
    {
     "name": "stdout",
     "output_type": "stream",
     "text": [
      "package \u001b[1mpyeudatnat\u001b[0m available to run project \u001b[1mbasic-services\u001b[0m\n"
     ]
    }
   ],
   "source": [
    "try:\n",
    "    import pyeudatnat\n",
    "except ImportError:\n",
    "    try:\n",
    "        !{sys.executable} -m pip install git+https://github.com/eurostat/pyEUDatNat.git\n",
    "        # !conda install --yes --prefix {sys.prefix} git+https://github.com/eurostat/pyEUDatNat.git\n",
    "    except:\n",
    "        raise IOError(\"sorry, you're doomed, you won't be able to run this notebook...\")\n",
    "    else:\n",
    "        import pyeudatnat\n",
    "finally:\n",
    "    print('package \\033[1mpyeudatnat\\033[0m available to run project \\033[1m%s\\033[0m' % PROJECT)\n",
    "    from pyeudatnat import misc, io, meta, text"
   ]
  },
  {
   "cell_type": "markdown",
   "metadata": {},
   "source": [
    "Then, you will need to load the [`pyeufacility`](https://github.com/eurostat/basic-services/tree/master/src/python/pyeufacility) module available with the [`'basic-services'`](https://github.com/eurostat/basic-services/) project.\n",
    "The following is required only if `pyeufacility` is not remotely installed/available from `pypi`, but it will be working only if you have a local version on your machine. Another simple option is to update your environment variable `PYTHONPATH`. "
   ]
  },
  {
   "cell_type": "code",
   "execution_count": 3,
   "metadata": {},
   "outputs": [
    {
     "name": "stdout",
     "output_type": "stream",
     "text": [
      "package \u001b[1mpyeufacility\u001b[0m available to run project \u001b[1mbasic-services\u001b[0m\n"
     ]
    }
   ],
   "source": [
    "try:\n",
    "    import pyeufacility\n",
    "except ImportError:\n",
    "    try:\n",
    "        assert 'pyeufacility' in [mod.__name__ for mod in sys.modules.values()]\n",
    "    except AssertionError:\n",
    "        # first case: this notebook will need to be run from the project directory, otherwise...\n",
    "        try:\n",
    "            pardir = os.path.abspath(os.path.join(thisdir[0], '../'))\n",
    "            assert 'pyeufacility' in os.listdir(pardir)\n",
    "        except:\n",
    "            # second case: install from github\n",
    "            try:\n",
    "                !{sys.executable} -m pip install git+https://github.com/eurostat/basic-services.git#egg=pyeufacility\\&subdirectory=src/python\n",
    "            except:\n",
    "                raise IOError(\"sorry, you're doomed, you won't be able to run this notebook...\")\n",
    "            else:\n",
    "                import pyeufacility\n",
    "        else:\n",
    "            sys.path.insert(0,pardir)     \n",
    "            import pyeufacility\n",
    "finally:\n",
    "    print('package \\033[1mpyeufacility\\033[0m available to run project \\033[1m%s\\033[0m' % PROJECT)\n",
    "    from pyeufacility import config"
   ]
  },
  {
   "cell_type": "markdown",
   "metadata": {},
   "source": [
    "We will also use the following variable for handling the paths to the local data repositories:"
   ]
  },
  {
   "cell_type": "code",
   "execution_count": 4,
   "metadata": {},
   "outputs": [],
   "source": [
    "try:\n",
    "    PACKPATH = getattr(sys.modules['pyeufacility'], 'PACKPATH')\n",
    "except:\n",
    "    PACKPATH = getattr(sys.modules['pyeufacility'], '__path__')[0]"
   ]
  },
  {
   "cell_type": "markdown",
   "metadata": {},
   "source": [
    "Let's check some basic global parameters/metadata already made available there..."
   ]
  },
  {
   "cell_type": "code",
   "execution_count": 5,
   "metadata": {},
   "outputs": [
    {
     "name": "stdout",
     "output_type": "stream",
     "text": [
      "\u001b[4mCountries considered for harmonisation:\u001b[0m \u001b[1m['BE', 'EL', 'LT', 'PT', 'BG', 'ES', 'LU', 'RO', 'CZ', 'FR', 'HU', 'SI', 'DK', 'HR', 'MT', 'SK', 'DE', 'IT', 'NL', 'FI', 'EE', 'CY', 'AT', 'SE', 'IE', 'LV', 'PL', 'UK', 'IS', 'NO', 'CH', 'LI']\u001b[0m\n",
      "\u001b[4mFacilities available for harmonisation:\u001b[0m \u001b[1m{'HCS': {'code': 'hcs', 'name': 'Healthcare services'}, 'EDU': {'code': 'edu', 'name': 'Educational facilities'}, 'Oth': {'code': 'other', 'name': 'Other basic services TBD'}}\u001b[0m\n"
     ]
    }
   ],
   "source": [
    "print(\"\\033[4mCountries considered for harmonisation:\\033[0m \\033[1m%s\\033[0m\" \n",
    "      % list(pyeudatnat.COUNTRIES))\n",
    "print(\"\\033[4mFacilities available for harmonisation:\\033[0m \\033[1m%s\\033[0m\" \n",
    "      % pyeufacility.FACILITIES)"
   ]
  },
  {
   "cell_type": "markdown",
   "metadata": {},
   "source": [
    "## Definition of the output configuration format <a id=\"configuration\"></a> \n",
    "\n",
    "Next, we import the `config` module, and check also some of the metadata made available through the `pyeufacility` module. \n",
    "\n",
    "In particular, the format of the output harmonised dataset, such as the output columns (name and type), the output encoding format, the separator for output CSV, _etc_..., are defined for any given type of facility, _e.g._ HealthCare Services (*HCS*), separately in the global dictionary `config.FACMETADATA`:"
   ]
  },
  {
   "cell_type": "code",
   "execution_count": 6,
   "metadata": {},
   "outputs": [
    {
     "name": "stdout",
     "output_type": "stream",
     "text": [
      "\u001b[4mFields of the configuration template:\u001b[0m \u001b[1m['path', 'info', 'options', 'index', 'category']\u001b[0m\n",
      "\u001b[4mFormatting of output data is available for 'HCS':\u001b[0m \u001b[1m{'code': 'hcs', 'name': 'Healthcare services'}\u001b[0m\n"
     ]
    }
   ],
   "source": [
    "print(\"\\033[4mFields of the configuration template:\\033[0m \\033[1m%s\\033[0m\" \n",
    "      % list(config.FACMETADATA['HCS'].keys()))\n",
    "print(\"\\033[4mFormatting of output data is available for 'HCS':\\033[0m \\033[1m%s\\033[0m\" \n",
    "      % config.FACMETADATA['HCS']['category'])"
   ]
  },
  {
   "cell_type": "markdown",
   "metadata": {},
   "source": [
    "Using this variable, it is possible to retrieve the specific formatting of *HCS* described through its contents. `config.FACMETADATA['HCS']` actually informs the output harmonised data, *e.g.* regarding the list of desired columns in the dataset, format/cast of columns, path of the output file, projection considered for the dataset, *etc...*:"
   ]
  },
  {
   "cell_type": "code",
   "execution_count": 7,
   "metadata": {},
   "outputs": [
    {
     "name": "stdout",
     "output_type": "stream",
     "text": [
      "\u001b[4mConfiguration template:\u001b[0m (<class 'dict'>)\n",
      "{'category': {'code': 'hcs', 'name': 'Healthcare services'},\n",
      " 'index': {'ER': {'desc': \"Flag 'yes/no' for whether the healthcare site \"\n",
      "                          'provides emergency medical services',\n",
      "                  'name': 'emergency',\n",
      "                  'type': 'str',\n",
      "                  'values': ['yes', 'no']},\n",
      "           'PP': {'desc': \"Status 'private/public' of the healthcare service\",\n",
      "                  'name': 'public_private',\n",
      "                  'type': 'str',\n",
      "                  'values': ['public', 'private']},\n",
      "           'beds': {'desc': 'Measure of capacity by number of beds (most '\n",
      "                            'common)',\n",
      "                    'name': 'cap_beds',\n",
      "                    'type': 'int',\n",
      "                    'values': None},\n",
      "           'cc': {'desc': 'Country code (ISO 3166-1 alpha-2 format)',\n",
      "                  'name': 'cc',\n",
      "                  'type': 'str',\n",
      "                  'values': ['BE',\n",
      "                             'EL',\n",
      "                             'LT',\n",
      "                             'PT',\n",
      "                             'BG',\n",
      "                             'ES',\n",
      "                             'LU',\n",
      "                             'RO',\n",
      "                             'CZ',\n",
      "                             'FR',\n",
      "                             'HU',\n",
      "                             'SI',\n",
      "                             'DK',\n",
      "                             'HR',\n",
      "                             'MT',\n",
      "                             'SK',\n",
      "                             'DE',\n",
      "                             'IT',\n",
      "                             'NL',\n",
      "                             'FI',\n",
      "                             'EE',\n",
      "                             'CY',\n",
      "                             'AT',\n",
      "                             'SE',\n",
      "                             'IE',\n",
      "                             'LV',\n",
      "                             'PL',\n",
      "                             'UK',\n",
      "                             'IS',\n",
      "                             'NO',\n",
      "                             'CH',\n",
      "                             'LI']},\n",
      "           'city': {'desc': 'City name (sometimes refers to a region or a '\n",
      "                            'municipality)',\n",
      "                    'name': 'city',\n",
      "                    'type': 'str',\n",
      "                    'values': None},\n",
      "           'comments': {'desc': 'Comments',\n",
      "                        'name': 'comments',\n",
      "                        'type': 'str',\n",
      "                        'values': None},\n",
      "           'country': {'desc': 'Country name',\n",
      "                       'name': 'country',\n",
      "                       'type': 'str',\n",
      "                       'values': None},\n",
      "           'email': {'desc': 'Email address',\n",
      "                     'name': 'email',\n",
      "                     'type': 'str',\n",
      "                     'values': None},\n",
      "           'geo_qual': {'desc': 'A quality indicator for the geolocation - 1: '\n",
      "                                'Good, 2: Medium, 3: Low, -1: Unknown',\n",
      "                        'name': 'geo_qual',\n",
      "                        'type': 'int',\n",
      "                        'values': [-1, 1, 2, 3]},\n",
      "           'id': {'desc': 'The healthcare service identifier - This identifier '\n",
      "                          'is based on national identification codes, if it '\n",
      "                          'exists.',\n",
      "                  'name': 'id',\n",
      "                  'type': 'int',\n",
      "                  'values': None},\n",
      "           'lat': {'desc': 'Latitude (WGS 84)',\n",
      "                   'name': 'lat',\n",
      "                   'type': 'float',\n",
      "                   'values': None},\n",
      "           'lon': {'desc': 'Longitude (WGS 84)',\n",
      "                   'name': 'lon',\n",
      "                   'type': 'float',\n",
      "                   'values': None},\n",
      "           'name': {'desc': 'The name of the healthcare institution',\n",
      "                    'name': 'hospital_name',\n",
      "                    'type': 'str',\n",
      "                    'values': None},\n",
      "           'number': {'desc': 'House number',\n",
      "                      'name': 'house_number',\n",
      "                      'type': 'str',\n",
      "                      'values': None},\n",
      "           'postcode': {'desc': 'Postcode',\n",
      "                        'name': 'postcode',\n",
      "                        'type': 'str',\n",
      "                        'values': None},\n",
      "           'prac': {'desc': 'Measure of capacity by number of practitioners',\n",
      "                    'name': 'cap_prac',\n",
      "                    'type': 'int',\n",
      "                    'values': None},\n",
      "           'pubdate': {'desc': 'The publication date of the dataset by '\n",
      "                               'Eurostat (DD/MM/YYYY). This should be used to '\n",
      "                               'track when this Eurostat dataset has changed.',\n",
      "                       'name': 'pub_date',\n",
      "                       'type': 'datetime',\n",
      "                       'values': None},\n",
      "           'refdate': {'desc': 'The reference date (DD/MM/YYYY) the data '\n",
      "                               'refers to. The dataset represents the reality '\n",
      "                               'as it was at this date.',\n",
      "                       'name': 'ref_date',\n",
      "                       'type': 'datetime',\n",
      "                       'values': None},\n",
      "           'rooms': {'desc': 'Measure of capacity by number of rooms',\n",
      "                     'name': 'cap_rooms',\n",
      "                     'type': 'int',\n",
      "                     'values': None},\n",
      "           'site': {'desc': 'The name of the specific site or branch of a '\n",
      "                            'healthcare institution',\n",
      "                    'name': 'site_name',\n",
      "                    'type': 'str',\n",
      "                    'values': None},\n",
      "           'specs': {'desc': 'List of specialties recognized in the European '\n",
      "                             'Union and European Economic Area according to EU '\n",
      "                             'Directive 2005/36/EC',\n",
      "                     'name': 'list_specs',\n",
      "                     'type': 'str',\n",
      "                     'values': None},\n",
      "           'street': {'desc': 'Street name',\n",
      "                      'name': 'street',\n",
      "                      'type': 'str',\n",
      "                      'values': None},\n",
      "           'tel': {'desc': 'Telephone number',\n",
      "                   'name': 'tel',\n",
      "                   'type': 'int',\n",
      "                   'values': None},\n",
      "           'type': {'desc': 'If the healthcare service provides a specific '\n",
      "                            'type of care, e.g. psychiatric hospital',\n",
      "                    'name': 'facility_type',\n",
      "                    'type': 'str',\n",
      "                    'values': None},\n",
      "           'url': {'desc': \"URL link to the institution's website\",\n",
      "                   'name': 'url',\n",
      "                   'type': 'str',\n",
      "                   'values': None}},\n",
      " 'info': 'metadata.pdf',\n",
      " 'options': {'dtfmt': '%d/%m/%Y',\n",
      "             'encoding': 'utf-8',\n",
      "             'fmt': {'csv': 'csv', 'geojson': 'geojson', 'gpkg': 'gpkg'},\n",
      "             'lang': 'en',\n",
      "             'proj': None,\n",
      "             'sep': ','},\n",
      " 'path': '../../../data/healthcare'}\n"
     ]
    }
   ],
   "source": [
    "print(\"\\033[4mConfiguration template:\\033[0m (%s)\" % type(config.FACMETADATA['HCS']))\n",
    "# print(json.dumps(config.CONFIGINFO['HCS'], indent=2))\n",
    "pprint(config.FACMETADATA['HCS'])"
   ]
  },
  {
   "cell_type": "markdown",
   "metadata": {},
   "source": [
    "This provides for instance with the definitions of the desired output fields, for instance:"
   ]
  },
  {
   "cell_type": "code",
   "execution_count": 8,
   "metadata": {},
   "outputs": [
    {
     "name": "stdout",
     "output_type": "stream",
     "text": [
      "- output attribute \u001b[1m'site_name'\u001b[0m defined as:\n",
      "\u001b[1m{'name': 'site_name', 'desc': 'The name of the specific site or branch of a healthcare institution', 'type': 'str', 'values': None}\u001b[0m\n",
      "- output attribute \u001b[1m'lat'\u001b[0m defined as:\n",
      "\u001b[1m{'name': 'lat', 'desc': 'Latitude (WGS 84)', 'type': 'float', 'values': None}\u001b[0m\n"
     ]
    }
   ],
   "source": [
    "print(\"- output attribute \\033[1m'%s'\\033[0m defined as:\\n\\033[1m%s\\033[0m\" % \n",
    "      (config.FACMETADATA['HCS']['index']['site']['name'], config.FACMETADATA['HCS']['index']['site']))\n",
    "print(\"- output attribute \\033[1m'%s'\\033[0m defined as:\\n\\033[1m%s\\033[0m\" % \n",
    "      (config.FACMETADATA['HCS']['index']['lat']['name'], config.FACMETADATA['HCS']['index']['lat']))"
   ]
  },
  {
   "cell_type": "markdown",
   "metadata": {},
   "source": [
    "Note that the parameters of any given facility, _e.g._ *HCS*, as defined in `config.FACMETADATA` can actually be (re)set through an external configuration JSON file, _e.g._ *hcs.json*:"
   ]
  },
  {
   "cell_type": "code",
   "execution_count": 9,
   "metadata": {},
   "outputs": [
    {
     "name": "stdout",
     "output_type": "stream",
     "text": [
      "Configuration template is parsed through \u001b[1m'/src/python/pyeufacility/hcs.json'\u001b[0m file:\n",
      "{\n",
      "  \"path\": \"../../../data/healthcare\",\n",
      "  \"info\": \"metadata.pdf\",\n",
      "  \"options\": {\n",
      "    \"lang\": \"en\",\n",
      "    \"fmt\": {\n",
      "      \"geojson\": \"geojson\",\n",
      "      \"csv\": \"csv\",\n",
      "      \"gpkg\": \"gpkg\"\n",
      "    },\n",
      "    \"proj\": null,\n",
      "    \"sep\": \",\",\n",
      "    \"encoding\": \"utf-8\",\n",
      "    \"dtfmt\": \"%d/%m/%Y\"\n",
      "  },\n",
      "  \"index\": {\n",
      "    \"id\": {\n",
      "      \"name\": \"id\",\n",
      "      \"desc\": \"The healthcare service identifier - This identifier is based on national identification codes, if it exists.\",\n",
      "      \"type\": \"int\",\n",
      "      \"values\": null\n",
      "    },\n",
      "    \"name\": {\n",
      "      \"name\": \"hospital_name\",\n",
      "      \"desc\": \"The name of the healthcare institution\",\n",
      "      \"type\": \"str\",\n",
      "      \"values\": null\n",
      "    },\n",
      "    \"site\": {\n",
      "      \"name\": \"site_name\",\n",
      "      \"desc\": \"The name of the specific site or branch of a healthcare institution\",\n",
      "      \"type\": \"str\",\n",
      "      \"values\": null\n",
      "    },\n",
      "    \"lat\": {\n",
      "      \"name\": \"lat\",\n",
      "      \"desc\": \"Latitude (WGS 84)\",\n",
      "      \"type\": \"float\",\n",
      "      \"values\": null\n",
      "    },\n",
      "    \"lon\": {\n",
      "      \"name\": \"lon\",\n",
      "      \"desc\": \"Longitude (WGS 84)\",\n",
      "      \"type\": \"float\",\n",
      "      \"values\": null\n",
      "    },\n",
      "    \"geo_qual\": {\n",
      "      \"name\": \"geo_qual\",\n",
      "      \"desc\": \"A quality indicator for the geolocation - 1: Good, 2: Medium, 3: Low, -1: Unknown\",\n",
      "      \"type\": \"int\",\n",
      "      \"values\": [\n",
      "        -1,\n",
      "        1,\n",
      "        2,\n",
      "        3\n",
      "      ]\n",
      "    },\n",
      "    \"street\": {\n",
      "      \"name\": \"street\",\n",
      "      \"desc\": \"Street name\",\n",
      "      \"type\": \"str\",\n",
      "      \"values\": null\n",
      "    },\n",
      "    \"number\": {\n",
      "      \"name\": \"house_number\",\n",
      "      \"desc\": \"House number\",\n",
      "      \"type\": \"str\",\n",
      "      \"values\": null\n",
      "    },\n",
      "    \"postcode\": {\n",
      "      \"name\": \"postcode\",\n",
      "      \"desc\": \"Postcode\",\n",
      "      \"type\": \"str\",\n",
      "      \"values\": null\n",
      "    },\n",
      "    \"city\": {\n",
      "      \"name\": \"city\",\n",
      "      \"desc\": \"City name (sometimes refers to a region or a municipality)\",\n",
      "      \"type\": \"str\",\n",
      "      \"values\": null\n",
      "    },\n",
      "    \"cc\": {\n",
      "      \"name\": \"cc\",\n",
      "      \"desc\": \"Country code (ISO 3166-1 alpha-2 format)\",\n",
      "      \"type\": \"str\",\n",
      "      \"values\": [\n",
      "        \"BE\",\n",
      "        \"EL\",\n",
      "        \"LT\",\n",
      "        \"PT\",\n",
      "        \"BG\",\n",
      "        \"ES\",\n",
      "        \"LU\",\n",
      "        \"RO\",\n",
      "        \"CZ\",\n",
      "        \"FR\",\n",
      "        \"HU\",\n",
      "        \"SI\",\n",
      "        \"DK\",\n",
      "        \"HR\",\n",
      "        \"MT\",\n",
      "        \"SK\",\n",
      "        \"DE\",\n",
      "        \"IT\",\n",
      "        \"NL\",\n",
      "        \"FI\",\n",
      "        \"EE\",\n",
      "        \"CY\",\n",
      "        \"AT\",\n",
      "        \"SE\",\n",
      "        \"IE\",\n",
      "        \"LV\",\n",
      "        \"PL\",\n",
      "        \"UK\",\n",
      "        \"IS\",\n",
      "        \"NO\",\n",
      "        \"CH\",\n",
      "        \"LI\"\n",
      "      ]\n",
      "    },\n",
      "    \"country\": {\n",
      "      \"name\": \"country\",\n",
      "      \"desc\": \"Country name\",\n",
      "      \"type\": \"str\",\n",
      "      \"values\": null\n",
      "    },\n",
      "    \"beds\": {\n",
      "      \"name\": \"cap_beds\",\n",
      "      \"desc\": \"Measure of capacity by number of beds (most common)\",\n",
      "      \"type\": \"int\",\n",
      "      \"values\": null\n",
      "    },\n",
      "    \"prac\": {\n",
      "      \"name\": \"cap_prac\",\n",
      "      \"desc\": \"Measure of capacity by number of practitioners\",\n",
      "      \"type\": \"int\",\n",
      "      \"values\": null\n",
      "    },\n",
      "    \"rooms\": {\n",
      "      \"name\": \"cap_rooms\",\n",
      "      \"desc\": \"Measure of capacity by number of rooms\",\n",
      "      \"type\": \"int\",\n",
      "      \"values\": null\n",
      "    },\n",
      "    \"ER\": {\n",
      "      \"name\": \"emergency\",\n",
      "      \"desc\": \"Flag 'yes/no' for whether the healthcare site provides emergency medical services\",\n",
      "      \"type\": \"str\",\n",
      "      \"values\": [\n",
      "        \"yes\",\n",
      "        \"no\"\n",
      "      ]\n",
      "    },\n",
      "    \"type\": {\n",
      "      \"name\": \"facility_type\",\n",
      "      \"desc\": \"If the healthcare service provides a specific type of care, e.g. psychiatric hospital\",\n",
      "      \"type\": \"str\",\n",
      "      \"values\": null\n",
      "    },\n",
      "    \"PP\": {\n",
      "      \"name\": \"public_private\",\n",
      "      \"desc\": \"Status 'private/public' of the healthcare service\",\n",
      "      \"type\": \"str\",\n",
      "      \"values\": [\n",
      "        \"public\",\n",
      "        \"private\"\n",
      "      ]\n",
      "    },\n",
      "    \"specs\": {\n",
      "      \"name\": \"list_specs\",\n",
      "      \"desc\": \"List of specialties recognized in the European Union and European Economic Area according to EU Directive 2005/36/EC\",\n",
      "      \"type\": \"str\",\n",
      "      \"values\": null\n",
      "    },\n",
      "    \"tel\": {\n",
      "      \"name\": \"tel\",\n",
      "      \"desc\": \"Telephone number\",\n",
      "      \"type\": \"int\",\n",
      "      \"values\": null\n",
      "    },\n",
      "    \"email\": {\n",
      "      \"name\": \"email\",\n",
      "      \"desc\": \"Email address\",\n",
      "      \"type\": \"str\",\n",
      "      \"values\": null\n",
      "    },\n",
      "    \"url\": {\n",
      "      \"name\": \"url\",\n",
      "      \"desc\": \"URL link to the institution's website\",\n",
      "      \"type\": \"str\",\n",
      "      \"values\": null\n",
      "    },\n",
      "    \"refdate\": {\n",
      "      \"name\": \"ref_date\",\n",
      "      \"desc\": \"The reference date (DD/MM/YYYY) the data refers to. The dataset represents the reality as it was at this date.\",\n",
      "      \"type\": \"datetime\",\n",
      "      \"values\": null\n",
      "    },\n",
      "    \"pubdate\": {\n",
      "      \"name\": \"pub_date\",\n",
      "      \"desc\": \"The publication date of the dataset by Eurostat (DD/MM/YYYY). This should be used to track when this Eurostat dataset has changed.\",\n",
      "      \"type\": \"datetime\",\n",
      "      \"values\": null\n",
      "    },\n",
      "    \"comments\": {\n",
      "      \"name\": \"comments\",\n",
      "      \"desc\": \"Comments\",\n",
      "      \"type\": \"str\",\n",
      "      \"values\": null\n",
      "    }\n",
      "  },\n",
      "  \"category\": {\n",
      "    \"code\": \"hcs\",\n",
      "    \"name\": \"Healthcare services\"\n",
      "  }\n",
      "}\n"
     ]
    }
   ],
   "source": [
    "cfg = os.path.join(PACKPATH, 'hcs.json')\n",
    "with open(cfg, 'r') as fp:\n",
    "    cfgdata = json.load(fp)\n",
    "    \n",
    "print(\"Configuration template is parsed through \\033[1m'%s'\\033[0m file:\" \n",
    "      % cfg.split(PROJECT)[1])\n",
    "# cfgdatametadata\n",
    "print(json.dumps(cfgdata, indent=2))"
   ]
  },
  {
   "cell_type": "markdown",
   "metadata": {},
   "source": [
    "## Loading the input data<a id=\"loading\"></a> \n",
    "\n",
    "Let's consider a simple example: as raw information in the original table, *CZ* data is already available with the lat/lon geographical coordinates encoded in a single column of the input data (named `'GPS`'). \"Integrating\" these data is nothing else than extracting the coordinates, reshufling some of the columns and dumping it in a new table.\n",
    "\n",
    "To do so, it will be necessary to retrieve the structure (in terms of columns and data format) of the original table and \"match\" it to the output desired structure, as defined in the previously mentioned `config.FACMETADATA` parameter. \n",
    "\n",
    "Let's first defined the input structure using the class constructor `config.facilityFactory`:"
   ]
  },
  {
   "cell_type": "code",
   "execution_count": 10,
   "metadata": {},
   "outputs": [
    {
     "data": {
      "text/plain": [
       "<module 'pyeufacility.config' from '/Users/gjacopo/DevOps/basic-services/src/python/pyeufacility/config.py'>"
      ]
     },
     "execution_count": 10,
     "metadata": {},
     "output_type": "execute_result"
    }
   ],
   "source": [
    "import importlib\n",
    "from pyeudatnat import io, geo, misc, meta, base \n",
    "importlib.reload(geo)\n",
    "importlib.reload(meta)\n",
    "importlib.reload(misc)\n",
    "\n",
    "importlib.reload(base)\n",
    "\n",
    "importlib.reload(config)"
   ]
  },
  {
   "cell_type": "code",
   "execution_count": 11,
   "metadata": {},
   "outputs": [
    {
     "name": "stdout",
     "output_type": "stream",
     "text": [
      "\u001b[4mCountry:\u001b[0m \u001b[1mCZ - Czechia\u001b[0m\n",
      "\u001b[4mFacility category:\u001b[0m \u001b[1m{'code': 'hcs', 'name': 'Healthcare services'}\u001b[0m\n"
     ]
    }
   ],
   "source": [
    "CZhcs = config.facilityFactory(cat = 'HCS', country = 'CZ')\n",
    "\n",
    "print(\"\\033[4mCountry:\\033[0m \\033[1m%s - %s\\033[0m\" % (CZhcs.CC, CZhcs.COUNTRY))\n",
    "print(\"\\033[4mFacility category:\\033[0m \\033[1m%s\\033[0m\" %CZhcs.CATEGORY)"
   ]
  },
  {
   "cell_type": "markdown",
   "metadata": {},
   "source": [
    "and define the *CZ* data as an instance of the previously dynamically defined class `CZhcs`, with specific details regarding the data, such as the location of the original table:"
   ]
  },
  {
   "cell_type": "code",
   "execution_count": 12,
   "metadata": {
    "scrolled": true
   },
   "outputs": [
    {
     "name": "stdout",
     "output_type": "stream",
     "text": [
      "\u001b[4mCZhcs instance:\u001b[0m (<class 'pyeudatnat.base.NewDatNat'>)\n",
      "- source file: \u001b[1m'/data/healthcare/raw/export-2020-02.csv'\u001b[0m\n",
      "- country code: \u001b[1m'CZ'\u001b[0m\n",
      "- language used in the original table: \u001b[1m'cs'\u001b[0m\n"
     ]
    }
   ],
   "source": [
    "cz = CZhcs(file = 'export-2020-02.csv', \n",
    "           path = os.path.abspath('../../../data/healthcare/raw/'), \n",
    "           lang = 'cs')\n",
    "\n",
    "print(\"\\033[4mCZhcs instance:\\033[0m (%s)\" % type(cz))\n",
    "print(\"- source file: \\033[1m'%s'\\033[0m\" % cz.file.split(PROJECT)[1])\n",
    "print(\"- country code: \\033[1m'%s'\\033[0m\" % cz.cc)\n",
    "print(\"- language used in the original table: \\033[1m'%s'\\033[0m\" % cz.lang)"
   ]
  },
  {
   "cell_type": "markdown",
   "metadata": {},
   "source": [
    "This will be enough to load the data using the `load_data` method which stores the input data as a [`pandas`](https://pandas.pydata.org) dataframe structure in the `data` attribute of the `cz` instance. \n",
    "\n",
    "At this stage, it is necessary to check the input data, _e.g._ let's have a look at the column names and the content of the table in the raw dataset: obviously, some formatting is needed. Related information is parsed to the loading  `load_data` method through the implicit attributes of the `options['load']` of the `cz` instance:"
   ]
  },
  {
   "cell_type": "code",
   "execution_count": 13,
   "metadata": {},
   "outputs": [
    {
     "name": "stderr",
     "output_type": "stream",
     "text": [
      "WARNING:root:Wrong formatting of source data into dataframe\n"
     ]
    },
    {
     "name": "stdout",
     "output_type": "stream",
     "text": [
      "Further information regarding data loading is requested...\n",
      "\u001b[4mDataset:\u001b[0m (<class 'pandas.core.frame.DataFrame'>)\n"
     ]
    },
    {
     "data": {
      "text/html": [
       "<div>\n",
       "<style scoped>\n",
       "    .dataframe tbody tr th:only-of-type {\n",
       "        vertical-align: middle;\n",
       "    }\n",
       "\n",
       "    .dataframe tbody tr th {\n",
       "        vertical-align: top;\n",
       "    }\n",
       "\n",
       "    .dataframe thead th {\n",
       "        text-align: right;\n",
       "    }\n",
       "</style>\n",
       "<table border=\"1\" class=\"dataframe\">\n",
       "  <thead>\n",
       "    <tr style=\"text-align: right;\">\n",
       "      <th></th>\n",
       "      <th>ZdravotnickeZarizeniId</th>\n",
       "      <th>PCZ</th>\n",
       "      <th>PCDP</th>\n",
       "      <th>NazevCely</th>\n",
       "      <th>DruhZarizeni</th>\n",
       "      <th>Obec</th>\n",
       "      <th>Psc</th>\n",
       "      <th>Ulice</th>\n",
       "      <th>CisloDomovniOrientacni</th>\n",
       "      <th>Kraj</th>\n",
       "      <th>...</th>\n",
       "      <th>PscSidlo</th>\n",
       "      <th>ObecSidlo</th>\n",
       "      <th>UliceSidlo</th>\n",
       "      <th>CisloDomovniOrientacniSidlo</th>\n",
       "      <th>OborPece</th>\n",
       "      <th>FormaPece</th>\n",
       "      <th>DruhPece</th>\n",
       "      <th>OdbornyZastupce</th>\n",
       "      <th>GPS</th>\n",
       "      <th>LastModified</th>\n",
       "    </tr>\n",
       "  </thead>\n",
       "  <tbody>\n",
       "    <tr>\n",
       "      <th>0</th>\n",
       "      <td>138130</td>\n",
       "      <td>0</td>\n",
       "      <td>1</td>\n",
       "      <td>Zubní studio V+V s.r.o.</td>\n",
       "      <td>Samostatná ordinace PL - stomatologa</td>\n",
       "      <td>Pelhøimov</td>\n",
       "      <td>39301.0</td>\n",
       "      <td>Komenského</td>\n",
       "      <td>1465</td>\n",
       "      <td>Kraj Vysoèina</td>\n",
       "      <td>...</td>\n",
       "      <td>39301.0</td>\n",
       "      <td>Pelhøimov</td>\n",
       "      <td>Pod Náspem</td>\n",
       "      <td>641</td>\n",
       "      <td>zubní lékaøství, Dentální hygienistka</td>\n",
       "      <td>primární ambulantní péèe, specializovaná ambul...</td>\n",
       "      <td>NaN</td>\n",
       "      <td>Veronika kodová, Vít koda</td>\n",
       "      <td>49.427787867131 15.218289906425</td>\n",
       "      <td>01-02-2020 23:03</td>\n",
       "    </tr>\n",
       "    <tr>\n",
       "      <th>1</th>\n",
       "      <td>138129</td>\n",
       "      <td>0</td>\n",
       "      <td>4</td>\n",
       "      <td>TECTUM spol. s r.o.</td>\n",
       "      <td>Odbìrová místnost</td>\n",
       "      <td>Most</td>\n",
       "      <td>43401.0</td>\n",
       "      <td>Topolová</td>\n",
       "      <td>1234</td>\n",
       "      <td>Ústecký kraj</td>\n",
       "      <td>...</td>\n",
       "      <td>36001.0</td>\n",
       "      <td>Karlovy Vary</td>\n",
       "      <td>Bezruèova</td>\n",
       "      <td>1098/10</td>\n",
       "      <td>klinická biochemie</td>\n",
       "      <td>specializovaná ambulantní péèe</td>\n",
       "      <td>NaN</td>\n",
       "      <td>David Hepnar, JITKA PODROUKOVÁ</td>\n",
       "      <td>50.497217046878 13.650265371038</td>\n",
       "      <td>01-02-2020 23:03</td>\n",
       "    </tr>\n",
       "    <tr>\n",
       "      <th>2</th>\n",
       "      <td>138128</td>\n",
       "      <td>1</td>\n",
       "      <td>0</td>\n",
       "      <td>MUDr. Milan Kuèera, s.r.o.</td>\n",
       "      <td>Samostatná ordinace lékaøe specialisty</td>\n",
       "      <td>Praha</td>\n",
       "      <td>15000.0</td>\n",
       "      <td>Kartouzská</td>\n",
       "      <td>3274/10</td>\n",
       "      <td>Hlavní mìsto Praha</td>\n",
       "      <td>...</td>\n",
       "      <td>27201.0</td>\n",
       "      <td>Kladno</td>\n",
       "      <td>T. G. Masaryka</td>\n",
       "      <td>2104</td>\n",
       "      <td>dermatovenerologie</td>\n",
       "      <td>ambulantní péèe</td>\n",
       "      <td>NaN</td>\n",
       "      <td>Jan Kuèera</td>\n",
       "      <td>50.073416715218 14.401090995315</td>\n",
       "      <td>01-02-2020 23:03</td>\n",
       "    </tr>\n",
       "    <tr>\n",
       "      <th>3</th>\n",
       "      <td>138127</td>\n",
       "      <td>1</td>\n",
       "      <td>0</td>\n",
       "      <td>Tereza Horáèková</td>\n",
       "      <td>Výdejna zdravotnických prostøedkù</td>\n",
       "      <td>Praha</td>\n",
       "      <td>18200.0</td>\n",
       "      <td>Klapkova</td>\n",
       "      <td>154/46</td>\n",
       "      <td>Hlavní mìsto Praha</td>\n",
       "      <td>...</td>\n",
       "      <td>NaN</td>\n",
       "      <td>NaN</td>\n",
       "      <td>NaN</td>\n",
       "      <td>NaN</td>\n",
       "      <td>praktické lékárenství</td>\n",
       "      <td>NaN</td>\n",
       "      <td>lékárenská péèe</td>\n",
       "      <td>Petra Holasová</td>\n",
       "      <td>50.126760922745 14.456956313382</td>\n",
       "      <td>01-02-2020 23:03</td>\n",
       "    </tr>\n",
       "    <tr>\n",
       "      <th>4</th>\n",
       "      <td>138126</td>\n",
       "      <td>0</td>\n",
       "      <td>0</td>\n",
       "      <td>Veobecný lékaø Prevent s.r.o.</td>\n",
       "      <td>Samost. ordinace veob. prakt. lékaøe</td>\n",
       "      <td>Telè</td>\n",
       "      <td>58856.0</td>\n",
       "      <td>Masarykova</td>\n",
       "      <td>330</td>\n",
       "      <td>Kraj Vysoèina</td>\n",
       "      <td>...</td>\n",
       "      <td>28163.0</td>\n",
       "      <td>Kozojedy</td>\n",
       "      <td>1. máje</td>\n",
       "      <td>67</td>\n",
       "      <td>veobecné praktické lékaøství, veobecné prakt...</td>\n",
       "      <td>primární ambulantní péèe, zdrav. péèe poskytov...</td>\n",
       "      <td>NaN</td>\n",
       "      <td>ARNOT STANÌK</td>\n",
       "      <td>49.183499865155 15.45981410537</td>\n",
       "      <td>01-02-2020 23:03</td>\n",
       "    </tr>\n",
       "  </tbody>\n",
       "</table>\n",
       "<p>5 rows × 38 columns</p>\n",
       "</div>"
      ],
      "text/plain": [
       "   ZdravotnickeZarizeniId  PCZ  PCDP                       NazevCely  \\\n",
       "0                  138130    0     1         Zubní studio V+V s.r.o.   \n",
       "1                  138129    0     4             TECTUM spol. s r.o.   \n",
       "2                  138128    1     0      MUDr. Milan Kuèera, s.r.o.   \n",
       "3                  138127    1     0                Tereza Horáèková   \n",
       "4                  138126    0     0  Veobecný lékaø Prevent s.r.o.   \n",
       "\n",
       "                             DruhZarizeni       Obec      Psc       Ulice  \\\n",
       "0    Samostatná ordinace PL - stomatologa  Pelhøimov  39301.0  Komenského   \n",
       "1                       Odbìrová místnost       Most  43401.0    Topolová   \n",
       "2  Samostatná ordinace lékaøe specialisty      Praha  15000.0  Kartouzská   \n",
       "3       Výdejna zdravotnických prostøedkù      Praha  18200.0    Klapkova   \n",
       "4   Samost. ordinace veob. prakt. lékaøe       Telè  58856.0  Masarykova   \n",
       "\n",
       "  CisloDomovniOrientacni                Kraj  ... PscSidlo     ObecSidlo  \\\n",
       "0                   1465       Kraj Vysoèina  ...  39301.0     Pelhøimov   \n",
       "1                   1234        Ústecký kraj  ...  36001.0  Karlovy Vary   \n",
       "2                3274/10  Hlavní mìsto Praha  ...  27201.0        Kladno   \n",
       "3                 154/46  Hlavní mìsto Praha  ...      NaN           NaN   \n",
       "4                    330       Kraj Vysoèina  ...  28163.0      Kozojedy   \n",
       "\n",
       "       UliceSidlo CisloDomovniOrientacniSidlo  \\\n",
       "0      Pod Náspem                         641   \n",
       "1       Bezruèova                     1098/10   \n",
       "2  T. G. Masaryka                        2104   \n",
       "3             NaN                         NaN   \n",
       "4         1. máje                          67   \n",
       "\n",
       "                                            OborPece  \\\n",
       "0              zubní lékaøství, Dentální hygienistka   \n",
       "1                                 klinická biochemie   \n",
       "2                                 dermatovenerologie   \n",
       "3                              praktické lékárenství   \n",
       "4  veobecné praktické lékaøství, veobecné prakt...   \n",
       "\n",
       "                                           FormaPece         DruhPece  \\\n",
       "0  primární ambulantní péèe, specializovaná ambul...              NaN   \n",
       "1                     specializovaná ambulantní péèe              NaN   \n",
       "2                                    ambulantní péèe              NaN   \n",
       "3                                                NaN  lékárenská péèe   \n",
       "4  primární ambulantní péèe, zdrav. péèe poskytov...              NaN   \n",
       "\n",
       "                   OdbornyZastupce                              GPS  \\\n",
       "0      Veronika kodová, Vít koda  49.427787867131 15.218289906425   \n",
       "1  David Hepnar, JITKA PODROUKOVÁ  50.497217046878 13.650265371038   \n",
       "2                       Jan Kuèera  50.073416715218 14.401090995315   \n",
       "3                   Petra Holasová  50.126760922745 14.456956313382   \n",
       "4                    ARNOT STANÌK   49.183499865155 15.45981410537   \n",
       "\n",
       "       LastModified  \n",
       "0  01-02-2020 23:03  \n",
       "1  01-02-2020 23:03  \n",
       "2  01-02-2020 23:03  \n",
       "3  01-02-2020 23:03  \n",
       "4  01-02-2020 23:03  \n",
       "\n",
       "[5 rows x 38 columns]"
      ]
     },
     "execution_count": 13,
     "metadata": {},
     "output_type": "execute_result"
    }
   ],
   "source": [
    "# first incomplete try\n",
    "try:\n",
    "    cz.load_data()\n",
    "except:\n",
    "    print('Further information regarding data loading is requested...')\n",
    "    cz.options['load'].update({'encoding': 'latin1', 'sep': ';'})\n",
    "    # rerun...\n",
    "    cz.load_data() \n",
    "    # note: we could have run: cz.load_data(encoding='latin1', sep=;') without the prior setting\n",
    "\n",
    "print(\"\\033[4mDataset:\\033[0m (%s)\" % type(cz.data))\n",
    "cz.data.head(5)"
   ]
  },
  {
   "cell_type": "markdown",
   "metadata": {},
   "source": [
    "More options are obviously available, as allowed by the `pandas` methods, for instance [`read_csv`](https://pandas.pydata.org/pandas-docs/stable/reference/api/pandas.read_csv.html), [`read_excel`](https://pandas.pydata.org/pandas-docs/stable/reference/api/pandas.read_excel.html) or [`read_table`](https://pandas.pydata.org/pandas-docs/stable/reference/api/pandas.read_table.html), depending on the format of the input data you are dealing with. \n",
    "\n",
    "Now, basic information regarding the input data can be retrieved through the `data` attribute of the `cz` instance which is a common `pandas` dataframe. For instance, if we are interested in the list of columns:"
   ]
  },
  {
   "cell_type": "code",
   "execution_count": 14,
   "metadata": {},
   "outputs": [
    {
     "name": "stdout",
     "output_type": "stream",
     "text": [
      "\u001b[4mInput dataset columns:\u001b[0m\n",
      "Index(['ZdravotnickeZarizeniId', 'PCZ', 'PCDP', 'NazevCely', 'DruhZarizeni',\n",
      "       'Obec', 'Psc', 'Ulice', 'CisloDomovniOrientacni', 'Kraj', 'KrajCode',\n",
      "       'Okres', 'OkresCode', 'SpravniObvod', 'PoskytovatelTelefon',\n",
      "       'PoskytovatelFax', 'DatumZahajeniCinnosti',\n",
      "       'IdentifikatorDatoveSchranky', 'PoskytovatelEmail', 'PoskytovatelWeb',\n",
      "       'PoskytovatelNazev', 'Ico', 'TypOsoby', 'PravniFormaKod',\n",
      "       'KrajCodeSidlo', 'KrajSidlo', 'OkresCodeSidlo', 'OkresSidlo',\n",
      "       'PscSidlo', 'ObecSidlo', 'UliceSidlo', 'CisloDomovniOrientacniSidlo',\n",
      "       'OborPece', 'FormaPece', 'DruhPece', 'OdbornyZastupce', 'GPS',\n",
      "       'LastModified'],\n",
      "      dtype='object')\n"
     ]
    }
   ],
   "source": [
    "print(\"\\033[4mInput dataset columns:\\033[0m\")\n",
    "print(cz.data.columns)"
   ]
  },
  {
   "cell_type": "markdown",
   "metadata": {},
   "source": [
    "To make the identification of the appropriate columns in the input table, we can (approximately) translate the column names from *'cs'* to *'en'*, using the [`googletrans`](https://pypi.org/project/googletrans/) package. Note that you may run into [this issue](https://stackoverflow.com/questions/52455774/googletrans-stopped-working-with-error-nonetype-object-has-no-attribute-group) with the abovementioned package. Try to rerun the cell for a dirty fix, or follow the instructions provided in the link (*e.g.*, install the [`py-googletrans`](https://github.com/BoseCorp/py-googletrans) package):\n"
   ]
  },
  {
   "cell_type": "code",
   "execution_count": 15,
   "metadata": {
    "scrolled": true
   },
   "outputs": [
    {
     "name": "stdout",
     "output_type": "stream",
     "text": [
      "\u001b[4mColumn names translated in English:\u001b[0m\n",
      "['Medical Equipment Id', 'PCZ', 'PCDP', 'CellName', 'Type of device', 'Village', 'Zip code', 'Street', 'Home Number Orientation', 'Region', 'KrajCode', 'District', 'OkresCode', 'Administrative District', 'Phone Provider', 'ProviderFax', 'Date Started Activities', 'Data Box Identifier', 'Email Provider', 'Web Provider', 'ProviderName', 'Ico', 'TypePersons', 'LegalFormCode', 'KrajCodeSidlo', 'KrajSidlo', 'OkresCodeSidlo', 'OkresSidlo', 'PscSidlo', 'ObecSidlo', 'StreetSidlo', 'NumberHomeOrientacniSidlo', 'OborPece', 'FormaPece', 'Type of furnace', 'Professional Representatives', 'GPS', 'LastModified']\n"
     ]
    }
   ],
   "source": [
    "print(\"\\033[4mColumn names translated in English:\\033[0m\")\n",
    "print(cz.get_cols(olang = 'en'))"
   ]
  },
  {
   "cell_type": "markdown",
   "metadata": {},
   "source": [
    "*update on 1/12/20*: The problem `error in result (AttributeError: 'NoneType' object has no attribute 'group')` reemerged recently as reported in [this ticket](https://github.com/ssut/py-googletrans/issues/234) with a possible [fix](https://github.com/ssut/py-googletrans/pull/237) (also discussed [here](https://stackoverflow.com/questions/52455774/googletrans-stopped-working-with-error-nonetype-object-has-no-attribute-group)). Issue has been solved with an updated version of the `googletrans` package:\n",
    "```python\n",
    "pip install googletrans==4.0.0-rc1\n",
    "```\n",
    "Well, this did not go very well... The translation is actually made difficult because of the formatting of the column names (merged words). To improve the translation output, we add a filter (split of words on capital letters) on the text to be translated, namely: "
   ]
  },
  {
   "cell_type": "code",
   "execution_count": 16,
   "metadata": {
    "scrolled": true
   },
   "outputs": [
    {
     "name": "stdout",
     "output_type": "stream",
     "text": [
      "\u001b[4mPrior filtered column names translated in English:\u001b[0m\n",
      "['Medical Equipment Id', 'PCZ', 'PCDP', 'The name of the cell', 'Type of device', 'Village', 'Zip code', 'Street', 'Home Number Orientation', 'Region', 'County Code', 'District', 'District Code', 'Administrative District', 'Phone Provider', 'Fax Provider', 'Date Started Activities', 'Mailbox Identifier', 'Email Provider', 'Web Provider', 'Provider Name', 'Ico', 'Type of Person', 'Legal Form Code', 'Country Code Seat', 'County Seat', 'District Code Headquarters', 'District Sidlo', 'Psc Seat', 'The village of Sidlo', 'Street Sidlo', 'Home Orientation Number', 'Field Furnaces', 'Furnace Form', 'Furnace Type', 'Professional Representative', 'GPS', 'Last Modified']\n"
     ]
    }
   ],
   "source": [
    "print(\"\\033[4mPrior filtered column names translated in English:\\033[0m\")\n",
    "print(cz.get_cols(olang = 'en', filt = text.TextProcess.split_at_upper, force = True))"
   ]
  },
  {
   "cell_type": "markdown",
   "metadata": {},
   "source": [
    "Note that the translated column names are stored in the `cols` attributes of the instance:"
   ]
  },
  {
   "cell_type": "code",
   "execution_count": 17,
   "metadata": {},
   "outputs": [
    {
     "name": "stdout",
     "output_type": "stream",
     "text": [
      "\u001b[4mColumn names in original 'cs' language and available 'en' translation:\u001b[0m (<class 'list'>)\n",
      "[{'cs': 'ZdravotnickeZarizeniId', 'en': 'Medical Equipment Id'},\n",
      " {'cs': 'PCZ', 'en': 'PCZ'},\n",
      " {'cs': 'PCDP', 'en': 'PCDP'},\n",
      " {'cs': 'NazevCely', 'en': 'The name of the cell'},\n",
      " {'cs': 'DruhZarizeni', 'en': 'Type of device'},\n",
      " {'cs': 'Obec', 'en': 'Village'},\n",
      " {'cs': 'Psc', 'en': 'Zip code'},\n",
      " {'cs': 'Ulice', 'en': 'Street'},\n",
      " {'cs': 'CisloDomovniOrientacni', 'en': 'Home Number Orientation'},\n",
      " {'cs': 'Kraj', 'en': 'Region'},\n",
      " {'cs': 'KrajCode', 'en': 'County Code'},\n",
      " {'cs': 'Okres', 'en': 'District'},\n",
      " {'cs': 'OkresCode', 'en': 'District Code'},\n",
      " {'cs': 'SpravniObvod', 'en': 'Administrative District'},\n",
      " {'cs': 'PoskytovatelTelefon', 'en': 'Phone Provider'},\n",
      " {'cs': 'PoskytovatelFax', 'en': 'Fax Provider'},\n",
      " {'cs': 'DatumZahajeniCinnosti', 'en': 'Date Started Activities'},\n",
      " {'cs': 'IdentifikatorDatoveSchranky', 'en': 'Mailbox Identifier'},\n",
      " {'cs': 'PoskytovatelEmail', 'en': 'Email Provider'},\n",
      " {'cs': 'PoskytovatelWeb', 'en': 'Web Provider'},\n",
      " {'cs': 'PoskytovatelNazev', 'en': 'Provider Name'},\n",
      " {'cs': 'Ico', 'en': 'Ico'},\n",
      " {'cs': 'TypOsoby', 'en': 'Type of Person'},\n",
      " {'cs': 'PravniFormaKod', 'en': 'Legal Form Code'},\n",
      " {'cs': 'KrajCodeSidlo', 'en': 'Country Code Seat'},\n",
      " {'cs': 'KrajSidlo', 'en': 'County Seat'},\n",
      " {'cs': 'OkresCodeSidlo', 'en': 'District Code Headquarters'},\n",
      " {'cs': 'OkresSidlo', 'en': 'District Sidlo'},\n",
      " {'cs': 'PscSidlo', 'en': 'Psc Seat'},\n",
      " {'cs': 'ObecSidlo', 'en': 'The village of Sidlo'},\n",
      " {'cs': 'UliceSidlo', 'en': 'Street Sidlo'},\n",
      " {'cs': 'CisloDomovniOrientacniSidlo', 'en': 'Home Orientation Number'},\n",
      " {'cs': 'OborPece', 'en': 'Field Furnaces'},\n",
      " {'cs': 'FormaPece', 'en': 'Furnace Form'},\n",
      " {'cs': 'DruhPece', 'en': 'Furnace Type'},\n",
      " {'cs': 'OdbornyZastupce', 'en': 'Professional Representative'},\n",
      " {'cs': 'GPS', 'en': 'GPS'},\n",
      " {'cs': 'LastModified', 'en': 'Last Modified'}]\n"
     ]
    }
   ],
   "source": [
    "print(\"\\033[4mColumn names in original 'cs' language and available 'en' translation:\\033[0m (%s)\" \n",
    "      % type(cz.cols))\n",
    "pprint(cz.cols)"
   ]
  },
  {
   "cell_type": "markdown",
   "metadata": {},
   "source": [
    "## Use of input metadata and output configuration template<a id=\"metadata\"></a>\n",
    "\n",
    "Once a facility instance has been created, the input metadata/configuration templates are necessary to inform the automated and simplified operational workflow, but also to support the reproducibility of the production processes for later reuse. Typically, they can be (and, actually, they are) reused for ingesting *HCS* data from other countries.\n",
    "\n",
    "Note that the template configuration `config.FACMETADATA['HCS']` for output harmonised data (that provides with the generic formatting of *HCS* facilities and is used, here, for the country-specific *CZ* case) is also informed into the `cz.config` attribute of the `cz` instance:"
   ]
  },
  {
   "cell_type": "code",
   "execution_count": 18,
   "metadata": {
    "scrolled": true
   },
   "outputs": [
    {
     "name": "stdout",
     "output_type": "stream",
     "text": [
      "\u001b[4mFacility-generic configuration template:\u001b[0m (<class 'pyeufacility.config.MetaDatEUFacility'>)\n",
      "{'category': {'code': 'hcs', 'name': 'Healthcare services'},\n",
      " 'index': {'ER': {'desc': \"Flag 'yes/no' for whether the healthcare site \"\n",
      "                          'provides emergency medical services',\n",
      "                  'name': 'emergency',\n",
      "                  'type': 'str',\n",
      "                  'values': ['yes', 'no']},\n",
      "           'PP': {'desc': \"Status 'private/public' of the healthcare service\",\n",
      "                  'name': 'public_private',\n",
      "                  'type': 'str',\n",
      "                  'values': ['public', 'private']},\n",
      "           'beds': {'desc': 'Measure of capacity by number of beds (most '\n",
      "                            'common)',\n",
      "                    'name': 'cap_beds',\n",
      "                    'type': 'int',\n",
      "                    'values': None},\n",
      "           'cc': {'desc': 'Country code (ISO 3166-1 alpha-2 format)',\n",
      "                  'name': 'cc',\n",
      "                  'type': 'str',\n",
      "                  'values': ['BE',\n",
      "                             'EL',\n",
      "                             'LT',\n",
      "                             'PT',\n",
      "                             'BG',\n",
      "                             'ES',\n",
      "                             'LU',\n",
      "                             'RO',\n",
      "                             'CZ',\n",
      "                             'FR',\n",
      "                             'HU',\n",
      "                             'SI',\n",
      "                             'DK',\n",
      "                             'HR',\n",
      "                             'MT',\n",
      "                             'SK',\n",
      "                             'DE',\n",
      "                             'IT',\n",
      "                             'NL',\n",
      "                             'FI',\n",
      "                             'EE',\n",
      "                             'CY',\n",
      "                             'AT',\n",
      "                             'SE',\n",
      "                             'IE',\n",
      "                             'LV',\n",
      "                             'PL',\n",
      "                             'UK',\n",
      "                             'IS',\n",
      "                             'NO',\n",
      "                             'CH',\n",
      "                             'LI']},\n",
      "           'city': {'desc': 'City name (sometimes refers to a region or a '\n",
      "                            'municipality)',\n",
      "                    'name': 'city',\n",
      "                    'type': 'str',\n",
      "                    'values': None},\n",
      "           'comments': {'desc': 'Comments',\n",
      "                        'name': 'comments',\n",
      "                        'type': 'str',\n",
      "                        'values': None},\n",
      "           'country': {'desc': 'Country name',\n",
      "                       'name': 'country',\n",
      "                       'type': 'str',\n",
      "                       'values': None},\n",
      "           'email': {'desc': 'Email address',\n",
      "                     'name': 'email',\n",
      "                     'type': 'str',\n",
      "                     'values': None},\n",
      "           'geo_qual': {'desc': 'A quality indicator for the geolocation - 1: '\n",
      "                                'Good, 2: Medium, 3: Low, -1: Unknown',\n",
      "                        'name': 'geo_qual',\n",
      "                        'type': 'int',\n",
      "                        'values': [-1, 1, 2, 3]},\n",
      "           'id': {'desc': 'The healthcare service identifier - This identifier '\n",
      "                          'is based on national identification codes, if it '\n",
      "                          'exists.',\n",
      "                  'name': 'id',\n",
      "                  'type': 'int',\n",
      "                  'values': None},\n",
      "           'lat': {'desc': 'Latitude (WGS 84)',\n",
      "                   'name': 'lat',\n",
      "                   'type': 'float',\n",
      "                   'values': None},\n",
      "           'lon': {'desc': 'Longitude (WGS 84)',\n",
      "                   'name': 'lon',\n",
      "                   'type': 'float',\n",
      "                   'values': None},\n",
      "           'name': {'desc': 'The name of the healthcare institution',\n",
      "                    'name': 'hospital_name',\n",
      "                    'type': 'str',\n",
      "                    'values': None},\n",
      "           'number': {'desc': 'House number',\n",
      "                      'name': 'house_number',\n",
      "                      'type': 'str',\n",
      "                      'values': None},\n",
      "           'postcode': {'desc': 'Postcode',\n",
      "                        'name': 'postcode',\n",
      "                        'type': 'str',\n",
      "                        'values': None},\n",
      "           'prac': {'desc': 'Measure of capacity by number of practitioners',\n",
      "                    'name': 'cap_prac',\n",
      "                    'type': 'int',\n",
      "                    'values': None},\n",
      "           'pubdate': {'desc': 'The publication date of the dataset by '\n",
      "                               'Eurostat (DD/MM/YYYY). This should be used to '\n",
      "                               'track when this Eurostat dataset has changed.',\n",
      "                       'name': 'pub_date',\n",
      "                       'type': 'datetime',\n",
      "                       'values': None},\n",
      "           'refdate': {'desc': 'The reference date (DD/MM/YYYY) the data '\n",
      "                               'refers to. The dataset represents the reality '\n",
      "                               'as it was at this date.',\n",
      "                       'name': 'ref_date',\n",
      "                       'type': 'datetime',\n",
      "                       'values': None},\n",
      "           'rooms': {'desc': 'Measure of capacity by number of rooms',\n",
      "                     'name': 'cap_rooms',\n",
      "                     'type': 'int',\n",
      "                     'values': None},\n",
      "           'site': {'desc': 'The name of the specific site or branch of a '\n",
      "                            'healthcare institution',\n",
      "                    'name': 'site_name',\n",
      "                    'type': 'str',\n",
      "                    'values': None},\n",
      "           'specs': {'desc': 'List of specialties recognized in the European '\n",
      "                             'Union and European Economic Area according to EU '\n",
      "                             'Directive 2005/36/EC',\n",
      "                     'name': 'list_specs',\n",
      "                     'type': 'str',\n",
      "                     'values': None},\n",
      "           'street': {'desc': 'Street name',\n",
      "                      'name': 'street',\n",
      "                      'type': 'str',\n",
      "                      'values': None},\n",
      "           'tel': {'desc': 'Telephone number',\n",
      "                   'name': 'tel',\n",
      "                   'type': 'int',\n",
      "                   'values': None},\n",
      "           'type': {'desc': 'If the healthcare service provides a specific '\n",
      "                            'type of care, e.g. psychiatric hospital',\n",
      "                    'name': 'facility_type',\n",
      "                    'type': 'str',\n",
      "                    'values': None},\n",
      "           'url': {'desc': \"URL link to the institution's website\",\n",
      "                   'name': 'url',\n",
      "                   'type': 'str',\n",
      "                   'values': None}},\n",
      " 'info': 'metadata.pdf',\n",
      " 'options': {'dtfmt': '%d/%m/%Y',\n",
      "             'encoding': 'utf-8',\n",
      "             'fmt': {'csv': 'csv', 'geojson': 'geojson', 'gpkg': 'gpkg'},\n",
      "             'lang': 'en',\n",
      "             'proj': None,\n",
      "             'sep': ','},\n",
      " 'path': '../../../data/healthcare'}\n"
     ]
    }
   ],
   "source": [
    "assert cz.config.to_dict() == config.FACMETADATA['HCS']\n",
    "\n",
    "print(\"\\033[4mFacility-generic configuration template:\\033[0m (%s)\" % type(cz.config))\n",
    "pprint(cz.config.to_dict())"
   ]
  },
  {
   "cell_type": "markdown",
   "metadata": {},
   "source": [
    "In particular, `cz.config` provides with possible matches between the input datasets columns of `cz` with the desired output template, namely:"
   ]
  },
  {
   "cell_type": "code",
   "execution_count": 19,
   "metadata": {},
   "outputs": [
    {
     "name": "stdout",
     "output_type": "stream",
     "text": [
      "\u001b[4mList of output/template columns:\u001b[0m\n",
      "- '\u001b[1mid\u001b[0m' (shortcut: id)\n",
      "- '\u001b[1mhospital_name\u001b[0m' (shortcut: name)\n",
      "- '\u001b[1msite_name\u001b[0m' (shortcut: site)\n",
      "- '\u001b[1mlat\u001b[0m' (shortcut: lat)\n",
      "- '\u001b[1mlon\u001b[0m' (shortcut: lon)\n",
      "- '\u001b[1mgeo_qual\u001b[0m' (shortcut: geo_qual)\n",
      "- '\u001b[1mstreet\u001b[0m' (shortcut: street)\n",
      "- '\u001b[1mhouse_number\u001b[0m' (shortcut: number)\n",
      "- '\u001b[1mpostcode\u001b[0m' (shortcut: postcode)\n",
      "- '\u001b[1mcity\u001b[0m' (shortcut: city)\n",
      "- '\u001b[1mcc\u001b[0m' (shortcut: cc)\n",
      "- '\u001b[1mcountry\u001b[0m' (shortcut: country)\n",
      "- '\u001b[1mcap_beds\u001b[0m' (shortcut: beds)\n",
      "- '\u001b[1mcap_prac\u001b[0m' (shortcut: prac)\n",
      "- '\u001b[1mcap_rooms\u001b[0m' (shortcut: rooms)\n",
      "- '\u001b[1memergency\u001b[0m' (shortcut: ER)\n",
      "- '\u001b[1mfacility_type\u001b[0m' (shortcut: type)\n",
      "- '\u001b[1mpublic_private\u001b[0m' (shortcut: PP)\n",
      "- '\u001b[1mlist_specs\u001b[0m' (shortcut: specs)\n",
      "- '\u001b[1mtel\u001b[0m' (shortcut: tel)\n",
      "- '\u001b[1memail\u001b[0m' (shortcut: email)\n",
      "- '\u001b[1murl\u001b[0m' (shortcut: url)\n",
      "- '\u001b[1mref_date\u001b[0m' (shortcut: refdate)\n",
      "- '\u001b[1mpub_date\u001b[0m' (shortcut: pubdate)\n",
      "- '\u001b[1mcomments\u001b[0m' (shortcut: comments)\n"
     ]
    }
   ],
   "source": [
    "print(\"\\033[4mList of output/template columns:\\033[0m\")\n",
    "for (k,v) in cz.config['index'].items():\n",
    "    print(\"- '\\033[1m%s\\033[0m' (shortcut: %s)\" % (v['name'],k))"
   ]
  },
  {
   "cell_type": "markdown",
   "metadata": {},
   "source": [
    "Similarly to the facility-generic metadata `cz.config`, it is possible to retrieve the country-specific metadata, *i.e.* all relevant information regarding the `cz` dataset. Actually, the `meta` attribute of the `cz` instance contains the currently available metadata (rather incomplete):"
   ]
  },
  {
   "cell_type": "code",
   "execution_count": 20,
   "metadata": {},
   "outputs": [
    {
     "name": "stdout",
     "output_type": "stream",
     "text": [
      "\u001b[Template metadata properties:\u001b[0m ['provider', 'country', 'lang', 'file', 'path', 'columns', 'index', 'options', 'category', 'date']\n",
      "\u001b[4mCountry-generic metadata:\u001b[0m (<class 'pyeufacility.config.MetaDatNatFacility'>)\n",
      "{'country': {'code': 'CZ', 'name': 'Czechia'},\n",
      " 'file': 'export-2020-02.csv',\n",
      " 'lang': {'code': 'cs', 'name': 'czech'},\n",
      " 'path': '/Users/gjacopo/DevOps/basic-services/data/healthcare/raw'}\n"
     ]
    }
   ],
   "source": [
    "print(\"\\033[Template metadata properties:\\033[0m %s\" % cz.meta.PROPERTIES)\n",
    "\n",
    "print(\"\\033[4mCountry-generic metadata:\\033[0m (%s)\" % type (cz.meta))\n",
    "pprint(cz.meta.to_dict())"
   ]
  },
  {
   "cell_type": "markdown",
   "metadata": {},
   "source": [
    "To harmonise the dataset, we first identify potential one-to-one correspondance (*i.e.*, simple reassignment/renaming + simple formatting and type cast of columns, no complex transformation required) between input and output fields. \n",
    "In practice, the attribute `idx` of the `cz` instance matches the names of the input fields (whatever the language, as stored in the `cz.cols` attribute) with the shortcut names of the desired `cz.config['index']` attributes (except for the `'lat', 'lon'` fields, see below).\n",
    "\n",
    "For instance, an educated guess regarding the meaning of the translated columns suggests the following matching (subject to changes owing to the quality of the automated translation...):"
   ]
  },
  {
   "cell_type": "code",
   "execution_count": 21,
   "metadata": {},
   "outputs": [
    {
     "name": "stdout",
     "output_type": "stream",
     "text": [
      "\u001b[4mIndexing dictionary:\u001b[0m (<class 'dict'>)\n",
      "{'city': 'Village',\n",
      " 'email': 'Email Provider',\n",
      " 'id': 'Medical Equipment Id',\n",
      " 'lat': 'GPS',\n",
      " 'lon': 'GPS',\n",
      " 'name': 'Medical Equipment Id',\n",
      " 'number': 'Home Number Orientation',\n",
      " 'postcode': 'Zip code',\n",
      " 'pubdate': 'Last Modified',\n",
      " 'site': 'The name of the cell',\n",
      " 'street': 'Street'}\n"
     ]
    }
   ],
   "source": [
    "cz.idx.update({'id':       'Medical Equipment Id', \n",
    "               'name':     'Medical Equipment Id', \n",
    "               'site':     'The name of the cell', \n",
    "               'lat':      'GPS', \n",
    "               'lon':      'GPS',\n",
    "               'street':   'Street', \n",
    "               'number':   'Home Number Orientation', \n",
    "               'postcode': 'Zip code', \n",
    "               'city':     'Village', \n",
    "               'email':    'Email Provider',\n",
    "               'pubdate':  'Last Modified'})\n",
    "\n",
    "print(\"\\033[4mIndexing dictionary:\\033[0m (%s)\" % type(cz.idx))\n",
    "pprint(cz.idx)"
   ]
  },
  {
   "cell_type": "markdown",
   "metadata": {},
   "source": [
    "Note in the above that the `'lat'` and `'lon'` are both \"matched\" to the `'GPS'` column (not translated) of the input dataset since its actually concatenates (in a string) the geographical coordinates. The `locate_data` method (see below) will help handling these specific fields:"
   ]
  },
  {
   "cell_type": "code",
   "execution_count": 22,
   "metadata": {},
   "outputs": [
    {
     "name": "stdout",
     "output_type": "stream",
     "text": [
      "- Coordinate \u001b[1m'lat'\u001b[0m is represented in the column \u001b[1m'GPS'\u001b[0m of the input table\n",
      "- Coordinate \u001b[1m'lon'\u001b[0m is represented in the column \u001b[1m'GPS'\u001b[0m of the input table\n"
     ]
    },
    {
     "data": {
      "text/plain": [
       "0    49.427787867131 15.218289906425\n",
       "1    50.497217046878 13.650265371038\n",
       "2    50.073416715218 14.401090995315\n",
       "3    50.126760922745 14.456956313382\n",
       "4     49.183499865155 15.45981410537\n",
       "Name: GPS, dtype: object"
      ]
     },
     "execution_count": 22,
     "metadata": {},
     "output_type": "execute_result"
    }
   ],
   "source": [
    "for l in ['lat', 'lon']:\n",
    "    print(\"- Coordinate \\033[1m'%s'\\033[0m is represented in the column \\033[1m'%s'\\033[0m of the input table\" \n",
    "          % (l, cz.idx[l])) \n",
    "\n",
    "cz.data['GPS'].head(5)"
   ]
  },
  {
   "cell_type": "markdown",
   "metadata": {},
   "source": [
    "In the following, we will use the metadata information to rerun the process again from scratch (see [metadata section](#metadata-approach), instead of providing a description of the output formated dataset. For that purpose, we inform all current metadata \"keys-values\" pairs in the dictionary `metadata` variable by parsing the argument `keys = True` to the `get_meta` method. The argument `force = True` ensures that the `cz.options`, `cz.idx` and `cz.cols` attributes are \"synchronised\" with the corresponding `cz.meta['options']`, `cz.meta['index']` and `cz.meta['columns']` fields in the returned dictionary:"
   ]
  },
  {
   "cell_type": "code",
   "execution_count": 23,
   "metadata": {
    "scrolled": false
   },
   "outputs": [
    {
     "name": "stdout",
     "output_type": "stream",
     "text": [
      "\u001b[4mFields of country-generic updated metadata:\u001b[0m\n",
      "dict_keys(['country', 'path', 'file', 'lang', 'provider', 'options', 'category', 'index', 'date', 'columns'])\n"
     ]
    }
   ],
   "source": [
    "metadata = cz.get_meta(keys = True, force = True)\n",
    "\n",
    "print(\"\\033[4mFields of country-generic updated metadata:\\033[0m\")\n",
    "pprint(metadata.keys())"
   ]
  },
  {
   "cell_type": "markdown",
   "metadata": {},
   "source": [
    "## Geocoding and formatting the input data<a id=\"geocode-format\"></a>\n",
    "\n",
    "Following, we run subsequent geolocation and formatting operations.\n",
    "* `locate_data` is used to retrieve the geographical  `('lat','lon')` coordinates based on the input geolocation information available in `'GPS'`; because no argument is parsed, default/intrinsic parameters available through the properties of the `cz` dataset are considered: "
   ]
  },
  {
   "cell_type": "code",
   "execution_count": 24,
   "metadata": {},
   "outputs": [],
   "source": [
    "cz.locate_data()"
   ]
  },
  {
   "cell_type": "markdown",
   "metadata": {},
   "source": [
    "* `format_data`  to perform the input matching and output formatting of the different columns of the dataset; `keep` is set to `True` so that all fields listed in the template configuration are represented:"
   ]
  },
  {
   "cell_type": "code",
   "execution_count": 25,
   "metadata": {},
   "outputs": [],
   "source": [
    "cz.format_data()"
   ]
  },
  {
   "cell_type": "markdown",
   "metadata": {},
   "source": [
    "Check the output data, _e.g._ let's have a look at the column names and the content of the table:"
   ]
  },
  {
   "cell_type": "code",
   "execution_count": 26,
   "metadata": {},
   "outputs": [
    {
     "name": "stdout",
     "output_type": "stream",
     "text": [
      "\u001b[4mOutput data columns:\u001b[0m\n",
      "\u001b[1m['id', 'hospital_name', 'site_name', 'lat', 'lon', 'geo_qual', 'street', 'house_number', 'postcode', 'city', 'cc', 'country', 'email', 'pub_date']\u001b[0m\n"
     ]
    },
    {
     "data": {
      "text/html": [
       "<div>\n",
       "<style scoped>\n",
       "    .dataframe tbody tr th:only-of-type {\n",
       "        vertical-align: middle;\n",
       "    }\n",
       "\n",
       "    .dataframe tbody tr th {\n",
       "        vertical-align: top;\n",
       "    }\n",
       "\n",
       "    .dataframe thead th {\n",
       "        text-align: right;\n",
       "    }\n",
       "</style>\n",
       "<table border=\"1\" class=\"dataframe\">\n",
       "  <thead>\n",
       "    <tr style=\"text-align: right;\">\n",
       "      <th></th>\n",
       "      <th>id</th>\n",
       "      <th>hospital_name</th>\n",
       "      <th>site_name</th>\n",
       "      <th>lat</th>\n",
       "      <th>lon</th>\n",
       "      <th>geo_qual</th>\n",
       "      <th>street</th>\n",
       "      <th>house_number</th>\n",
       "      <th>postcode</th>\n",
       "      <th>city</th>\n",
       "      <th>cc</th>\n",
       "      <th>country</th>\n",
       "      <th>email</th>\n",
       "      <th>pub_date</th>\n",
       "    </tr>\n",
       "  </thead>\n",
       "  <tbody>\n",
       "    <tr>\n",
       "      <th>0</th>\n",
       "      <td>138130</td>\n",
       "      <td>138130</td>\n",
       "      <td>Zubní studio V+V s.r.o.</td>\n",
       "      <td>49.427788</td>\n",
       "      <td>15.218290</td>\n",
       "      <td>1</td>\n",
       "      <td>Komenského</td>\n",
       "      <td>1465</td>\n",
       "      <td>39301.0</td>\n",
       "      <td>Pelhøimov</td>\n",
       "      <td>CZ</td>\n",
       "      <td>Czechia</td>\n",
       "      <td>nan</td>\n",
       "      <td>01-02-2020 23:03</td>\n",
       "    </tr>\n",
       "    <tr>\n",
       "      <th>1</th>\n",
       "      <td>138129</td>\n",
       "      <td>138129</td>\n",
       "      <td>TECTUM spol. s r.o.</td>\n",
       "      <td>50.497217</td>\n",
       "      <td>13.650265</td>\n",
       "      <td>1</td>\n",
       "      <td>Topolová</td>\n",
       "      <td>1234</td>\n",
       "      <td>43401.0</td>\n",
       "      <td>Most</td>\n",
       "      <td>CZ</td>\n",
       "      <td>Czechia</td>\n",
       "      <td>operator@labin.cz</td>\n",
       "      <td>01-02-2020 23:03</td>\n",
       "    </tr>\n",
       "    <tr>\n",
       "      <th>2</th>\n",
       "      <td>138128</td>\n",
       "      <td>138128</td>\n",
       "      <td>MUDr. Milan Kuèera, s.r.o.</td>\n",
       "      <td>50.073417</td>\n",
       "      <td>14.401091</td>\n",
       "      <td>1</td>\n",
       "      <td>Kartouzská</td>\n",
       "      <td>3274/10</td>\n",
       "      <td>15000.0</td>\n",
       "      <td>Praha</td>\n",
       "      <td>CZ</td>\n",
       "      <td>Czechia</td>\n",
       "      <td>milankucera@seznam.cz</td>\n",
       "      <td>01-02-2020 23:03</td>\n",
       "    </tr>\n",
       "    <tr>\n",
       "      <th>3</th>\n",
       "      <td>138127</td>\n",
       "      <td>138127</td>\n",
       "      <td>Tereza Horáèková</td>\n",
       "      <td>50.126761</td>\n",
       "      <td>14.456956</td>\n",
       "      <td>1</td>\n",
       "      <td>Klapkova</td>\n",
       "      <td>154/46</td>\n",
       "      <td>18200.0</td>\n",
       "      <td>Praha</td>\n",
       "      <td>CZ</td>\n",
       "      <td>Czechia</td>\n",
       "      <td>nan</td>\n",
       "      <td>01-02-2020 23:03</td>\n",
       "    </tr>\n",
       "    <tr>\n",
       "      <th>4</th>\n",
       "      <td>138126</td>\n",
       "      <td>138126</td>\n",
       "      <td>Veobecný lékaø Prevent s.r.o.</td>\n",
       "      <td>49.183500</td>\n",
       "      <td>15.459814</td>\n",
       "      <td>1</td>\n",
       "      <td>Masarykova</td>\n",
       "      <td>330</td>\n",
       "      <td>58856.0</td>\n",
       "      <td>Telè</td>\n",
       "      <td>CZ</td>\n",
       "      <td>Czechia</td>\n",
       "      <td>nan</td>\n",
       "      <td>01-02-2020 23:03</td>\n",
       "    </tr>\n",
       "  </tbody>\n",
       "</table>\n",
       "</div>"
      ],
      "text/plain": [
       "       id hospital_name                       site_name        lat        lon  \\\n",
       "0  138130        138130         Zubní studio V+V s.r.o.  49.427788  15.218290   \n",
       "1  138129        138129             TECTUM spol. s r.o.  50.497217  13.650265   \n",
       "2  138128        138128      MUDr. Milan Kuèera, s.r.o.  50.073417  14.401091   \n",
       "3  138127        138127                Tereza Horáèková  50.126761  14.456956   \n",
       "4  138126        138126  Veobecný lékaø Prevent s.r.o.  49.183500  15.459814   \n",
       "\n",
       "   geo_qual      street house_number postcode       city  cc  country  \\\n",
       "0         1  Komenského         1465  39301.0  Pelhøimov  CZ  Czechia   \n",
       "1         1    Topolová         1234  43401.0       Most  CZ  Czechia   \n",
       "2         1  Kartouzská      3274/10  15000.0      Praha  CZ  Czechia   \n",
       "3         1    Klapkova       154/46  18200.0      Praha  CZ  Czechia   \n",
       "4         1  Masarykova          330  58856.0       Telè  CZ  Czechia   \n",
       "\n",
       "                   email          pub_date  \n",
       "0                    nan  01-02-2020 23:03  \n",
       "1      operator@labin.cz  01-02-2020 23:03  \n",
       "2  milankucera@seznam.cz  01-02-2020 23:03  \n",
       "3                    nan  01-02-2020 23:03  \n",
       "4                    nan  01-02-2020 23:03  "
      ]
     },
     "execution_count": 26,
     "metadata": {},
     "output_type": "execute_result"
    }
   ],
   "source": [
    "assert (set(cz.data.columns)\n",
    "        .difference(set([ind['name'] for ind in cz.config['index'].values()] + ['place']))\n",
    "       ) == set()\n",
    "\n",
    "print(\"\\033[4mOutput data columns:\\033[0m\\n\\033[1m%s\\033[0m\" % list(cz.data.columns))\n",
    "\n",
    "cz.data.head(5)"
   ]
  },
  {
   "cell_type": "markdown",
   "metadata": {},
   "source": [
    "See in particular the `lat`/`lon` attributes that were retrieved:"
   ]
  },
  {
   "cell_type": "code",
   "execution_count": 27,
   "metadata": {},
   "outputs": [
    {
     "data": {
      "text/html": [
       "<div>\n",
       "<style scoped>\n",
       "    .dataframe tbody tr th:only-of-type {\n",
       "        vertical-align: middle;\n",
       "    }\n",
       "\n",
       "    .dataframe tbody tr th {\n",
       "        vertical-align: top;\n",
       "    }\n",
       "\n",
       "    .dataframe thead th {\n",
       "        text-align: right;\n",
       "    }\n",
       "</style>\n",
       "<table border=\"1\" class=\"dataframe\">\n",
       "  <thead>\n",
       "    <tr style=\"text-align: right;\">\n",
       "      <th></th>\n",
       "      <th>lat</th>\n",
       "      <th>lon</th>\n",
       "    </tr>\n",
       "  </thead>\n",
       "  <tbody>\n",
       "    <tr>\n",
       "      <th>0</th>\n",
       "      <td>49.427788</td>\n",
       "      <td>15.218290</td>\n",
       "    </tr>\n",
       "    <tr>\n",
       "      <th>1</th>\n",
       "      <td>50.497217</td>\n",
       "      <td>13.650265</td>\n",
       "    </tr>\n",
       "    <tr>\n",
       "      <th>2</th>\n",
       "      <td>50.073417</td>\n",
       "      <td>14.401091</td>\n",
       "    </tr>\n",
       "    <tr>\n",
       "      <th>3</th>\n",
       "      <td>50.126761</td>\n",
       "      <td>14.456956</td>\n",
       "    </tr>\n",
       "    <tr>\n",
       "      <th>4</th>\n",
       "      <td>49.183500</td>\n",
       "      <td>15.459814</td>\n",
       "    </tr>\n",
       "  </tbody>\n",
       "</table>\n",
       "</div>"
      ],
      "text/plain": [
       "         lat        lon\n",
       "0  49.427788  15.218290\n",
       "1  50.497217  13.650265\n",
       "2  50.073417  14.401091\n",
       "3  50.126761  14.456956\n",
       "4  49.183500  15.459814"
      ]
     },
     "execution_count": 27,
     "metadata": {},
     "output_type": "execute_result"
    }
   ],
   "source": [
    "cz.data[['lat', 'lon']].head(5)"
   ]
  },
  {
   "cell_type": "markdown",
   "metadata": {},
   "source": [
    "You can transform the data into a *GEOJSON* collection of features and retrieve the output geometry using the `dumps_data` method:"
   ]
  },
  {
   "cell_type": "code",
   "execution_count": 28,
   "metadata": {},
   "outputs": [
    {
     "name": "stdout",
     "output_type": "stream",
     "text": [
      "Nothing saved - set to True to actually generate the output files\n"
     ]
    }
   ],
   "source": [
    "try:\n",
    "    assert False\n",
    "except AssertionError:\n",
    "    print(\"Nothing saved - set to True to actually generate the output files\")\n",
    "else:\n",
    "    cz.save_data(fmt='geojson', latlon = ['lat', 'lon'])"
   ]
  },
  {
   "cell_type": "markdown",
   "metadata": {},
   "source": [
    "Say you are interested in the 10 first facilities in the list, you can also use:"
   ]
  },
  {
   "cell_type": "code",
   "execution_count": 29,
   "metadata": {},
   "outputs": [
    {
     "name": "stdout",
     "output_type": "stream",
     "text": [
      "The first feature of the collection is:\n",
      "{'geometry': {'coordinates': [15.218289906425, 49.427787867131],\n",
      "              'type': 'Point'},\n",
      " 'properties': {'cc': 'CZ',\n",
      "                'city': 'Pelhøimov',\n",
      "                'country': 'Czechia',\n",
      "                'email': 'nan',\n",
      "                'geo_qual': 1,\n",
      "                'hospital_name': '138130',\n",
      "                'house_number': '1465',\n",
      "                'id': 138130,\n",
      "                'postcode': '39301.0',\n",
      "                'pub_date': '01-02-2020 23:03',\n",
      "                'site_name': 'Zubní studio V+V s.r.o.',\n",
      "                'street': 'Komenského'},\n",
      " 'type': 'Feature'}\n"
     ]
    }
   ],
   "source": [
    "# columns = set(cz.data.columns).difference(set(['lat', 'lon']))\n",
    "geom = io.Frame.to_geojson(cz.data.iloc[0:10,:], latlon = ['lat', 'lon'])\n",
    "print(\"The first feature of the collection is:\")\n",
    "pprint(geom.get('features',[])[0])"
   ]
  },
  {
   "cell_type": "markdown",
   "metadata": {},
   "source": [
    "You can use the formatted data to represent the available information about the 10 records you selected on a map, using any of the [`folium`](https://python-visualization.github.io/folium/) or [`ipyleaflet`](https://github.com/jupyter-widgets/ipyleaflet) packages:"
   ]
  },
  {
   "cell_type": "code",
   "execution_count": 30,
   "metadata": {},
   "outputs": [],
   "source": [
    "try:\n",
    "    from folium import Map, GeoJson, features\n",
    "except:\n",
    "    from ipywidgets import HTML\n",
    "    from ipyleaflet import Map, GeoJSON, WidgetControl"
   ]
  },
  {
   "cell_type": "code",
   "execution_count": 31,
   "metadata": {},
   "outputs": [
    {
     "data": {
      "text/html": [
       "<div style=\"width:100%;\"><div style=\"position:relative;width:100%;height:0;padding-bottom:60%;\"><iframe src=\"data:text/html;charset=utf-8;base64,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\" style=\"position:absolute;width:100%;height:100%;left:0;top:0;border:none !important;\" allowfullscreen webkitallowfullscreen mozallowfullscreen></iframe></div></div>"
      ],
      "text/plain": [
       "<folium.folium.Map at 0x11c997ad0>"
      ]
     },
     "execution_count": 31,
     "metadata": {},
     "output_type": "execute_result"
    }
   ],
   "source": [
    "prague = [50.0755, 14.4378]\n",
    "zoom = 7\n",
    "try:\n",
    "    m = Map(location = prague, zoom_start = zoom)\n",
    "    GeoJson(json.dumps(geom), name = 'CZ hospital',\n",
    "        tooltip=features.GeoJsonTooltip(fields=['site_name','city','postcode'], localize=True)).add_to(m)\n",
    "except:\n",
    "    m = Map(center = prague, zoom = zoom)\n",
    "    geo_json = GeoJSON(data=geom)\n",
    "    m.add_layer(geo_json)\n",
    "    html = HTML(\"CZ hospital\")\n",
    "    m.add_control(WidgetControl(widget=html, position='bottomleft'))    \n",
    "    def on_hover(feature, **kwargs):\n",
    "        html.value = '''<h4><b>{}</b></h4> \\br {} {}'''.format(feature['properties']['site_name'], feature['properties']['city'], feature['properties']['postcode'])\n",
    "    geo_json.on_hover(on_hover)\n",
    "m"
   ]
  },
  {
   "cell_type": "markdown",
   "metadata": {},
   "source": [
    "If instead, you want to save the data in an output file on disk, for instance in *CSV* or *GEOJSON* formats, you can use the `save_data` method:"
   ]
  },
  {
   "cell_type": "code",
   "execution_count": 32,
   "metadata": {},
   "outputs": [
    {
     "name": "stdout",
     "output_type": "stream",
     "text": [
      "Nothing saved in CZgeo-test.csv - set to True to create the output files\n"
     ]
    }
   ],
   "source": [
    "CZDATA = 'CZgeo-test.csv'\n",
    "\n",
    "try:\n",
    "    assert False\n",
    "except AssertionError:\n",
    "    print(\"Nothing saved in %s - set to True to create the output files\" % CZDATA)\n",
    "else:\n",
    "    cz.save_data(CZDATA, fmt='csv')"
   ]
  },
  {
   "cell_type": "markdown",
   "metadata": {},
   "source": [
    "and save these metadata in a dedicated file on disk using the `save_meta` method:"
   ]
  },
  {
   "cell_type": "code",
   "execution_count": 33,
   "metadata": {},
   "outputs": [
    {
     "name": "stdout",
     "output_type": "stream",
     "text": [
      "Nothing saved in CZmeta-test.json - set to True to create the output files\n"
     ]
    }
   ],
   "source": [
    "CZMETA = 'CZmeta-test.json'\n",
    "\n",
    "try:\n",
    "    assert False\n",
    "except AssertionError:\n",
    "    print(\"Nothing saved in %s - set to True to create the output files\" % CZMETA)\n",
    "else:\n",
    "    cz.save_meta(CZMETA, fmt='json', keys = True, keep = True, force = True) \n",
    "    # this can be run as well:\n",
    "    # cz.update_meta()\n",
    "    # cz.save_meta(CZMETA, fmt='json')    "
   ]
  },
  {
   "cell_type": "markdown",
   "metadata": {},
   "source": [
    "By default, all the metadata information in `cz.meta` is updated (\"synchronised\") prior to saving it with `save_meta`. To avoid all fields are updated, one can parse the keyword argument `force = False` to the method `cz.save_meta` so that a copy of (current, non-updated) `cz.meta` is saved."
   ]
  },
  {
   "cell_type": "markdown",
   "metadata": {},
   "source": [
    "## Adopting a metadata-based approach<a id=\"metadata-approach\"></a>\n",
    "\n",
    "Since the metadata contains all the information necessary to process the source dataset, it shall be used _as is_ to operate the harmonisation of the data.\n",
    "\n",
    "Metadata is retrieved from the previous sections: "
   ]
  },
  {
   "cell_type": "code",
   "execution_count": 34,
   "metadata": {},
   "outputs": [],
   "source": [
    "try:\n",
    "    assert metadata not in ({},None)\n",
    "except:\n",
    "    try:\n",
    "        with open(CZMETA, 'r') as fp:\n",
    "            metadata = json.load(fp)\n",
    "    except AssertionError:\n",
    "        print(\"Nothing loaded - metadata should be defined\")\n",
    "# finally:\n",
    "#    metadata = config.MetaDatNatFacility(metadata)"
   ]
  },
  {
   "cell_type": "markdown",
   "metadata": {},
   "source": [
    "Following, like in the section above, a dynamically class `NewCZhcs` can be created and configured with this information:"
   ]
  },
  {
   "cell_type": "code",
   "execution_count": 35,
   "metadata": {},
   "outputs": [],
   "source": [
    "NewCZhcs = config.facilityFactory(config.FACMETADATA['HCS'], meta = metadata )"
   ]
  },
  {
   "cell_type": "markdown",
   "metadata": {},
   "source": [
    "then, similarly, a new instance can be created...and that's all we will need to process the data:"
   ]
  },
  {
   "cell_type": "code",
   "execution_count": 36,
   "metadata": {
    "scrolled": true
   },
   "outputs": [],
   "source": [
    "newcz = NewCZhcs()\n",
    "\n",
    "assert newcz.config.to_dict() == cz.config.to_dict()\n",
    "assert newcz.cols == cz.cols\n",
    "assert newcz.options == cz.options"
   ]
  },
  {
   "cell_type": "markdown",
   "metadata": {},
   "source": [
    "Given the `file` and `path` fields of the `newcz.meta` attribute variable, data can be loaded using the `load_data` method (without argument, since they are all intrinsically provided with the metadata). But also given the `index` field, the formatting using the `format_data` method can be operated directly:"
   ]
  },
  {
   "cell_type": "code",
   "execution_count": 37,
   "metadata": {
    "scrolled": false
   },
   "outputs": [],
   "source": [
    "newcz.load_data()\n",
    "\n",
    "# nothing: newcz.prepare_data()\n",
    "\n",
    "newcz.locate_data() # no geocoding is operated\n",
    "\n",
    "newcz.format_data()"
   ]
  },
  {
   "cell_type": "markdown",
   "metadata": {},
   "source": [
    "Check the output dataset:"
   ]
  },
  {
   "cell_type": "code",
   "execution_count": 38,
   "metadata": {},
   "outputs": [
    {
     "name": "stdout",
     "output_type": "stream",
     "text": [
      "\u001b[4mOutput data columns:\u001b[0m\n",
      "\u001b[1m['id', 'hospital_name', 'site_name', 'lat', 'lon', 'geo_qual', 'street', 'house_number', 'postcode', 'city', 'cc', 'country', 'email', 'pub_date']\u001b[0m\n"
     ]
    },
    {
     "data": {
      "text/html": [
       "<div>\n",
       "<style scoped>\n",
       "    .dataframe tbody tr th:only-of-type {\n",
       "        vertical-align: middle;\n",
       "    }\n",
       "\n",
       "    .dataframe tbody tr th {\n",
       "        vertical-align: top;\n",
       "    }\n",
       "\n",
       "    .dataframe thead th {\n",
       "        text-align: right;\n",
       "    }\n",
       "</style>\n",
       "<table border=\"1\" class=\"dataframe\">\n",
       "  <thead>\n",
       "    <tr style=\"text-align: right;\">\n",
       "      <th></th>\n",
       "      <th>id</th>\n",
       "      <th>hospital_name</th>\n",
       "      <th>site_name</th>\n",
       "      <th>lat</th>\n",
       "      <th>lon</th>\n",
       "      <th>geo_qual</th>\n",
       "      <th>street</th>\n",
       "      <th>house_number</th>\n",
       "      <th>postcode</th>\n",
       "      <th>city</th>\n",
       "      <th>cc</th>\n",
       "      <th>country</th>\n",
       "      <th>email</th>\n",
       "      <th>pub_date</th>\n",
       "    </tr>\n",
       "  </thead>\n",
       "  <tbody>\n",
       "    <tr>\n",
       "      <th>0</th>\n",
       "      <td>138130</td>\n",
       "      <td>138130</td>\n",
       "      <td>Zubní studio V+V s.r.o.</td>\n",
       "      <td>49.427788</td>\n",
       "      <td>15.218290</td>\n",
       "      <td>1</td>\n",
       "      <td>Komenského</td>\n",
       "      <td>1465</td>\n",
       "      <td>39301.0</td>\n",
       "      <td>Pelhøimov</td>\n",
       "      <td>CZ</td>\n",
       "      <td>Czechia</td>\n",
       "      <td>nan</td>\n",
       "      <td>01-02-2020 23:03</td>\n",
       "    </tr>\n",
       "    <tr>\n",
       "      <th>1</th>\n",
       "      <td>138129</td>\n",
       "      <td>138129</td>\n",
       "      <td>TECTUM spol. s r.o.</td>\n",
       "      <td>50.497217</td>\n",
       "      <td>13.650265</td>\n",
       "      <td>1</td>\n",
       "      <td>Topolová</td>\n",
       "      <td>1234</td>\n",
       "      <td>43401.0</td>\n",
       "      <td>Most</td>\n",
       "      <td>CZ</td>\n",
       "      <td>Czechia</td>\n",
       "      <td>operator@labin.cz</td>\n",
       "      <td>01-02-2020 23:03</td>\n",
       "    </tr>\n",
       "    <tr>\n",
       "      <th>2</th>\n",
       "      <td>138128</td>\n",
       "      <td>138128</td>\n",
       "      <td>MUDr. Milan Kuèera, s.r.o.</td>\n",
       "      <td>50.073417</td>\n",
       "      <td>14.401091</td>\n",
       "      <td>1</td>\n",
       "      <td>Kartouzská</td>\n",
       "      <td>3274/10</td>\n",
       "      <td>15000.0</td>\n",
       "      <td>Praha</td>\n",
       "      <td>CZ</td>\n",
       "      <td>Czechia</td>\n",
       "      <td>milankucera@seznam.cz</td>\n",
       "      <td>01-02-2020 23:03</td>\n",
       "    </tr>\n",
       "    <tr>\n",
       "      <th>3</th>\n",
       "      <td>138127</td>\n",
       "      <td>138127</td>\n",
       "      <td>Tereza Horáèková</td>\n",
       "      <td>50.126761</td>\n",
       "      <td>14.456956</td>\n",
       "      <td>1</td>\n",
       "      <td>Klapkova</td>\n",
       "      <td>154/46</td>\n",
       "      <td>18200.0</td>\n",
       "      <td>Praha</td>\n",
       "      <td>CZ</td>\n",
       "      <td>Czechia</td>\n",
       "      <td>nan</td>\n",
       "      <td>01-02-2020 23:03</td>\n",
       "    </tr>\n",
       "    <tr>\n",
       "      <th>4</th>\n",
       "      <td>138126</td>\n",
       "      <td>138126</td>\n",
       "      <td>Veobecný lékaø Prevent s.r.o.</td>\n",
       "      <td>49.183500</td>\n",
       "      <td>15.459814</td>\n",
       "      <td>1</td>\n",
       "      <td>Masarykova</td>\n",
       "      <td>330</td>\n",
       "      <td>58856.0</td>\n",
       "      <td>Telè</td>\n",
       "      <td>CZ</td>\n",
       "      <td>Czechia</td>\n",
       "      <td>nan</td>\n",
       "      <td>01-02-2020 23:03</td>\n",
       "    </tr>\n",
       "  </tbody>\n",
       "</table>\n",
       "</div>"
      ],
      "text/plain": [
       "       id hospital_name                       site_name        lat        lon  \\\n",
       "0  138130        138130         Zubní studio V+V s.r.o.  49.427788  15.218290   \n",
       "1  138129        138129             TECTUM spol. s r.o.  50.497217  13.650265   \n",
       "2  138128        138128      MUDr. Milan Kuèera, s.r.o.  50.073417  14.401091   \n",
       "3  138127        138127                Tereza Horáèková  50.126761  14.456956   \n",
       "4  138126        138126  Veobecný lékaø Prevent s.r.o.  49.183500  15.459814   \n",
       "\n",
       "   geo_qual      street house_number postcode       city  cc  country  \\\n",
       "0         1  Komenského         1465  39301.0  Pelhøimov  CZ  Czechia   \n",
       "1         1    Topolová         1234  43401.0       Most  CZ  Czechia   \n",
       "2         1  Kartouzská      3274/10  15000.0      Praha  CZ  Czechia   \n",
       "3         1    Klapkova       154/46  18200.0      Praha  CZ  Czechia   \n",
       "4         1  Masarykova          330  58856.0       Telè  CZ  Czechia   \n",
       "\n",
       "                   email          pub_date  \n",
       "0                    nan  01-02-2020 23:03  \n",
       "1      operator@labin.cz  01-02-2020 23:03  \n",
       "2  milankucera@seznam.cz  01-02-2020 23:03  \n",
       "3                    nan  01-02-2020 23:03  \n",
       "4                    nan  01-02-2020 23:03  "
      ]
     },
     "execution_count": 38,
     "metadata": {},
     "output_type": "execute_result"
    }
   ],
   "source": [
    "print(\"\\033[4mOutput data columns:\\033[0m\\n\\033[1m%s\\033[0m\" % list(newcz.data.columns))\n",
    "\n",
    "newcz.data.head(5)"
   ]
  },
  {
   "cell_type": "markdown",
   "metadata": {},
   "source": [
    "## Automated metadata-based harmonisation<a id=\"harmonisation\"></a>"
   ]
  },
  {
   "cell_type": "markdown",
   "metadata": {},
   "source": [
    "Obviously, you will not have to rerun these operations everytime a table is created. \n",
    "\n",
    "In order to simplify even further the operations, the steps above, including the loading of configuration and metadata files, have been automated. You can run it at once using the `harmonise` module:"
   ]
  },
  {
   "cell_type": "code",
   "execution_count": 39,
   "metadata": {
    "scrolled": false
   },
   "outputs": [
    {
     "name": "stderr",
     "output_type": "stream",
     "text": [
      "WARNING:root:\n",
      "! Country py-module 'pyeufacility.hcs.CZhcs' found !\n",
      "WARNING:root:\n",
      "! Generic formatting/harmonisation methods used !\n",
      "WARNING:root:! Ad-hoc metadata found - JSON-file '/Users/gjacopo/DevOps/basic-services/src/python/pyeufacility/hcs/CZhcs.json' loaded !\n",
      "WARNING:root:\n",
      "! Harmonised data for country 'CZ' generated !\n"
     ]
    }
   ],
   "source": [
    "from pyeufacility import harmonise\n",
    "\n",
    "cz = harmonise.run('HCS', country = \"CZ\", on_disk = True, dest = 'CZtest.csv')"
   ]
  },
  {
   "cell_type": "markdown",
   "metadata": {},
   "source": [
    "Check again for consistency... :"
   ]
  },
  {
   "cell_type": "code",
   "execution_count": 40,
   "metadata": {},
   "outputs": [
    {
     "data": {
      "text/html": [
       "<div>\n",
       "<style scoped>\n",
       "    .dataframe tbody tr th:only-of-type {\n",
       "        vertical-align: middle;\n",
       "    }\n",
       "\n",
       "    .dataframe tbody tr th {\n",
       "        vertical-align: top;\n",
       "    }\n",
       "\n",
       "    .dataframe thead th {\n",
       "        text-align: right;\n",
       "    }\n",
       "</style>\n",
       "<table border=\"1\" class=\"dataframe\">\n",
       "  <thead>\n",
       "    <tr style=\"text-align: right;\">\n",
       "      <th></th>\n",
       "      <th>id</th>\n",
       "      <th>hospital_name</th>\n",
       "      <th>site_name</th>\n",
       "      <th>lat</th>\n",
       "      <th>lon</th>\n",
       "      <th>geo_qual</th>\n",
       "      <th>street</th>\n",
       "      <th>house_number</th>\n",
       "      <th>postcode</th>\n",
       "      <th>city</th>\n",
       "      <th>...</th>\n",
       "      <th>emergency</th>\n",
       "      <th>facility_type</th>\n",
       "      <th>public_private</th>\n",
       "      <th>list_specs</th>\n",
       "      <th>tel</th>\n",
       "      <th>email</th>\n",
       "      <th>url</th>\n",
       "      <th>ref_date</th>\n",
       "      <th>pub_date</th>\n",
       "      <th>comments</th>\n",
       "    </tr>\n",
       "  </thead>\n",
       "  <tbody>\n",
       "    <tr>\n",
       "      <th>0</th>\n",
       "      <td>138130</td>\n",
       "      <td>138130</td>\n",
       "      <td>Zubní studio V+V s.r.o.</td>\n",
       "      <td>49.427788</td>\n",
       "      <td>15.218290</td>\n",
       "      <td>1</td>\n",
       "      <td>Komenského</td>\n",
       "      <td>1465</td>\n",
       "      <td>39301.0</td>\n",
       "      <td>Pelhøimov</td>\n",
       "      <td>...</td>\n",
       "      <td>NaN</td>\n",
       "      <td>NaN</td>\n",
       "      <td>NaN</td>\n",
       "      <td>NaN</td>\n",
       "      <td>NaN</td>\n",
       "      <td>nan</td>\n",
       "      <td>NaN</td>\n",
       "      <td>NaN</td>\n",
       "      <td>01-02-2020 23:03</td>\n",
       "      <td>NaN</td>\n",
       "    </tr>\n",
       "    <tr>\n",
       "      <th>1</th>\n",
       "      <td>138129</td>\n",
       "      <td>138129</td>\n",
       "      <td>TECTUM spol. s r.o.</td>\n",
       "      <td>50.497217</td>\n",
       "      <td>13.650265</td>\n",
       "      <td>1</td>\n",
       "      <td>Topolová</td>\n",
       "      <td>1234</td>\n",
       "      <td>43401.0</td>\n",
       "      <td>Most</td>\n",
       "      <td>...</td>\n",
       "      <td>NaN</td>\n",
       "      <td>NaN</td>\n",
       "      <td>NaN</td>\n",
       "      <td>NaN</td>\n",
       "      <td>NaN</td>\n",
       "      <td>operator@labin.cz</td>\n",
       "      <td>NaN</td>\n",
       "      <td>NaN</td>\n",
       "      <td>01-02-2020 23:03</td>\n",
       "      <td>NaN</td>\n",
       "    </tr>\n",
       "    <tr>\n",
       "      <th>2</th>\n",
       "      <td>138128</td>\n",
       "      <td>138128</td>\n",
       "      <td>MUDr. Milan Kuèera, s.r.o.</td>\n",
       "      <td>50.073417</td>\n",
       "      <td>14.401091</td>\n",
       "      <td>1</td>\n",
       "      <td>Kartouzská</td>\n",
       "      <td>3274/10</td>\n",
       "      <td>15000.0</td>\n",
       "      <td>Praha</td>\n",
       "      <td>...</td>\n",
       "      <td>NaN</td>\n",
       "      <td>NaN</td>\n",
       "      <td>NaN</td>\n",
       "      <td>NaN</td>\n",
       "      <td>NaN</td>\n",
       "      <td>milankucera@seznam.cz</td>\n",
       "      <td>NaN</td>\n",
       "      <td>NaN</td>\n",
       "      <td>01-02-2020 23:03</td>\n",
       "      <td>NaN</td>\n",
       "    </tr>\n",
       "    <tr>\n",
       "      <th>3</th>\n",
       "      <td>138127</td>\n",
       "      <td>138127</td>\n",
       "      <td>Tereza Horáèková</td>\n",
       "      <td>50.126761</td>\n",
       "      <td>14.456956</td>\n",
       "      <td>1</td>\n",
       "      <td>Klapkova</td>\n",
       "      <td>154/46</td>\n",
       "      <td>18200.0</td>\n",
       "      <td>Praha</td>\n",
       "      <td>...</td>\n",
       "      <td>NaN</td>\n",
       "      <td>NaN</td>\n",
       "      <td>NaN</td>\n",
       "      <td>NaN</td>\n",
       "      <td>NaN</td>\n",
       "      <td>nan</td>\n",
       "      <td>NaN</td>\n",
       "      <td>NaN</td>\n",
       "      <td>01-02-2020 23:03</td>\n",
       "      <td>NaN</td>\n",
       "    </tr>\n",
       "    <tr>\n",
       "      <th>4</th>\n",
       "      <td>138126</td>\n",
       "      <td>138126</td>\n",
       "      <td>Veobecný lékaø Prevent s.r.o.</td>\n",
       "      <td>49.183500</td>\n",
       "      <td>15.459814</td>\n",
       "      <td>1</td>\n",
       "      <td>Masarykova</td>\n",
       "      <td>330</td>\n",
       "      <td>58856.0</td>\n",
       "      <td>Telè</td>\n",
       "      <td>...</td>\n",
       "      <td>NaN</td>\n",
       "      <td>NaN</td>\n",
       "      <td>NaN</td>\n",
       "      <td>NaN</td>\n",
       "      <td>NaN</td>\n",
       "      <td>nan</td>\n",
       "      <td>NaN</td>\n",
       "      <td>NaN</td>\n",
       "      <td>01-02-2020 23:03</td>\n",
       "      <td>NaN</td>\n",
       "    </tr>\n",
       "  </tbody>\n",
       "</table>\n",
       "<p>5 rows × 25 columns</p>\n",
       "</div>"
      ],
      "text/plain": [
       "       id hospital_name                       site_name        lat        lon  \\\n",
       "0  138130        138130         Zubní studio V+V s.r.o.  49.427788  15.218290   \n",
       "1  138129        138129             TECTUM spol. s r.o.  50.497217  13.650265   \n",
       "2  138128        138128      MUDr. Milan Kuèera, s.r.o.  50.073417  14.401091   \n",
       "3  138127        138127                Tereza Horáèková  50.126761  14.456956   \n",
       "4  138126        138126  Veobecný lékaø Prevent s.r.o.  49.183500  15.459814   \n",
       "\n",
       "   geo_qual      street house_number postcode       city  ... emergency  \\\n",
       "0         1  Komenského         1465  39301.0  Pelhøimov  ...       NaN   \n",
       "1         1    Topolová         1234  43401.0       Most  ...       NaN   \n",
       "2         1  Kartouzská      3274/10  15000.0      Praha  ...       NaN   \n",
       "3         1    Klapkova       154/46  18200.0      Praha  ...       NaN   \n",
       "4         1  Masarykova          330  58856.0       Telè  ...       NaN   \n",
       "\n",
       "  facility_type public_private list_specs tel                  email  url  \\\n",
       "0           NaN            NaN        NaN NaN                    nan  NaN   \n",
       "1           NaN            NaN        NaN NaN      operator@labin.cz  NaN   \n",
       "2           NaN            NaN        NaN NaN  milankucera@seznam.cz  NaN   \n",
       "3           NaN            NaN        NaN NaN                    nan  NaN   \n",
       "4           NaN            NaN        NaN NaN                    nan  NaN   \n",
       "\n",
       "  ref_date          pub_date  comments  \n",
       "0      NaN  01-02-2020 23:03       NaN  \n",
       "1      NaN  01-02-2020 23:03       NaN  \n",
       "2      NaN  01-02-2020 23:03       NaN  \n",
       "3      NaN  01-02-2020 23:03       NaN  \n",
       "4      NaN  01-02-2020 23:03       NaN  \n",
       "\n",
       "[5 rows x 25 columns]"
      ]
     },
     "execution_count": 40,
     "metadata": {},
     "output_type": "execute_result"
    }
   ],
   "source": [
    "cz.data.head(5)"
   ]
  },
  {
   "cell_type": "markdown",
   "metadata": {},
   "source": [
    "## Automated metadata-based validation<a id=\"validation\"></a>"
   ]
  },
  {
   "cell_type": "markdown",
   "metadata": {},
   "source": [
    "Last, you will want to validate the output data, given the information you provided in the configuration template (_e.g._, through the field `column`).\n",
    "\n",
    "Validation is also an automated process:"
   ]
  },
  {
   "cell_type": "code",
   "execution_count": 41,
   "metadata": {},
   "outputs": [
    {
     "name": "stderr",
     "output_type": "stream",
     "text": [
      "WARNING:root:\n",
      "! Column 'tel' empty - missing values only !\n",
      "WARNING:root:\n",
      "! Column 'facility_type' empty - missing values only !\n",
      "WARNING:root:\n",
      "! Column 'emergency' empty - missing values only !\n",
      "WARNING:root:\n",
      "! Column 'cap_prac' empty - missing values only !\n",
      "WARNING:root:\n",
      "! Column 'ref_date' empty - missing values only !\n",
      "WARNING:root:\n",
      "! Column 'cap_rooms' empty - missing values only !\n",
      "WARNING:root:\n",
      "! Column 'cap_beds' empty - missing values only !\n",
      "WARNING:root:\n",
      "! Column 'public_private' empty - missing values only !\n",
      "WARNING:root:\n",
      "! Column 'list_specs' empty - missing values only !\n",
      "WARNING:root:\n",
      "! Column 'comments' empty - missing values only !\n",
      "WARNING:root:\n",
      "! Column 'url' empty - missing values only !\n"
     ]
    },
    {
     "name": "stdout",
     "output_type": "stream",
     "text": [
      "! Data passed validation (see warning reports) !\n"
     ]
    }
   ],
   "source": [
    "from pyeufacility import validate\n",
    "\n",
    "validate.run('HCS', country = \"CZ\", src = 'CZtest.csv')"
   ]
  }
 ],
 "metadata": {
  "kernelspec": {
   "display_name": "Python 3",
   "language": "python",
   "name": "python3"
  },
  "language_info": {
   "codemirror_mode": {
    "name": "ipython",
    "version": 3
   },
   "file_extension": ".py",
   "mimetype": "text/x-python",
   "name": "python",
   "nbconvert_exporter": "python",
   "pygments_lexer": "ipython3",
   "version": "3.7.6"
  }
 },
 "nbformat": 4,
 "nbformat_minor": 2
}
