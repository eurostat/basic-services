{
 "cells": [
  {
   "cell_type": "markdown",
   "metadata": {},
   "source": [
    "# Input/Output data integration and harmonisation - CZ healthcare services\n",
    "\n",
    "Prepared by [**J.Grazzini**](mailto:jacopo.grazzini@ec.europa.eu) ([_Eurostat_](https://ec.europa.eu/eurostat)).\n",
    "\n",
    "## Introduction\n",
    "\n",
    "This notebook illustrates some basic usage of the [`pyeudatanat`](https://github.com/eurostat/pyEUDatNat) and [`pyeufacility`](https://github.com/eurostat/pyeufacility) packages in order to ingest and harmonise data collected from national providers. \n",
    "\n",
    "The example presented herein aims at formatting CZ data on healthcare services according to an agreed [common template](https://github.com/eurostat/basic-services/blob/master/data/healthcare/metadata.pdf).\n",
    "\n",
    "**Table of contents**\n",
    "\n",
    "* [Setting and checking the environment](#environment).\n",
    "* [Definition of the output configuration format](#configuration).\n",
    "* [Load and explore the input data](#exploration).\n",
    "* [Fit the input to the output configuration format](#matching).\n",
    "* [Store and expose the output harmonised data](#store-data).\n",
    "* [Set and share the formatting metadata](#store-metadata).\n",
    "* [Adopt a metadata-based approach](#metadata-approach).\n",
    "* [Automated metadata-based harmonisation](#harmonisation).\n",
    "* [Automated metadata-based validation](#validation)."
   ]
  },
  {
   "cell_type": "markdown",
   "metadata": {},
   "source": [
    "## Setting and checking the environment <a id=\"environment\"></a>\n",
    "\n",
    "Let's run some setup necessary to import the dependency(ies) required to run the project... "
   ]
  },
  {
   "cell_type": "code",
   "execution_count": 1,
   "metadata": {},
   "outputs": [],
   "source": [
    "thisdir = !pwd # os.getcwd()\n",
    "PROJECT = 'basic-services'\n",
    "\n",
    "import os, sys\n",
    "import numpy as np\n",
    "import pandas as pd"
   ]
  },
  {
   "cell_type": "code",
   "execution_count": 2,
   "metadata": {},
   "outputs": [
    {
     "name": "stdout",
     "output_type": "stream",
     "text": [
      "/Users/gjacopo/DevOps:/Users/gjacopo/DevOps/happyGISCO:/Users/gjacopo/DevOps/pyEUDatNat:/Users/gjacopo/DevOps/pyrostat:/Users/gjacopo/DevOps/pyDatUtils:\r\n"
     ]
    }
   ],
   "source": [
    "!echo ${PYTHONPATH}"
   ]
  },
  {
   "cell_type": "markdown",
   "metadata": {},
   "source": [
    "First, you will need to import the `pyeudatnat` package that contains various useful functions/methods: "
   ]
  },
  {
   "cell_type": "code",
   "execution_count": 3,
   "metadata": {},
   "outputs": [
    {
     "name": "stdout",
     "output_type": "stream",
     "text": [
      "package pyeudatnat available to run project basic-services\n"
     ]
    }
   ],
   "source": [
    "try:\n",
    "    import pyeudatnat\n",
    "except ImportError:\n",
    "    try:\n",
    "        !{sys.executable} -m pip install git+https://github.com/eurostat/pyEUDatNat.git\n",
    "        # !conda install --yes --prefix {sys.prefix} git+https://github.com/eurostat/pyEUDatNat.git\n",
    "    except:\n",
    "        raise IOError(\"sorry, you're doomed, you won't be able to run this notebook...\")\n",
    "    else:\n",
    "        import pyeudatnat\n",
    "finally:\n",
    "    print('package pyeudatnat available to run project %s' % PROJECT)"
   ]
  },
  {
   "cell_type": "markdown",
   "metadata": {},
   "source": [
    "Then, you will need to load the [`pyeufacility`](https://github.com/eurostat/basic-services/tree/master/src/python/pyeufacility) module available with the [`'basic-services'`](https://github.com/eurostat/basic-services/) project.\n",
    "The following is required only if `pyeufacility` is not remotely installed/available from `pypi`, but it will be working only if you have a local version on your machine. "
   ]
  },
  {
   "cell_type": "code",
   "execution_count": 4,
   "metadata": {},
   "outputs": [
    {
     "name": "stdout",
     "output_type": "stream",
     "text": [
      "package pyeufacility available to run project basic-services\n"
     ]
    }
   ],
   "source": [
    "try:\n",
    "    import pyeufacility\n",
    "except ImportError:\n",
    "    try:\n",
    "        assert 'pyeufacility' in [mod.__name__ for mod in sys.modules.values()]\n",
    "    except AssertionError:\n",
    "        # first case: this notebook will need to be run from the project directory, otherwise...\n",
    "        try:\n",
    "            pardir = os.path.abspath(os.path.join(thisdir[0], '../'))\n",
    "            assert 'pyeufacility' in os.listdir(pardir)\n",
    "        except:\n",
    "            # second case: install from github\n",
    "            try:\n",
    "                !{sys.executable} -m pip install git+https://github.com/eurostat/basic-services.git#egg=pyeufacility\\&subdirectory=src/python\n",
    "            except:\n",
    "                raise IOError(\"sorry, you're doomed, you won't be able to run this notebook...\")\n",
    "            else:\n",
    "                import pyeufacility\n",
    "        else:\n",
    "            sys.path.insert(0,pardir)     \n",
    "            import pyeufacility\n",
    "finally:\n",
    "    print('package pyeufacility available to run project %s' % PROJECT)"
   ]
  },
  {
   "cell_type": "markdown",
   "metadata": {},
   "source": [
    "We will also use the following variable for handling the paths to the local data repositories:"
   ]
  },
  {
   "cell_type": "code",
   "execution_count": 5,
   "metadata": {},
   "outputs": [],
   "source": [
    "try:\n",
    "    PACKPATH = getattr(sys.modules['pyeufacility'], 'PACKPATH')\n",
    "except:\n",
    "    PACKPATH = getattr(sys.modules['pyeufacility'], '__path__')[0]"
   ]
  },
  {
   "cell_type": "markdown",
   "metadata": {},
   "source": [
    "Let's check some basic global parameters/metadata already made available there..."
   ]
  },
  {
   "cell_type": "code",
   "execution_count": 6,
   "metadata": {},
   "outputs": [
    {
     "name": "stdout",
     "output_type": "stream",
     "text": [
      "\u001b[1mCountries\u001b[0m considered for harmonisation: ['BE', 'EL', 'LT', 'PT', 'BG', 'ES', 'LU', 'RO', 'CZ', 'FR', 'HU', 'SI', 'DK', 'HR', 'MT', 'SK', 'DE', 'IT', 'NL', 'FI', 'EE', 'CY', 'AT', 'SE', 'IE', 'LV', 'PL', 'UK', 'IS', 'NO', 'CH', 'LI']\n",
      "\u001b[1mFacilities\u001b[0m available for harmonisation: {'HCS': {'code': 'hcs', 'name': 'Healthcare services'}, 'Edu': {'code': 'edu', 'name': 'Educational facilities'}}\n"
     ]
    }
   ],
   "source": [
    "print(\"\\033[1mCountries\\033[0m considered for harmonisation: %s\" % list(pyeudatnat.COUNTRIES))\n",
    "print(\"\\033[1mFacilities\\033[0m available for harmonisation: %s\" % pyeufacility.FACILITIES)"
   ]
  },
  {
   "cell_type": "markdown",
   "metadata": {},
   "source": [
    "## Definition of the output configuration format <a id=\"configuration\"></a> \n",
    "\n",
    "Next, we import the `config` module, and check also some of the metadata made available through the `pyeufacility` module. \n",
    "\n",
    "In particular, the format of the output harmonised dataset, such as the output columns (name and type), the output encoding format, the separator for output CSV, _etc_..., are defined for any given type of facility, _e.g._ HealthCare Services (*HCS*), separately in the global dictionary `config.CONFIGINFO`:"
   ]
  },
  {
   "cell_type": "code",
   "execution_count": 7,
   "metadata": {},
   "outputs": [
    {
     "name": "stdout",
     "output_type": "stream",
     "text": [
      "Formatting of output data is available for 'HCS': \u001b[1m{'code': 'hcs', 'name': 'Healthcare services'}\u001b[0m\n",
      "Fields of the configuration template: \u001b[1m['fmt', 'lang', 'sep', 'enc', 'dfmt', 'proj', 'path', 'info', 'file', 'index', 'category']\u001b[0m\n"
     ]
    }
   ],
   "source": [
    "from pyeufacility import config\n",
    "print(\"Formatting of output data is available for 'HCS': \\033[1m%s\\033[0m\" % config.CONFIGINFO['HCS']['category'])\n",
    "print(\"Fields of the configuration template: \\033[1m%s\\033[0m\" % list(config.CONFIGINFO['HCS'].keys()))"
   ]
  },
  {
   "cell_type": "markdown",
   "metadata": {},
   "source": [
    "Using this global variable, it is possible to retrieve the specific formatting of *HCS* is described through the contents of `config.CONFIGINFO['HCS']`: "
   ]
  },
  {
   "cell_type": "code",
   "execution_count": 8,
   "metadata": {},
   "outputs": [
    {
     "name": "stdout",
     "output_type": "stream",
     "text": [
      "Output data contain attributes defined according to following configuration template:\n"
     ]
    },
    {
     "data": {
      "text/plain": [
       "{'fmt': {'geojson': 'geojson', 'json': 'json', 'csv': 'csv', 'gpkg': 'gpkg'},\n",
       " 'lang': 'en',\n",
       " 'sep': ',',\n",
       " 'enc': 'utf-8',\n",
       " 'dfmt': '%d/%m/%Y',\n",
       " 'proj': None,\n",
       " 'path': '../../data/healthcare',\n",
       " 'info': '../../data/healthcare/metadata.pdf',\n",
       " 'file': '%s.%s',\n",
       " 'index': OrderedDict([('id',\n",
       "               {'name': 'id',\n",
       "                'desc': 'The healthcare service identifier - This identifier is based on national identification codes, if it exists.',\n",
       "                'type': 'int',\n",
       "                'values': None}),\n",
       "              ('name',\n",
       "               {'name': 'hospital_name',\n",
       "                'desc': 'The name of the healthcare institution',\n",
       "                'type': 'str',\n",
       "                'values': None}),\n",
       "              ('site',\n",
       "               {'name': 'site_name',\n",
       "                'desc': 'The name of the specific site or branch of a healthcare institution',\n",
       "                'type': 'str',\n",
       "                'values': None}),\n",
       "              ('lat',\n",
       "               {'name': 'lat',\n",
       "                'desc': 'Latitude (WGS 84)',\n",
       "                'type': 'float',\n",
       "                'values': None}),\n",
       "              ('lon',\n",
       "               {'name': 'lon',\n",
       "                'desc': 'Longitude (WGS 84)',\n",
       "                'type': 'float',\n",
       "                'values': None}),\n",
       "              ('geo_qual',\n",
       "               {'name': 'geo_qual',\n",
       "                'desc': 'A quality indicator for the geolocation - 1: Good, 2: Medium, 3: Low, -1: Unknown',\n",
       "                'type': 'int',\n",
       "                'values': [-1, 1, 2, 3]}),\n",
       "              ('street',\n",
       "               {'name': 'street',\n",
       "                'desc': 'Street name',\n",
       "                'type': 'str',\n",
       "                'values': None}),\n",
       "              ('number',\n",
       "               {'name': 'house_number',\n",
       "                'desc': 'House number',\n",
       "                'type': 'str',\n",
       "                'values': None}),\n",
       "              ('postcode',\n",
       "               {'name': 'postcode',\n",
       "                'desc': 'Postcode',\n",
       "                'type': 'str',\n",
       "                'values': None}),\n",
       "              ('city',\n",
       "               {'name': 'city',\n",
       "                'desc': 'City name (sometimes refers to a region or a municipality)',\n",
       "                'type': 'str',\n",
       "                'values': None}),\n",
       "              ('cc',\n",
       "               {'name': 'cc',\n",
       "                'desc': 'Country code (ISO 3166-1 alpha-2 format)',\n",
       "                'type': 'str',\n",
       "                'values': ['BE',\n",
       "                 'EL',\n",
       "                 'LT',\n",
       "                 'PT',\n",
       "                 'BG',\n",
       "                 'ES',\n",
       "                 'LU',\n",
       "                 'RO',\n",
       "                 'CZ',\n",
       "                 'FR',\n",
       "                 'HU',\n",
       "                 'SI',\n",
       "                 'DK',\n",
       "                 'HR',\n",
       "                 'MT',\n",
       "                 'SK',\n",
       "                 'DE',\n",
       "                 'IT',\n",
       "                 'NL',\n",
       "                 'FI',\n",
       "                 'EE',\n",
       "                 'CY',\n",
       "                 'AT',\n",
       "                 'SE',\n",
       "                 'IE',\n",
       "                 'LV',\n",
       "                 'PL',\n",
       "                 'UK',\n",
       "                 'IS',\n",
       "                 'NO',\n",
       "                 'CH',\n",
       "                 'LI']}),\n",
       "              ('country',\n",
       "               {'name': 'country',\n",
       "                'desc': 'Country name',\n",
       "                'type': 'str',\n",
       "                'values': None}),\n",
       "              ('beds',\n",
       "               {'name': 'cap_beds',\n",
       "                'desc': 'Measure of capacity by number of beds (most common)',\n",
       "                'type': 'int',\n",
       "                'values': None}),\n",
       "              ('prac',\n",
       "               {'name': 'cap_prac',\n",
       "                'desc': 'Measure of capacity by number of practitioners',\n",
       "                'type': 'int',\n",
       "                'values': None}),\n",
       "              ('rooms',\n",
       "               {'name': 'cap_rooms',\n",
       "                'desc': 'Measure of capacity by number of rooms',\n",
       "                'type': 'int',\n",
       "                'values': None}),\n",
       "              ('ER',\n",
       "               {'name': 'emergency',\n",
       "                'desc': \"Flag 'yes/no' for whether the healthcare site provides emergency medical services\",\n",
       "                'type': 'bool',\n",
       "                'values': ['yes', 'no']}),\n",
       "              ('type',\n",
       "               {'name': 'facility_type',\n",
       "                'desc': 'If the healthcare service provides a specific type of care, e.g. psychiatric hospital',\n",
       "                'type': 'str',\n",
       "                'values': None}),\n",
       "              ('PP',\n",
       "               {'name': 'public_private',\n",
       "                'desc': \"Status 'private/public' of the healthcare service\",\n",
       "                'type': 'int',\n",
       "                'values': ['public', 'private']}),\n",
       "              ('specs',\n",
       "               {'name': 'list_specs',\n",
       "                'desc': 'List of specialties recognized in the European Union and European Economic Area according to EU Directive 2005/36/EC',\n",
       "                'type': 'str',\n",
       "                'values': None}),\n",
       "              ('tel',\n",
       "               {'name': 'tel',\n",
       "                'desc': 'Telephone number',\n",
       "                'type': 'int',\n",
       "                'values': None}),\n",
       "              ('email',\n",
       "               {'name': 'email',\n",
       "                'desc': 'Email address',\n",
       "                'type': 'str',\n",
       "                'values': None}),\n",
       "              ('url',\n",
       "               {'name': 'url',\n",
       "                'desc': \"URL link to the institution's website\",\n",
       "                'type': 'str',\n",
       "                'values': None}),\n",
       "              ('refdate',\n",
       "               {'name': 'ref_date',\n",
       "                'desc': 'The reference date (DD/MM/YYYY) the data refers to. The dataset represents the reality as it was at this date.',\n",
       "                'type': 'datetime',\n",
       "                'values': '%d/%m/%Y'}),\n",
       "              ('pubdate',\n",
       "               {'name': 'pub_date',\n",
       "                'desc': 'The publication date of the dataset by Eurostat (DD/MM/YYYY). This should be used to track when this Eurostat dataset has changed.',\n",
       "                'type': 'datetime',\n",
       "                'values': '%d/%m/%Y'}),\n",
       "              ('comments',\n",
       "               {'name': 'comments',\n",
       "                'desc': 'Comments',\n",
       "                'type': 'str',\n",
       "                'values': None})]),\n",
       " 'category': {'code': 'hcs', 'name': 'Healthcare services'}}"
      ]
     },
     "execution_count": 8,
     "metadata": {},
     "output_type": "execute_result"
    }
   ],
   "source": [
    "print(\"Output data contain attributes defined according to following configuration template:\")\n",
    "config.CONFIGINFO['HCS']"
   ]
  },
  {
   "cell_type": "markdown",
   "metadata": {},
   "source": [
    "This provides for instance with the definitions of the desired output fields, for instance:"
   ]
  },
  {
   "cell_type": "code",
   "execution_count": 9,
   "metadata": {},
   "outputs": [
    {
     "name": "stdout",
     "output_type": "stream",
     "text": [
      "Output attribute \u001b[1m'site_name'\u001b[0m defined as: {'name': 'site_name', 'desc': 'The name of the specific site or branch of a healthcare institution', 'type': 'str', 'values': None}\n",
      "Output attribute \u001b[1m'lat'\u001b[0m defined as: {'name': 'lat', 'desc': 'Latitude (WGS 84)', 'type': 'float', 'values': None}\n"
     ]
    }
   ],
   "source": [
    "print(\"Output attribute \\033[1m'%s'\\033[0m defined as: %s\" % \n",
    "      (config.CONFIGINFO['HCS']['index']['site']['name'], config.CONFIGINFO['HCS']['index']['site']))\n",
    "print(\"Output attribute \\033[1m'%s'\\033[0m defined as: %s\" % \n",
    "      (config.CONFIGINFO['HCS']['index']['lat']['name'], config.CONFIGINFO['HCS']['index']['lat']))"
   ]
  },
  {
   "cell_type": "markdown",
   "metadata": {},
   "source": [
    "Note that the parameters of any given facility, _e.g._ *HCS*, as defined in `config.CONFIGINFO` can actually be (re)set through an external configuration JSON file, _e.g._ *hcs.json*:"
   ]
  },
  {
   "cell_type": "code",
   "execution_count": 10,
   "metadata": {},
   "outputs": [
    {
     "name": "stdout",
     "output_type": "stream",
     "text": [
      "Configuration template is parsed through \u001b[1m'/src/python/pyeufacility/hcs.json'\u001b[0m file:\n"
     ]
    },
    {
     "data": {
      "text/plain": [
       "{'fmt': {'geojson': 'geojson', 'json': 'json', 'csv': 'csv', 'gpkg': 'gpkg'},\n",
       " 'lang': 'en',\n",
       " 'sep': ',',\n",
       " 'enc': 'utf-8',\n",
       " 'dfmt': '%d/%m/%Y',\n",
       " 'proj': None,\n",
       " 'path': '../../../data/healthcare/',\n",
       " 'file': '%s.%s',\n",
       " 'index': {'id': {'name': 'id',\n",
       "   'desc': 'The healthcare service identifier - This identifier is based on national identification codes, if it exists.',\n",
       "   'type': 'int',\n",
       "   'values': None},\n",
       "  'name': {'name': 'hospital_name',\n",
       "   'desc': 'The name of the healthcare institution',\n",
       "   'type': 'str',\n",
       "   'values': None},\n",
       "  'site': {'name': 'site_name',\n",
       "   'desc': 'The name of the specific site or branch of a healthcare institution',\n",
       "   'type': 'str',\n",
       "   'values': None},\n",
       "  'lat': {'name': 'lat',\n",
       "   'desc': 'Latitude (WGS 84)',\n",
       "   'type': 'float',\n",
       "   'values': None},\n",
       "  'lon': {'name': 'lon',\n",
       "   'desc': 'Longitude (WGS 84)',\n",
       "   'type': 'float',\n",
       "   'values': None},\n",
       "  'geo_qual': {'name': 'geo_qual',\n",
       "   'desc': 'A quality indicator for the geolocation - 1: Good, 2: Medium, 3: Low, -1: Unknown',\n",
       "   'type': 'int',\n",
       "   'values': [-1, 1, 2, 3]},\n",
       "  'street': {'name': 'street',\n",
       "   'desc': 'Street name',\n",
       "   'type': 'str',\n",
       "   'values': None},\n",
       "  'number': {'name': 'house_number',\n",
       "   'desc': 'House number',\n",
       "   'type': 'str',\n",
       "   'values': None},\n",
       "  'postcode': {'name': 'postcode',\n",
       "   'desc': 'Postcode',\n",
       "   'type': 'str',\n",
       "   'values': None},\n",
       "  'city': {'name': 'city',\n",
       "   'desc': 'City name (sometimes refers to a region or a municipality)',\n",
       "   'type': 'str',\n",
       "   'values': None},\n",
       "  'cc': {'name': 'cc',\n",
       "   'desc': 'Country code (ISO 3166-1 alpha-2 format)',\n",
       "   'type': 'str',\n",
       "   'values': ['EU27_2020', 'EU27_2019', 'EU28', 'EU27_2009', 'EFTA']},\n",
       "  'country': {'name': 'country',\n",
       "   'desc': 'Country name',\n",
       "   'type': 'str',\n",
       "   'values': None},\n",
       "  'beds': {'name': 'cap_beds',\n",
       "   'desc': 'Measure of capacity by number of beds (most common)',\n",
       "   'type': 'int',\n",
       "   'values': None},\n",
       "  'prac': {'name': 'cap_prac',\n",
       "   'desc': 'Measure of capacity by number of practitioners',\n",
       "   'type': 'int',\n",
       "   'values': None},\n",
       "  'rooms': {'name': 'cap_rooms',\n",
       "   'desc': 'Measure of capacity by number of rooms',\n",
       "   'type': 'int',\n",
       "   'values': None},\n",
       "  'ER': {'name': 'emergency',\n",
       "   'desc': \"Flag 'yes/no' for whether the healthcare site provides emergency medical services\",\n",
       "   'type': 'bool',\n",
       "   'values': ['yes', 'no']},\n",
       "  'type': {'name': 'facility_type',\n",
       "   'desc': 'If the healthcare service provides a specific type of care, e.g. psychiatric hospital',\n",
       "   'type': 'str',\n",
       "   'values': None},\n",
       "  'PP': {'name': 'public_private',\n",
       "   'desc': \"Status 'private/public' of the healthcare service\",\n",
       "   'type': 'int',\n",
       "   'values': ['public', 'private']},\n",
       "  'specs': {'name': 'list_specs',\n",
       "   'desc': 'List of specialties recognized in the European Union and European Economic Area according to EU Directive 2005/36/EC',\n",
       "   'type': 'str',\n",
       "   'values': None},\n",
       "  'tel': {'name': 'tel',\n",
       "   'desc': 'Telephone number',\n",
       "   'type': 'int',\n",
       "   'values': None},\n",
       "  'email': {'name': 'email',\n",
       "   'desc': 'Email address',\n",
       "   'type': 'str',\n",
       "   'values': None},\n",
       "  'url': {'name': 'url',\n",
       "   'desc': \"URL link to the institution's website\",\n",
       "   'type': 'str',\n",
       "   'values': None},\n",
       "  'refdate': {'name': 'ref_date',\n",
       "   'desc': 'The reference date of the data (DD/MM/YYYY)',\n",
       "   'type': 'datetime',\n",
       "   'values': '%d/%m/%Y'},\n",
       "  'pubdate': {'name': 'pub_date',\n",
       "   'desc': 'The date that the data was last published (DD/MM/YYYY)',\n",
       "   'type': 'datetime',\n",
       "   'values': '%d/%m/%Y'}}}"
      ]
     },
     "execution_count": 10,
     "metadata": {},
     "output_type": "execute_result"
    }
   ],
   "source": [
    "import json\n",
    "cfg = os.path.join(PACKPATH, 'hcs.json')\n",
    "with open(cfg, 'r') as fp:\n",
    "    metadata = json.load(fp)\n",
    "print(\"Configuration template is parsed through \\033[1m'%s'\\033[0m file:\" \n",
    "      % cfg.split(PROJECT)[1])\n",
    "metadata"
   ]
  },
  {
   "cell_type": "markdown",
   "metadata": {},
   "source": [
    "## Load and explore the input data<a id=\"exploration\"></a> "
   ]
  },
  {
   "cell_type": "markdown",
   "metadata": {},
   "source": [
    "We require first to import some basic constructor utilities from the `pyeufacility.config` module: "
   ]
  },
  {
   "cell_type": "code",
   "execution_count": 11,
   "metadata": {},
   "outputs": [],
   "source": [
    "from pyeufacility.config import facilityFactory"
   ]
  },
  {
   "cell_type": "markdown",
   "metadata": {},
   "source": [
    "Let's consider a simple example: as raw information in the original table, *CZ* data is already available with the lat/lon geographical coordinates encoded in a single column of the input data. \"Integrating\" these data is nothing else than extracting the coordinates, reshufling some of the columns and dumping it in a new table.\n",
    "\n",
    "To do so, it will be necessary to retrieve the structure (in terms of columns and data format) of the original table and \"match\" it to the output desired structure, as defined in the previously mentioned `config.CONFIGINFO` parameter. \n",
    "\n",
    "Let's first defined the input structure using the class constructor `facilityFactory`:"
   ]
  },
  {
   "cell_type": "code",
   "execution_count": 12,
   "metadata": {},
   "outputs": [
    {
     "name": "stdout",
     "output_type": "stream",
     "text": [
      "<class 'type'>\n",
      "{'CZ': 'Czechia'}\n",
      "{'code': 'hcs', 'name': 'Healthcare services'}\n"
     ]
    }
   ],
   "source": [
    "CZhcs = facilityFactory(facility='HCS', country = 'CZ')\n",
    "print(type(CZhcs))\n",
    "\n",
    "print(CZhcs.COUNTRY)\n",
    "print(CZhcs.CATEGORY)"
   ]
  },
  {
   "cell_type": "markdown",
   "metadata": {},
   "source": [
    "and define the *CZ* data as an instance of the previously dynamically defined class `CZhcs`, with specific details regarding the data, such as the location of the original table:"
   ]
  },
  {
   "cell_type": "code",
   "execution_count": 13,
   "metadata": {},
   "outputs": [
    {
     "name": "stdout",
     "output_type": "stream",
     "text": [
      "<class 'pyeudatnat.base.CZhcs'>\n",
      "- source file: \u001b[1m'/data/healthcare/raw/export-2020-02.csv'\u001b[0m\n",
      "- country code: \u001b[1m'CZ'\u001b[0m\n",
      "- language used in the original table: \u001b[1m'cs'\u001b[0m\n"
     ]
    }
   ],
   "source": [
    "cz = CZhcs(file = 'export-2020-02.csv', \n",
    "           path = os.path.abspath('../../../data/healthcare/raw/'), \n",
    "           lang = 'cs')\n",
    "print(type(cz))\n",
    "\n",
    "print(\"- source file: \\033[1m'%s'\\033[0m\" % cz.file.split(PROJECT)[1])\n",
    "print(\"- country code: \\033[1m'%s'\\033[0m\" % cz.cc)\n",
    "print(\"- language used in the original table: \\033[1m'%s'\\033[0m\" % cz.lang)"
   ]
  },
  {
   "cell_type": "markdown",
   "metadata": {},
   "source": [
    "Note also that the output template configuration is available throughout the `config` attribute of the newly created `cz` instance:"
   ]
  },
  {
   "cell_type": "code",
   "execution_count": 14,
   "metadata": {},
   "outputs": [],
   "source": [
    "assert cz.config.to_dict() == config.CONFIGINFO['HCS']"
   ]
  },
  {
   "cell_type": "markdown",
   "metadata": {},
   "source": [
    "Overall, this is enough to load the data using the `load_data` method which stores the input data as a [`pandas`](https://pandas.pydata.org) dataframe structure in the `data` attribute of the `cz` instance:"
   ]
  },
  {
   "cell_type": "code",
   "execution_count": 15,
   "metadata": {},
   "outputs": [
    {
     "name": "stderr",
     "output_type": "stream",
     "text": [
      "/Users/gjacopo/DevOps/pyEUDatNat/pyeudatnat/io.py:865: ParserWarning: Falling back to the 'python' engine because the 'c' engine does not support sep=None with delim_whitespace=False; you can avoid this warning by specifying engine='python'.\n",
      "  return pd.read_csv(s, **nkw)\n"
     ]
    },
    {
     "data": {
      "text/html": [
       "<div>\n",
       "<style scoped>\n",
       "    .dataframe tbody tr th:only-of-type {\n",
       "        vertical-align: middle;\n",
       "    }\n",
       "\n",
       "    .dataframe tbody tr th {\n",
       "        vertical-align: top;\n",
       "    }\n",
       "\n",
       "    .dataframe thead th {\n",
       "        text-align: right;\n",
       "    }\n",
       "</style>\n",
       "<table border=\"1\" class=\"dataframe\">\n",
       "  <thead>\n",
       "    <tr style=\"text-align: right;\">\n",
       "      <th></th>\n",
       "      <th>ZdravotnickeZarizeniId</th>\n",
       "      <th>PCZ</th>\n",
       "      <th>PCDP</th>\n",
       "      <th>NazevCely</th>\n",
       "      <th>DruhZarizeni</th>\n",
       "      <th>Obec</th>\n",
       "      <th>Psc</th>\n",
       "      <th>Ulice</th>\n",
       "      <th>CisloDomovniOrientacni</th>\n",
       "      <th>Kraj</th>\n",
       "      <th>...</th>\n",
       "      <th>PscSidlo</th>\n",
       "      <th>ObecSidlo</th>\n",
       "      <th>UliceSidlo</th>\n",
       "      <th>CisloDomovniOrientacniSidlo</th>\n",
       "      <th>OborPece</th>\n",
       "      <th>FormaPece</th>\n",
       "      <th>DruhPece</th>\n",
       "      <th>OdbornyZastupce</th>\n",
       "      <th>GPS</th>\n",
       "      <th>LastModified</th>\n",
       "    </tr>\n",
       "  </thead>\n",
       "  <tbody>\n",
       "    <tr>\n",
       "      <th>0</th>\n",
       "      <td>138130</td>\n",
       "      <td>0</td>\n",
       "      <td>1</td>\n",
       "      <td>Zubn� studio V+V s.r.o.</td>\n",
       "      <td>Samostatn� ordinace PL - stomatologa</td>\n",
       "      <td>Pelh�imov</td>\n",
       "      <td>39301</td>\n",
       "      <td>Komensk�ho</td>\n",
       "      <td>1465</td>\n",
       "      <td>Kraj Vyso�ina</td>\n",
       "      <td>...</td>\n",
       "      <td>39301</td>\n",
       "      <td>Pelh�imov</td>\n",
       "      <td>Pod N�spem</td>\n",
       "      <td>641</td>\n",
       "      <td>zubn� l�ka�stv�, Dent�ln� hygienistka</td>\n",
       "      <td>prim�rn� ambulantn� p��e, specializovan� ambul...</td>\n",
       "      <td>NaN</td>\n",
       "      <td>Veronika �kodov�, V�t �koda</td>\n",
       "      <td>49.427787867131 15.218289906425</td>\n",
       "      <td>01-02-2020 23:03</td>\n",
       "    </tr>\n",
       "    <tr>\n",
       "      <th>1</th>\n",
       "      <td>138129</td>\n",
       "      <td>0</td>\n",
       "      <td>4</td>\n",
       "      <td>TECTUM spol. s r.o.</td>\n",
       "      <td>Odb�rov� m�stnost</td>\n",
       "      <td>Most</td>\n",
       "      <td>43401</td>\n",
       "      <td>Topolov�</td>\n",
       "      <td>1234</td>\n",
       "      <td>�steck� kraj</td>\n",
       "      <td>...</td>\n",
       "      <td>36001</td>\n",
       "      <td>Karlovy Vary</td>\n",
       "      <td>Bezru�ova</td>\n",
       "      <td>1098/10</td>\n",
       "      <td>klinick� biochemie</td>\n",
       "      <td>specializovan� ambulantn� p��e</td>\n",
       "      <td>NaN</td>\n",
       "      <td>David Hepnar, JITKA PODROU�KOV�</td>\n",
       "      <td>50.497217046878 13.650265371038</td>\n",
       "      <td>01-02-2020 23:03</td>\n",
       "    </tr>\n",
       "    <tr>\n",
       "      <th>2</th>\n",
       "      <td>138128</td>\n",
       "      <td>1</td>\n",
       "      <td>0</td>\n",
       "      <td>MUDr. Milan Ku�era, s.r.o.</td>\n",
       "      <td>Samostatn� ordinace l�ka�e specialisty</td>\n",
       "      <td>Praha</td>\n",
       "      <td>15000</td>\n",
       "      <td>Kartouzsk�</td>\n",
       "      <td>3274/10</td>\n",
       "      <td>Hlavn� m�sto Praha</td>\n",
       "      <td>...</td>\n",
       "      <td>27201</td>\n",
       "      <td>Kladno</td>\n",
       "      <td>T. G. Masaryka</td>\n",
       "      <td>2104</td>\n",
       "      <td>dermatovenerologie</td>\n",
       "      <td>ambulantn� p��e</td>\n",
       "      <td>NaN</td>\n",
       "      <td>Jan Ku�era</td>\n",
       "      <td>50.073416715218 14.401090995315</td>\n",
       "      <td>01-02-2020 23:03</td>\n",
       "    </tr>\n",
       "    <tr>\n",
       "      <th>3</th>\n",
       "      <td>138127</td>\n",
       "      <td>1</td>\n",
       "      <td>0</td>\n",
       "      <td>Tereza Hor��kov�</td>\n",
       "      <td>V�dejna zdravotnick�ch prost�edk�</td>\n",
       "      <td>Praha</td>\n",
       "      <td>18200</td>\n",
       "      <td>Klapkova</td>\n",
       "      <td>154/46</td>\n",
       "      <td>Hlavn� m�sto Praha</td>\n",
       "      <td>...</td>\n",
       "      <td>NaN</td>\n",
       "      <td>NaN</td>\n",
       "      <td>NaN</td>\n",
       "      <td>NaN</td>\n",
       "      <td>praktick� l�k�renstv�</td>\n",
       "      <td>NaN</td>\n",
       "      <td>l�k�rensk� p��e</td>\n",
       "      <td>Petra Holasov�</td>\n",
       "      <td>50.126760922745 14.456956313382</td>\n",
       "      <td>01-02-2020 23:03</td>\n",
       "    </tr>\n",
       "    <tr>\n",
       "      <th>4</th>\n",
       "      <td>138126</td>\n",
       "      <td>0</td>\n",
       "      <td>0</td>\n",
       "      <td>V�eobecn� l�ka� Prevent s.r.o.</td>\n",
       "      <td>Samost. ordinace v�eob. prakt. l�ka�e</td>\n",
       "      <td>Tel�</td>\n",
       "      <td>58856</td>\n",
       "      <td>Masarykova</td>\n",
       "      <td>330</td>\n",
       "      <td>Kraj Vyso�ina</td>\n",
       "      <td>...</td>\n",
       "      <td>28163</td>\n",
       "      <td>Kozojedy</td>\n",
       "      <td>1. m�je</td>\n",
       "      <td>67</td>\n",
       "      <td>v�eobecn� praktick� l�ka�stv�, v�eobecn� prakt...</td>\n",
       "      <td>prim�rn� ambulantn� p��e, zdrav. p��e poskytov...</td>\n",
       "      <td>NaN</td>\n",
       "      <td>ARNO�T STAN�K</td>\n",
       "      <td>49.183499865155 15.45981410537</td>\n",
       "      <td>01-02-2020 23:03</td>\n",
       "    </tr>\n",
       "  </tbody>\n",
       "</table>\n",
       "<p>5 rows × 38 columns</p>\n",
       "</div>"
      ],
      "text/plain": [
       "  ZdravotnickeZarizeniId PCZ PCDP                       NazevCely  \\\n",
       "0                 138130   0    1         Zubn� studio V+V s.r.o.   \n",
       "1                 138129   0    4             TECTUM spol. s r.o.   \n",
       "2                 138128   1    0      MUDr. Milan Ku�era, s.r.o.   \n",
       "3                 138127   1    0                Tereza Hor��kov�   \n",
       "4                 138126   0    0  V�eobecn� l�ka� Prevent s.r.o.   \n",
       "\n",
       "                             DruhZarizeni       Obec    Psc       Ulice  \\\n",
       "0    Samostatn� ordinace PL - stomatologa  Pelh�imov  39301  Komensk�ho   \n",
       "1                       Odb�rov� m�stnost       Most  43401    Topolov�   \n",
       "2  Samostatn� ordinace l�ka�e specialisty      Praha  15000  Kartouzsk�   \n",
       "3       V�dejna zdravotnick�ch prost�edk�      Praha  18200    Klapkova   \n",
       "4   Samost. ordinace v�eob. prakt. l�ka�e       Tel�  58856  Masarykova   \n",
       "\n",
       "  CisloDomovniOrientacni                Kraj  ... PscSidlo     ObecSidlo  \\\n",
       "0                   1465       Kraj Vyso�ina  ...    39301     Pelh�imov   \n",
       "1                   1234        �steck� kraj  ...    36001  Karlovy Vary   \n",
       "2                3274/10  Hlavn� m�sto Praha  ...    27201        Kladno   \n",
       "3                 154/46  Hlavn� m�sto Praha  ...      NaN           NaN   \n",
       "4                    330       Kraj Vyso�ina  ...    28163      Kozojedy   \n",
       "\n",
       "       UliceSidlo CisloDomovniOrientacniSidlo  \\\n",
       "0      Pod N�spem                         641   \n",
       "1       Bezru�ova                     1098/10   \n",
       "2  T. G. Masaryka                        2104   \n",
       "3             NaN                         NaN   \n",
       "4         1. m�je                          67   \n",
       "\n",
       "                                            OborPece  \\\n",
       "0              zubn� l�ka�stv�, Dent�ln� hygienistka   \n",
       "1                                 klinick� biochemie   \n",
       "2                                 dermatovenerologie   \n",
       "3                              praktick� l�k�renstv�   \n",
       "4  v�eobecn� praktick� l�ka�stv�, v�eobecn� prakt...   \n",
       "\n",
       "                                           FormaPece         DruhPece  \\\n",
       "0  prim�rn� ambulantn� p��e, specializovan� ambul...              NaN   \n",
       "1                     specializovan� ambulantn� p��e              NaN   \n",
       "2                                    ambulantn� p��e              NaN   \n",
       "3                                                NaN  l�k�rensk� p��e   \n",
       "4  prim�rn� ambulantn� p��e, zdrav. p��e poskytov...              NaN   \n",
       "\n",
       "                   OdbornyZastupce                              GPS  \\\n",
       "0      Veronika �kodov�, V�t �koda  49.427787867131 15.218289906425   \n",
       "1  David Hepnar, JITKA PODROU�KOV�  50.497217046878 13.650265371038   \n",
       "2                       Jan Ku�era  50.073416715218 14.401090995315   \n",
       "3                   Petra Holasov�  50.126760922745 14.456956313382   \n",
       "4                    ARNO�T STAN�K   49.183499865155 15.45981410537   \n",
       "\n",
       "       LastModified  \n",
       "0  01-02-2020 23:03  \n",
       "1  01-02-2020 23:03  \n",
       "2  01-02-2020 23:03  \n",
       "3  01-02-2020 23:03  \n",
       "4  01-02-2020 23:03  \n",
       "\n",
       "[5 rows x 38 columns]"
      ]
     },
     "execution_count": 15,
     "metadata": {},
     "output_type": "execute_result"
    }
   ],
   "source": [
    "cz.load_data()\n",
    "cz.data.head(5)"
   ]
  },
  {
   "cell_type": "markdown",
   "metadata": {},
   "source": [
    "Check the input data (and, actually, also the warning), _e.g._ let's have a look at the column names and the content of the table: obviously, because of the character formatting, we get some warnings. Taking this into account, let's refine the load operation by updating the parameters of the `load_data` method:"
   ]
  },
  {
   "cell_type": "code",
   "execution_count": 16,
   "metadata": {},
   "outputs": [
    {
     "data": {
      "text/html": [
       "<div>\n",
       "<style scoped>\n",
       "    .dataframe tbody tr th:only-of-type {\n",
       "        vertical-align: middle;\n",
       "    }\n",
       "\n",
       "    .dataframe tbody tr th {\n",
       "        vertical-align: top;\n",
       "    }\n",
       "\n",
       "    .dataframe thead th {\n",
       "        text-align: right;\n",
       "    }\n",
       "</style>\n",
       "<table border=\"1\" class=\"dataframe\">\n",
       "  <thead>\n",
       "    <tr style=\"text-align: right;\">\n",
       "      <th></th>\n",
       "      <th>ZdravotnickeZarizeniId</th>\n",
       "      <th>PCZ</th>\n",
       "      <th>PCDP</th>\n",
       "      <th>NazevCely</th>\n",
       "      <th>DruhZarizeni</th>\n",
       "      <th>Obec</th>\n",
       "      <th>Psc</th>\n",
       "      <th>Ulice</th>\n",
       "      <th>CisloDomovniOrientacni</th>\n",
       "      <th>Kraj</th>\n",
       "      <th>...</th>\n",
       "      <th>PscSidlo</th>\n",
       "      <th>ObecSidlo</th>\n",
       "      <th>UliceSidlo</th>\n",
       "      <th>CisloDomovniOrientacniSidlo</th>\n",
       "      <th>OborPece</th>\n",
       "      <th>FormaPece</th>\n",
       "      <th>DruhPece</th>\n",
       "      <th>OdbornyZastupce</th>\n",
       "      <th>GPS</th>\n",
       "      <th>LastModified</th>\n",
       "    </tr>\n",
       "  </thead>\n",
       "  <tbody>\n",
       "    <tr>\n",
       "      <th>0</th>\n",
       "      <td>138130</td>\n",
       "      <td>0</td>\n",
       "      <td>1</td>\n",
       "      <td>Zubní studio V+V s.r.o.</td>\n",
       "      <td>Samostatná ordinace PL - stomatologa</td>\n",
       "      <td>Pelhøimov</td>\n",
       "      <td>39301</td>\n",
       "      <td>Komenského</td>\n",
       "      <td>1465</td>\n",
       "      <td>Kraj Vysoèina</td>\n",
       "      <td>...</td>\n",
       "      <td>39301</td>\n",
       "      <td>Pelhøimov</td>\n",
       "      <td>Pod Náspem</td>\n",
       "      <td>641</td>\n",
       "      <td>zubní lékaøství, Dentální hygienistka</td>\n",
       "      <td>primární ambulantní péèe, specializovaná ambul...</td>\n",
       "      <td>NaN</td>\n",
       "      <td>Veronika kodová, Vít koda</td>\n",
       "      <td>49.427787867131 15.218289906425</td>\n",
       "      <td>01-02-2020 23:03</td>\n",
       "    </tr>\n",
       "    <tr>\n",
       "      <th>1</th>\n",
       "      <td>138129</td>\n",
       "      <td>0</td>\n",
       "      <td>4</td>\n",
       "      <td>TECTUM spol. s r.o.</td>\n",
       "      <td>Odbìrová místnost</td>\n",
       "      <td>Most</td>\n",
       "      <td>43401</td>\n",
       "      <td>Topolová</td>\n",
       "      <td>1234</td>\n",
       "      <td>Ústecký kraj</td>\n",
       "      <td>...</td>\n",
       "      <td>36001</td>\n",
       "      <td>Karlovy Vary</td>\n",
       "      <td>Bezruèova</td>\n",
       "      <td>1098/10</td>\n",
       "      <td>klinická biochemie</td>\n",
       "      <td>specializovaná ambulantní péèe</td>\n",
       "      <td>NaN</td>\n",
       "      <td>David Hepnar, JITKA PODROUKOVÁ</td>\n",
       "      <td>50.497217046878 13.650265371038</td>\n",
       "      <td>01-02-2020 23:03</td>\n",
       "    </tr>\n",
       "    <tr>\n",
       "      <th>2</th>\n",
       "      <td>138128</td>\n",
       "      <td>1</td>\n",
       "      <td>0</td>\n",
       "      <td>MUDr. Milan Kuèera, s.r.o.</td>\n",
       "      <td>Samostatná ordinace lékaøe specialisty</td>\n",
       "      <td>Praha</td>\n",
       "      <td>15000</td>\n",
       "      <td>Kartouzská</td>\n",
       "      <td>3274/10</td>\n",
       "      <td>Hlavní mìsto Praha</td>\n",
       "      <td>...</td>\n",
       "      <td>27201</td>\n",
       "      <td>Kladno</td>\n",
       "      <td>T. G. Masaryka</td>\n",
       "      <td>2104</td>\n",
       "      <td>dermatovenerologie</td>\n",
       "      <td>ambulantní péèe</td>\n",
       "      <td>NaN</td>\n",
       "      <td>Jan Kuèera</td>\n",
       "      <td>50.073416715218 14.401090995315</td>\n",
       "      <td>01-02-2020 23:03</td>\n",
       "    </tr>\n",
       "    <tr>\n",
       "      <th>3</th>\n",
       "      <td>138127</td>\n",
       "      <td>1</td>\n",
       "      <td>0</td>\n",
       "      <td>Tereza Horáèková</td>\n",
       "      <td>Výdejna zdravotnických prostøedkù</td>\n",
       "      <td>Praha</td>\n",
       "      <td>18200</td>\n",
       "      <td>Klapkova</td>\n",
       "      <td>154/46</td>\n",
       "      <td>Hlavní mìsto Praha</td>\n",
       "      <td>...</td>\n",
       "      <td>NaN</td>\n",
       "      <td>NaN</td>\n",
       "      <td>NaN</td>\n",
       "      <td>NaN</td>\n",
       "      <td>praktické lékárenství</td>\n",
       "      <td>NaN</td>\n",
       "      <td>lékárenská péèe</td>\n",
       "      <td>Petra Holasová</td>\n",
       "      <td>50.126760922745 14.456956313382</td>\n",
       "      <td>01-02-2020 23:03</td>\n",
       "    </tr>\n",
       "    <tr>\n",
       "      <th>4</th>\n",
       "      <td>138126</td>\n",
       "      <td>0</td>\n",
       "      <td>0</td>\n",
       "      <td>Veobecný lékaø Prevent s.r.o.</td>\n",
       "      <td>Samost. ordinace veob. prakt. lékaøe</td>\n",
       "      <td>Telè</td>\n",
       "      <td>58856</td>\n",
       "      <td>Masarykova</td>\n",
       "      <td>330</td>\n",
       "      <td>Kraj Vysoèina</td>\n",
       "      <td>...</td>\n",
       "      <td>28163</td>\n",
       "      <td>Kozojedy</td>\n",
       "      <td>1. máje</td>\n",
       "      <td>67</td>\n",
       "      <td>veobecné praktické lékaøství, veobecné prakt...</td>\n",
       "      <td>primární ambulantní péèe, zdrav. péèe poskytov...</td>\n",
       "      <td>NaN</td>\n",
       "      <td>ARNOT STANÌK</td>\n",
       "      <td>49.183499865155 15.45981410537</td>\n",
       "      <td>01-02-2020 23:03</td>\n",
       "    </tr>\n",
       "  </tbody>\n",
       "</table>\n",
       "<p>5 rows × 38 columns</p>\n",
       "</div>"
      ],
      "text/plain": [
       "  ZdravotnickeZarizeniId PCZ PCDP                       NazevCely  \\\n",
       "0                 138130   0    1         Zubní studio V+V s.r.o.   \n",
       "1                 138129   0    4             TECTUM spol. s r.o.   \n",
       "2                 138128   1    0      MUDr. Milan Kuèera, s.r.o.   \n",
       "3                 138127   1    0                Tereza Horáèková   \n",
       "4                 138126   0    0  Veobecný lékaø Prevent s.r.o.   \n",
       "\n",
       "                             DruhZarizeni       Obec    Psc       Ulice  \\\n",
       "0    Samostatná ordinace PL - stomatologa  Pelhøimov  39301  Komenského   \n",
       "1                       Odbìrová místnost       Most  43401    Topolová   \n",
       "2  Samostatná ordinace lékaøe specialisty      Praha  15000  Kartouzská   \n",
       "3       Výdejna zdravotnických prostøedkù      Praha  18200    Klapkova   \n",
       "4   Samost. ordinace veob. prakt. lékaøe       Telè  58856  Masarykova   \n",
       "\n",
       "  CisloDomovniOrientacni                Kraj  ... PscSidlo     ObecSidlo  \\\n",
       "0                   1465       Kraj Vysoèina  ...    39301     Pelhøimov   \n",
       "1                   1234        Ústecký kraj  ...    36001  Karlovy Vary   \n",
       "2                3274/10  Hlavní mìsto Praha  ...    27201        Kladno   \n",
       "3                 154/46  Hlavní mìsto Praha  ...      NaN           NaN   \n",
       "4                    330       Kraj Vysoèina  ...    28163      Kozojedy   \n",
       "\n",
       "       UliceSidlo CisloDomovniOrientacniSidlo  \\\n",
       "0      Pod Náspem                         641   \n",
       "1       Bezruèova                     1098/10   \n",
       "2  T. G. Masaryka                        2104   \n",
       "3             NaN                         NaN   \n",
       "4         1. máje                          67   \n",
       "\n",
       "                                            OborPece  \\\n",
       "0              zubní lékaøství, Dentální hygienistka   \n",
       "1                                 klinická biochemie   \n",
       "2                                 dermatovenerologie   \n",
       "3                              praktické lékárenství   \n",
       "4  veobecné praktické lékaøství, veobecné prakt...   \n",
       "\n",
       "                                           FormaPece         DruhPece  \\\n",
       "0  primární ambulantní péèe, specializovaná ambul...              NaN   \n",
       "1                     specializovaná ambulantní péèe              NaN   \n",
       "2                                    ambulantní péèe              NaN   \n",
       "3                                                NaN  lékárenská péèe   \n",
       "4  primární ambulantní péèe, zdrav. péèe poskytov...              NaN   \n",
       "\n",
       "                   OdbornyZastupce                              GPS  \\\n",
       "0      Veronika kodová, Vít koda  49.427787867131 15.218289906425   \n",
       "1  David Hepnar, JITKA PODROUKOVÁ  50.497217046878 13.650265371038   \n",
       "2                       Jan Kuèera  50.073416715218 14.401090995315   \n",
       "3                   Petra Holasová  50.126760922745 14.456956313382   \n",
       "4                    ARNOT STANÌK   49.183499865155 15.45981410537   \n",
       "\n",
       "       LastModified  \n",
       "0  01-02-2020 23:03  \n",
       "1  01-02-2020 23:03  \n",
       "2  01-02-2020 23:03  \n",
       "3  01-02-2020 23:03  \n",
       "4  01-02-2020 23:03  \n",
       "\n",
       "[5 rows x 38 columns]"
      ]
     },
     "execution_count": 16,
     "metadata": {},
     "output_type": "execute_result"
    }
   ],
   "source": [
    "cz.load_data(enc = 'latin1', sep = ';')\n",
    "cz.data.head(5)"
   ]
  },
  {
   "cell_type": "markdown",
   "metadata": {},
   "source": [
    "More options are obviously available, as allowed by the `pandas` methods, for instance [`read_csv`](https://pandas.pydata.org/pandas-docs/stable/reference/api/pandas.read_csv.html), [`read_excel`](https://pandas.pydata.org/pandas-docs/stable/reference/api/pandas.read_excel.html) or [`read_table`](https://pandas.pydata.org/pandas-docs/stable/reference/api/pandas.read_table.html), depending on the format of the input data you are dealing with. \n",
    "\n",
    "Now, basic information regarding the input data can be retrieved through the `data` attribute of the `cz` instance which is a common `pandas` dataframe. For instance, if we are interested in the list of columns:"
   ]
  },
  {
   "cell_type": "code",
   "execution_count": 17,
   "metadata": {},
   "outputs": [
    {
     "data": {
      "text/plain": [
       "Index(['ZdravotnickeZarizeniId', 'PCZ', 'PCDP', 'NazevCely', 'DruhZarizeni',\n",
       "       'Obec', 'Psc', 'Ulice', 'CisloDomovniOrientacni', 'Kraj', 'KrajCode',\n",
       "       'Okres', 'OkresCode', 'SpravniObvod', 'PoskytovatelTelefon',\n",
       "       'PoskytovatelFax', 'DatumZahajeniCinnosti',\n",
       "       'IdentifikatorDatoveSchranky', 'PoskytovatelEmail', 'PoskytovatelWeb',\n",
       "       'PoskytovatelNazev', 'Ico', 'TypOsoby', 'PravniFormaKod',\n",
       "       'KrajCodeSidlo', 'KrajSidlo', 'OkresCodeSidlo', 'OkresSidlo',\n",
       "       'PscSidlo', 'ObecSidlo', 'UliceSidlo', 'CisloDomovniOrientacniSidlo',\n",
       "       'OborPece', 'FormaPece', 'DruhPece', 'OdbornyZastupce', 'GPS',\n",
       "       'LastModified'],\n",
       "      dtype='object')"
      ]
     },
     "execution_count": 17,
     "metadata": {},
     "output_type": "execute_result"
    }
   ],
   "source": [
    "cz.data.columns"
   ]
  },
  {
   "cell_type": "markdown",
   "metadata": {},
   "source": [
    "To make the identification of the appropriate columns in the input table, we can (approximately) translate the column names from *'cs'* to *'en'*, using the [`googletrans`](https://pypi.org/project/googletrans/) package. Note that you may run into [this issue](https://stackoverflow.com/questions/52455774/googletrans-stopped-working-with-error-nonetype-object-has-no-attribute-group) with the abovementioned package. Try to rerun the cell for a dirty fix, or follow the instructions provided in the link (*e.g.*, install the [`py-googletrans`](https://github.com/BoseCorp/py-googletrans) package):"
   ]
  },
  {
   "cell_type": "code",
   "execution_count": 18,
   "metadata": {},
   "outputs": [
    {
     "data": {
      "text/plain": [
       "['Medical Equipment ID',\n",
       " 'PCZ',\n",
       " 'Pcdp',\n",
       " 'Nazevcely',\n",
       " 'Type of device',\n",
       " 'Village',\n",
       " 'Zip code',\n",
       " 'Street',\n",
       " 'Cislo home orientation',\n",
       " 'Region',\n",
       " 'RegionCode',\n",
       " 'District',\n",
       " 'District',\n",
       " 'Administrative District',\n",
       " 'Provider',\n",
       " 'Provider',\n",
       " 'Date of embellishment',\n",
       " 'Data Signs Identifier',\n",
       " 'Provider',\n",
       " 'Provider',\n",
       " 'Provide',\n",
       " 'Ico',\n",
       " 'Typewrit',\n",
       " 'Rigorformacod',\n",
       " 'National',\n",
       " 'Landscape',\n",
       " 'District',\n",
       " 'Distress',\n",
       " 'Pscsidule',\n",
       " 'Alignment',\n",
       " 'Streble',\n",
       " 'Cislo Home Orientatory Cap',\n",
       " 'Obalpecce',\n",
       " 'Form',\n",
       " 'Secondary',\n",
       " 'Professionalzastupce',\n",
       " 'Gps',\n",
       " 'LastModified']"
      ]
     },
     "execution_count": 18,
     "metadata": {},
     "output_type": "execute_result"
    }
   ],
   "source": [
    "cz.get_column(olang = 'en')"
   ]
  },
  {
   "cell_type": "code",
   "execution_count": 19,
   "metadata": {},
   "outputs": [
    {
     "data": {
      "text/plain": [
       "[{'cs': 'ZdravotnickeZarizeniId', 'en': 'Medical Equipment ID'},\n",
       " {'cs': 'PCZ', 'en': 'PCZ'},\n",
       " {'cs': 'PCDP', 'en': 'Pcdp'},\n",
       " {'cs': 'NazevCely', 'en': 'Nazevcely'},\n",
       " {'cs': 'DruhZarizeni', 'en': 'Type of device'},\n",
       " {'cs': 'Obec', 'en': 'Village'},\n",
       " {'cs': 'Psc', 'en': 'Zip code'},\n",
       " {'cs': 'Ulice', 'en': 'Street'},\n",
       " {'cs': 'CisloDomovniOrientacni', 'en': 'Cislo home orientation'},\n",
       " {'cs': 'Kraj', 'en': 'Region'},\n",
       " {'cs': 'KrajCode', 'en': 'RegionCode'},\n",
       " {'cs': 'Okres', 'en': 'District'},\n",
       " {'cs': 'OkresCode', 'en': 'District'},\n",
       " {'cs': 'SpravniObvod', 'en': 'Administrative District'},\n",
       " {'cs': 'PoskytovatelTelefon', 'en': 'Provider'},\n",
       " {'cs': 'PoskytovatelFax', 'en': 'Provider'},\n",
       " {'cs': 'DatumZahajeniCinnosti', 'en': 'Date of embellishment'},\n",
       " {'cs': 'IdentifikatorDatoveSchranky', 'en': 'Data Signs Identifier'},\n",
       " {'cs': 'PoskytovatelEmail', 'en': 'Provider'},\n",
       " {'cs': 'PoskytovatelWeb', 'en': 'Provider'},\n",
       " {'cs': 'PoskytovatelNazev', 'en': 'Provide'},\n",
       " {'cs': 'Ico', 'en': 'Ico'},\n",
       " {'cs': 'TypOsoby', 'en': 'Typewrit'},\n",
       " {'cs': 'PravniFormaKod', 'en': 'Rigorformacod'},\n",
       " {'cs': 'KrajCodeSidlo', 'en': 'National'},\n",
       " {'cs': 'KrajSidlo', 'en': 'Landscape'},\n",
       " {'cs': 'OkresCodeSidlo', 'en': 'District'},\n",
       " {'cs': 'OkresSidlo', 'en': 'Distress'},\n",
       " {'cs': 'PscSidlo', 'en': 'Pscsidule'},\n",
       " {'cs': 'ObecSidlo', 'en': 'Alignment'},\n",
       " {'cs': 'UliceSidlo', 'en': 'Streble'},\n",
       " {'cs': 'CisloDomovniOrientacniSidlo', 'en': 'Cislo Home Orientatory Cap'},\n",
       " {'cs': 'OborPece', 'en': 'Obalpecce'},\n",
       " {'cs': 'FormaPece', 'en': 'Form'},\n",
       " {'cs': 'DruhPece', 'en': 'Secondary'},\n",
       " {'cs': 'OdbornyZastupce', 'en': 'Professionalzastupce'},\n",
       " {'cs': 'GPS', 'en': 'Gps'},\n",
       " {'cs': 'LastModified', 'en': 'LastModified'}]"
      ]
     },
     "execution_count": 19,
     "metadata": {},
     "output_type": "execute_result"
    }
   ],
   "source": [
    "cz.columns"
   ]
  },
  {
   "cell_type": "markdown",
   "metadata": {},
   "source": [
    "Well, this did not go very well... The translation is actually made difficult because of the formatting of the column names (merged words). To improve the translation output, we add a filter (split of words on capital letters) on the text to be translated, namely: "
   ]
  },
  {
   "cell_type": "code",
   "execution_count": 20,
   "metadata": {
    "scrolled": true
   },
   "outputs": [
    {
     "data": {
      "text/plain": [
       "['Medical Equipment ID',\n",
       " 'PCZ',\n",
       " 'Pcdp',\n",
       " 'Name of cell',\n",
       " 'Type of device',\n",
       " 'Village',\n",
       " 'Zip code',\n",
       " 'Street',\n",
       " 'Cislo home orientation',\n",
       " 'Region',\n",
       " 'County code',\n",
       " 'District',\n",
       " 'Code District',\n",
       " 'Administrative District',\n",
       " 'Provider phone',\n",
       " 'Provider Fax',\n",
       " 'Date of embellishment',\n",
       " 'Data Surrent Identifier',\n",
       " 'Provider Email',\n",
       " 'Provider',\n",
       " 'Provider',\n",
       " 'Ico',\n",
       " 'The type of person',\n",
       " 'True form of codes',\n",
       " 'Region Code Saw',\n",
       " 'Region Saw',\n",
       " 'Code Saw District',\n",
       " 'Seat district',\n",
       " 'PSC Saw',\n",
       " 'The village of the Saw',\n",
       " 'Saw street',\n",
       " 'Cislo Home orientation Saw',\n",
       " 'Furnace',\n",
       " 'Form of furnace',\n",
       " 'Species',\n",
       " 'Representation',\n",
       " 'Gps',\n",
       " 'LAST MODIFIED']"
      ]
     },
     "execution_count": 20,
     "metadata": {},
     "output_type": "execute_result"
    }
   ],
   "source": [
    "from pyeudatnat.text import TextProcess\n",
    "cz.get_column(olang = 'en', filt = TextProcess.split_at_upper)"
   ]
  },
  {
   "cell_type": "markdown",
   "metadata": {},
   "source": [
    "Note that this information is stored in the `columns` of the instance:"
   ]
  },
  {
   "cell_type": "code",
   "execution_count": 21,
   "metadata": {},
   "outputs": [
    {
     "data": {
      "text/plain": [
       "[{'cs': 'ZdravotnickeZarizeniId', 'en': 'Medical Equipment ID'},\n",
       " {'cs': 'PCZ', 'en': 'PCZ'},\n",
       " {'cs': 'PCDP', 'en': 'Pcdp'},\n",
       " {'cs': 'NazevCely', 'en': 'Name of cell'},\n",
       " {'cs': 'DruhZarizeni', 'en': 'Type of device'},\n",
       " {'cs': 'Obec', 'en': 'Village'},\n",
       " {'cs': 'Psc', 'en': 'Zip code'},\n",
       " {'cs': 'Ulice', 'en': 'Street'},\n",
       " {'cs': 'CisloDomovniOrientacni', 'en': 'Cislo home orientation'},\n",
       " {'cs': 'Kraj', 'en': 'Region'},\n",
       " {'cs': 'KrajCode', 'en': 'County code'},\n",
       " {'cs': 'Okres', 'en': 'District'},\n",
       " {'cs': 'OkresCode', 'en': 'Code District'},\n",
       " {'cs': 'SpravniObvod', 'en': 'Administrative District'},\n",
       " {'cs': 'PoskytovatelTelefon', 'en': 'Provider phone'},\n",
       " {'cs': 'PoskytovatelFax', 'en': 'Provider Fax'},\n",
       " {'cs': 'DatumZahajeniCinnosti', 'en': 'Date of embellishment'},\n",
       " {'cs': 'IdentifikatorDatoveSchranky', 'en': 'Data Surrent Identifier'},\n",
       " {'cs': 'PoskytovatelEmail', 'en': 'Provider Email'},\n",
       " {'cs': 'PoskytovatelWeb', 'en': 'Provider'},\n",
       " {'cs': 'PoskytovatelNazev', 'en': 'Provider'},\n",
       " {'cs': 'Ico', 'en': 'Ico'},\n",
       " {'cs': 'TypOsoby', 'en': 'The type of person'},\n",
       " {'cs': 'PravniFormaKod', 'en': 'True form of codes'},\n",
       " {'cs': 'KrajCodeSidlo', 'en': 'Region Code Saw'},\n",
       " {'cs': 'KrajSidlo', 'en': 'Region Saw'},\n",
       " {'cs': 'OkresCodeSidlo', 'en': 'Code Saw District'},\n",
       " {'cs': 'OkresSidlo', 'en': 'Seat district'},\n",
       " {'cs': 'PscSidlo', 'en': 'PSC Saw'},\n",
       " {'cs': 'ObecSidlo', 'en': 'The village of the Saw'},\n",
       " {'cs': 'UliceSidlo', 'en': 'Saw street'},\n",
       " {'cs': 'CisloDomovniOrientacniSidlo', 'en': 'Cislo Home orientation Saw'},\n",
       " {'cs': 'OborPece', 'en': 'Furnace'},\n",
       " {'cs': 'FormaPece', 'en': 'Form of furnace'},\n",
       " {'cs': 'DruhPece', 'en': 'Species'},\n",
       " {'cs': 'OdbornyZastupce', 'en': 'Representation'},\n",
       " {'cs': 'GPS', 'en': 'Gps'},\n",
       " {'cs': 'LastModified', 'en': 'LAST MODIFIED'}]"
      ]
     },
     "execution_count": 21,
     "metadata": {},
     "output_type": "execute_result"
    }
   ],
   "source": [
    "cz.columns"
   ]
  },
  {
   "cell_type": "markdown",
   "metadata": {},
   "source": [
    "We are interested in retrieving additional information so that we can match the input columns with the output structure, as listed in the configuration template, namely:"
   ]
  },
  {
   "cell_type": "code",
   "execution_count": 22,
   "metadata": {},
   "outputs": [
    {
     "name": "stdout",
     "output_type": "stream",
     "text": [
      "List of output fields:\n",
      "- 'id' (shortcut: id)\n",
      "- 'hospital_name' (shortcut: name)\n",
      "- 'site_name' (shortcut: site)\n",
      "- 'lat' (shortcut: lat)\n",
      "- 'lon' (shortcut: lon)\n",
      "- 'geo_qual' (shortcut: geo_qual)\n",
      "- 'street' (shortcut: street)\n",
      "- 'house_number' (shortcut: number)\n",
      "- 'postcode' (shortcut: postcode)\n",
      "- 'city' (shortcut: city)\n",
      "- 'cc' (shortcut: cc)\n",
      "- 'country' (shortcut: country)\n",
      "- 'cap_beds' (shortcut: beds)\n",
      "- 'cap_prac' (shortcut: prac)\n",
      "- 'cap_rooms' (shortcut: rooms)\n",
      "- 'emergency' (shortcut: ER)\n",
      "- 'facility_type' (shortcut: type)\n",
      "- 'public_private' (shortcut: PP)\n",
      "- 'list_specs' (shortcut: specs)\n",
      "- 'tel' (shortcut: tel)\n",
      "- 'email' (shortcut: email)\n",
      "- 'url' (shortcut: url)\n",
      "- 'ref_date' (shortcut: refdate)\n",
      "- 'pub_date' (shortcut: pubdate)\n",
      "- 'comments' (shortcut: comments)\n"
     ]
    }
   ],
   "source": [
    "print(\"List of output fields:\")\n",
    "for (k,v) in cz.config['index'].items():\n",
    "    print(\"- '%s' (shortcut: %s)\" % (v['name'],k))"
   ]
  },
  {
   "cell_type": "markdown",
   "metadata": {},
   "source": [
    "## Fit the input to the output configuration format<a id=\"matching\"></a>\n",
    "\n",
    "In practice, we will match the names of the input columns, as stored in the `columns` attribute, with the shortcut names from `cz.config['index']` listed above through an educated guess regarding their actual meaning. For instance, we identify the following correspondance (subject to changes owing to the quality of the automated translator...):"
   ]
  },
  {
   "cell_type": "code",
   "execution_count": 23,
   "metadata": {},
   "outputs": [],
   "source": [
    "matched = {'id':'Medical Equipment ID', 'name':'Medical Equipment ID', 'site':'Name of cell', \n",
    "            'lat':'Gps', 'lon':'Gps', \n",
    "            'street':'Street', 'number':'Cislo home orientation', 'postcode':'Zip code', 'city':'Village', \n",
    "            'email':'Provider Email', \n",
    "            'pubdate':'LAST MODIFIED'}"
   ]
  },
  {
   "cell_type": "markdown",
   "metadata": {},
   "source": [
    "Obviously, it is always better to have a native to double check the correspondance...\n",
    "\n",
    "All we need to do to operate the matching/extraction is to load the `matched` information into the `index` attribute of the `cz` instance. It therefore contains the direct matching between columns that do not require complex transformation (simple reassignment + format cast): "
   ]
  },
  {
   "cell_type": "code",
   "execution_count": 24,
   "metadata": {},
   "outputs": [
    {
     "name": "stdout",
     "output_type": "stream",
     "text": [
      "- Coordinate \u001b[1m'lat'\u001b[0m is represented in the column \u001b[1m'Gps'\u001b[0m of the input table\n",
      "- Coordinate \u001b[1m'lon'\u001b[0m is represented in the column \u001b[1m'Gps'\u001b[0m of the input table\n"
     ]
    }
   ],
   "source": [
    "cz.index.update(matched)\n",
    "for l in ['lat', 'lon']:\n",
    "    print(\"- Coordinate \\033[1m'%s'\\033[0m is represented in the column \\033[1m'%s'\\033[0m of the input table\" \n",
    "          % (l, cz.index[l])) \n",
    "#print(\"Other matching variables are listed as:\")\n",
    "#{k:v for (k,v) in cz.index.items() if v is not None}"
   ]
  },
  {
   "cell_type": "markdown",
   "metadata": {},
   "source": [
    "Indeed, both `lat` and `lon` geographical coordinates are available through the `GPS` column (note: as an acronym, note that it was not translated) which represents both coordinates as a single string:"
   ]
  },
  {
   "cell_type": "code",
   "execution_count": 25,
   "metadata": {},
   "outputs": [
    {
     "data": {
      "text/plain": [
       "0    49.427787867131 15.218289906425\n",
       "1    50.497217046878 13.650265371038\n",
       "2    50.073416715218 14.401090995315\n",
       "3    50.126760922745 14.456956313382\n",
       "4     49.183499865155 15.45981410537\n",
       "Name: GPS, dtype: object"
      ]
     },
     "execution_count": 25,
     "metadata": {},
     "output_type": "execute_result"
    }
   ],
   "source": [
    "cz.data['GPS'].head(5)"
   ]
  },
  {
   "cell_type": "markdown",
   "metadata": {},
   "source": [
    "Finally, we can run the `format_data` method (this time again without arguments) to actually operate the matching of the different columns:"
   ]
  },
  {
   "cell_type": "code",
   "execution_count": 26,
   "metadata": {},
   "outputs": [],
   "source": [
    "cz.format_data()"
   ]
  },
  {
   "cell_type": "code",
   "execution_count": 27,
   "metadata": {},
   "outputs": [
    {
     "data": {
      "text/plain": [
       "Index(['id', 'site_name', 'city', 'postcode', 'street', 'house_number',\n",
       "       'email', 'pub_date', 'lat', 'lon', 'geo_qual', 'hospital_name'],\n",
       "      dtype='object')"
      ]
     },
     "execution_count": 27,
     "metadata": {},
     "output_type": "execute_result"
    }
   ],
   "source": [
    "cz.data.columns"
   ]
  },
  {
   "cell_type": "code",
   "execution_count": 28,
   "metadata": {},
   "outputs": [
    {
     "data": {
      "text/plain": [
       "{'cap_beds',\n",
       " 'cap_prac',\n",
       " 'cap_rooms',\n",
       " 'cc',\n",
       " 'city',\n",
       " 'comments',\n",
       " 'country',\n",
       " 'email',\n",
       " 'emergency',\n",
       " 'facility_type',\n",
       " 'geo_qual',\n",
       " 'hospital_name',\n",
       " 'house_number',\n",
       " 'id',\n",
       " 'lat',\n",
       " 'list_specs',\n",
       " 'lon',\n",
       " 'postcode',\n",
       " 'pub_date',\n",
       " 'public_private',\n",
       " 'ref_date',\n",
       " 'site_name',\n",
       " 'street',\n",
       " 'tel',\n",
       " 'url'}"
      ]
     },
     "execution_count": 28,
     "metadata": {},
     "output_type": "execute_result"
    }
   ],
   "source": [
    "set([ind['name'] for ind in cz.config['index'].values()])"
   ]
  },
  {
   "cell_type": "markdown",
   "metadata": {},
   "source": [
    "Check the output data, _e.g._ let's have a look at the column names and the content of the table:"
   ]
  },
  {
   "cell_type": "code",
   "execution_count": 29,
   "metadata": {},
   "outputs": [
    {
     "name": "stdout",
     "output_type": "stream",
     "text": [
      "output data columns: ['id', 'site_name', 'city', 'postcode', 'street', 'house_number', 'email', 'pub_date', 'lat', 'lon', 'geo_qual', 'hospital_name']\n"
     ]
    },
    {
     "data": {
      "text/html": [
       "<div>\n",
       "<style scoped>\n",
       "    .dataframe tbody tr th:only-of-type {\n",
       "        vertical-align: middle;\n",
       "    }\n",
       "\n",
       "    .dataframe tbody tr th {\n",
       "        vertical-align: top;\n",
       "    }\n",
       "\n",
       "    .dataframe thead th {\n",
       "        text-align: right;\n",
       "    }\n",
       "</style>\n",
       "<table border=\"1\" class=\"dataframe\">\n",
       "  <thead>\n",
       "    <tr style=\"text-align: right;\">\n",
       "      <th></th>\n",
       "      <th>id</th>\n",
       "      <th>site_name</th>\n",
       "      <th>city</th>\n",
       "      <th>postcode</th>\n",
       "      <th>street</th>\n",
       "      <th>house_number</th>\n",
       "      <th>email</th>\n",
       "      <th>pub_date</th>\n",
       "      <th>lat</th>\n",
       "      <th>lon</th>\n",
       "      <th>geo_qual</th>\n",
       "      <th>hospital_name</th>\n",
       "    </tr>\n",
       "  </thead>\n",
       "  <tbody>\n",
       "    <tr>\n",
       "      <th>0</th>\n",
       "      <td>138130</td>\n",
       "      <td>Zubní studio V+V s.r.o.</td>\n",
       "      <td>Pelhøimov</td>\n",
       "      <td>39301</td>\n",
       "      <td>Komenského</td>\n",
       "      <td>1465</td>\n",
       "      <td>nan</td>\n",
       "      <td>01-02-2020 23:03</td>\n",
       "      <td>49.427788</td>\n",
       "      <td>15.218290</td>\n",
       "      <td>1</td>\n",
       "      <td>138130</td>\n",
       "    </tr>\n",
       "    <tr>\n",
       "      <th>1</th>\n",
       "      <td>138129</td>\n",
       "      <td>TECTUM spol. s r.o.</td>\n",
       "      <td>Most</td>\n",
       "      <td>43401</td>\n",
       "      <td>Topolová</td>\n",
       "      <td>1234</td>\n",
       "      <td>operator@labin.cz</td>\n",
       "      <td>01-02-2020 23:03</td>\n",
       "      <td>50.497217</td>\n",
       "      <td>13.650265</td>\n",
       "      <td>1</td>\n",
       "      <td>138129</td>\n",
       "    </tr>\n",
       "    <tr>\n",
       "      <th>2</th>\n",
       "      <td>138128</td>\n",
       "      <td>MUDr. Milan Kuèera, s.r.o.</td>\n",
       "      <td>Praha</td>\n",
       "      <td>15000</td>\n",
       "      <td>Kartouzská</td>\n",
       "      <td>3274/10</td>\n",
       "      <td>milankucera@seznam.cz</td>\n",
       "      <td>01-02-2020 23:03</td>\n",
       "      <td>50.073417</td>\n",
       "      <td>14.401091</td>\n",
       "      <td>1</td>\n",
       "      <td>138128</td>\n",
       "    </tr>\n",
       "    <tr>\n",
       "      <th>3</th>\n",
       "      <td>138127</td>\n",
       "      <td>Tereza Horáèková</td>\n",
       "      <td>Praha</td>\n",
       "      <td>18200</td>\n",
       "      <td>Klapkova</td>\n",
       "      <td>154/46</td>\n",
       "      <td>nan</td>\n",
       "      <td>01-02-2020 23:03</td>\n",
       "      <td>50.126761</td>\n",
       "      <td>14.456956</td>\n",
       "      <td>1</td>\n",
       "      <td>138127</td>\n",
       "    </tr>\n",
       "    <tr>\n",
       "      <th>4</th>\n",
       "      <td>138126</td>\n",
       "      <td>Veobecný lékaø Prevent s.r.o.</td>\n",
       "      <td>Telè</td>\n",
       "      <td>58856</td>\n",
       "      <td>Masarykova</td>\n",
       "      <td>330</td>\n",
       "      <td>nan</td>\n",
       "      <td>01-02-2020 23:03</td>\n",
       "      <td>49.183500</td>\n",
       "      <td>15.459814</td>\n",
       "      <td>1</td>\n",
       "      <td>138126</td>\n",
       "    </tr>\n",
       "  </tbody>\n",
       "</table>\n",
       "</div>"
      ],
      "text/plain": [
       "       id                       site_name       city postcode      street  \\\n",
       "0  138130         Zubní studio V+V s.r.o.  Pelhøimov    39301  Komenského   \n",
       "1  138129             TECTUM spol. s r.o.       Most    43401    Topolová   \n",
       "2  138128      MUDr. Milan Kuèera, s.r.o.      Praha    15000  Kartouzská   \n",
       "3  138127                Tereza Horáèková      Praha    18200    Klapkova   \n",
       "4  138126  Veobecný lékaø Prevent s.r.o.       Telè    58856  Masarykova   \n",
       "\n",
       "  house_number                  email          pub_date        lat        lon  \\\n",
       "0         1465                    nan  01-02-2020 23:03  49.427788  15.218290   \n",
       "1         1234      operator@labin.cz  01-02-2020 23:03  50.497217  13.650265   \n",
       "2      3274/10  milankucera@seznam.cz  01-02-2020 23:03  50.073417  14.401091   \n",
       "3       154/46                    nan  01-02-2020 23:03  50.126761  14.456956   \n",
       "4          330                    nan  01-02-2020 23:03  49.183500  15.459814   \n",
       "\n",
       "   geo_qual  hospital_name  \n",
       "0         1         138130  \n",
       "1         1         138129  \n",
       "2         1         138128  \n",
       "3         1         138127  \n",
       "4         1         138126  "
      ]
     },
     "execution_count": 29,
     "metadata": {},
     "output_type": "execute_result"
    }
   ],
   "source": [
    "assert set(cz.data.columns).difference(set([ind['name'] for ind in cz.config['index'].values()])) == set()\n",
    "print(\"output data columns: %s\" % list(cz.data.columns))\n",
    "cz.data.head(5)"
   ]
  },
  {
   "cell_type": "markdown",
   "metadata": {},
   "source": [
    "See in particular the `lat`/`lon` attributes that were retrieved:"
   ]
  },
  {
   "cell_type": "code",
   "execution_count": 30,
   "metadata": {},
   "outputs": [
    {
     "data": {
      "text/html": [
       "<div>\n",
       "<style scoped>\n",
       "    .dataframe tbody tr th:only-of-type {\n",
       "        vertical-align: middle;\n",
       "    }\n",
       "\n",
       "    .dataframe tbody tr th {\n",
       "        vertical-align: top;\n",
       "    }\n",
       "\n",
       "    .dataframe thead th {\n",
       "        text-align: right;\n",
       "    }\n",
       "</style>\n",
       "<table border=\"1\" class=\"dataframe\">\n",
       "  <thead>\n",
       "    <tr style=\"text-align: right;\">\n",
       "      <th></th>\n",
       "      <th>lat</th>\n",
       "      <th>lon</th>\n",
       "    </tr>\n",
       "  </thead>\n",
       "  <tbody>\n",
       "    <tr>\n",
       "      <th>0</th>\n",
       "      <td>49.427788</td>\n",
       "      <td>15.218290</td>\n",
       "    </tr>\n",
       "    <tr>\n",
       "      <th>1</th>\n",
       "      <td>50.497217</td>\n",
       "      <td>13.650265</td>\n",
       "    </tr>\n",
       "    <tr>\n",
       "      <th>2</th>\n",
       "      <td>50.073417</td>\n",
       "      <td>14.401091</td>\n",
       "    </tr>\n",
       "    <tr>\n",
       "      <th>3</th>\n",
       "      <td>50.126761</td>\n",
       "      <td>14.456956</td>\n",
       "    </tr>\n",
       "    <tr>\n",
       "      <th>4</th>\n",
       "      <td>49.183500</td>\n",
       "      <td>15.459814</td>\n",
       "    </tr>\n",
       "  </tbody>\n",
       "</table>\n",
       "</div>"
      ],
      "text/plain": [
       "         lat        lon\n",
       "0  49.427788  15.218290\n",
       "1  50.497217  13.650265\n",
       "2  50.073417  14.401091\n",
       "3  50.126761  14.456956\n",
       "4  49.183500  15.459814"
      ]
     },
     "execution_count": 30,
     "metadata": {},
     "output_type": "execute_result"
    }
   ],
   "source": [
    "cz.data[['lat', 'lon']].head(5)"
   ]
  },
  {
   "cell_type": "markdown",
   "metadata": {},
   "source": [
    "## Store and expose the output harmonised data<a id=\"store-data\"></a>\n",
    "\n",
    "You can for instance transform the data into a *GEOJSON* collection of features and retrieve the output geometry using the `dumps_data` method:"
   ]
  },
  {
   "cell_type": "code",
   "execution_count": 31,
   "metadata": {},
   "outputs": [],
   "source": [
    "geom = cz.dumps_data(fmt='geojson')"
   ]
  },
  {
   "cell_type": "markdown",
   "metadata": {},
   "source": [
    "Say you are interested in the 10 first facilities in the list, you can also use:"
   ]
  },
  {
   "cell_type": "code",
   "execution_count": 32,
   "metadata": {},
   "outputs": [
    {
     "name": "stdout",
     "output_type": "stream",
     "text": [
      "The first feature of the collection is: {'type': 'Feature', 'properties': {'pub_date': '01-02-2020 23:03', 'house_number': '1465', 'postcode': '39301', 'site_name': 'Zubní studio V+V s.r.o.', 'id': 138130, 'hospital_name': 138130, 'email': 'nan', 'city': 'Pelhøimov', 'street': 'Komenského', 'geo_qual': 1}, 'geometry': {'type': 'Point', 'coordinates': [15.218289906425, 49.427787867131]}}\n"
     ]
    }
   ],
   "source": [
    "from pyeudatnat.io import Frame\n",
    "# columns = set(cz.data.columns).difference(set(['lat', 'lon']))\n",
    "geom = Frame.to_geojson(cz.data.iloc[0:10,:], latlon = ['lat', 'lon'])\n",
    "print(\"The first feature of the collection is: %s\" % geom.get('features',[])[0])"
   ]
  },
  {
   "cell_type": "markdown",
   "metadata": {},
   "source": [
    "You can use the formatted data to represent the available information about the 10 records you selected on a map, using any of the [`folium`](https://python-visualization.github.io/folium/) or [`ipyleaflet`](https://github.com/jupyter-widgets/ipyleaflet) packages:"
   ]
  },
  {
   "cell_type": "code",
   "execution_count": 33,
   "metadata": {},
   "outputs": [],
   "source": [
    "import json\n",
    "try:\n",
    "    from folium import Map, GeoJson, features\n",
    "except:\n",
    "    from ipywidgets import HTML\n",
    "    from ipyleaflet import Map, GeoJSON, WidgetControl"
   ]
  },
  {
   "cell_type": "code",
   "execution_count": 34,
   "metadata": {},
   "outputs": [
    {
     "data": {
      "text/html": [
       "<div style=\"width:100%;\"><div style=\"position:relative;width:100%;height:0;padding-bottom:60%;\"><iframe src=\"data:text/html;charset=utf-8;base64,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\" style=\"position:absolute;width:100%;height:100%;left:0;top:0;border:none !important;\" allowfullscreen webkitallowfullscreen mozallowfullscreen></iframe></div></div>"
      ],
      "text/plain": [
       "<folium.folium.Map at 0x125444890>"
      ]
     },
     "execution_count": 34,
     "metadata": {},
     "output_type": "execute_result"
    }
   ],
   "source": [
    "prague = [50.0755, 14.4378]\n",
    "zoom = 7\n",
    "try:\n",
    "    m = Map(location = prague, zoom_start = zoom)\n",
    "    GeoJson(json.dumps(geom), name = 'CZ hospital',\n",
    "        tooltip=features.GeoJsonTooltip(fields=['site_name','city','postcode'], localize=True)).add_to(m)\n",
    "except:\n",
    "    m = Map(center = prague, zoom = zoom)\n",
    "    geo_json = GeoJSON(data=geom)\n",
    "    m.add_layer(geo_json)\n",
    "    html = HTML(\"CZ hospital\")\n",
    "    m.add_control(WidgetControl(widget=html, position='bottomleft'))    \n",
    "    def on_hover(feature, **kwargs):\n",
    "        html.value = '''<h4><b>{}</b></h4> \\br {} {}'''.format(feature['properties']['site_name'], feature['properties']['city'], feature['properties']['postcode'])\n",
    "    geo_json.on_hover(on_hover)\n",
    "m"
   ]
  },
  {
   "cell_type": "markdown",
   "metadata": {},
   "source": [
    "If instead, you want to save the data in an output file on disk, for instance in *CSV* or *GEOJSON* formats:"
   ]
  },
  {
   "cell_type": "code",
   "execution_count": 35,
   "metadata": {},
   "outputs": [],
   "source": [
    "try:\n",
    "    assert True # False\n",
    "    cz.dump_data('czhcs.geojson', fmt='geojson')\n",
    "    cz.dump_data('czhcs.csv', fmt='csv')\n",
    "except AssertionError:\n",
    "    print(\"Nothing saved - set to True to actually generate the output files\")"
   ]
  },
  {
   "cell_type": "markdown",
   "metadata": {},
   "source": [
    "## Set and share the formatting metadata<a id=\"store-metadata\"></a>\n",
    "\n",
    "Besides the output data, the input metadata/configuration templates are of interest to ensure the reproducibility and reuse of the operation, but also to support the simplifcation of the processes.\n",
    "\n",
    "First, the configuration template, _i.e._ the output formatting of harmonised data, for any given facility can be shared. For instance, the template for *HCS* facilities used for the specific *CZ* case shall be obviously reused for other countries: "
   ]
  },
  {
   "cell_type": "code",
   "execution_count": 36,
   "metadata": {},
   "outputs": [
    {
     "data": {
      "text/plain": [
       "{'fmt': {'geojson': 'geojson', 'json': 'json', 'csv': 'csv', 'gpkg': 'gpkg'},\n",
       " 'lang': 'en',\n",
       " 'sep': ',',\n",
       " 'enc': 'utf-8',\n",
       " 'dfmt': '%d/%m/%Y',\n",
       " 'proj': None,\n",
       " 'path': '../../data/healthcare',\n",
       " 'info': '../../data/healthcare/metadata.pdf',\n",
       " 'file': '%s.%s',\n",
       " 'index': OrderedDict([('id',\n",
       "               {'name': 'id',\n",
       "                'desc': 'The healthcare service identifier - This identifier is based on national identification codes, if it exists.',\n",
       "                'type': 'int',\n",
       "                'values': None}),\n",
       "              ('name',\n",
       "               {'name': 'hospital_name',\n",
       "                'desc': 'The name of the healthcare institution',\n",
       "                'type': 'str',\n",
       "                'values': None}),\n",
       "              ('site',\n",
       "               {'name': 'site_name',\n",
       "                'desc': 'The name of the specific site or branch of a healthcare institution',\n",
       "                'type': 'str',\n",
       "                'values': None}),\n",
       "              ('lat',\n",
       "               {'name': 'lat',\n",
       "                'desc': 'Latitude (WGS 84)',\n",
       "                'type': 'float',\n",
       "                'values': None}),\n",
       "              ('lon',\n",
       "               {'name': 'lon',\n",
       "                'desc': 'Longitude (WGS 84)',\n",
       "                'type': 'float',\n",
       "                'values': None}),\n",
       "              ('geo_qual',\n",
       "               {'name': 'geo_qual',\n",
       "                'desc': 'A quality indicator for the geolocation - 1: Good, 2: Medium, 3: Low, -1: Unknown',\n",
       "                'type': 'int',\n",
       "                'values': [-1, 1, 2, 3]}),\n",
       "              ('street',\n",
       "               {'name': 'street',\n",
       "                'desc': 'Street name',\n",
       "                'type': 'str',\n",
       "                'values': None}),\n",
       "              ('number',\n",
       "               {'name': 'house_number',\n",
       "                'desc': 'House number',\n",
       "                'type': 'str',\n",
       "                'values': None}),\n",
       "              ('postcode',\n",
       "               {'name': 'postcode',\n",
       "                'desc': 'Postcode',\n",
       "                'type': 'str',\n",
       "                'values': None}),\n",
       "              ('city',\n",
       "               {'name': 'city',\n",
       "                'desc': 'City name (sometimes refers to a region or a municipality)',\n",
       "                'type': 'str',\n",
       "                'values': None}),\n",
       "              ('cc',\n",
       "               {'name': 'cc',\n",
       "                'desc': 'Country code (ISO 3166-1 alpha-2 format)',\n",
       "                'type': 'str',\n",
       "                'values': ['BE',\n",
       "                 'EL',\n",
       "                 'LT',\n",
       "                 'PT',\n",
       "                 'BG',\n",
       "                 'ES',\n",
       "                 'LU',\n",
       "                 'RO',\n",
       "                 'CZ',\n",
       "                 'FR',\n",
       "                 'HU',\n",
       "                 'SI',\n",
       "                 'DK',\n",
       "                 'HR',\n",
       "                 'MT',\n",
       "                 'SK',\n",
       "                 'DE',\n",
       "                 'IT',\n",
       "                 'NL',\n",
       "                 'FI',\n",
       "                 'EE',\n",
       "                 'CY',\n",
       "                 'AT',\n",
       "                 'SE',\n",
       "                 'IE',\n",
       "                 'LV',\n",
       "                 'PL',\n",
       "                 'UK',\n",
       "                 'IS',\n",
       "                 'NO',\n",
       "                 'CH',\n",
       "                 'LI']}),\n",
       "              ('country',\n",
       "               {'name': 'country',\n",
       "                'desc': 'Country name',\n",
       "                'type': 'str',\n",
       "                'values': None}),\n",
       "              ('beds',\n",
       "               {'name': 'cap_beds',\n",
       "                'desc': 'Measure of capacity by number of beds (most common)',\n",
       "                'type': 'int',\n",
       "                'values': None}),\n",
       "              ('prac',\n",
       "               {'name': 'cap_prac',\n",
       "                'desc': 'Measure of capacity by number of practitioners',\n",
       "                'type': 'int',\n",
       "                'values': None}),\n",
       "              ('rooms',\n",
       "               {'name': 'cap_rooms',\n",
       "                'desc': 'Measure of capacity by number of rooms',\n",
       "                'type': 'int',\n",
       "                'values': None}),\n",
       "              ('ER',\n",
       "               {'name': 'emergency',\n",
       "                'desc': \"Flag 'yes/no' for whether the healthcare site provides emergency medical services\",\n",
       "                'type': 'bool',\n",
       "                'values': ['yes', 'no']}),\n",
       "              ('type',\n",
       "               {'name': 'facility_type',\n",
       "                'desc': 'If the healthcare service provides a specific type of care, e.g. psychiatric hospital',\n",
       "                'type': 'str',\n",
       "                'values': None}),\n",
       "              ('PP',\n",
       "               {'name': 'public_private',\n",
       "                'desc': \"Status 'private/public' of the healthcare service\",\n",
       "                'type': 'int',\n",
       "                'values': ['public', 'private']}),\n",
       "              ('specs',\n",
       "               {'name': 'list_specs',\n",
       "                'desc': 'List of specialties recognized in the European Union and European Economic Area according to EU Directive 2005/36/EC',\n",
       "                'type': 'str',\n",
       "                'values': None}),\n",
       "              ('tel',\n",
       "               {'name': 'tel',\n",
       "                'desc': 'Telephone number',\n",
       "                'type': 'int',\n",
       "                'values': None}),\n",
       "              ('email',\n",
       "               {'name': 'email',\n",
       "                'desc': 'Email address',\n",
       "                'type': 'str',\n",
       "                'values': None}),\n",
       "              ('url',\n",
       "               {'name': 'url',\n",
       "                'desc': \"URL link to the institution's website\",\n",
       "                'type': 'str',\n",
       "                'values': None}),\n",
       "              ('refdate',\n",
       "               {'name': 'ref_date',\n",
       "                'desc': 'The reference date (DD/MM/YYYY) the data refers to. The dataset represents the reality as it was at this date.',\n",
       "                'type': 'datetime',\n",
       "                'values': '%d/%m/%Y'}),\n",
       "              ('pubdate',\n",
       "               {'name': 'pub_date',\n",
       "                'desc': 'The publication date of the dataset by Eurostat (DD/MM/YYYY). This should be used to track when this Eurostat dataset has changed.',\n",
       "                'type': 'datetime',\n",
       "                'values': '%d/%m/%Y'}),\n",
       "              ('comments',\n",
       "               {'name': 'comments',\n",
       "                'desc': 'Comments',\n",
       "                'type': 'str',\n",
       "                'values': None})]),\n",
       " 'category': {'code': 'hcs', 'name': 'Healthcare services'}}"
      ]
     },
     "execution_count": 36,
     "metadata": {},
     "output_type": "execute_result"
    }
   ],
   "source": [
    "cz.config.to_dict()"
   ]
  },
  {
   "cell_type": "markdown",
   "metadata": {},
   "source": [
    "This is actually provided by default with this package through the file `hcsconfig.json`.\n",
    "\n",
    "Similarly to the above, it is possible to retrieve the metadata associated to the `cz` instance:"
   ]
  },
  {
   "cell_type": "code",
   "execution_count": 37,
   "metadata": {},
   "outputs": [
    {
     "data": {
      "text/plain": [
       "{'country': {'code': 'CZ', 'name': 'Czechia'},\n",
       " 'lang': {'code': 'cs', 'name': 'czech'},\n",
       " 'file': '/Users/gjacopo/DevOps/basic-services/data/healthcare/raw/export-2020-02.csv',\n",
       " 'columns': [{'cs': 'ZdravotnickeZarizeniId', 'en': 'Medical Equipment ID'},\n",
       "  {'cs': 'PCZ', 'en': 'PCZ'},\n",
       "  {'cs': 'PCDP', 'en': 'Pcdp'},\n",
       "  {'cs': 'NazevCely', 'en': 'Name of cell'},\n",
       "  {'cs': 'DruhZarizeni', 'en': 'Type of device'},\n",
       "  {'cs': 'Obec', 'en': 'Village'},\n",
       "  {'cs': 'Psc', 'en': 'Zip code'},\n",
       "  {'cs': 'Ulice', 'en': 'Street'},\n",
       "  {'cs': 'CisloDomovniOrientacni', 'en': 'Cislo home orientation'},\n",
       "  {'cs': 'Kraj', 'en': 'Region'},\n",
       "  {'cs': 'KrajCode', 'en': 'County code'},\n",
       "  {'cs': 'Okres', 'en': 'District'},\n",
       "  {'cs': 'OkresCode', 'en': 'Code District'},\n",
       "  {'cs': 'SpravniObvod', 'en': 'Administrative District'},\n",
       "  {'cs': 'PoskytovatelTelefon', 'en': 'Provider phone'},\n",
       "  {'cs': 'PoskytovatelFax', 'en': 'Provider Fax'},\n",
       "  {'cs': 'DatumZahajeniCinnosti', 'en': 'Date of embellishment'},\n",
       "  {'cs': 'IdentifikatorDatoveSchranky', 'en': 'Data Surrent Identifier'},\n",
       "  {'cs': 'PoskytovatelEmail', 'en': 'Provider Email'},\n",
       "  {'cs': 'PoskytovatelWeb', 'en': 'Provider'},\n",
       "  {'cs': 'PoskytovatelNazev', 'en': 'Provider'},\n",
       "  {'cs': 'Ico', 'en': 'Ico'},\n",
       "  {'cs': 'TypOsoby', 'en': 'The type of person'},\n",
       "  {'cs': 'PravniFormaKod', 'en': 'True form of codes'},\n",
       "  {'cs': 'KrajCodeSidlo', 'en': 'Region Code Saw'},\n",
       "  {'cs': 'KrajSidlo', 'en': 'Region Saw'},\n",
       "  {'cs': 'OkresCodeSidlo', 'en': 'Code Saw District'},\n",
       "  {'cs': 'OkresSidlo', 'en': 'Seat district'},\n",
       "  {'cs': 'PscSidlo', 'en': 'PSC Saw'},\n",
       "  {'cs': 'ObecSidlo', 'en': 'The village of the Saw'},\n",
       "  {'cs': 'UliceSidlo', 'en': 'Saw street'},\n",
       "  {'cs': 'CisloDomovniOrientacniSidlo', 'en': 'Cislo Home orientation Saw'},\n",
       "  {'cs': 'OborPece', 'en': 'Furnace'},\n",
       "  {'cs': 'FormaPece', 'en': 'Form of furnace'},\n",
       "  {'cs': 'DruhPece', 'en': 'Species'},\n",
       "  {'cs': 'OdbornyZastupce', 'en': 'Representation'},\n",
       "  {'cs': 'GPS', 'en': 'Gps'},\n",
       "  {'cs': 'LastModified', 'en': 'LAST MODIFIED'}],\n",
       " 'proj': None,\n",
       " 'enc': 'latin1',\n",
       " 'sep': ';',\n",
       " 'datefmt': '%d-%m-%Y %H:%M'}"
      ]
     },
     "execution_count": 37,
     "metadata": {},
     "output_type": "execute_result"
    }
   ],
   "source": [
    "cz.update_meta()\n",
    "cz.meta.to_dict()"
   ]
  },
  {
   "cell_type": "code",
   "execution_count": 38,
   "metadata": {},
   "outputs": [
    {
     "data": {
      "text/plain": [
       "'{\"country\": {\"code\": \"CZ\", \"name\": \"Czechia\"}, \"lang\": {\"code\": \"cs\", \"name\": \"czech\"}, \"file\": \"/Users/gjacopo/DevOps/basic-services/data/healthcare/raw/export-2020-02.csv\", \"columns\": [{\"cs\": \"ZdravotnickeZarizeniId\", \"en\": \"Medical Equipment ID\"}, {\"cs\": \"PCZ\", \"en\": \"PCZ\"}, {\"cs\": \"PCDP\", \"en\": \"Pcdp\"}, {\"cs\": \"NazevCely\", \"en\": \"Name of cell\"}, {\"cs\": \"DruhZarizeni\", \"en\": \"Type of device\"}, {\"cs\": \"Obec\", \"en\": \"Village\"}, {\"cs\": \"Psc\", \"en\": \"Zip code\"}, {\"cs\": \"Ulice\", \"en\": \"Street\"}, {\"cs\": \"CisloDomovniOrientacni\", \"en\": \"Cislo home orientation\"}, {\"cs\": \"Kraj\", \"en\": \"Region\"}, {\"cs\": \"KrajCode\", \"en\": \"County code\"}, {\"cs\": \"Okres\", \"en\": \"District\"}, {\"cs\": \"OkresCode\", \"en\": \"Code District\"}, {\"cs\": \"SpravniObvod\", \"en\": \"Administrative District\"}, {\"cs\": \"PoskytovatelTelefon\", \"en\": \"Provider phone\"}, {\"cs\": \"PoskytovatelFax\", \"en\": \"Provider Fax\"}, {\"cs\": \"DatumZahajeniCinnosti\", \"en\": \"Date of embellishment\"}, {\"cs\": \"IdentifikatorDatoveSchranky\", \"en\": \"Data Surrent Identifier\"}, {\"cs\": \"PoskytovatelEmail\", \"en\": \"Provider Email\"}, {\"cs\": \"PoskytovatelWeb\", \"en\": \"Provider\"}, {\"cs\": \"PoskytovatelNazev\", \"en\": \"Provider\"}, {\"cs\": \"Ico\", \"en\": \"Ico\"}, {\"cs\": \"TypOsoby\", \"en\": \"The type of person\"}, {\"cs\": \"PravniFormaKod\", \"en\": \"True form of codes\"}, {\"cs\": \"KrajCodeSidlo\", \"en\": \"Region Code Saw\"}, {\"cs\": \"KrajSidlo\", \"en\": \"Region Saw\"}, {\"cs\": \"OkresCodeSidlo\", \"en\": \"Code Saw District\"}, {\"cs\": \"OkresSidlo\", \"en\": \"Seat district\"}, {\"cs\": \"PscSidlo\", \"en\": \"PSC Saw\"}, {\"cs\": \"ObecSidlo\", \"en\": \"The village of the Saw\"}, {\"cs\": \"UliceSidlo\", \"en\": \"Saw street\"}, {\"cs\": \"CisloDomovniOrientacniSidlo\", \"en\": \"Cislo Home orientation Saw\"}, {\"cs\": \"OborPece\", \"en\": \"Furnace\"}, {\"cs\": \"FormaPece\", \"en\": \"Form of furnace\"}, {\"cs\": \"DruhPece\", \"en\": \"Species\"}, {\"cs\": \"OdbornyZastupce\", \"en\": \"Representation\"}, {\"cs\": \"GPS\", \"en\": \"Gps\"}, {\"cs\": \"LastModified\", \"en\": \"LAST MODIFIED\"}], \"proj\": null, \"enc\": \"latin1\", \"sep\": \";\", \"datefmt\": \"%d-%m-%Y %H:%M\"}'"
      ]
     },
     "execution_count": 38,
     "metadata": {},
     "output_type": "execute_result"
    }
   ],
   "source": [
    "cz.dumps_meta(as_str=True)"
   ]
  },
  {
   "cell_type": "markdown",
   "metadata": {},
   "source": [
    "and save these metadata in a specific dedicated file on disk:"
   ]
  },
  {
   "cell_type": "code",
   "execution_count": 39,
   "metadata": {},
   "outputs": [
    {
     "name": "stdout",
     "output_type": "stream",
     "text": [
      "{\"country\": {\"code\": \"CZ\", \"name\": \"Czechia\"}, \"lang\": {\"code\": \"cs\", \"name\": \"czech\"}, \"file\": \"/Users/gjacopo/DevOps/basic-services/data/healthcare/raw/export-2020-02.csv\", \"columns\": [{\"cs\": \"ZdravotnickeZarizeniId\", \"en\": \"Medical Equipment ID\"}, {\"cs\": \"PCZ\", \"en\": \"PCZ\"}, {\"cs\": \"PCDP\", \"en\": \"Pcdp\"}, {\"cs\": \"NazevCely\", \"en\": \"Name of cell\"}, {\"cs\": \"DruhZarizeni\", \"en\": \"Type of device\"}, {\"cs\": \"Obec\", \"en\": \"Village\"}, {\"cs\": \"Psc\", \"en\": \"Zip code\"}, {\"cs\": \"Ulice\", \"en\": \"Street\"}, {\"cs\": \"CisloDomovniOrientacni\", \"en\": \"Cislo home orientation\"}, {\"cs\": \"Kraj\", \"en\": \"Region\"}, {\"cs\": \"KrajCode\", \"en\": \"County code\"}, {\"cs\": \"Okres\", \"en\": \"District\"}, {\"cs\": \"OkresCode\", \"en\": \"Code District\"}, {\"cs\": \"SpravniObvod\", \"en\": \"Administrative District\"}, {\"cs\": \"PoskytovatelTelefon\", \"en\": \"Provider phone\"}, {\"cs\": \"PoskytovatelFax\", \"en\": \"Provider Fax\"}, {\"cs\": \"DatumZahajeniCinnosti\", \"en\": \"Date of embellishment\"}, {\"cs\": \"IdentifikatorDatoveSchranky\", \"en\": \"Data Surrent Identifier\"}, {\"cs\": \"PoskytovatelEmail\", \"en\": \"Provider Email\"}, {\"cs\": \"PoskytovatelWeb\", \"en\": \"Provider\"}, {\"cs\": \"PoskytovatelNazev\", \"en\": \"Provider\"}, {\"cs\": \"Ico\", \"en\": \"Ico\"}, {\"cs\": \"TypOsoby\", \"en\": \"The type of person\"}, {\"cs\": \"PravniFormaKod\", \"en\": \"True form of codes\"}, {\"cs\": \"KrajCodeSidlo\", \"en\": \"Region Code Saw\"}, {\"cs\": \"KrajSidlo\", \"en\": \"Region Saw\"}, {\"cs\": \"OkresCodeSidlo\", \"en\": \"Code Saw District\"}, {\"cs\": \"OkresSidlo\", \"en\": \"Seat district\"}, {\"cs\": \"PscSidlo\", \"en\": \"PSC Saw\"}, {\"cs\": \"ObecSidlo\", \"en\": \"The village of the Saw\"}, {\"cs\": \"UliceSidlo\", \"en\": \"Saw street\"}, {\"cs\": \"CisloDomovniOrientacniSidlo\", \"en\": \"Cislo Home orientation Saw\"}, {\"cs\": \"OborPece\", \"en\": \"Furnace\"}, {\"cs\": \"FormaPece\", \"en\": \"Form of furnace\"}, {\"cs\": \"DruhPece\", \"en\": \"Species\"}, {\"cs\": \"OdbornyZastupce\", \"en\": \"Representation\"}, {\"cs\": \"GPS\", \"en\": \"Gps\"}, {\"cs\": \"LastModified\", \"en\": \"LAST MODIFIED\"}], \"proj\": null, \"enc\": \"latin1\", \"sep\": \";\", \"datefmt\": \"%d-%m-%Y %H:%M\"}\n"
     ]
    }
   ],
   "source": [
    "print(cz.dumps_meta(as_str=True))\n",
    "try:\n",
    "    assert True\n",
    "    cz.dump_meta('czmeta.json', fmt='json')\n",
    "except AssertionError:\n",
    "    print(\"Nothing saved - set to True to actually generate the output files\")"
   ]
  },
  {
   "cell_type": "markdown",
   "metadata": {},
   "source": [
    "## Adopt a metadata-based approach<a id=\"metadata-approach\"></a>\n",
    "\n",
    "Since the metadata contains all the information necessary to process the source dataset, it shall be used _as is_ to operate the harmonisation of the data.\n",
    "\n",
    "Metadata can easily be retrieved then: "
   ]
  },
  {
   "cell_type": "code",
   "execution_count": 40,
   "metadata": {},
   "outputs": [
    {
     "name": "stdout",
     "output_type": "stream",
     "text": [
      "country         : {'code': 'CZ', 'name': 'Czechia'}\n",
      "lang            : {'code': 'cs', 'name': 'czech'}\n",
      "file            : /Users/gjacopo/DevOps/basic-services/data/healthcare/raw/export-2020-02.csv\n",
      "columns         : [{'cs': 'ZdravotnickeZarizeniId', 'en': 'Medical Equipment ID'}, {'cs': 'PCZ', 'en': 'PCZ'}, {'cs': 'PCDP', 'en': 'Pcdp'}, {'cs': 'NazevCely', 'en': 'Name of cell'}, {'cs': 'DruhZarizeni', 'en': 'Type of device'}, {'cs': 'Obec', 'en': 'Village'}, {'cs': 'Psc', 'en': 'Zip code'}, {'cs': 'Ulice', 'en': 'Street'}, {'cs': 'CisloDomovniOrientacni', 'en': 'Cislo home orientation'}, {'cs': 'Kraj', 'en': 'Region'}, {'cs': 'KrajCode', 'en': 'County code'}, {'cs': 'Okres', 'en': 'District'}, {'cs': 'OkresCode', 'en': 'Code District'}, {'cs': 'SpravniObvod', 'en': 'Administrative District'}, {'cs': 'PoskytovatelTelefon', 'en': 'Provider phone'}, {'cs': 'PoskytovatelFax', 'en': 'Provider Fax'}, {'cs': 'DatumZahajeniCinnosti', 'en': 'Date of embellishment'}, {'cs': 'IdentifikatorDatoveSchranky', 'en': 'Data Surrent Identifier'}, {'cs': 'PoskytovatelEmail', 'en': 'Provider Email'}, {'cs': 'PoskytovatelWeb', 'en': 'Provider'}, {'cs': 'PoskytovatelNazev', 'en': 'Provider'}, {'cs': 'Ico', 'en': 'Ico'}, {'cs': 'TypOsoby', 'en': 'The type of person'}, {'cs': 'PravniFormaKod', 'en': 'True form of codes'}, {'cs': 'KrajCodeSidlo', 'en': 'Region Code Saw'}, {'cs': 'KrajSidlo', 'en': 'Region Saw'}, {'cs': 'OkresCodeSidlo', 'en': 'Code Saw District'}, {'cs': 'OkresSidlo', 'en': 'Seat district'}, {'cs': 'PscSidlo', 'en': 'PSC Saw'}, {'cs': 'ObecSidlo', 'en': 'The village of the Saw'}, {'cs': 'UliceSidlo', 'en': 'Saw street'}, {'cs': 'CisloDomovniOrientacniSidlo', 'en': 'Cislo Home orientation Saw'}, {'cs': 'OborPece', 'en': 'Furnace'}, {'cs': 'FormaPece', 'en': 'Form of furnace'}, {'cs': 'DruhPece', 'en': 'Species'}, {'cs': 'OdbornyZastupce', 'en': 'Representation'}, {'cs': 'GPS', 'en': 'Gps'}, {'cs': 'LastModified', 'en': 'LAST MODIFIED'}]\n",
      "enc             : latin1\n",
      "sep             : ;\n",
      "datefmt         : %d-%m-%Y %H:%M\n",
      "_MetaDatNat__cc : CZ\n",
      "\n"
     ]
    }
   ],
   "source": [
    "from pyeufacility.config import MetaDatEUFacility, MetaDatNatFacility\n",
    "with open('czmeta.json', 'r') as fp:\n",
    "    metadata = json.load(fp)\n",
    "metadata = MetaDatNatFacility(metadata)\n",
    "print(metadata)"
   ]
  },
  {
   "cell_type": "markdown",
   "metadata": {},
   "source": [
    "Following, like in the section above, a dynamically class `NewCZhcs` can be created and configured with this information:"
   ]
  },
  {
   "cell_type": "code",
   "execution_count": 41,
   "metadata": {},
   "outputs": [],
   "source": [
    "NewCZhcs = facilityFactory(facility = 'HCS', meta = metadata)"
   ]
  },
  {
   "cell_type": "markdown",
   "metadata": {},
   "source": [
    "then, similarly, a new instance can be created...and that's all we will need to process the data:"
   ]
  },
  {
   "cell_type": "code",
   "execution_count": 42,
   "metadata": {},
   "outputs": [],
   "source": [
    "newcz = NewCZhcs()"
   ]
  },
  {
   "cell_type": "markdown",
   "metadata": {},
   "source": [
    "Given the `file` and `path` fields of the `newcz.meta` attribute variable, data can be loaded using the `load_data` method (without argument, since they are all intrinsically provided with the metadata). But also given the `index` field, the formatting using the `format_data` method can be operated directly:"
   ]
  },
  {
   "cell_type": "code",
   "execution_count": 43,
   "metadata": {},
   "outputs": [],
   "source": [
    "cz.load_data()\n",
    "cz.format_data()"
   ]
  },
  {
   "cell_type": "markdown",
   "metadata": {},
   "source": [
    "Check the output data:"
   ]
  },
  {
   "cell_type": "code",
   "execution_count": 44,
   "metadata": {},
   "outputs": [
    {
     "name": "stdout",
     "output_type": "stream",
     "text": [
      "output data columns: ['ZdravotnickeZarizeniId', 'PCZ', 'PCDP', 'NazevCely', 'DruhZarizeni', 'Obec', 'Psc', 'Ulice', 'CisloDomovniOrientacni', 'Kraj', 'KrajCode', 'Okres', 'OkresCode', 'SpravniObvod', 'PoskytovatelTelefon', 'PoskytovatelFax', 'DatumZahajeniCinnosti', 'IdentifikatorDatoveSchranky', 'PoskytovatelEmail', 'PoskytovatelWeb', 'PoskytovatelNazev', 'Ico', 'TypOsoby', 'PravniFormaKod', 'KrajCodeSidlo', 'KrajSidlo', 'OkresCodeSidlo', 'OkresSidlo', 'PscSidlo', 'ObecSidlo', 'UliceSidlo', 'CisloDomovniOrientacniSidlo', 'OborPece', 'FormaPece', 'DruhPece', 'OdbornyZastupce', 'GPS', 'LastModified', 'lat', 'lon', 'geo_qual']\n"
     ]
    },
    {
     "data": {
      "text/html": [
       "<div>\n",
       "<style scoped>\n",
       "    .dataframe tbody tr th:only-of-type {\n",
       "        vertical-align: middle;\n",
       "    }\n",
       "\n",
       "    .dataframe tbody tr th {\n",
       "        vertical-align: top;\n",
       "    }\n",
       "\n",
       "    .dataframe thead th {\n",
       "        text-align: right;\n",
       "    }\n",
       "</style>\n",
       "<table border=\"1\" class=\"dataframe\">\n",
       "  <thead>\n",
       "    <tr style=\"text-align: right;\">\n",
       "      <th></th>\n",
       "      <th>ZdravotnickeZarizeniId</th>\n",
       "      <th>PCZ</th>\n",
       "      <th>PCDP</th>\n",
       "      <th>NazevCely</th>\n",
       "      <th>DruhZarizeni</th>\n",
       "      <th>Obec</th>\n",
       "      <th>Psc</th>\n",
       "      <th>Ulice</th>\n",
       "      <th>CisloDomovniOrientacni</th>\n",
       "      <th>Kraj</th>\n",
       "      <th>...</th>\n",
       "      <th>CisloDomovniOrientacniSidlo</th>\n",
       "      <th>OborPece</th>\n",
       "      <th>FormaPece</th>\n",
       "      <th>DruhPece</th>\n",
       "      <th>OdbornyZastupce</th>\n",
       "      <th>GPS</th>\n",
       "      <th>LastModified</th>\n",
       "      <th>lat</th>\n",
       "      <th>lon</th>\n",
       "      <th>geo_qual</th>\n",
       "    </tr>\n",
       "  </thead>\n",
       "  <tbody>\n",
       "    <tr>\n",
       "      <th>0</th>\n",
       "      <td>138130</td>\n",
       "      <td>0</td>\n",
       "      <td>1</td>\n",
       "      <td>Zubní studio V+V s.r.o.</td>\n",
       "      <td>Samostatná ordinace PL - stomatologa</td>\n",
       "      <td>Pelhøimov</td>\n",
       "      <td>39301</td>\n",
       "      <td>Komenského</td>\n",
       "      <td>1465</td>\n",
       "      <td>Kraj Vysoèina</td>\n",
       "      <td>...</td>\n",
       "      <td>641</td>\n",
       "      <td>zubní lékaøství, Dentální hygienistka</td>\n",
       "      <td>primární ambulantní péèe, specializovaná ambul...</td>\n",
       "      <td>NaN</td>\n",
       "      <td>Veronika kodová, Vít koda</td>\n",
       "      <td>49.427787867131 15.218289906425</td>\n",
       "      <td>01-02-2020 23:03</td>\n",
       "      <td>49.427788</td>\n",
       "      <td>15.218290</td>\n",
       "      <td>1</td>\n",
       "    </tr>\n",
       "    <tr>\n",
       "      <th>1</th>\n",
       "      <td>138129</td>\n",
       "      <td>0</td>\n",
       "      <td>4</td>\n",
       "      <td>TECTUM spol. s r.o.</td>\n",
       "      <td>Odbìrová místnost</td>\n",
       "      <td>Most</td>\n",
       "      <td>43401</td>\n",
       "      <td>Topolová</td>\n",
       "      <td>1234</td>\n",
       "      <td>Ústecký kraj</td>\n",
       "      <td>...</td>\n",
       "      <td>1098/10</td>\n",
       "      <td>klinická biochemie</td>\n",
       "      <td>specializovaná ambulantní péèe</td>\n",
       "      <td>NaN</td>\n",
       "      <td>David Hepnar, JITKA PODROUKOVÁ</td>\n",
       "      <td>50.497217046878 13.650265371038</td>\n",
       "      <td>01-02-2020 23:03</td>\n",
       "      <td>50.497217</td>\n",
       "      <td>13.650265</td>\n",
       "      <td>1</td>\n",
       "    </tr>\n",
       "    <tr>\n",
       "      <th>2</th>\n",
       "      <td>138128</td>\n",
       "      <td>1</td>\n",
       "      <td>0</td>\n",
       "      <td>MUDr. Milan Kuèera, s.r.o.</td>\n",
       "      <td>Samostatná ordinace lékaøe specialisty</td>\n",
       "      <td>Praha</td>\n",
       "      <td>15000</td>\n",
       "      <td>Kartouzská</td>\n",
       "      <td>3274/10</td>\n",
       "      <td>Hlavní mìsto Praha</td>\n",
       "      <td>...</td>\n",
       "      <td>2104</td>\n",
       "      <td>dermatovenerologie</td>\n",
       "      <td>ambulantní péèe</td>\n",
       "      <td>NaN</td>\n",
       "      <td>Jan Kuèera</td>\n",
       "      <td>50.073416715218 14.401090995315</td>\n",
       "      <td>01-02-2020 23:03</td>\n",
       "      <td>50.073417</td>\n",
       "      <td>14.401091</td>\n",
       "      <td>1</td>\n",
       "    </tr>\n",
       "    <tr>\n",
       "      <th>3</th>\n",
       "      <td>138127</td>\n",
       "      <td>1</td>\n",
       "      <td>0</td>\n",
       "      <td>Tereza Horáèková</td>\n",
       "      <td>Výdejna zdravotnických prostøedkù</td>\n",
       "      <td>Praha</td>\n",
       "      <td>18200</td>\n",
       "      <td>Klapkova</td>\n",
       "      <td>154/46</td>\n",
       "      <td>Hlavní mìsto Praha</td>\n",
       "      <td>...</td>\n",
       "      <td>NaN</td>\n",
       "      <td>praktické lékárenství</td>\n",
       "      <td>NaN</td>\n",
       "      <td>lékárenská péèe</td>\n",
       "      <td>Petra Holasová</td>\n",
       "      <td>50.126760922745 14.456956313382</td>\n",
       "      <td>01-02-2020 23:03</td>\n",
       "      <td>50.126761</td>\n",
       "      <td>14.456956</td>\n",
       "      <td>1</td>\n",
       "    </tr>\n",
       "    <tr>\n",
       "      <th>4</th>\n",
       "      <td>138126</td>\n",
       "      <td>0</td>\n",
       "      <td>0</td>\n",
       "      <td>Veobecný lékaø Prevent s.r.o.</td>\n",
       "      <td>Samost. ordinace veob. prakt. lékaøe</td>\n",
       "      <td>Telè</td>\n",
       "      <td>58856</td>\n",
       "      <td>Masarykova</td>\n",
       "      <td>330</td>\n",
       "      <td>Kraj Vysoèina</td>\n",
       "      <td>...</td>\n",
       "      <td>67</td>\n",
       "      <td>veobecné praktické lékaøství, veobecné prakt...</td>\n",
       "      <td>primární ambulantní péèe, zdrav. péèe poskytov...</td>\n",
       "      <td>NaN</td>\n",
       "      <td>ARNOT STANÌK</td>\n",
       "      <td>49.183499865155 15.45981410537</td>\n",
       "      <td>01-02-2020 23:03</td>\n",
       "      <td>49.183500</td>\n",
       "      <td>15.459814</td>\n",
       "      <td>1</td>\n",
       "    </tr>\n",
       "  </tbody>\n",
       "</table>\n",
       "<p>5 rows × 41 columns</p>\n",
       "</div>"
      ],
      "text/plain": [
       "  ZdravotnickeZarizeniId PCZ PCDP                       NazevCely  \\\n",
       "0                 138130   0    1         Zubní studio V+V s.r.o.   \n",
       "1                 138129   0    4             TECTUM spol. s r.o.   \n",
       "2                 138128   1    0      MUDr. Milan Kuèera, s.r.o.   \n",
       "3                 138127   1    0                Tereza Horáèková   \n",
       "4                 138126   0    0  Veobecný lékaø Prevent s.r.o.   \n",
       "\n",
       "                             DruhZarizeni       Obec    Psc       Ulice  \\\n",
       "0    Samostatná ordinace PL - stomatologa  Pelhøimov  39301  Komenského   \n",
       "1                       Odbìrová místnost       Most  43401    Topolová   \n",
       "2  Samostatná ordinace lékaøe specialisty      Praha  15000  Kartouzská   \n",
       "3       Výdejna zdravotnických prostøedkù      Praha  18200    Klapkova   \n",
       "4   Samost. ordinace veob. prakt. lékaøe       Telè  58856  Masarykova   \n",
       "\n",
       "  CisloDomovniOrientacni                Kraj  ... CisloDomovniOrientacniSidlo  \\\n",
       "0                   1465       Kraj Vysoèina  ...                         641   \n",
       "1                   1234        Ústecký kraj  ...                     1098/10   \n",
       "2                3274/10  Hlavní mìsto Praha  ...                        2104   \n",
       "3                 154/46  Hlavní mìsto Praha  ...                         NaN   \n",
       "4                    330       Kraj Vysoèina  ...                          67   \n",
       "\n",
       "                                            OborPece  \\\n",
       "0              zubní lékaøství, Dentální hygienistka   \n",
       "1                                 klinická biochemie   \n",
       "2                                 dermatovenerologie   \n",
       "3                              praktické lékárenství   \n",
       "4  veobecné praktické lékaøství, veobecné prakt...   \n",
       "\n",
       "                                           FormaPece         DruhPece  \\\n",
       "0  primární ambulantní péèe, specializovaná ambul...              NaN   \n",
       "1                     specializovaná ambulantní péèe              NaN   \n",
       "2                                    ambulantní péèe              NaN   \n",
       "3                                                NaN  lékárenská péèe   \n",
       "4  primární ambulantní péèe, zdrav. péèe poskytov...              NaN   \n",
       "\n",
       "                   OdbornyZastupce                              GPS  \\\n",
       "0      Veronika kodová, Vít koda  49.427787867131 15.218289906425   \n",
       "1  David Hepnar, JITKA PODROUKOVÁ  50.497217046878 13.650265371038   \n",
       "2                       Jan Kuèera  50.073416715218 14.401090995315   \n",
       "3                   Petra Holasová  50.126760922745 14.456956313382   \n",
       "4                    ARNOT STANÌK   49.183499865155 15.45981410537   \n",
       "\n",
       "       LastModified        lat        lon geo_qual  \n",
       "0  01-02-2020 23:03  49.427788  15.218290        1  \n",
       "1  01-02-2020 23:03  50.497217  13.650265        1  \n",
       "2  01-02-2020 23:03  50.073417  14.401091        1  \n",
       "3  01-02-2020 23:03  50.126761  14.456956        1  \n",
       "4  01-02-2020 23:03  49.183500  15.459814        1  \n",
       "\n",
       "[5 rows x 41 columns]"
      ]
     },
     "execution_count": 44,
     "metadata": {},
     "output_type": "execute_result"
    }
   ],
   "source": [
    "print(\"output data columns: %s\" % list(cz.data.columns))\n",
    "cz.data.head(5)"
   ]
  },
  {
   "cell_type": "markdown",
   "metadata": {},
   "source": [
    "## Automated metadata-based harmonisation<a id=\"harmonisation\"></a>"
   ]
  },
  {
   "cell_type": "markdown",
   "metadata": {},
   "source": [
    "Obviously, you will not have to rerun these operations everytime a table is created. \n",
    "\n",
    "In order to simplify even further the operations, the steps above, including the loading of configuration and metadata files, have been automated. You can run it at once using the `harmonise` module:"
   ]
  },
  {
   "cell_type": "code",
   "execution_count": 45,
   "metadata": {},
   "outputs": [
    {
     "name": "stderr",
     "output_type": "stream",
     "text": [
      "/Users/gjacopo/DevOps/basic-services/src/python/pyeufacility/harmonise.py:171: UserWarning: \n",
      "! Country py-module 'pyeufacility.hcs.CZhcs' found !\n",
      "  warnings.warn(\"\\n! Country py-module '%s' found !\" % imp.__name__)\n",
      "/Users/gjacopo/DevOps/basic-services/src/python/pyeufacility/harmonise.py:186: UserWarning: \n",
      "! No default metadata dictionary 'METADATNAT' available !\n",
      "  warnings.warn(\"\\n! No default metadata dictionary '%s' available !\" % METANAME)\n",
      "/Users/gjacopo/DevOps/basic-services/src/python/pyeufacility/harmonise.py:194: UserWarning: \n",
      "! Generic formatting/harmonisation methods used !\n",
      "  warnings.warn('\\n! Generic formatting/harmonisation methods used !')\n",
      "/Users/gjacopo/DevOps/basic-services/src/python/pyeufacility/harmonise.py:218: UserWarning: ! Ad-hoc metadata found - JSON-file '/Users/gjacopo/DevOps/basic-services/src/python/pyeufacility/hcs/CZhcs.json' loaded !\n",
      "  warnings.warn(\"! Ad-hoc metadata found - JSON-file '%s' loaded !\" % metafname)\n",
      "/Users/gjacopo/DevOps/basic-services/src/python/pyeufacility/harmonise.py:231: UserWarning: \n",
      "! Harmonised data for country 'CZ' generated !\n",
      "  warnings.warn(\"\\n! Harmonised data for country '%s' generated !\" % country)\n"
     ]
    }
   ],
   "source": [
    "from pyeufacility import harmonise\n",
    "cz = harmonise.run('HCS', country = \"CZ\", on_disk = True, dest = 'CZtest.csv')"
   ]
  },
  {
   "cell_type": "markdown",
   "metadata": {},
   "source": [
    "Check again for consistency... :"
   ]
  },
  {
   "cell_type": "code",
   "execution_count": 46,
   "metadata": {},
   "outputs": [
    {
     "data": {
      "text/html": [
       "<div>\n",
       "<style scoped>\n",
       "    .dataframe tbody tr th:only-of-type {\n",
       "        vertical-align: middle;\n",
       "    }\n",
       "\n",
       "    .dataframe tbody tr th {\n",
       "        vertical-align: top;\n",
       "    }\n",
       "\n",
       "    .dataframe thead th {\n",
       "        text-align: right;\n",
       "    }\n",
       "</style>\n",
       "<table border=\"1\" class=\"dataframe\">\n",
       "  <thead>\n",
       "    <tr style=\"text-align: right;\">\n",
       "      <th></th>\n",
       "      <th>lat</th>\n",
       "      <th>lon</th>\n",
       "    </tr>\n",
       "  </thead>\n",
       "  <tbody>\n",
       "    <tr>\n",
       "      <th>0</th>\n",
       "      <td>49.427788</td>\n",
       "      <td>15.218290</td>\n",
       "    </tr>\n",
       "    <tr>\n",
       "      <th>1</th>\n",
       "      <td>50.497217</td>\n",
       "      <td>13.650265</td>\n",
       "    </tr>\n",
       "    <tr>\n",
       "      <th>2</th>\n",
       "      <td>50.073417</td>\n",
       "      <td>14.401091</td>\n",
       "    </tr>\n",
       "    <tr>\n",
       "      <th>3</th>\n",
       "      <td>50.126761</td>\n",
       "      <td>14.456956</td>\n",
       "    </tr>\n",
       "    <tr>\n",
       "      <th>4</th>\n",
       "      <td>49.183500</td>\n",
       "      <td>15.459814</td>\n",
       "    </tr>\n",
       "  </tbody>\n",
       "</table>\n",
       "</div>"
      ],
      "text/plain": [
       "         lat        lon\n",
       "0  49.427788  15.218290\n",
       "1  50.497217  13.650265\n",
       "2  50.073417  14.401091\n",
       "3  50.126761  14.456956\n",
       "4  49.183500  15.459814"
      ]
     },
     "execution_count": 46,
     "metadata": {},
     "output_type": "execute_result"
    }
   ],
   "source": [
    "cz.data[['lat', 'lon']].head(5)"
   ]
  },
  {
   "cell_type": "markdown",
   "metadata": {},
   "source": [
    "## Automated metadata-based validation<a id=\"validation\"></a>"
   ]
  },
  {
   "cell_type": "markdown",
   "metadata": {},
   "source": [
    "Last, you will want to validate the output data, given the information you provided in the configuration template (_e.g._, through the field `column`).\n",
    "\n",
    "Validation is also an automated process:"
   ]
  },
  {
   "cell_type": "code",
   "execution_count": 47,
   "metadata": {},
   "outputs": [
    {
     "name": "stdout",
     "output_type": "stream",
     "text": [
      "! Data passed validation (see warning reports) !\n"
     ]
    },
    {
     "name": "stderr",
     "output_type": "stream",
     "text": [
      "/Users/gjacopo/DevOps/basic-services/src/python/pyeufacility/validate.py:81: UserWarning: \n",
      "! Missing columns in source file: '['emergency', 'url', 'cap_prac', 'public_private', 'list_specs', 'email', 'ref_date', 'cap_rooms', 'facility_type', 'geo_qual', 'cap_beds', 'tel', 'comments']' !\n",
      "  warnings.warn(\"\\n! Missing columns in source file: '%s' !\" % list(columns))\n",
      "/Users/gjacopo/DevOps/basic-services/src/python/pyeufacility/validate.py:91: UserWarning: \n",
      "! Column 'country' empty - missing values only !\n",
      "  warnings.warn(\"\\n! Column '%s' empty - missing values only !\" % col)\n",
      "/Users/gjacopo/DevOps/basic-services/src/python/pyeufacility/validate.py:91: UserWarning: \n",
      "! Column 'cc' empty - missing values only !\n",
      "  warnings.warn(\"\\n! Column '%s' empty - missing values only !\" % col)\n"
     ]
    }
   ],
   "source": [
    "from pyeufacility import validate\n",
    "validate.run('HCS', country = \"CZ\", src = 'CZtest.csv')"
   ]
  },
  {
   "cell_type": "code",
   "execution_count": null,
   "metadata": {},
   "outputs": [],
   "source": []
  }
 ],
 "metadata": {
  "kernelspec": {
   "display_name": "Python 3",
   "language": "python",
   "name": "python3"
  },
  "language_info": {
   "codemirror_mode": {
    "name": "ipython",
    "version": 3
   },
   "file_extension": ".py",
   "mimetype": "text/x-python",
   "name": "python",
   "nbconvert_exporter": "python",
   "pygments_lexer": "ipython3",
   "version": "3.7.6"
  }
 },
 "nbformat": 4,
 "nbformat_minor": 2
}
