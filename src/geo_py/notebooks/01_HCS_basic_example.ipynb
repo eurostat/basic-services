{
 "cells": [
  {
   "cell_type": "markdown",
   "metadata": {},
   "source": [
    "## Input/Output data integration and harmonisation -- Basic example using the `pyeuhcs` and `pyeudatanat` packages"
   ]
  },
  {
   "cell_type": "markdown",
   "metadata": {},
   "source": [
    "### Setting and checking the environment first"
   ]
  },
  {
   "cell_type": "markdown",
   "metadata": {},
   "source": [
    "Let's run some setup necessary to import the dependency(ies) required to run the project... \n",
    "First, you will need to import the [`pyeudatnat`](https://github.com/eurostat/pyEUDatNat) package that contains various useful functions/methods: "
   ]
  },
  {
   "cell_type": "code",
   "execution_count": 1,
   "metadata": {},
   "outputs": [],
   "source": [
    "try:\n",
    "    import pyeudatnat\n",
    "except ImportError:\n",
    "    raise IOError(\"sorry, you're doomed, you won't be able to run this notebook...\")"
   ]
  },
  {
   "cell_type": "markdown",
   "metadata": {},
   "source": [
    "Then, you will need to load the [`pyeuhcs`](https://github.com/eurostat/healthcare-services/tree/master/src/geo_py) module available with the [`'healthcare-services'`](https://github.com/eurostat/healthcare-services/) project.\n",
    "The following is required only if `pyeuhcs` is not remotely installed/available from `pypi`, but it will be working only if you have a local version on your machine. "
   ]
  },
  {
   "cell_type": "code",
   "execution_count": 2,
   "metadata": {},
   "outputs": [],
   "source": [
    "import os, sys\n",
    "try:\n",
    "    thisdir = !pwd\n",
    "    PROJECT, PACKAGE = 'healthcare-services', 'pyeuhcs'\n",
    "    PACKNAME = PACKAGE.lower()\n",
    "    assert '%s' % PACKNAME in [mod.__name__ for mod in sys.modules.values()]\n",
    "except AssertionError:\n",
    "    # note: this notebook will need to be run from the project directory, otherwise...\n",
    "    try:\n",
    "        pardir = os.path.abspath(os.path.join(thisdir[0], '../'))\n",
    "        assert PACKAGE in os.listdir(pardir)\n",
    "    except:\n",
    "        raise IOError(\"sorry, you're doomed again...\")\n",
    "    else:\n",
    "        PACKPATH = pardir\n",
    "    sys.path.insert(0,PACKPATH)\n",
    "else:\n",
    "    print('package %s available to run project %s' % (PACKNAME, PROJECT))\n",
    "    PACKPATH = getattr(sys.modules[PACKNAME], 'PACKPATH')\n",
    "    assert PACKPATH == getattr(sys.modules[PACKNAME], '__path__')[0]"
   ]
  },
  {
   "cell_type": "markdown",
   "metadata": {},
   "source": [
    "Let's import the whole package (as a test) and check some basic global parameters/metadata already made available there..."
   ]
  },
  {
   "cell_type": "code",
   "execution_count": 3,
   "metadata": {},
   "outputs": [
    {
     "name": "stdout",
     "output_type": "stream",
     "text": [
      "\u001b[1mCountries\u001b[0m considered for harmonisation: ['BE', 'EL', 'LT', 'PT', 'BG', 'ES', 'LU', 'RO', 'CZ', 'FR', 'HU', 'SI', 'DK', 'HR', 'MT', 'SK', 'DE', 'IT', 'NL', 'FI', 'EE', 'CY', 'AT', 'SE', 'IE', 'LV', 'PL', 'UK', 'IS', 'NO', 'CH', 'LI']\n",
      "\u001b[1mFacilities\u001b[0m available for harmonisation: {'HCS': {'code': 'hcs', 'name': 'Healthcare services'}, 'Edu': {'code': 'edu', 'name': 'Educational facilities'}}\n"
     ]
    }
   ],
   "source": [
    "import pyeuhcs\n",
    "print(\"\\033[1mCountries\\033[0m considered for harmonisation: %s\" % list(pyeudatnat.COUNTRIES))\n",
    "print(\"\\033[1mFacilities\\033[0m available for harmonisation: %s\" % pyeuhcs.FACILITIES)"
   ]
  },
  {
   "cell_type": "markdown",
   "metadata": {},
   "source": [
    "Next, we import the `config` module, and check also some of the metadata made available through the `pyeuhcs` module. \n",
    "\n",
    "In particular, the format of the output harmonised dataset, such as the output columns (name and type), the output encoding format, the separator for output CSV, _etc_..., are defined for any given type of facility, _e.g._ HealthCare Services (*HCS*), separately in the global dictionary `config.CONFIGINFO`:"
   ]
  },
  {
   "cell_type": "code",
   "execution_count": 4,
   "metadata": {},
   "outputs": [
    {
     "name": "stderr",
     "output_type": "stream",
     "text": [
      "/Users/gjacopo/Developments/pyEUDatNat/pyeudatnat/geo.py:48: UserWarning: \n",
      "! Missing happygisco package (https://github.com/eurostat/happyGISCO) - GISCO web services not available !\n",
      "  warnings.warn('\\n! Missing happygisco package (https://github.com/eurostat/happyGISCO) - GISCO web services not available !')\n"
     ]
    },
    {
     "name": "stdout",
     "output_type": "stream",
     "text": [
      "Formatting of output data is available for 'HCS': {'code': 'hcs', 'name': 'Healthcare services'}\n",
      "Fields of the configuration template: ['fmt', 'lang', 'sep', 'enc', 'dfmt', 'proj', 'path', 'file', 'index', 'category']\n"
     ]
    }
   ],
   "source": [
    "from pyeuhcs import config\n",
    "print(\"Formatting of output data is available for 'HCS': %s\" % config.CONFIGINFO['HCS']['category'])\n",
    "print(\"Fields of the configuration template: %s\" % list(config.CONFIGINFO['HCS'].keys()))"
   ]
  },
  {
   "cell_type": "markdown",
   "metadata": {},
   "source": [
    "Using this global variable, it is possible to retrieve the specific formatting of *HCS* is described through the contents of `config.CONFIGINFO['HCS']`: "
   ]
  },
  {
   "cell_type": "code",
   "execution_count": 5,
   "metadata": {},
   "outputs": [
    {
     "name": "stdout",
     "output_type": "stream",
     "text": [
      "Output data contain attributes defined according to following configuration template:\n",
      "\n"
     ]
    },
    {
     "data": {
      "text/plain": [
       "{'fmt': {'geojson': 'geojson', 'json': 'json', 'csv': 'csv', 'gpkg': 'gpkg'},\n",
       " 'lang': 'en',\n",
       " 'sep': ',',\n",
       " 'enc': 'utf-8',\n",
       " 'dfmt': '%d/%m/%Y',\n",
       " 'proj': None,\n",
       " 'path': '../../../data/',\n",
       " 'file': '%s.%s',\n",
       " 'index': OrderedDict([('id',\n",
       "               {'name': 'id',\n",
       "                'desc': 'The healthcare service identifier - This identifier is based on national identification codes, if it exists.',\n",
       "                'type': 'int',\n",
       "                'values': None}),\n",
       "              ('name',\n",
       "               {'name': 'hospital_name',\n",
       "                'desc': 'The name of the healthcare institution',\n",
       "                'type': 'str',\n",
       "                'values': None}),\n",
       "              ('site',\n",
       "               {'name': 'site_name',\n",
       "                'desc': 'The name of the specific site or branch of a healthcare institution',\n",
       "                'type': 'str',\n",
       "                'values': None}),\n",
       "              ('lat',\n",
       "               {'name': 'lat',\n",
       "                'desc': 'Latitude (WGS 84)',\n",
       "                'type': 'float',\n",
       "                'values': None}),\n",
       "              ('lon',\n",
       "               {'name': 'lon',\n",
       "                'desc': 'Longitude (WGS 84)',\n",
       "                'type': 'float',\n",
       "                'values': None}),\n",
       "              ('geo_qual',\n",
       "               {'name': 'geo_qual',\n",
       "                'desc': 'A quality indicator for the geolocation - 1: Good, 2: Medium, 3: Low, -1: Unknown',\n",
       "                'type': 'int',\n",
       "                'values': [-1, 1, 2, 3]}),\n",
       "              ('street',\n",
       "               {'name': 'street',\n",
       "                'desc': 'Street name',\n",
       "                'type': 'str',\n",
       "                'values': None}),\n",
       "              ('number',\n",
       "               {'name': 'house_number',\n",
       "                'desc': 'House number',\n",
       "                'type': 'str',\n",
       "                'values': None}),\n",
       "              ('postcode',\n",
       "               {'name': 'postcode',\n",
       "                'desc': 'Postcode',\n",
       "                'type': 'str',\n",
       "                'values': None}),\n",
       "              ('city',\n",
       "               {'name': 'city',\n",
       "                'desc': 'City name (sometimes refers to a region or a municipality)',\n",
       "                'type': 'str',\n",
       "                'values': None}),\n",
       "              ('cc',\n",
       "               {'name': 'cc',\n",
       "                'desc': 'Country code (ISO 3166-1 alpha-2 format)',\n",
       "                'type': 'str',\n",
       "                'values': ['BE',\n",
       "                 'EL',\n",
       "                 'LT',\n",
       "                 'PT',\n",
       "                 'BG',\n",
       "                 'ES',\n",
       "                 'LU',\n",
       "                 'RO',\n",
       "                 'CZ',\n",
       "                 'FR',\n",
       "                 'HU',\n",
       "                 'SI',\n",
       "                 'DK',\n",
       "                 'HR',\n",
       "                 'MT',\n",
       "                 'SK',\n",
       "                 'DE',\n",
       "                 'IT',\n",
       "                 'NL',\n",
       "                 'FI',\n",
       "                 'EE',\n",
       "                 'CY',\n",
       "                 'AT',\n",
       "                 'SE',\n",
       "                 'IE',\n",
       "                 'LV',\n",
       "                 'PL',\n",
       "                 'UK',\n",
       "                 'IS',\n",
       "                 'NO',\n",
       "                 'CH',\n",
       "                 'LI']}),\n",
       "              ('country',\n",
       "               {'name': 'country',\n",
       "                'desc': 'Country name',\n",
       "                'type': 'str',\n",
       "                'values': None}),\n",
       "              ('beds',\n",
       "               {'name': 'cap_beds',\n",
       "                'desc': 'Measure of capacity by number of beds (most common)',\n",
       "                'type': 'int',\n",
       "                'values': None}),\n",
       "              ('prac',\n",
       "               {'name': 'cap_prac',\n",
       "                'desc': 'Measure of capacity by number of practitioners',\n",
       "                'type': 'int',\n",
       "                'values': None}),\n",
       "              ('rooms',\n",
       "               {'name': 'cap_rooms',\n",
       "                'desc': 'Measure of capacity by number of rooms',\n",
       "                'type': 'int',\n",
       "                'values': None}),\n",
       "              ('ER',\n",
       "               {'name': 'emergency',\n",
       "                'desc': \"Flag 'yes/no' for whether the healthcare site provides emergency medical services\",\n",
       "                'type': 'bool',\n",
       "                'values': ['yes', 'no']}),\n",
       "              ('type',\n",
       "               {'name': 'facility_type',\n",
       "                'desc': 'If the healthcare service provides a specific type of care, e.g. psychiatric hospital',\n",
       "                'type': 'str',\n",
       "                'values': None}),\n",
       "              ('PP',\n",
       "               {'name': 'public_private',\n",
       "                'desc': \"Status 'private/public' of the healthcare service\",\n",
       "                'type': 'int',\n",
       "                'values': ['public', 'private']}),\n",
       "              ('specs',\n",
       "               {'name': 'list_specs',\n",
       "                'desc': 'List of specialties recognized in the European Union and European Economic Area according to EU Directive 2005/36/EC',\n",
       "                'type': 'str',\n",
       "                'values': None}),\n",
       "              ('tel',\n",
       "               {'name': 'tel',\n",
       "                'desc': 'Telephone number',\n",
       "                'type': 'int',\n",
       "                'values': None}),\n",
       "              ('email',\n",
       "               {'name': 'email',\n",
       "                'desc': 'Email address',\n",
       "                'type': 'str',\n",
       "                'values': None}),\n",
       "              ('url',\n",
       "               {'name': 'url',\n",
       "                'desc': \"URL link to the institution's website\",\n",
       "                'type': 'str',\n",
       "                'values': None}),\n",
       "              ('refdate',\n",
       "               {'name': 'ref_date',\n",
       "                'desc': 'The reference date of the data (DD/MM/YYYY)',\n",
       "                'type': 'datetime',\n",
       "                'values': '%d/%m/%Y'}),\n",
       "              ('pubdate',\n",
       "               {'name': 'pub_date',\n",
       "                'desc': 'The date that the data was last published (DD/MM/YYYY)',\n",
       "                'type': 'datetime',\n",
       "                'values': '%d/%m/%Y'})]),\n",
       " 'category': {'code': 'hcs', 'name': 'Healthcare services'}}"
      ]
     },
     "execution_count": 5,
     "metadata": {},
     "output_type": "execute_result"
    }
   ],
   "source": [
    "print(\"Output data contain attributes defined according to following configuration template:\\n\")\n",
    "config.CONFIGINFO['HCS']"
   ]
  },
  {
   "cell_type": "markdown",
   "metadata": {},
   "source": [
    "This provides for instance with the definitions of the desired output fields, for instance:"
   ]
  },
  {
   "cell_type": "code",
   "execution_count": 6,
   "metadata": {},
   "outputs": [
    {
     "name": "stdout",
     "output_type": "stream",
     "text": [
      "Output attribute \u001b[1m'site_name'\u001b[0m defined as: {'name': 'site_name', 'desc': 'The name of the specific site or branch of a healthcare institution', 'type': 'str', 'values': None}\n",
      "Output attribute \u001b[1m'lat'\u001b[0m defined as: {'name': 'lat', 'desc': 'Latitude (WGS 84)', 'type': 'float', 'values': None}\n"
     ]
    }
   ],
   "source": [
    "print(\"Output attribute \\033[1m'%s'\\033[0m defined as: %s\" % \n",
    "      (config.CONFIGINFO['HCS']['index']['site']['name'], config.CONFIGINFO['HCS']['index']['site']))\n",
    "print(\"Output attribute \\033[1m'%s'\\033[0m defined as: %s\" % \n",
    "      (config.CONFIGINFO['HCS']['index']['lat']['name'], config.CONFIGINFO['HCS']['index']['lat']))"
   ]
  },
  {
   "cell_type": "markdown",
   "metadata": {},
   "source": [
    "Note that the parameters of any given facility, _e.g._ *HCS*, as defined in `config.CONFIGINFO` can actually be (re)set through an external configuration JSON file, _e.g._ *hcs.json*:"
   ]
  },
  {
   "cell_type": "code",
   "execution_count": 7,
   "metadata": {},
   "outputs": [
    {
     "name": "stdout",
     "output_type": "stream",
     "text": [
      "Configuration template is parsed through '/Users/gjacopo/Developments/healthcare-services/src/geo_py/pyeuhcs/hcs.json' file:\n",
      "\n"
     ]
    },
    {
     "data": {
      "text/plain": [
       "{'fmt': {'geojson': 'geojson', 'json': 'json', 'csv': 'csv', 'gpkg': 'gpkg'},\n",
       " 'lang': 'en',\n",
       " 'sep': ',',\n",
       " 'enc': 'utf-8',\n",
       " 'dfmt': '%d/%m/%Y',\n",
       " 'proj': None,\n",
       " 'path': '../../../data/',\n",
       " 'file': '%s.%s',\n",
       " 'index': {'id': {'name': 'id',\n",
       "   'desc': 'The healthcare service identifier - This identifier is based on national identification codes, if it exists.',\n",
       "   'type': 'int',\n",
       "   'values': None},\n",
       "  'name': {'name': 'hospital_name',\n",
       "   'desc': 'The name of the healthcare institution',\n",
       "   'type': 'str',\n",
       "   'values': None},\n",
       "  'site': {'name': 'site_name',\n",
       "   'desc': 'The name of the specific site or branch of a healthcare institution',\n",
       "   'type': 'str',\n",
       "   'values': None},\n",
       "  'lat': {'name': 'lat',\n",
       "   'desc': 'Latitude (WGS 84)',\n",
       "   'type': 'float',\n",
       "   'values': None},\n",
       "  'lon': {'name': 'lon',\n",
       "   'desc': 'Longitude (WGS 84)',\n",
       "   'type': 'float',\n",
       "   'values': None},\n",
       "  'geo_qual': {'name': 'geo_qual',\n",
       "   'desc': 'A quality indicator for the geolocation - 1: Good, 2: Medium, 3: Low, -1: Unknown',\n",
       "   'type': 'int',\n",
       "   'values': [-1, 1, 2, 3]},\n",
       "  'street': {'name': 'street',\n",
       "   'desc': 'Street name',\n",
       "   'type': 'str',\n",
       "   'values': None},\n",
       "  'number': {'name': 'house_number',\n",
       "   'desc': 'House number',\n",
       "   'type': 'str',\n",
       "   'values': None},\n",
       "  'postcode': {'name': 'postcode',\n",
       "   'desc': 'Postcode',\n",
       "   'type': 'str',\n",
       "   'values': None},\n",
       "  'city': {'name': 'city',\n",
       "   'desc': 'City name (sometimes refers to a region or a municipality)',\n",
       "   'type': 'str',\n",
       "   'values': None},\n",
       "  'cc': {'name': 'cc',\n",
       "   'desc': 'Country code (ISO 3166-1 alpha-2 format)',\n",
       "   'type': 'str',\n",
       "   'values': ['EU27_2020', 'EU27_2019', 'EU28', 'EU27_2009', 'EFTA']},\n",
       "  'country': {'name': 'country',\n",
       "   'desc': 'Country name',\n",
       "   'type': 'str',\n",
       "   'values': None},\n",
       "  'beds': {'name': 'cap_beds',\n",
       "   'desc': 'Measure of capacity by number of beds (most common)',\n",
       "   'type': 'int',\n",
       "   'values': None},\n",
       "  'prac': {'name': 'cap_prac',\n",
       "   'desc': 'Measure of capacity by number of practitioners',\n",
       "   'type': 'int',\n",
       "   'values': None},\n",
       "  'rooms': {'name': 'cap_rooms',\n",
       "   'desc': 'Measure of capacity by number of rooms',\n",
       "   'type': 'int',\n",
       "   'values': None},\n",
       "  'ER': {'name': 'emergency',\n",
       "   'desc': \"Flag 'yes/no' for whether the healthcare site provides emergency medical services\",\n",
       "   'type': 'bool',\n",
       "   'values': ['yes', 'no']},\n",
       "  'type': {'name': 'facility_type',\n",
       "   'desc': 'If the healthcare service provides a specific type of care, e.g. psychiatric hospital',\n",
       "   'type': 'str',\n",
       "   'values': None},\n",
       "  'PP': {'name': 'public_private',\n",
       "   'desc': \"Status 'private/public' of the healthcare service\",\n",
       "   'type': 'int',\n",
       "   'values': ['public', 'private']},\n",
       "  'specs': {'name': 'list_specs',\n",
       "   'desc': 'List of specialties recognized in the European Union and European Economic Area according to EU Directive 2005/36/EC',\n",
       "   'type': 'str',\n",
       "   'values': None},\n",
       "  'tel': {'name': 'tel',\n",
       "   'desc': 'Telephone number',\n",
       "   'type': 'int',\n",
       "   'values': None},\n",
       "  'email': {'name': 'email',\n",
       "   'desc': 'Email address',\n",
       "   'type': 'str',\n",
       "   'values': None},\n",
       "  'url': {'name': 'url',\n",
       "   'desc': \"URL link to the institution's website\",\n",
       "   'type': 'str',\n",
       "   'values': None},\n",
       "  'refdate': {'name': 'ref_date',\n",
       "   'desc': 'The reference date of the data (DD/MM/YYYY)',\n",
       "   'type': 'datetime',\n",
       "   'values': '%d/%m/%Y'},\n",
       "  'pubdate': {'name': 'pub_date',\n",
       "   'desc': 'The date that the data was last published (DD/MM/YYYY)',\n",
       "   'type': 'datetime',\n",
       "   'values': '%d/%m/%Y'}}}"
      ]
     },
     "execution_count": 7,
     "metadata": {},
     "output_type": "execute_result"
    }
   ],
   "source": [
    "import json\n",
    "cfg = os.path.join(PACKPATH, PACKNAME, 'hcs.json')\n",
    "with open(cfg, 'r') as fp:\n",
    "    metadata = json.load(fp)\n",
    "print(\"Configuration template is parsed through '%s' file:\\n\" % cfg)\n",
    "metadata"
   ]
  },
  {
   "cell_type": "markdown",
   "metadata": {},
   "source": [
    "### Loading and exploring the input table"
   ]
  },
  {
   "cell_type": "markdown",
   "metadata": {},
   "source": [
    "We require first to import some basic utilities: "
   ]
  },
  {
   "cell_type": "code",
   "execution_count": 8,
   "metadata": {},
   "outputs": [],
   "source": [
    "from pyeuhcs.config import facilityFactory"
   ]
  },
  {
   "cell_type": "markdown",
   "metadata": {},
   "source": [
    "Let's consider a simple example: as raw information in the original table, *CZ* data is already available with the lat/lon geographical coordinates encoded in a single column of the input data. \"Integrating\" these data is nothing else than extracting the coordinates, reshufling some of the columns and dumping it in a new table.\n",
    "\n",
    "To do so, it will be necessary to retrieve the structure (in terms of columns and data format) of the original table and \"match\" it to the output desired structure, as defined in the previously mentioned `config.CONFIGINFO` parameter. \n",
    "\n",
    "Let's first defined the input structure using the class constructor `facilityFactory`:"
   ]
  },
  {
   "cell_type": "code",
   "execution_count": 9,
   "metadata": {},
   "outputs": [
    {
     "name": "stdout",
     "output_type": "stream",
     "text": [
      "{'CZ': 'Czechia'}\n",
      "{'code': 'hcs', 'name': 'Healthcare services'}\n"
     ]
    }
   ],
   "source": [
    "CZhcs = facilityFactory(facility='HCS', country = 'CZ')\n",
    "print(CZhcs.COUNTRY)\n",
    "print(CZhcs.CATEGORY)"
   ]
  },
  {
   "cell_type": "markdown",
   "metadata": {},
   "source": [
    "and define the *CZ* data as an instance of the previously dynamically defined class `CZhcs`, with specific details regarding the data, such as the location of the original table:"
   ]
  },
  {
   "cell_type": "code",
   "execution_count": 10,
   "metadata": {},
   "outputs": [
    {
     "name": "stdout",
     "output_type": "stream",
     "text": [
      "- source file: ../../../data/raw/export-2020-02.csv\n",
      "- country code: CZ\n",
      "- language used in the original table: cs\n"
     ]
    }
   ],
   "source": [
    "cz = CZhcs(file = 'export-2020-02.csv', path = '../../../data/raw/', lang = 'cs')\n",
    "print(\"- source file: %s\" % cz.file)\n",
    "print(\"- country code: %s\" % cz.cc)\n",
    "print(\"- language used in the original table: %s\" % cz.lang)"
   ]
  },
  {
   "cell_type": "markdown",
   "metadata": {},
   "source": [
    "Note also that the output template configuration is available throughout the `config` attribute of the newly created `cz` instance:"
   ]
  },
  {
   "cell_type": "code",
   "execution_count": 11,
   "metadata": {},
   "outputs": [],
   "source": [
    "assert cz.config.to_dict() == config.CONFIGINFO['HCS']"
   ]
  },
  {
   "cell_type": "markdown",
   "metadata": {},
   "source": [
    "Overall, this is enough to load the data using the `load_data` method which stores the input data as a [`pandas`](https://pandas.pydata.org) dataframe structure in the `data` attribute of the `cz` instance:"
   ]
  },
  {
   "cell_type": "code",
   "execution_count": 12,
   "metadata": {},
   "outputs": [
    {
     "name": "stderr",
     "output_type": "stream",
     "text": [
      "/Users/gjacopo/Developments/pyEUDatNat/pyeudatnat/io.py:754: ParserWarning: Falling back to the 'python' engine because the 'c' engine does not support sep=None with delim_whitespace=False; you can avoid this warning by specifying engine='python'.\n",
      "  return pd.read_csv(s, **nkw)\n"
     ]
    },
    {
     "data": {
      "text/html": [
       "<div>\n",
       "<style scoped>\n",
       "    .dataframe tbody tr th:only-of-type {\n",
       "        vertical-align: middle;\n",
       "    }\n",
       "\n",
       "    .dataframe tbody tr th {\n",
       "        vertical-align: top;\n",
       "    }\n",
       "\n",
       "    .dataframe thead th {\n",
       "        text-align: right;\n",
       "    }\n",
       "</style>\n",
       "<table border=\"1\" class=\"dataframe\">\n",
       "  <thead>\n",
       "    <tr style=\"text-align: right;\">\n",
       "      <th></th>\n",
       "      <th>ZdravotnickeZarizeniId</th>\n",
       "      <th>PCZ</th>\n",
       "      <th>PCDP</th>\n",
       "      <th>NazevCely</th>\n",
       "      <th>DruhZarizeni</th>\n",
       "      <th>Obec</th>\n",
       "      <th>Psc</th>\n",
       "      <th>Ulice</th>\n",
       "      <th>CisloDomovniOrientacni</th>\n",
       "      <th>Kraj</th>\n",
       "      <th>...</th>\n",
       "      <th>PscSidlo</th>\n",
       "      <th>ObecSidlo</th>\n",
       "      <th>UliceSidlo</th>\n",
       "      <th>CisloDomovniOrientacniSidlo</th>\n",
       "      <th>OborPece</th>\n",
       "      <th>FormaPece</th>\n",
       "      <th>DruhPece</th>\n",
       "      <th>OdbornyZastupce</th>\n",
       "      <th>GPS</th>\n",
       "      <th>LastModified</th>\n",
       "    </tr>\n",
       "  </thead>\n",
       "  <tbody>\n",
       "    <tr>\n",
       "      <th>0</th>\n",
       "      <td>138130</td>\n",
       "      <td>0</td>\n",
       "      <td>1</td>\n",
       "      <td>Zubn� studio V+V s.r.o.</td>\n",
       "      <td>Samostatn� ordinace PL - stomatologa</td>\n",
       "      <td>Pelh�imov</td>\n",
       "      <td>39301</td>\n",
       "      <td>Komensk�ho</td>\n",
       "      <td>1465</td>\n",
       "      <td>Kraj Vyso�ina</td>\n",
       "      <td>...</td>\n",
       "      <td>39301</td>\n",
       "      <td>Pelh�imov</td>\n",
       "      <td>Pod N�spem</td>\n",
       "      <td>641</td>\n",
       "      <td>zubn� l�ka�stv�, Dent�ln� hygienistka</td>\n",
       "      <td>prim�rn� ambulantn� p��e, specializovan� ambul...</td>\n",
       "      <td>NaN</td>\n",
       "      <td>Veronika �kodov�, V�t �koda</td>\n",
       "      <td>49.427787867131 15.218289906425</td>\n",
       "      <td>01-02-2020 23:03</td>\n",
       "    </tr>\n",
       "    <tr>\n",
       "      <th>1</th>\n",
       "      <td>138129</td>\n",
       "      <td>0</td>\n",
       "      <td>4</td>\n",
       "      <td>TECTUM spol. s r.o.</td>\n",
       "      <td>Odb�rov� m�stnost</td>\n",
       "      <td>Most</td>\n",
       "      <td>43401</td>\n",
       "      <td>Topolov�</td>\n",
       "      <td>1234</td>\n",
       "      <td>�steck� kraj</td>\n",
       "      <td>...</td>\n",
       "      <td>36001</td>\n",
       "      <td>Karlovy Vary</td>\n",
       "      <td>Bezru�ova</td>\n",
       "      <td>1098/10</td>\n",
       "      <td>klinick� biochemie</td>\n",
       "      <td>specializovan� ambulantn� p��e</td>\n",
       "      <td>NaN</td>\n",
       "      <td>David Hepnar, JITKA PODROU�KOV�</td>\n",
       "      <td>50.497217046878 13.650265371038</td>\n",
       "      <td>01-02-2020 23:03</td>\n",
       "    </tr>\n",
       "    <tr>\n",
       "      <th>2</th>\n",
       "      <td>138128</td>\n",
       "      <td>1</td>\n",
       "      <td>0</td>\n",
       "      <td>MUDr. Milan Ku�era, s.r.o.</td>\n",
       "      <td>Samostatn� ordinace l�ka�e specialisty</td>\n",
       "      <td>Praha</td>\n",
       "      <td>15000</td>\n",
       "      <td>Kartouzsk�</td>\n",
       "      <td>3274/10</td>\n",
       "      <td>Hlavn� m�sto Praha</td>\n",
       "      <td>...</td>\n",
       "      <td>27201</td>\n",
       "      <td>Kladno</td>\n",
       "      <td>T. G. Masaryka</td>\n",
       "      <td>2104</td>\n",
       "      <td>dermatovenerologie</td>\n",
       "      <td>ambulantn� p��e</td>\n",
       "      <td>NaN</td>\n",
       "      <td>Jan Ku�era</td>\n",
       "      <td>50.073416715218 14.401090995315</td>\n",
       "      <td>01-02-2020 23:03</td>\n",
       "    </tr>\n",
       "    <tr>\n",
       "      <th>3</th>\n",
       "      <td>138127</td>\n",
       "      <td>1</td>\n",
       "      <td>0</td>\n",
       "      <td>Tereza Hor��kov�</td>\n",
       "      <td>V�dejna zdravotnick�ch prost�edk�</td>\n",
       "      <td>Praha</td>\n",
       "      <td>18200</td>\n",
       "      <td>Klapkova</td>\n",
       "      <td>154/46</td>\n",
       "      <td>Hlavn� m�sto Praha</td>\n",
       "      <td>...</td>\n",
       "      <td>NaN</td>\n",
       "      <td>NaN</td>\n",
       "      <td>NaN</td>\n",
       "      <td>NaN</td>\n",
       "      <td>praktick� l�k�renstv�</td>\n",
       "      <td>NaN</td>\n",
       "      <td>l�k�rensk� p��e</td>\n",
       "      <td>Petra Holasov�</td>\n",
       "      <td>50.126760922745 14.456956313382</td>\n",
       "      <td>01-02-2020 23:03</td>\n",
       "    </tr>\n",
       "    <tr>\n",
       "      <th>4</th>\n",
       "      <td>138126</td>\n",
       "      <td>0</td>\n",
       "      <td>0</td>\n",
       "      <td>V�eobecn� l�ka� Prevent s.r.o.</td>\n",
       "      <td>Samost. ordinace v�eob. prakt. l�ka�e</td>\n",
       "      <td>Tel�</td>\n",
       "      <td>58856</td>\n",
       "      <td>Masarykova</td>\n",
       "      <td>330</td>\n",
       "      <td>Kraj Vyso�ina</td>\n",
       "      <td>...</td>\n",
       "      <td>28163</td>\n",
       "      <td>Kozojedy</td>\n",
       "      <td>1. m�je</td>\n",
       "      <td>67</td>\n",
       "      <td>v�eobecn� praktick� l�ka�stv�, v�eobecn� prakt...</td>\n",
       "      <td>prim�rn� ambulantn� p��e, zdrav. p��e poskytov...</td>\n",
       "      <td>NaN</td>\n",
       "      <td>ARNO�T STAN�K</td>\n",
       "      <td>49.183499865155 15.45981410537</td>\n",
       "      <td>01-02-2020 23:03</td>\n",
       "    </tr>\n",
       "  </tbody>\n",
       "</table>\n",
       "<p>5 rows × 38 columns</p>\n",
       "</div>"
      ],
      "text/plain": [
       "  ZdravotnickeZarizeniId PCZ PCDP                       NazevCely  \\\n",
       "0                 138130   0    1         Zubn� studio V+V s.r.o.   \n",
       "1                 138129   0    4             TECTUM spol. s r.o.   \n",
       "2                 138128   1    0      MUDr. Milan Ku�era, s.r.o.   \n",
       "3                 138127   1    0                Tereza Hor��kov�   \n",
       "4                 138126   0    0  V�eobecn� l�ka� Prevent s.r.o.   \n",
       "\n",
       "                             DruhZarizeni       Obec    Psc       Ulice  \\\n",
       "0    Samostatn� ordinace PL - stomatologa  Pelh�imov  39301  Komensk�ho   \n",
       "1                       Odb�rov� m�stnost       Most  43401    Topolov�   \n",
       "2  Samostatn� ordinace l�ka�e specialisty      Praha  15000  Kartouzsk�   \n",
       "3       V�dejna zdravotnick�ch prost�edk�      Praha  18200    Klapkova   \n",
       "4   Samost. ordinace v�eob. prakt. l�ka�e       Tel�  58856  Masarykova   \n",
       "\n",
       "  CisloDomovniOrientacni                Kraj  ... PscSidlo     ObecSidlo  \\\n",
       "0                   1465       Kraj Vyso�ina  ...    39301     Pelh�imov   \n",
       "1                   1234        �steck� kraj  ...    36001  Karlovy Vary   \n",
       "2                3274/10  Hlavn� m�sto Praha  ...    27201        Kladno   \n",
       "3                 154/46  Hlavn� m�sto Praha  ...      NaN           NaN   \n",
       "4                    330       Kraj Vyso�ina  ...    28163      Kozojedy   \n",
       "\n",
       "       UliceSidlo CisloDomovniOrientacniSidlo  \\\n",
       "0      Pod N�spem                         641   \n",
       "1       Bezru�ova                     1098/10   \n",
       "2  T. G. Masaryka                        2104   \n",
       "3             NaN                         NaN   \n",
       "4         1. m�je                          67   \n",
       "\n",
       "                                            OborPece  \\\n",
       "0              zubn� l�ka�stv�, Dent�ln� hygienistka   \n",
       "1                                 klinick� biochemie   \n",
       "2                                 dermatovenerologie   \n",
       "3                              praktick� l�k�renstv�   \n",
       "4  v�eobecn� praktick� l�ka�stv�, v�eobecn� prakt...   \n",
       "\n",
       "                                           FormaPece         DruhPece  \\\n",
       "0  prim�rn� ambulantn� p��e, specializovan� ambul...              NaN   \n",
       "1                     specializovan� ambulantn� p��e              NaN   \n",
       "2                                    ambulantn� p��e              NaN   \n",
       "3                                                NaN  l�k�rensk� p��e   \n",
       "4  prim�rn� ambulantn� p��e, zdrav. p��e poskytov...              NaN   \n",
       "\n",
       "                   OdbornyZastupce                              GPS  \\\n",
       "0      Veronika �kodov�, V�t �koda  49.427787867131 15.218289906425   \n",
       "1  David Hepnar, JITKA PODROU�KOV�  50.497217046878 13.650265371038   \n",
       "2                       Jan Ku�era  50.073416715218 14.401090995315   \n",
       "3                   Petra Holasov�  50.126760922745 14.456956313382   \n",
       "4                    ARNO�T STAN�K   49.183499865155 15.45981410537   \n",
       "\n",
       "       LastModified  \n",
       "0  01-02-2020 23:03  \n",
       "1  01-02-2020 23:03  \n",
       "2  01-02-2020 23:03  \n",
       "3  01-02-2020 23:03  \n",
       "4  01-02-2020 23:03  \n",
       "\n",
       "[5 rows x 38 columns]"
      ]
     },
     "execution_count": 12,
     "metadata": {},
     "output_type": "execute_result"
    }
   ],
   "source": [
    "cz.load_data()\n",
    "cz.data.head(5)"
   ]
  },
  {
   "cell_type": "markdown",
   "metadata": {},
   "source": [
    "Check the input data (and, actually, also the warning), _e.g._ let's have a look at the column names and the content of the table: obviously, because of the character formatting, we get some warnings. Taking this into account, let's refine the load operation by updating the parameters of the `load_data` method:"
   ]
  },
  {
   "cell_type": "code",
   "execution_count": 13,
   "metadata": {},
   "outputs": [
    {
     "data": {
      "text/html": [
       "<div>\n",
       "<style scoped>\n",
       "    .dataframe tbody tr th:only-of-type {\n",
       "        vertical-align: middle;\n",
       "    }\n",
       "\n",
       "    .dataframe tbody tr th {\n",
       "        vertical-align: top;\n",
       "    }\n",
       "\n",
       "    .dataframe thead th {\n",
       "        text-align: right;\n",
       "    }\n",
       "</style>\n",
       "<table border=\"1\" class=\"dataframe\">\n",
       "  <thead>\n",
       "    <tr style=\"text-align: right;\">\n",
       "      <th></th>\n",
       "      <th>ZdravotnickeZarizeniId</th>\n",
       "      <th>PCZ</th>\n",
       "      <th>PCDP</th>\n",
       "      <th>NazevCely</th>\n",
       "      <th>DruhZarizeni</th>\n",
       "      <th>Obec</th>\n",
       "      <th>Psc</th>\n",
       "      <th>Ulice</th>\n",
       "      <th>CisloDomovniOrientacni</th>\n",
       "      <th>Kraj</th>\n",
       "      <th>...</th>\n",
       "      <th>PscSidlo</th>\n",
       "      <th>ObecSidlo</th>\n",
       "      <th>UliceSidlo</th>\n",
       "      <th>CisloDomovniOrientacniSidlo</th>\n",
       "      <th>OborPece</th>\n",
       "      <th>FormaPece</th>\n",
       "      <th>DruhPece</th>\n",
       "      <th>OdbornyZastupce</th>\n",
       "      <th>GPS</th>\n",
       "      <th>LastModified</th>\n",
       "    </tr>\n",
       "  </thead>\n",
       "  <tbody>\n",
       "    <tr>\n",
       "      <th>0</th>\n",
       "      <td>138130</td>\n",
       "      <td>0</td>\n",
       "      <td>1</td>\n",
       "      <td>Zubní studio V+V s.r.o.</td>\n",
       "      <td>Samostatná ordinace PL - stomatologa</td>\n",
       "      <td>Pelhøimov</td>\n",
       "      <td>39301</td>\n",
       "      <td>Komenského</td>\n",
       "      <td>1465</td>\n",
       "      <td>Kraj Vysoèina</td>\n",
       "      <td>...</td>\n",
       "      <td>39301</td>\n",
       "      <td>Pelhøimov</td>\n",
       "      <td>Pod Náspem</td>\n",
       "      <td>641</td>\n",
       "      <td>zubní lékaøství, Dentální hygienistka</td>\n",
       "      <td>primární ambulantní péèe, specializovaná ambul...</td>\n",
       "      <td>NaN</td>\n",
       "      <td>Veronika kodová, Vít koda</td>\n",
       "      <td>49.427787867131 15.218289906425</td>\n",
       "      <td>01-02-2020 23:03</td>\n",
       "    </tr>\n",
       "    <tr>\n",
       "      <th>1</th>\n",
       "      <td>138129</td>\n",
       "      <td>0</td>\n",
       "      <td>4</td>\n",
       "      <td>TECTUM spol. s r.o.</td>\n",
       "      <td>Odbìrová místnost</td>\n",
       "      <td>Most</td>\n",
       "      <td>43401</td>\n",
       "      <td>Topolová</td>\n",
       "      <td>1234</td>\n",
       "      <td>Ústecký kraj</td>\n",
       "      <td>...</td>\n",
       "      <td>36001</td>\n",
       "      <td>Karlovy Vary</td>\n",
       "      <td>Bezruèova</td>\n",
       "      <td>1098/10</td>\n",
       "      <td>klinická biochemie</td>\n",
       "      <td>specializovaná ambulantní péèe</td>\n",
       "      <td>NaN</td>\n",
       "      <td>David Hepnar, JITKA PODROUKOVÁ</td>\n",
       "      <td>50.497217046878 13.650265371038</td>\n",
       "      <td>01-02-2020 23:03</td>\n",
       "    </tr>\n",
       "    <tr>\n",
       "      <th>2</th>\n",
       "      <td>138128</td>\n",
       "      <td>1</td>\n",
       "      <td>0</td>\n",
       "      <td>MUDr. Milan Kuèera, s.r.o.</td>\n",
       "      <td>Samostatná ordinace lékaøe specialisty</td>\n",
       "      <td>Praha</td>\n",
       "      <td>15000</td>\n",
       "      <td>Kartouzská</td>\n",
       "      <td>3274/10</td>\n",
       "      <td>Hlavní mìsto Praha</td>\n",
       "      <td>...</td>\n",
       "      <td>27201</td>\n",
       "      <td>Kladno</td>\n",
       "      <td>T. G. Masaryka</td>\n",
       "      <td>2104</td>\n",
       "      <td>dermatovenerologie</td>\n",
       "      <td>ambulantní péèe</td>\n",
       "      <td>NaN</td>\n",
       "      <td>Jan Kuèera</td>\n",
       "      <td>50.073416715218 14.401090995315</td>\n",
       "      <td>01-02-2020 23:03</td>\n",
       "    </tr>\n",
       "    <tr>\n",
       "      <th>3</th>\n",
       "      <td>138127</td>\n",
       "      <td>1</td>\n",
       "      <td>0</td>\n",
       "      <td>Tereza Horáèková</td>\n",
       "      <td>Výdejna zdravotnických prostøedkù</td>\n",
       "      <td>Praha</td>\n",
       "      <td>18200</td>\n",
       "      <td>Klapkova</td>\n",
       "      <td>154/46</td>\n",
       "      <td>Hlavní mìsto Praha</td>\n",
       "      <td>...</td>\n",
       "      <td>NaN</td>\n",
       "      <td>NaN</td>\n",
       "      <td>NaN</td>\n",
       "      <td>NaN</td>\n",
       "      <td>praktické lékárenství</td>\n",
       "      <td>NaN</td>\n",
       "      <td>lékárenská péèe</td>\n",
       "      <td>Petra Holasová</td>\n",
       "      <td>50.126760922745 14.456956313382</td>\n",
       "      <td>01-02-2020 23:03</td>\n",
       "    </tr>\n",
       "    <tr>\n",
       "      <th>4</th>\n",
       "      <td>138126</td>\n",
       "      <td>0</td>\n",
       "      <td>0</td>\n",
       "      <td>Veobecný lékaø Prevent s.r.o.</td>\n",
       "      <td>Samost. ordinace veob. prakt. lékaøe</td>\n",
       "      <td>Telè</td>\n",
       "      <td>58856</td>\n",
       "      <td>Masarykova</td>\n",
       "      <td>330</td>\n",
       "      <td>Kraj Vysoèina</td>\n",
       "      <td>...</td>\n",
       "      <td>28163</td>\n",
       "      <td>Kozojedy</td>\n",
       "      <td>1. máje</td>\n",
       "      <td>67</td>\n",
       "      <td>veobecné praktické lékaøství, veobecné prakt...</td>\n",
       "      <td>primární ambulantní péèe, zdrav. péèe poskytov...</td>\n",
       "      <td>NaN</td>\n",
       "      <td>ARNOT STANÌK</td>\n",
       "      <td>49.183499865155 15.45981410537</td>\n",
       "      <td>01-02-2020 23:03</td>\n",
       "    </tr>\n",
       "  </tbody>\n",
       "</table>\n",
       "<p>5 rows × 38 columns</p>\n",
       "</div>"
      ],
      "text/plain": [
       "  ZdravotnickeZarizeniId PCZ PCDP                       NazevCely  \\\n",
       "0                 138130   0    1         Zubní studio V+V s.r.o.   \n",
       "1                 138129   0    4             TECTUM spol. s r.o.   \n",
       "2                 138128   1    0      MUDr. Milan Kuèera, s.r.o.   \n",
       "3                 138127   1    0                Tereza Horáèková   \n",
       "4                 138126   0    0  Veobecný lékaø Prevent s.r.o.   \n",
       "\n",
       "                             DruhZarizeni       Obec    Psc       Ulice  \\\n",
       "0    Samostatná ordinace PL - stomatologa  Pelhøimov  39301  Komenského   \n",
       "1                       Odbìrová místnost       Most  43401    Topolová   \n",
       "2  Samostatná ordinace lékaøe specialisty      Praha  15000  Kartouzská   \n",
       "3       Výdejna zdravotnických prostøedkù      Praha  18200    Klapkova   \n",
       "4   Samost. ordinace veob. prakt. lékaøe       Telè  58856  Masarykova   \n",
       "\n",
       "  CisloDomovniOrientacni                Kraj  ... PscSidlo     ObecSidlo  \\\n",
       "0                   1465       Kraj Vysoèina  ...    39301     Pelhøimov   \n",
       "1                   1234        Ústecký kraj  ...    36001  Karlovy Vary   \n",
       "2                3274/10  Hlavní mìsto Praha  ...    27201        Kladno   \n",
       "3                 154/46  Hlavní mìsto Praha  ...      NaN           NaN   \n",
       "4                    330       Kraj Vysoèina  ...    28163      Kozojedy   \n",
       "\n",
       "       UliceSidlo CisloDomovniOrientacniSidlo  \\\n",
       "0      Pod Náspem                         641   \n",
       "1       Bezruèova                     1098/10   \n",
       "2  T. G. Masaryka                        2104   \n",
       "3             NaN                         NaN   \n",
       "4         1. máje                          67   \n",
       "\n",
       "                                            OborPece  \\\n",
       "0              zubní lékaøství, Dentální hygienistka   \n",
       "1                                 klinická biochemie   \n",
       "2                                 dermatovenerologie   \n",
       "3                              praktické lékárenství   \n",
       "4  veobecné praktické lékaøství, veobecné prakt...   \n",
       "\n",
       "                                           FormaPece         DruhPece  \\\n",
       "0  primární ambulantní péèe, specializovaná ambul...              NaN   \n",
       "1                     specializovaná ambulantní péèe              NaN   \n",
       "2                                    ambulantní péèe              NaN   \n",
       "3                                                NaN  lékárenská péèe   \n",
       "4  primární ambulantní péèe, zdrav. péèe poskytov...              NaN   \n",
       "\n",
       "                   OdbornyZastupce                              GPS  \\\n",
       "0      Veronika kodová, Vít koda  49.427787867131 15.218289906425   \n",
       "1  David Hepnar, JITKA PODROUKOVÁ  50.497217046878 13.650265371038   \n",
       "2                       Jan Kuèera  50.073416715218 14.401090995315   \n",
       "3                   Petra Holasová  50.126760922745 14.456956313382   \n",
       "4                    ARNOT STANÌK   49.183499865155 15.45981410537   \n",
       "\n",
       "       LastModified  \n",
       "0  01-02-2020 23:03  \n",
       "1  01-02-2020 23:03  \n",
       "2  01-02-2020 23:03  \n",
       "3  01-02-2020 23:03  \n",
       "4  01-02-2020 23:03  \n",
       "\n",
       "[5 rows x 38 columns]"
      ]
     },
     "execution_count": 13,
     "metadata": {},
     "output_type": "execute_result"
    }
   ],
   "source": [
    "cz.load_data(enc = 'latin1', sep = ';')\n",
    "cz.data.head(5)"
   ]
  },
  {
   "cell_type": "markdown",
   "metadata": {},
   "source": [
    "More options are obviously available, as allowed by the `pandas` methods, for instance [`read_csv`](https://pandas.pydata.org/pandas-docs/stable/reference/api/pandas.read_csv.html), [`read_excel`](https://pandas.pydata.org/pandas-docs/stable/reference/api/pandas.read_excel.html) or [`read_table`](https://pandas.pydata.org/pandas-docs/stable/reference/api/pandas.read_table.html), depending on the format of the input data you are dealing with. \n",
    "\n",
    "Now, basic information regarding the input data can be retrieved through the `data` attribute of the `cz` instance which is a common `pandas` dataframe. For instance, if we are interested in the list of columns:"
   ]
  },
  {
   "cell_type": "code",
   "execution_count": 14,
   "metadata": {},
   "outputs": [
    {
     "data": {
      "text/plain": [
       "Index(['ZdravotnickeZarizeniId', 'PCZ', 'PCDP', 'NazevCely', 'DruhZarizeni',\n",
       "       'Obec', 'Psc', 'Ulice', 'CisloDomovniOrientacni', 'Kraj', 'KrajCode',\n",
       "       'Okres', 'OkresCode', 'SpravniObvod', 'PoskytovatelTelefon',\n",
       "       'PoskytovatelFax', 'DatumZahajeniCinnosti',\n",
       "       'IdentifikatorDatoveSchranky', 'PoskytovatelEmail', 'PoskytovatelWeb',\n",
       "       'PoskytovatelNazev', 'Ico', 'TypOsoby', 'PravniFormaKod',\n",
       "       'KrajCodeSidlo', 'KrajSidlo', 'OkresCodeSidlo', 'OkresSidlo',\n",
       "       'PscSidlo', 'ObecSidlo', 'UliceSidlo', 'CisloDomovniOrientacniSidlo',\n",
       "       'OborPece', 'FormaPece', 'DruhPece', 'OdbornyZastupce', 'GPS',\n",
       "       'LastModified'],\n",
       "      dtype='object')"
      ]
     },
     "execution_count": 14,
     "metadata": {},
     "output_type": "execute_result"
    }
   ],
   "source": [
    "cz.data.columns"
   ]
  },
  {
   "cell_type": "markdown",
   "metadata": {},
   "source": [
    "To make the identification of the appropriate columns in the input table, we can (approximately) translate the column names from _'cs'_ to _'en'_, using the [`googletrans`](https://pypi.org/project/googletrans/) package:"
   ]
  },
  {
   "cell_type": "code",
   "execution_count": 15,
   "metadata": {},
   "outputs": [
    {
     "data": {
      "text/plain": [
       "['Medical devices Id',\n",
       " 'PCZ',\n",
       " 'PCDP',\n",
       " 'NazevCely',\n",
       " 'Type of device',\n",
       " 'Village',\n",
       " 'Zip code',\n",
       " 'Street',\n",
       " 'House numbers indicative',\n",
       " 'Region',\n",
       " 'KrajCode',\n",
       " 'District',\n",
       " 'OkresCode',\n",
       " 'Administrative District',\n",
       " 'PoskytovatelTelefon',\n",
       " 'PoskytovatelFax',\n",
       " 'Launch Date',\n",
       " 'Identifier data boxes',\n",
       " 'PoskytovatelEmail',\n",
       " 'PoskytovatelWeb',\n",
       " 'PoskytovatelNazev',\n",
       " 'ico',\n",
       " 'TypOsoby',\n",
       " 'PravniFormaKod',\n",
       " 'KrajCodeSidlo',\n",
       " 'KrajSidlo',\n",
       " 'OkresCodeSidlo',\n",
       " 'OkresSidlo',\n",
       " 'PscSidlo',\n",
       " 'ObecSidlo',\n",
       " 'UliceSidlo',\n",
       " 'House numbers indicative Cidlo',\n",
       " 'OborPece',\n",
       " 'FormaPece',\n",
       " 'DruhPece',\n",
       " 'OdbornyZastupce',\n",
       " 'GPS',\n",
       " 'LastModified']"
      ]
     },
     "execution_count": 15,
     "metadata": {},
     "output_type": "execute_result"
    }
   ],
   "source": [
    "cz.get_column(olang = 'en')"
   ]
  },
  {
   "cell_type": "code",
   "execution_count": 16,
   "metadata": {},
   "outputs": [
    {
     "data": {
      "text/plain": [
       "[{'cs': 'ZdravotnickeZarizeniId', 'en': 'Medical devices Id'},\n",
       " {'cs': 'PCZ', 'en': 'PCZ'},\n",
       " {'cs': 'PCDP', 'en': 'PCDP'},\n",
       " {'cs': 'NazevCely', 'en': 'NazevCely'},\n",
       " {'cs': 'DruhZarizeni', 'en': 'Type of device'},\n",
       " {'cs': 'Obec', 'en': 'Village'},\n",
       " {'cs': 'Psc', 'en': 'Zip code'},\n",
       " {'cs': 'Ulice', 'en': 'Street'},\n",
       " {'cs': 'CisloDomovniOrientacni', 'en': 'House numbers indicative'},\n",
       " {'cs': 'Kraj', 'en': 'Region'},\n",
       " {'cs': 'KrajCode', 'en': 'KrajCode'},\n",
       " {'cs': 'Okres', 'en': 'District'},\n",
       " {'cs': 'OkresCode', 'en': 'OkresCode'},\n",
       " {'cs': 'SpravniObvod', 'en': 'Administrative District'},\n",
       " {'cs': 'PoskytovatelTelefon', 'en': 'PoskytovatelTelefon'},\n",
       " {'cs': 'PoskytovatelFax', 'en': 'PoskytovatelFax'},\n",
       " {'cs': 'DatumZahajeniCinnosti', 'en': 'Launch Date'},\n",
       " {'cs': 'IdentifikatorDatoveSchranky', 'en': 'Identifier data boxes'},\n",
       " {'cs': 'PoskytovatelEmail', 'en': 'PoskytovatelEmail'},\n",
       " {'cs': 'PoskytovatelWeb', 'en': 'PoskytovatelWeb'},\n",
       " {'cs': 'PoskytovatelNazev', 'en': 'PoskytovatelNazev'},\n",
       " {'cs': 'Ico', 'en': 'ico'},\n",
       " {'cs': 'TypOsoby', 'en': 'TypOsoby'},\n",
       " {'cs': 'PravniFormaKod', 'en': 'PravniFormaKod'},\n",
       " {'cs': 'KrajCodeSidlo', 'en': 'KrajCodeSidlo'},\n",
       " {'cs': 'KrajSidlo', 'en': 'KrajSidlo'},\n",
       " {'cs': 'OkresCodeSidlo', 'en': 'OkresCodeSidlo'},\n",
       " {'cs': 'OkresSidlo', 'en': 'OkresSidlo'},\n",
       " {'cs': 'PscSidlo', 'en': 'PscSidlo'},\n",
       " {'cs': 'ObecSidlo', 'en': 'ObecSidlo'},\n",
       " {'cs': 'UliceSidlo', 'en': 'UliceSidlo'},\n",
       " {'cs': 'CisloDomovniOrientacniSidlo', 'en': 'House numbers indicative Cidlo'},\n",
       " {'cs': 'OborPece', 'en': 'OborPece'},\n",
       " {'cs': 'FormaPece', 'en': 'FormaPece'},\n",
       " {'cs': 'DruhPece', 'en': 'DruhPece'},\n",
       " {'cs': 'OdbornyZastupce', 'en': 'OdbornyZastupce'},\n",
       " {'cs': 'GPS', 'en': 'GPS'},\n",
       " {'cs': 'LastModified', 'en': 'LastModified'}]"
      ]
     },
     "execution_count": 16,
     "metadata": {},
     "output_type": "execute_result"
    }
   ],
   "source": [
    "cz.columns"
   ]
  },
  {
   "cell_type": "markdown",
   "metadata": {},
   "source": [
    "Well, this did not go very well... The translation is actually made difficult because of the formatting of the column names (merged words). To improve the translation output, we add a filter (split of words on capital letters) on the text to be translated, namely: "
   ]
  },
  {
   "cell_type": "code",
   "execution_count": 17,
   "metadata": {
    "scrolled": true
   },
   "outputs": [
    {
     "data": {
      "text/plain": [
       "['Medical devices Id',\n",
       " 'PCZ',\n",
       " 'PCDP',\n",
       " 'Title Cely',\n",
       " 'Type of device',\n",
       " 'Village',\n",
       " 'Zip code',\n",
       " 'Street',\n",
       " 'House numbers indicative',\n",
       " 'Region',\n",
       " 'Region Code',\n",
       " 'District',\n",
       " 'District Code',\n",
       " 'Administrative District',\n",
       " 'Phone provider',\n",
       " 'Fax provider',\n",
       " 'Launch Date',\n",
       " 'Identifier data boxes',\n",
       " 'Email provider',\n",
       " 'Web provider',\n",
       " 'Title provider',\n",
       " 'ico',\n",
       " 'type Persons',\n",
       " 'Legal form Kod',\n",
       " 'County Seat of Code',\n",
       " 'region of the seat',\n",
       " 'Seat of District Code',\n",
       " 'Seat of district',\n",
       " 'Seat of psc',\n",
       " 'Seat of the municipality',\n",
       " 'street Seat',\n",
       " 'Indicative Seat of House numbers',\n",
       " 'Furnace Branch',\n",
       " 'form Furnaces',\n",
       " 'Type Furnaces',\n",
       " 'professional representative',\n",
       " 'GPS',\n",
       " 'last Modified']"
      ]
     },
     "execution_count": 17,
     "metadata": {},
     "output_type": "execute_result"
    }
   ],
   "source": [
    "from pyeudatnat.text import TextProcess\n",
    "cz.get_column(olang = 'en', filt = TextProcess.split_at_upper)"
   ]
  },
  {
   "cell_type": "markdown",
   "metadata": {},
   "source": [
    "Note that this information is stored in the `columns` of the instance:"
   ]
  },
  {
   "cell_type": "code",
   "execution_count": 18,
   "metadata": {},
   "outputs": [
    {
     "data": {
      "text/plain": [
       "[{'cs': 'ZdravotnickeZarizeniId', 'en': 'Medical devices Id'},\n",
       " {'cs': 'PCZ', 'en': 'PCZ'},\n",
       " {'cs': 'PCDP', 'en': 'PCDP'},\n",
       " {'cs': 'NazevCely', 'en': 'Title Cely'},\n",
       " {'cs': 'DruhZarizeni', 'en': 'Type of device'},\n",
       " {'cs': 'Obec', 'en': 'Village'},\n",
       " {'cs': 'Psc', 'en': 'Zip code'},\n",
       " {'cs': 'Ulice', 'en': 'Street'},\n",
       " {'cs': 'CisloDomovniOrientacni', 'en': 'House numbers indicative'},\n",
       " {'cs': 'Kraj', 'en': 'Region'},\n",
       " {'cs': 'KrajCode', 'en': 'Region Code'},\n",
       " {'cs': 'Okres', 'en': 'District'},\n",
       " {'cs': 'OkresCode', 'en': 'District Code'},\n",
       " {'cs': 'SpravniObvod', 'en': 'Administrative District'},\n",
       " {'cs': 'PoskytovatelTelefon', 'en': 'Phone provider'},\n",
       " {'cs': 'PoskytovatelFax', 'en': 'Fax provider'},\n",
       " {'cs': 'DatumZahajeniCinnosti', 'en': 'Launch Date'},\n",
       " {'cs': 'IdentifikatorDatoveSchranky', 'en': 'Identifier data boxes'},\n",
       " {'cs': 'PoskytovatelEmail', 'en': 'Email provider'},\n",
       " {'cs': 'PoskytovatelWeb', 'en': 'Web provider'},\n",
       " {'cs': 'PoskytovatelNazev', 'en': 'Title provider'},\n",
       " {'cs': 'Ico', 'en': 'ico'},\n",
       " {'cs': 'TypOsoby', 'en': 'type Persons'},\n",
       " {'cs': 'PravniFormaKod', 'en': 'Legal form Kod'},\n",
       " {'cs': 'KrajCodeSidlo', 'en': 'County Seat of Code'},\n",
       " {'cs': 'KrajSidlo', 'en': 'region of the seat'},\n",
       " {'cs': 'OkresCodeSidlo', 'en': 'Seat of District Code'},\n",
       " {'cs': 'OkresSidlo', 'en': 'Seat of district'},\n",
       " {'cs': 'PscSidlo', 'en': 'Seat of psc'},\n",
       " {'cs': 'ObecSidlo', 'en': 'Seat of the municipality'},\n",
       " {'cs': 'UliceSidlo', 'en': 'street Seat'},\n",
       " {'cs': 'CisloDomovniOrientacniSidlo',\n",
       "  'en': 'Indicative Seat of House numbers'},\n",
       " {'cs': 'OborPece', 'en': 'Furnace Branch'},\n",
       " {'cs': 'FormaPece', 'en': 'form Furnaces'},\n",
       " {'cs': 'DruhPece', 'en': 'Type Furnaces'},\n",
       " {'cs': 'OdbornyZastupce', 'en': 'professional representative'},\n",
       " {'cs': 'GPS', 'en': 'GPS'},\n",
       " {'cs': 'LastModified', 'en': 'last Modified'}]"
      ]
     },
     "execution_count": 18,
     "metadata": {},
     "output_type": "execute_result"
    }
   ],
   "source": [
    "cz.columns"
   ]
  },
  {
   "cell_type": "markdown",
   "metadata": {},
   "source": [
    "Now we are interested in retrieving additional information so that we can match the input columns with the output structure, as listed in the configuration template, namely:"
   ]
  },
  {
   "cell_type": "code",
   "execution_count": 19,
   "metadata": {},
   "outputs": [
    {
     "name": "stdout",
     "output_type": "stream",
     "text": [
      "List of output fields:\n",
      "- 'id' (shortcut: id)\n",
      "- 'hospital_name' (shortcut: name)\n",
      "- 'site_name' (shortcut: site)\n",
      "- 'lat' (shortcut: lat)\n",
      "- 'lon' (shortcut: lon)\n",
      "- 'geo_qual' (shortcut: geo_qual)\n",
      "- 'street' (shortcut: street)\n",
      "- 'house_number' (shortcut: number)\n",
      "- 'postcode' (shortcut: postcode)\n",
      "- 'city' (shortcut: city)\n",
      "- 'cc' (shortcut: cc)\n",
      "- 'country' (shortcut: country)\n",
      "- 'cap_beds' (shortcut: beds)\n",
      "- 'cap_prac' (shortcut: prac)\n",
      "- 'cap_rooms' (shortcut: rooms)\n",
      "- 'emergency' (shortcut: ER)\n",
      "- 'facility_type' (shortcut: type)\n",
      "- 'public_private' (shortcut: PP)\n",
      "- 'list_specs' (shortcut: specs)\n",
      "- 'tel' (shortcut: tel)\n",
      "- 'email' (shortcut: email)\n",
      "- 'url' (shortcut: url)\n",
      "- 'ref_date' (shortcut: refdate)\n",
      "- 'pub_date' (shortcut: pubdate)\n"
     ]
    }
   ],
   "source": [
    "print(\"List of output fields:\")\n",
    "for (k,v) in cz.config['index'].items():\n",
    "    print(\"- '%s' (shortcut: %s)\" % (v['name'],k))"
   ]
  },
  {
   "cell_type": "markdown",
   "metadata": {},
   "source": [
    "In practice, we will match the names of the input columns, as stored in the `columns` attribute, with the shortcut names from `cz.config['index']` listed above. For instance, we identify the following correspondance (subject to changes...):"
   ]
  },
  {
   "cell_type": "code",
   "execution_count": 20,
   "metadata": {},
   "outputs": [],
   "source": [
    "matched = {'id':'Medical devices Id', 'name':'Medical devices Id', 'site':'Title Cely', \n",
    "            'lat':'GPS', 'lon':'GPS', \n",
    "            'street':'Street', 'number':'House numbers indicative', 'postcode':'Zip code', 'city':'Village', \n",
    "            'email':'Email provider', \n",
    "            'pubdate':'LastModified'}"
   ]
  },
  {
   "cell_type": "markdown",
   "metadata": {},
   "source": [
    "All we need to do to operate the matching/extraction is to load the `matched` information into the `index` attribute of the `cz` instance. It therefore contains the direct matching between columns that do not require complex transformation (simple reassignment + format cast): "
   ]
  },
  {
   "cell_type": "code",
   "execution_count": 21,
   "metadata": {},
   "outputs": [
    {
     "name": "stdout",
     "output_type": "stream",
     "text": [
      "- Coordinate \u001b[1m'lat'\u001b[0m is represented in the column \u001b[1m'GPS'\u001b[0m of the input table\n",
      "- Coordinate \u001b[1m'lon'\u001b[0m is represented in the column \u001b[1m'GPS'\u001b[0m of the input table\n"
     ]
    }
   ],
   "source": [
    "cz.index.update(matched)\n",
    "for l in ['lat', 'lon']:\n",
    "    print(\"- Coordinate \\033[1m'%s'\\033[0m is represented in the column \\033[1m'%s'\\033[0m of the input table\" \n",
    "          % (l, cz.index[l])) \n",
    "#print(\"Other matching variables are listed as:\")\n",
    "#{k:v for (k,v) in cz.index.items() if v is not None}"
   ]
  },
  {
   "cell_type": "markdown",
   "metadata": {},
   "source": [
    "Indeed, both `lat` and `lon` geographical coordinates are available through the `GPS` column (note: as an acronym, note that it was not translated) which represents both coordinates as a single string:"
   ]
  },
  {
   "cell_type": "code",
   "execution_count": 22,
   "metadata": {},
   "outputs": [
    {
     "data": {
      "text/plain": [
       "0    49.427787867131 15.218289906425\n",
       "1    50.497217046878 13.650265371038\n",
       "2    50.073416715218 14.401090995315\n",
       "3    50.126760922745 14.456956313382\n",
       "4     49.183499865155 15.45981410537\n",
       "Name: GPS, dtype: object"
      ]
     },
     "execution_count": 22,
     "metadata": {},
     "output_type": "execute_result"
    }
   ],
   "source": [
    "cz.data['GPS'].head(5)"
   ]
  },
  {
   "cell_type": "markdown",
   "metadata": {},
   "source": [
    "Finally, we can run the `format_data` method (this time again without arguments) to actually operate the matching of the different columns:"
   ]
  },
  {
   "cell_type": "code",
   "execution_count": 23,
   "metadata": {},
   "outputs": [],
   "source": [
    "cz.format_data()"
   ]
  },
  {
   "cell_type": "markdown",
   "metadata": {},
   "source": [
    "Check the output data, _e.g._ let's have a look at the column names and the content of the table:"
   ]
  },
  {
   "cell_type": "code",
   "execution_count": 24,
   "metadata": {},
   "outputs": [
    {
     "name": "stdout",
     "output_type": "stream",
     "text": [
      "output data columns: ['id', 'site_name', 'city', 'postcode', 'street', 'house_number', 'email', 'pub_date', 'lat', 'lon', 'geo_qual', 'hospital_name']\n"
     ]
    },
    {
     "data": {
      "text/html": [
       "<div>\n",
       "<style scoped>\n",
       "    .dataframe tbody tr th:only-of-type {\n",
       "        vertical-align: middle;\n",
       "    }\n",
       "\n",
       "    .dataframe tbody tr th {\n",
       "        vertical-align: top;\n",
       "    }\n",
       "\n",
       "    .dataframe thead th {\n",
       "        text-align: right;\n",
       "    }\n",
       "</style>\n",
       "<table border=\"1\" class=\"dataframe\">\n",
       "  <thead>\n",
       "    <tr style=\"text-align: right;\">\n",
       "      <th></th>\n",
       "      <th>id</th>\n",
       "      <th>site_name</th>\n",
       "      <th>city</th>\n",
       "      <th>postcode</th>\n",
       "      <th>street</th>\n",
       "      <th>house_number</th>\n",
       "      <th>email</th>\n",
       "      <th>pub_date</th>\n",
       "      <th>lat</th>\n",
       "      <th>lon</th>\n",
       "      <th>geo_qual</th>\n",
       "      <th>hospital_name</th>\n",
       "    </tr>\n",
       "  </thead>\n",
       "  <tbody>\n",
       "    <tr>\n",
       "      <th>0</th>\n",
       "      <td>138130</td>\n",
       "      <td>Zubní studio V+V s.r.o.</td>\n",
       "      <td>Pelhøimov</td>\n",
       "      <td>39301</td>\n",
       "      <td>Komenského</td>\n",
       "      <td>1465</td>\n",
       "      <td>nan</td>\n",
       "      <td>01-02-2020 23:03</td>\n",
       "      <td>49.427788</td>\n",
       "      <td>15.218290</td>\n",
       "      <td>1</td>\n",
       "      <td>138130</td>\n",
       "    </tr>\n",
       "    <tr>\n",
       "      <th>1</th>\n",
       "      <td>138129</td>\n",
       "      <td>TECTUM spol. s r.o.</td>\n",
       "      <td>Most</td>\n",
       "      <td>43401</td>\n",
       "      <td>Topolová</td>\n",
       "      <td>1234</td>\n",
       "      <td>operator@labin.cz</td>\n",
       "      <td>01-02-2020 23:03</td>\n",
       "      <td>50.497217</td>\n",
       "      <td>13.650265</td>\n",
       "      <td>1</td>\n",
       "      <td>138129</td>\n",
       "    </tr>\n",
       "    <tr>\n",
       "      <th>2</th>\n",
       "      <td>138128</td>\n",
       "      <td>MUDr. Milan Kuèera, s.r.o.</td>\n",
       "      <td>Praha</td>\n",
       "      <td>15000</td>\n",
       "      <td>Kartouzská</td>\n",
       "      <td>3274/10</td>\n",
       "      <td>milankucera@seznam.cz</td>\n",
       "      <td>01-02-2020 23:03</td>\n",
       "      <td>50.073417</td>\n",
       "      <td>14.401091</td>\n",
       "      <td>1</td>\n",
       "      <td>138128</td>\n",
       "    </tr>\n",
       "    <tr>\n",
       "      <th>3</th>\n",
       "      <td>138127</td>\n",
       "      <td>Tereza Horáèková</td>\n",
       "      <td>Praha</td>\n",
       "      <td>18200</td>\n",
       "      <td>Klapkova</td>\n",
       "      <td>154/46</td>\n",
       "      <td>nan</td>\n",
       "      <td>01-02-2020 23:03</td>\n",
       "      <td>50.126761</td>\n",
       "      <td>14.456956</td>\n",
       "      <td>1</td>\n",
       "      <td>138127</td>\n",
       "    </tr>\n",
       "    <tr>\n",
       "      <th>4</th>\n",
       "      <td>138126</td>\n",
       "      <td>Veobecný lékaø Prevent s.r.o.</td>\n",
       "      <td>Telè</td>\n",
       "      <td>58856</td>\n",
       "      <td>Masarykova</td>\n",
       "      <td>330</td>\n",
       "      <td>nan</td>\n",
       "      <td>01-02-2020 23:03</td>\n",
       "      <td>49.183500</td>\n",
       "      <td>15.459814</td>\n",
       "      <td>1</td>\n",
       "      <td>138126</td>\n",
       "    </tr>\n",
       "  </tbody>\n",
       "</table>\n",
       "</div>"
      ],
      "text/plain": [
       "       id                       site_name       city postcode      street  \\\n",
       "0  138130         Zubní studio V+V s.r.o.  Pelhøimov    39301  Komenského   \n",
       "1  138129             TECTUM spol. s r.o.       Most    43401    Topolová   \n",
       "2  138128      MUDr. Milan Kuèera, s.r.o.      Praha    15000  Kartouzská   \n",
       "3  138127                Tereza Horáèková      Praha    18200    Klapkova   \n",
       "4  138126  Veobecný lékaø Prevent s.r.o.       Telè    58856  Masarykova   \n",
       "\n",
       "  house_number                  email          pub_date        lat        lon  \\\n",
       "0         1465                    nan  01-02-2020 23:03  49.427788  15.218290   \n",
       "1         1234      operator@labin.cz  01-02-2020 23:03  50.497217  13.650265   \n",
       "2      3274/10  milankucera@seznam.cz  01-02-2020 23:03  50.073417  14.401091   \n",
       "3       154/46                    nan  01-02-2020 23:03  50.126761  14.456956   \n",
       "4          330                    nan  01-02-2020 23:03  49.183500  15.459814   \n",
       "\n",
       "   geo_qual  hospital_name  \n",
       "0         1         138130  \n",
       "1         1         138129  \n",
       "2         1         138128  \n",
       "3         1         138127  \n",
       "4         1         138126  "
      ]
     },
     "execution_count": 24,
     "metadata": {},
     "output_type": "execute_result"
    }
   ],
   "source": [
    "assert set(cz.data.columns).difference(set([ind['name'] for ind in cz.config['index'].values()])) == set()\n",
    "print(\"output data columns: %s\" % list(cz.data.columns))\n",
    "cz.data.head(5)"
   ]
  },
  {
   "cell_type": "markdown",
   "metadata": {},
   "source": [
    "See in particular the `lat`/`lon` attributes that were retrieved:"
   ]
  },
  {
   "cell_type": "code",
   "execution_count": 25,
   "metadata": {},
   "outputs": [
    {
     "data": {
      "text/html": [
       "<div>\n",
       "<style scoped>\n",
       "    .dataframe tbody tr th:only-of-type {\n",
       "        vertical-align: middle;\n",
       "    }\n",
       "\n",
       "    .dataframe tbody tr th {\n",
       "        vertical-align: top;\n",
       "    }\n",
       "\n",
       "    .dataframe thead th {\n",
       "        text-align: right;\n",
       "    }\n",
       "</style>\n",
       "<table border=\"1\" class=\"dataframe\">\n",
       "  <thead>\n",
       "    <tr style=\"text-align: right;\">\n",
       "      <th></th>\n",
       "      <th>lat</th>\n",
       "      <th>lon</th>\n",
       "    </tr>\n",
       "  </thead>\n",
       "  <tbody>\n",
       "    <tr>\n",
       "      <th>0</th>\n",
       "      <td>49.427788</td>\n",
       "      <td>15.218290</td>\n",
       "    </tr>\n",
       "    <tr>\n",
       "      <th>1</th>\n",
       "      <td>50.497217</td>\n",
       "      <td>13.650265</td>\n",
       "    </tr>\n",
       "    <tr>\n",
       "      <th>2</th>\n",
       "      <td>50.073417</td>\n",
       "      <td>14.401091</td>\n",
       "    </tr>\n",
       "    <tr>\n",
       "      <th>3</th>\n",
       "      <td>50.126761</td>\n",
       "      <td>14.456956</td>\n",
       "    </tr>\n",
       "    <tr>\n",
       "      <th>4</th>\n",
       "      <td>49.183500</td>\n",
       "      <td>15.459814</td>\n",
       "    </tr>\n",
       "  </tbody>\n",
       "</table>\n",
       "</div>"
      ],
      "text/plain": [
       "         lat        lon\n",
       "0  49.427788  15.218290\n",
       "1  50.497217  13.650265\n",
       "2  50.073417  14.401091\n",
       "3  50.126761  14.456956\n",
       "4  49.183500  15.459814"
      ]
     },
     "execution_count": 25,
     "metadata": {},
     "output_type": "execute_result"
    }
   ],
   "source": [
    "cz.data[['lat', 'lon']].head(5)"
   ]
  },
  {
   "cell_type": "markdown",
   "metadata": {},
   "source": [
    "You can for instance transform the data into a *GEOJSON* collection of features and retrieve the output geometry using the `dumps_data` method:"
   ]
  },
  {
   "cell_type": "code",
   "execution_count": 26,
   "metadata": {},
   "outputs": [],
   "source": [
    "geom = cz.dumps_data(fmt='geojson')"
   ]
  },
  {
   "cell_type": "markdown",
   "metadata": {},
   "source": [
    "Say you are interested in the 10 first facilities in the list, you can also use:"
   ]
  },
  {
   "cell_type": "code",
   "execution_count": 27,
   "metadata": {},
   "outputs": [
    {
     "name": "stdout",
     "output_type": "stream",
     "text": [
      "The first feature of the collection is: {'type': 'Feature', 'properties': {'street': 'Komenského', 'hospital_name': 138130, 'postcode': '39301', 'city': 'Pelhøimov', 'geo_qual': 1, 'id': 138130, 'pub_date': '01-02-2020 23:03', 'house_number': '1465', 'site_name': 'Zubní studio V+V s.r.o.', 'email': 'nan'}, 'geometry': {'type': 'Point', 'coordinates': [15.218289906425, 49.427787867131]}}\n"
     ]
    }
   ],
   "source": [
    "from pyeudatnat.io import Dataframe\n",
    "# columns = set(cz.data.columns).difference(set(['lat', 'lon']))\n",
    "geom = Dataframe.to_geojson(cz.data.iloc[0:10,:], latlon = ['lat', 'lon'])\n",
    "print(\"The first feature of the collection is: %s\" % geom.get('features',[])[0])"
   ]
  },
  {
   "cell_type": "markdown",
   "metadata": {},
   "source": [
    "You can use the formatted data to represent the available information about the 10 records you selected on a map, using any of the [`folium`](https://python-visualization.github.io/folium/) or [`ipyleaflet`](https://github.com/jupyter-widgets/ipyleaflet) packages:"
   ]
  },
  {
   "cell_type": "code",
   "execution_count": 28,
   "metadata": {},
   "outputs": [],
   "source": [
    "import json\n",
    "try:\n",
    "    from folium import Map, GeoJson, features\n",
    "except:\n",
    "    from ipywidgets import HTML\n",
    "    from ipyleaflet import Map, GeoJSON, WidgetControl"
   ]
  },
  {
   "cell_type": "code",
   "execution_count": 29,
   "metadata": {},
   "outputs": [
    {
     "data": {
      "application/vnd.jupyter.widget-view+json": {
       "model_id": "9d32263e9f6649218aa564596e02bc9a",
       "version_major": 2,
       "version_minor": 0
      },
      "text/plain": [
       "Map(center=[50.0755, 14.4378], controls=(ZoomControl(options=['position', 'zoom_in_text', 'zoom_in_title', 'zo…"
      ]
     },
     "metadata": {},
     "output_type": "display_data"
    }
   ],
   "source": [
    "prague = [50.0755, 14.4378]\n",
    "zoom = 7\n",
    "try:\n",
    "    m = Map(location = prague, zoom_start = zoom)\n",
    "    GeoJson(json.dumps(geom), name = 'CZ hospital',\n",
    "        tooltip=features.GeoJsonTooltip(fields=['site_name','city','postcode'], localize=True)).add_to(m)\n",
    "except:\n",
    "    m = Map(center = prague, zoom = zoom)\n",
    "    geo_json = GeoJSON(data=geom)\n",
    "    m.add_layer(geo_json)\n",
    "    html = HTML(\"CZ hospital\")\n",
    "    m.add_control(WidgetControl(widget=html, position='bottomleft'))    \n",
    "    def on_hover(feature, **kwargs):\n",
    "        html.value = '''<h4><b>{}</b></h4> \\br {} {}'''.format(feature['properties']['site_name'], feature['properties']['city'], feature['properties']['postcode'])\n",
    "    geo_json.on_hover(on_hover)\n",
    "m"
   ]
  },
  {
   "cell_type": "markdown",
   "metadata": {},
   "source": [
    "If instead, you want to save the data in an output file on disk, for instance in *CSV* or *GEOJSON* formats:"
   ]
  },
  {
   "cell_type": "code",
   "execution_count": 30,
   "metadata": {},
   "outputs": [
    {
     "name": "stdout",
     "output_type": "stream",
     "text": [
      "Nothing saved - set to True to actually generate the output files\n"
     ]
    }
   ],
   "source": [
    "try:\n",
    "    assert False\n",
    "    cz.dump_data('czhcs.geojson', fmt='geojson')\n",
    "    cz.dump_data('czhcs.csv', fmt='csv')\n",
    "except AssertionError:\n",
    "    print(\"Nothing saved - set to True to actually generate the output files\")"
   ]
  },
  {
   "cell_type": "markdown",
   "metadata": {},
   "source": [
    "### (Re)using metadata to run the operations"
   ]
  },
  {
   "cell_type": "markdown",
   "metadata": {},
   "source": [
    "Besides the output data, the input metadata/configuration templates are of interest to ensure the reproducibility and reuse of the operation, but also to support the simplifcation of the processes.\n",
    "\n",
    "First, the configuration template, _i.e._ the output formatting of harmonised data, for any given facility can be shared. For instance, the template for *HCS* facilities used for the specific *CZ* case shall be obviously reused for other countries: "
   ]
  },
  {
   "cell_type": "code",
   "execution_count": 31,
   "metadata": {},
   "outputs": [
    {
     "data": {
      "text/plain": [
       "{'fmt': {'geojson': 'geojson', 'json': 'json', 'csv': 'csv', 'gpkg': 'gpkg'},\n",
       " 'lang': 'en',\n",
       " 'sep': ',',\n",
       " 'enc': 'utf-8',\n",
       " 'dfmt': '%d/%m/%Y',\n",
       " 'proj': None,\n",
       " 'path': '../../../data/',\n",
       " 'file': '%s.%s',\n",
       " 'index': OrderedDict([('id',\n",
       "               {'name': 'id',\n",
       "                'desc': 'The healthcare service identifier - This identifier is based on national identification codes, if it exists.',\n",
       "                'type': 'int',\n",
       "                'values': None}),\n",
       "              ('name',\n",
       "               {'name': 'hospital_name',\n",
       "                'desc': 'The name of the healthcare institution',\n",
       "                'type': 'str',\n",
       "                'values': None}),\n",
       "              ('site',\n",
       "               {'name': 'site_name',\n",
       "                'desc': 'The name of the specific site or branch of a healthcare institution',\n",
       "                'type': 'str',\n",
       "                'values': None}),\n",
       "              ('lat',\n",
       "               {'name': 'lat',\n",
       "                'desc': 'Latitude (WGS 84)',\n",
       "                'type': 'float',\n",
       "                'values': None}),\n",
       "              ('lon',\n",
       "               {'name': 'lon',\n",
       "                'desc': 'Longitude (WGS 84)',\n",
       "                'type': 'float',\n",
       "                'values': None}),\n",
       "              ('geo_qual',\n",
       "               {'name': 'geo_qual',\n",
       "                'desc': 'A quality indicator for the geolocation - 1: Good, 2: Medium, 3: Low, -1: Unknown',\n",
       "                'type': 'int',\n",
       "                'values': [-1, 1, 2, 3]}),\n",
       "              ('street',\n",
       "               {'name': 'street',\n",
       "                'desc': 'Street name',\n",
       "                'type': 'str',\n",
       "                'values': None}),\n",
       "              ('number',\n",
       "               {'name': 'house_number',\n",
       "                'desc': 'House number',\n",
       "                'type': 'str',\n",
       "                'values': None}),\n",
       "              ('postcode',\n",
       "               {'name': 'postcode',\n",
       "                'desc': 'Postcode',\n",
       "                'type': 'str',\n",
       "                'values': None}),\n",
       "              ('city',\n",
       "               {'name': 'city',\n",
       "                'desc': 'City name (sometimes refers to a region or a municipality)',\n",
       "                'type': 'str',\n",
       "                'values': None}),\n",
       "              ('cc',\n",
       "               {'name': 'cc',\n",
       "                'desc': 'Country code (ISO 3166-1 alpha-2 format)',\n",
       "                'type': 'str',\n",
       "                'values': ['BE',\n",
       "                 'EL',\n",
       "                 'LT',\n",
       "                 'PT',\n",
       "                 'BG',\n",
       "                 'ES',\n",
       "                 'LU',\n",
       "                 'RO',\n",
       "                 'CZ',\n",
       "                 'FR',\n",
       "                 'HU',\n",
       "                 'SI',\n",
       "                 'DK',\n",
       "                 'HR',\n",
       "                 'MT',\n",
       "                 'SK',\n",
       "                 'DE',\n",
       "                 'IT',\n",
       "                 'NL',\n",
       "                 'FI',\n",
       "                 'EE',\n",
       "                 'CY',\n",
       "                 'AT',\n",
       "                 'SE',\n",
       "                 'IE',\n",
       "                 'LV',\n",
       "                 'PL',\n",
       "                 'UK',\n",
       "                 'IS',\n",
       "                 'NO',\n",
       "                 'CH',\n",
       "                 'LI']}),\n",
       "              ('country',\n",
       "               {'name': 'country',\n",
       "                'desc': 'Country name',\n",
       "                'type': 'str',\n",
       "                'values': None}),\n",
       "              ('beds',\n",
       "               {'name': 'cap_beds',\n",
       "                'desc': 'Measure of capacity by number of beds (most common)',\n",
       "                'type': 'int',\n",
       "                'values': None}),\n",
       "              ('prac',\n",
       "               {'name': 'cap_prac',\n",
       "                'desc': 'Measure of capacity by number of practitioners',\n",
       "                'type': 'int',\n",
       "                'values': None}),\n",
       "              ('rooms',\n",
       "               {'name': 'cap_rooms',\n",
       "                'desc': 'Measure of capacity by number of rooms',\n",
       "                'type': 'int',\n",
       "                'values': None}),\n",
       "              ('ER',\n",
       "               {'name': 'emergency',\n",
       "                'desc': \"Flag 'yes/no' for whether the healthcare site provides emergency medical services\",\n",
       "                'type': 'bool',\n",
       "                'values': ['yes', 'no']}),\n",
       "              ('type',\n",
       "               {'name': 'facility_type',\n",
       "                'desc': 'If the healthcare service provides a specific type of care, e.g. psychiatric hospital',\n",
       "                'type': 'str',\n",
       "                'values': None}),\n",
       "              ('PP',\n",
       "               {'name': 'public_private',\n",
       "                'desc': \"Status 'private/public' of the healthcare service\",\n",
       "                'type': 'int',\n",
       "                'values': ['public', 'private']}),\n",
       "              ('specs',\n",
       "               {'name': 'list_specs',\n",
       "                'desc': 'List of specialties recognized in the European Union and European Economic Area according to EU Directive 2005/36/EC',\n",
       "                'type': 'str',\n",
       "                'values': None}),\n",
       "              ('tel',\n",
       "               {'name': 'tel',\n",
       "                'desc': 'Telephone number',\n",
       "                'type': 'int',\n",
       "                'values': None}),\n",
       "              ('email',\n",
       "               {'name': 'email',\n",
       "                'desc': 'Email address',\n",
       "                'type': 'str',\n",
       "                'values': None}),\n",
       "              ('url',\n",
       "               {'name': 'url',\n",
       "                'desc': \"URL link to the institution's website\",\n",
       "                'type': 'str',\n",
       "                'values': None}),\n",
       "              ('refdate',\n",
       "               {'name': 'ref_date',\n",
       "                'desc': 'The reference date of the data (DD/MM/YYYY)',\n",
       "                'type': 'datetime',\n",
       "                'values': '%d/%m/%Y'}),\n",
       "              ('pubdate',\n",
       "               {'name': 'pub_date',\n",
       "                'desc': 'The date that the data was last published (DD/MM/YYYY)',\n",
       "                'type': 'datetime',\n",
       "                'values': '%d/%m/%Y'})]),\n",
       " 'category': {'code': 'hcs', 'name': 'Healthcare services'}}"
      ]
     },
     "execution_count": 31,
     "metadata": {},
     "output_type": "execute_result"
    }
   ],
   "source": [
    "cz.config.to_dict()"
   ]
  },
  {
   "cell_type": "markdown",
   "metadata": {},
   "source": [
    "This is actually provided by default with this package through the file `hcsconfig.json`.\n",
    "\n",
    "Similarly to the above, it is possible to retrieve the metadata associated to the `cz` instance:"
   ]
  },
  {
   "cell_type": "code",
   "execution_count": 32,
   "metadata": {},
   "outputs": [
    {
     "data": {
      "text/plain": [
       "{'country': {'code': 'CZ', 'name': 'Czechia'},\n",
       " 'lang': {'code': 'cs', 'name': 'czech'},\n",
       " 'file': '../../../data/raw/export-2020-02.csv',\n",
       " 'columns': [{'cs': 'ZdravotnickeZarizeniId', 'en': 'Medical devices Id'},\n",
       "  {'cs': 'PCZ', 'en': 'PCZ'},\n",
       "  {'cs': 'PCDP', 'en': 'PCDP'},\n",
       "  {'cs': 'NazevCely', 'en': 'Title Cely'},\n",
       "  {'cs': 'DruhZarizeni', 'en': 'Type of device'},\n",
       "  {'cs': 'Obec', 'en': 'Village'},\n",
       "  {'cs': 'Psc', 'en': 'Zip code'},\n",
       "  {'cs': 'Ulice', 'en': 'Street'},\n",
       "  {'cs': 'CisloDomovniOrientacni', 'en': 'House numbers indicative'},\n",
       "  {'cs': 'Kraj', 'en': 'Region'},\n",
       "  {'cs': 'KrajCode', 'en': 'Region Code'},\n",
       "  {'cs': 'Okres', 'en': 'District'},\n",
       "  {'cs': 'OkresCode', 'en': 'District Code'},\n",
       "  {'cs': 'SpravniObvod', 'en': 'Administrative District'},\n",
       "  {'cs': 'PoskytovatelTelefon', 'en': 'Phone provider'},\n",
       "  {'cs': 'PoskytovatelFax', 'en': 'Fax provider'},\n",
       "  {'cs': 'DatumZahajeniCinnosti', 'en': 'Launch Date'},\n",
       "  {'cs': 'IdentifikatorDatoveSchranky', 'en': 'Identifier data boxes'},\n",
       "  {'cs': 'PoskytovatelEmail', 'en': 'Email provider'},\n",
       "  {'cs': 'PoskytovatelWeb', 'en': 'Web provider'},\n",
       "  {'cs': 'PoskytovatelNazev', 'en': 'Title provider'},\n",
       "  {'cs': 'Ico', 'en': 'ico'},\n",
       "  {'cs': 'TypOsoby', 'en': 'type Persons'},\n",
       "  {'cs': 'PravniFormaKod', 'en': 'Legal form Kod'},\n",
       "  {'cs': 'KrajCodeSidlo', 'en': 'County Seat of Code'},\n",
       "  {'cs': 'KrajSidlo', 'en': 'region of the seat'},\n",
       "  {'cs': 'OkresCodeSidlo', 'en': 'Seat of District Code'},\n",
       "  {'cs': 'OkresSidlo', 'en': 'Seat of district'},\n",
       "  {'cs': 'PscSidlo', 'en': 'Seat of psc'},\n",
       "  {'cs': 'ObecSidlo', 'en': 'Seat of the municipality'},\n",
       "  {'cs': 'UliceSidlo', 'en': 'street Seat'},\n",
       "  {'cs': 'CisloDomovniOrientacniSidlo',\n",
       "   'en': 'Indicative Seat of House numbers'},\n",
       "  {'cs': 'OborPece', 'en': 'Furnace Branch'},\n",
       "  {'cs': 'FormaPece', 'en': 'form Furnaces'},\n",
       "  {'cs': 'DruhPece', 'en': 'Type Furnaces'},\n",
       "  {'cs': 'OdbornyZastupce', 'en': 'professional representative'},\n",
       "  {'cs': 'GPS', 'en': 'GPS'},\n",
       "  {'cs': 'LastModified', 'en': 'last Modified'}],\n",
       " 'proj': None,\n",
       " 'enc': 'latin1',\n",
       " 'sep': ';'}"
      ]
     },
     "execution_count": 32,
     "metadata": {},
     "output_type": "execute_result"
    }
   ],
   "source": [
    "cz.update_meta()\n",
    "cz.meta.to_dict()"
   ]
  },
  {
   "cell_type": "code",
   "execution_count": 33,
   "metadata": {},
   "outputs": [
    {
     "data": {
      "text/plain": [
       "'{\"country\": {\"code\": \"CZ\", \"name\": \"Czechia\"}, \"lang\": {\"code\": \"cs\", \"name\": \"czech\"}, \"file\": \"../../../data/raw/export-2020-02.csv\", \"columns\": [{\"cs\": \"ZdravotnickeZarizeniId\", \"en\": \"Medical devices Id\"}, {\"cs\": \"PCZ\", \"en\": \"PCZ\"}, {\"cs\": \"PCDP\", \"en\": \"PCDP\"}, {\"cs\": \"NazevCely\", \"en\": \"Title Cely\"}, {\"cs\": \"DruhZarizeni\", \"en\": \"Type of device\"}, {\"cs\": \"Obec\", \"en\": \"Village\"}, {\"cs\": \"Psc\", \"en\": \"Zip code\"}, {\"cs\": \"Ulice\", \"en\": \"Street\"}, {\"cs\": \"CisloDomovniOrientacni\", \"en\": \"House numbers indicative\"}, {\"cs\": \"Kraj\", \"en\": \"Region\"}, {\"cs\": \"KrajCode\", \"en\": \"Region Code\"}, {\"cs\": \"Okres\", \"en\": \"District\"}, {\"cs\": \"OkresCode\", \"en\": \"District Code\"}, {\"cs\": \"SpravniObvod\", \"en\": \"Administrative District\"}, {\"cs\": \"PoskytovatelTelefon\", \"en\": \"Phone provider\"}, {\"cs\": \"PoskytovatelFax\", \"en\": \"Fax provider\"}, {\"cs\": \"DatumZahajeniCinnosti\", \"en\": \"Launch Date\"}, {\"cs\": \"IdentifikatorDatoveSchranky\", \"en\": \"Identifier data boxes\"}, {\"cs\": \"PoskytovatelEmail\", \"en\": \"Email provider\"}, {\"cs\": \"PoskytovatelWeb\", \"en\": \"Web provider\"}, {\"cs\": \"PoskytovatelNazev\", \"en\": \"Title provider\"}, {\"cs\": \"Ico\", \"en\": \"ico\"}, {\"cs\": \"TypOsoby\", \"en\": \"type Persons\"}, {\"cs\": \"PravniFormaKod\", \"en\": \"Legal form Kod\"}, {\"cs\": \"KrajCodeSidlo\", \"en\": \"County Seat of Code\"}, {\"cs\": \"KrajSidlo\", \"en\": \"region of the seat\"}, {\"cs\": \"OkresCodeSidlo\", \"en\": \"Seat of District Code\"}, {\"cs\": \"OkresSidlo\", \"en\": \"Seat of district\"}, {\"cs\": \"PscSidlo\", \"en\": \"Seat of psc\"}, {\"cs\": \"ObecSidlo\", \"en\": \"Seat of the municipality\"}, {\"cs\": \"UliceSidlo\", \"en\": \"street Seat\"}, {\"cs\": \"CisloDomovniOrientacniSidlo\", \"en\": \"Indicative Seat of House numbers\"}, {\"cs\": \"OborPece\", \"en\": \"Furnace Branch\"}, {\"cs\": \"FormaPece\", \"en\": \"form Furnaces\"}, {\"cs\": \"DruhPece\", \"en\": \"Type Furnaces\"}, {\"cs\": \"OdbornyZastupce\", \"en\": \"professional representative\"}, {\"cs\": \"GPS\", \"en\": \"GPS\"}, {\"cs\": \"LastModified\", \"en\": \"last Modified\"}], \"proj\": null, \"enc\": \"latin1\", \"sep\": \";\"}'"
      ]
     },
     "execution_count": 33,
     "metadata": {},
     "output_type": "execute_result"
    }
   ],
   "source": [
    "cz.dumps_meta(as_str=True)"
   ]
  },
  {
   "cell_type": "markdown",
   "metadata": {},
   "source": [
    "and save these metadata in a specific dedicated file on disk:"
   ]
  },
  {
   "cell_type": "code",
   "execution_count": 34,
   "metadata": {},
   "outputs": [
    {
     "name": "stdout",
     "output_type": "stream",
     "text": [
      "{\"country\": {\"code\": \"CZ\", \"name\": \"Czechia\"}, \"lang\": {\"code\": \"cs\", \"name\": \"czech\"}, \"file\": \"../../../data/raw/export-2020-02.csv\", \"columns\": [{\"cs\": \"ZdravotnickeZarizeniId\", \"en\": \"Medical devices Id\"}, {\"cs\": \"PCZ\", \"en\": \"PCZ\"}, {\"cs\": \"PCDP\", \"en\": \"PCDP\"}, {\"cs\": \"NazevCely\", \"en\": \"Title Cely\"}, {\"cs\": \"DruhZarizeni\", \"en\": \"Type of device\"}, {\"cs\": \"Obec\", \"en\": \"Village\"}, {\"cs\": \"Psc\", \"en\": \"Zip code\"}, {\"cs\": \"Ulice\", \"en\": \"Street\"}, {\"cs\": \"CisloDomovniOrientacni\", \"en\": \"House numbers indicative\"}, {\"cs\": \"Kraj\", \"en\": \"Region\"}, {\"cs\": \"KrajCode\", \"en\": \"Region Code\"}, {\"cs\": \"Okres\", \"en\": \"District\"}, {\"cs\": \"OkresCode\", \"en\": \"District Code\"}, {\"cs\": \"SpravniObvod\", \"en\": \"Administrative District\"}, {\"cs\": \"PoskytovatelTelefon\", \"en\": \"Phone provider\"}, {\"cs\": \"PoskytovatelFax\", \"en\": \"Fax provider\"}, {\"cs\": \"DatumZahajeniCinnosti\", \"en\": \"Launch Date\"}, {\"cs\": \"IdentifikatorDatoveSchranky\", \"en\": \"Identifier data boxes\"}, {\"cs\": \"PoskytovatelEmail\", \"en\": \"Email provider\"}, {\"cs\": \"PoskytovatelWeb\", \"en\": \"Web provider\"}, {\"cs\": \"PoskytovatelNazev\", \"en\": \"Title provider\"}, {\"cs\": \"Ico\", \"en\": \"ico\"}, {\"cs\": \"TypOsoby\", \"en\": \"type Persons\"}, {\"cs\": \"PravniFormaKod\", \"en\": \"Legal form Kod\"}, {\"cs\": \"KrajCodeSidlo\", \"en\": \"County Seat of Code\"}, {\"cs\": \"KrajSidlo\", \"en\": \"region of the seat\"}, {\"cs\": \"OkresCodeSidlo\", \"en\": \"Seat of District Code\"}, {\"cs\": \"OkresSidlo\", \"en\": \"Seat of district\"}, {\"cs\": \"PscSidlo\", \"en\": \"Seat of psc\"}, {\"cs\": \"ObecSidlo\", \"en\": \"Seat of the municipality\"}, {\"cs\": \"UliceSidlo\", \"en\": \"street Seat\"}, {\"cs\": \"CisloDomovniOrientacniSidlo\", \"en\": \"Indicative Seat of House numbers\"}, {\"cs\": \"OborPece\", \"en\": \"Furnace Branch\"}, {\"cs\": \"FormaPece\", \"en\": \"form Furnaces\"}, {\"cs\": \"DruhPece\", \"en\": \"Type Furnaces\"}, {\"cs\": \"OdbornyZastupce\", \"en\": \"professional representative\"}, {\"cs\": \"GPS\", \"en\": \"GPS\"}, {\"cs\": \"LastModified\", \"en\": \"last Modified\"}], \"proj\": null, \"enc\": \"latin1\", \"sep\": \";\"}\n"
     ]
    }
   ],
   "source": [
    "print(cz.dumps_meta(as_str=True))\n",
    "try:\n",
    "    assert True\n",
    "    cz.dump_meta('czmeta.json', fmt='json')\n",
    "except AssertionError:\n",
    "    print(\"Nothing saved - set to True to actually generate the output files\")"
   ]
  },
  {
   "cell_type": "markdown",
   "metadata": {},
   "source": [
    "This can easily be retrieved then: "
   ]
  },
  {
   "cell_type": "code",
   "execution_count": 35,
   "metadata": {},
   "outputs": [
    {
     "name": "stdout",
     "output_type": "stream",
     "text": [
      "country         : {'code': 'CZ', 'name': 'Czechia'}\n",
      "lang            : {'code': 'cs', 'name': 'czech'}\n",
      "file            : ../../../data/raw/export-2020-02.csv\n",
      "columns         : [{'cs': 'ZdravotnickeZarizeniId', 'en': 'Medical devices Id'}, {'cs': 'PCZ', 'en': 'PCZ'}, {'cs': 'PCDP', 'en': 'PCDP'}, {'cs': 'NazevCely', 'en': 'Title Cely'}, {'cs': 'DruhZarizeni', 'en': 'Type of device'}, {'cs': 'Obec', 'en': 'Village'}, {'cs': 'Psc', 'en': 'Zip code'}, {'cs': 'Ulice', 'en': 'Street'}, {'cs': 'CisloDomovniOrientacni', 'en': 'House numbers indicative'}, {'cs': 'Kraj', 'en': 'Region'}, {'cs': 'KrajCode', 'en': 'Region Code'}, {'cs': 'Okres', 'en': 'District'}, {'cs': 'OkresCode', 'en': 'District Code'}, {'cs': 'SpravniObvod', 'en': 'Administrative District'}, {'cs': 'PoskytovatelTelefon', 'en': 'Phone provider'}, {'cs': 'PoskytovatelFax', 'en': 'Fax provider'}, {'cs': 'DatumZahajeniCinnosti', 'en': 'Launch Date'}, {'cs': 'IdentifikatorDatoveSchranky', 'en': 'Identifier data boxes'}, {'cs': 'PoskytovatelEmail', 'en': 'Email provider'}, {'cs': 'PoskytovatelWeb', 'en': 'Web provider'}, {'cs': 'PoskytovatelNazev', 'en': 'Title provider'}, {'cs': 'Ico', 'en': 'ico'}, {'cs': 'TypOsoby', 'en': 'type Persons'}, {'cs': 'PravniFormaKod', 'en': 'Legal form Kod'}, {'cs': 'KrajCodeSidlo', 'en': 'County Seat of Code'}, {'cs': 'KrajSidlo', 'en': 'region of the seat'}, {'cs': 'OkresCodeSidlo', 'en': 'Seat of District Code'}, {'cs': 'OkresSidlo', 'en': 'Seat of district'}, {'cs': 'PscSidlo', 'en': 'Seat of psc'}, {'cs': 'ObecSidlo', 'en': 'Seat of the municipality'}, {'cs': 'UliceSidlo', 'en': 'street Seat'}, {'cs': 'CisloDomovniOrientacniSidlo', 'en': 'Indicative Seat of House numbers'}, {'cs': 'OborPece', 'en': 'Furnace Branch'}, {'cs': 'FormaPece', 'en': 'form Furnaces'}, {'cs': 'DruhPece', 'en': 'Type Furnaces'}, {'cs': 'OdbornyZastupce', 'en': 'professional representative'}, {'cs': 'GPS', 'en': 'GPS'}, {'cs': 'LastModified', 'en': 'last Modified'}]\n",
      "enc             : latin1\n",
      "sep             : ;\n",
      "_MetaDatNat__cc : CZ\n",
      "\n"
     ]
    }
   ],
   "source": [
    "from pyeuhcs.config import ConfigFacility, MetaDatNatFacility\n",
    "with open('czmeta.json', 'r') as fp:\n",
    "    metadata = json.load(fp)\n",
    "metadata = MetaDatNatFacility(metadata)\n",
    "print(metadata)"
   ]
  },
  {
   "cell_type": "markdown",
   "metadata": {},
   "source": [
    "Since the metadata contains all the information necessary to process the source dataset, it shall be used _as is_ to operate the harmonisation of the data.\n",
    "\n",
    "Likewise the section above, a dynamically class `NewCZhcs` can be created and configured with this information:"
   ]
  },
  {
   "cell_type": "code",
   "execution_count": 36,
   "metadata": {},
   "outputs": [],
   "source": [
    "NewCZhcs = facilityFactory(facility = 'HCS', meta = metadata)"
   ]
  },
  {
   "cell_type": "markdown",
   "metadata": {},
   "source": [
    "then, similarly, a new instance can be created...and that's all we will need to process the data:"
   ]
  },
  {
   "cell_type": "code",
   "execution_count": 37,
   "metadata": {},
   "outputs": [],
   "source": [
    "newcz = NewCZhcs()"
   ]
  },
  {
   "cell_type": "markdown",
   "metadata": {},
   "source": [
    "Given the `file` and `path` fields of the `newcz.meta` attribute variable, data can be loaded using the `load_data` method (without argument, since they are all intrinsically provided with the metadata). But also given the `index` field, the formatting using the `format_data` method can be operated directly:"
   ]
  },
  {
   "cell_type": "code",
   "execution_count": 38,
   "metadata": {},
   "outputs": [],
   "source": [
    "cz.load_data()\n",
    "cz.format_data()"
   ]
  },
  {
   "cell_type": "markdown",
   "metadata": {},
   "source": [
    "Check the output data:"
   ]
  },
  {
   "cell_type": "code",
   "execution_count": 39,
   "metadata": {},
   "outputs": [
    {
     "name": "stdout",
     "output_type": "stream",
     "text": [
      "output data columns: ['id', 'site_name', 'city', 'postcode', 'street', 'house_number', 'email', 'pub_date', 'lat', 'lon', 'geo_qual', 'hospital_name']\n"
     ]
    },
    {
     "data": {
      "text/html": [
       "<div>\n",
       "<style scoped>\n",
       "    .dataframe tbody tr th:only-of-type {\n",
       "        vertical-align: middle;\n",
       "    }\n",
       "\n",
       "    .dataframe tbody tr th {\n",
       "        vertical-align: top;\n",
       "    }\n",
       "\n",
       "    .dataframe thead th {\n",
       "        text-align: right;\n",
       "    }\n",
       "</style>\n",
       "<table border=\"1\" class=\"dataframe\">\n",
       "  <thead>\n",
       "    <tr style=\"text-align: right;\">\n",
       "      <th></th>\n",
       "      <th>id</th>\n",
       "      <th>site_name</th>\n",
       "      <th>city</th>\n",
       "      <th>postcode</th>\n",
       "      <th>street</th>\n",
       "      <th>house_number</th>\n",
       "      <th>email</th>\n",
       "      <th>pub_date</th>\n",
       "      <th>lat</th>\n",
       "      <th>lon</th>\n",
       "      <th>geo_qual</th>\n",
       "      <th>hospital_name</th>\n",
       "    </tr>\n",
       "  </thead>\n",
       "  <tbody>\n",
       "    <tr>\n",
       "      <th>0</th>\n",
       "      <td>138130</td>\n",
       "      <td>Zubní studio V+V s.r.o.</td>\n",
       "      <td>Pelhøimov</td>\n",
       "      <td>39301</td>\n",
       "      <td>Komenského</td>\n",
       "      <td>1465</td>\n",
       "      <td>nan</td>\n",
       "      <td>01-02-2020 23:03</td>\n",
       "      <td>49.427788</td>\n",
       "      <td>15.218290</td>\n",
       "      <td>1</td>\n",
       "      <td>138130</td>\n",
       "    </tr>\n",
       "    <tr>\n",
       "      <th>1</th>\n",
       "      <td>138129</td>\n",
       "      <td>TECTUM spol. s r.o.</td>\n",
       "      <td>Most</td>\n",
       "      <td>43401</td>\n",
       "      <td>Topolová</td>\n",
       "      <td>1234</td>\n",
       "      <td>operator@labin.cz</td>\n",
       "      <td>01-02-2020 23:03</td>\n",
       "      <td>50.497217</td>\n",
       "      <td>13.650265</td>\n",
       "      <td>1</td>\n",
       "      <td>138129</td>\n",
       "    </tr>\n",
       "    <tr>\n",
       "      <th>2</th>\n",
       "      <td>138128</td>\n",
       "      <td>MUDr. Milan Kuèera, s.r.o.</td>\n",
       "      <td>Praha</td>\n",
       "      <td>15000</td>\n",
       "      <td>Kartouzská</td>\n",
       "      <td>3274/10</td>\n",
       "      <td>milankucera@seznam.cz</td>\n",
       "      <td>01-02-2020 23:03</td>\n",
       "      <td>50.073417</td>\n",
       "      <td>14.401091</td>\n",
       "      <td>1</td>\n",
       "      <td>138128</td>\n",
       "    </tr>\n",
       "    <tr>\n",
       "      <th>3</th>\n",
       "      <td>138127</td>\n",
       "      <td>Tereza Horáèková</td>\n",
       "      <td>Praha</td>\n",
       "      <td>18200</td>\n",
       "      <td>Klapkova</td>\n",
       "      <td>154/46</td>\n",
       "      <td>nan</td>\n",
       "      <td>01-02-2020 23:03</td>\n",
       "      <td>50.126761</td>\n",
       "      <td>14.456956</td>\n",
       "      <td>1</td>\n",
       "      <td>138127</td>\n",
       "    </tr>\n",
       "    <tr>\n",
       "      <th>4</th>\n",
       "      <td>138126</td>\n",
       "      <td>Veobecný lékaø Prevent s.r.o.</td>\n",
       "      <td>Telè</td>\n",
       "      <td>58856</td>\n",
       "      <td>Masarykova</td>\n",
       "      <td>330</td>\n",
       "      <td>nan</td>\n",
       "      <td>01-02-2020 23:03</td>\n",
       "      <td>49.183500</td>\n",
       "      <td>15.459814</td>\n",
       "      <td>1</td>\n",
       "      <td>138126</td>\n",
       "    </tr>\n",
       "  </tbody>\n",
       "</table>\n",
       "</div>"
      ],
      "text/plain": [
       "       id                       site_name       city postcode      street  \\\n",
       "0  138130         Zubní studio V+V s.r.o.  Pelhøimov    39301  Komenského   \n",
       "1  138129             TECTUM spol. s r.o.       Most    43401    Topolová   \n",
       "2  138128      MUDr. Milan Kuèera, s.r.o.      Praha    15000  Kartouzská   \n",
       "3  138127                Tereza Horáèková      Praha    18200    Klapkova   \n",
       "4  138126  Veobecný lékaø Prevent s.r.o.       Telè    58856  Masarykova   \n",
       "\n",
       "  house_number                  email          pub_date        lat        lon  \\\n",
       "0         1465                    nan  01-02-2020 23:03  49.427788  15.218290   \n",
       "1         1234      operator@labin.cz  01-02-2020 23:03  50.497217  13.650265   \n",
       "2      3274/10  milankucera@seznam.cz  01-02-2020 23:03  50.073417  14.401091   \n",
       "3       154/46                    nan  01-02-2020 23:03  50.126761  14.456956   \n",
       "4          330                    nan  01-02-2020 23:03  49.183500  15.459814   \n",
       "\n",
       "   geo_qual  hospital_name  \n",
       "0         1         138130  \n",
       "1         1         138129  \n",
       "2         1         138128  \n",
       "3         1         138127  \n",
       "4         1         138126  "
      ]
     },
     "execution_count": 39,
     "metadata": {},
     "output_type": "execute_result"
    }
   ],
   "source": [
    "print(\"output data columns: %s\" % list(cz.data.columns))\n",
    "cz.data.head(5)"
   ]
  },
  {
   "cell_type": "markdown",
   "metadata": {},
   "source": [
    "### Automating the production"
   ]
  },
  {
   "cell_type": "markdown",
   "metadata": {},
   "source": [
    "Obviously, you will not have to rerun these operations everytime a table is created. \n",
    "\n",
    "In order to simplify even further the operations, the steps above, including the loading of configuration and metadata files, have been automated. You can run it at once using the `harmonise` module:"
   ]
  },
  {
   "cell_type": "code",
   "execution_count": 40,
   "metadata": {},
   "outputs": [
    {
     "name": "stderr",
     "output_type": "stream",
     "text": [
      "/Users/gjacopo/Developments/healthcare-services/src/geo_py/pyeuhcs/harmonise.py:151: UserWarning: \n",
      "! Country py-module 'pyeuhcs.hcs.CZhcs' found !\n",
      "  warnings.warn(\"\\n! Country py-module '%s' found !\" % imp.__name__)\n",
      "/Users/gjacopo/Developments/healthcare-services/src/geo_py/pyeuhcs/harmonise.py:166: UserWarning: \n",
      "! No default metadata dictionary 'METADATNAT' available !\n",
      "  warnings.warn(\"\\n! No default metadata dictionary '%s' available !\" % METANAME)\n",
      "/Users/gjacopo/Developments/healthcare-services/src/geo_py/pyeuhcs/harmonise.py:174: UserWarning: \n",
      "! Generic formatting/harmonisation methods used !\n",
      "  warnings.warn('\\n! Generic formatting/harmonisation methods used !')\n",
      "/Users/gjacopo/Developments/healthcare-services/src/geo_py/pyeuhcs/harmonise.py:198: UserWarning: ! Ad-hoc metadata found - JSON-file '/Users/gjacopo/Developments/healthcare-services/src/geo_py/pyeuhcs/hcs/CZhcs.json' loaded !\n",
      "  warnings.warn(\"! Ad-hoc metadata found - JSON-file '%s' loaded !\" % metafname)\n",
      "/Users/gjacopo/Developments/healthcare-services/src/geo_py/pyeuhcs/harmonise.py:211: UserWarning: \n",
      "! Harmonised data for country 'CZ' generated !\n",
      "  warnings.warn(\"\\n! Harmonised data for country '%s' generated !\" % country)\n"
     ]
    }
   ],
   "source": [
    "from pyeuhcs import harmonise\n",
    "cz = harmonise.run(country = \"CZ\", on_disk = False)"
   ]
  },
  {
   "cell_type": "markdown",
   "metadata": {},
   "source": [
    "Check again for consistency... :"
   ]
  },
  {
   "cell_type": "code",
   "execution_count": 41,
   "metadata": {},
   "outputs": [
    {
     "data": {
      "text/html": [
       "<div>\n",
       "<style scoped>\n",
       "    .dataframe tbody tr th:only-of-type {\n",
       "        vertical-align: middle;\n",
       "    }\n",
       "\n",
       "    .dataframe tbody tr th {\n",
       "        vertical-align: top;\n",
       "    }\n",
       "\n",
       "    .dataframe thead th {\n",
       "        text-align: right;\n",
       "    }\n",
       "</style>\n",
       "<table border=\"1\" class=\"dataframe\">\n",
       "  <thead>\n",
       "    <tr style=\"text-align: right;\">\n",
       "      <th></th>\n",
       "      <th>lat</th>\n",
       "      <th>lon</th>\n",
       "    </tr>\n",
       "  </thead>\n",
       "  <tbody>\n",
       "    <tr>\n",
       "      <th>0</th>\n",
       "      <td>49.427788</td>\n",
       "      <td>15.218290</td>\n",
       "    </tr>\n",
       "    <tr>\n",
       "      <th>1</th>\n",
       "      <td>50.497217</td>\n",
       "      <td>13.650265</td>\n",
       "    </tr>\n",
       "    <tr>\n",
       "      <th>2</th>\n",
       "      <td>50.073417</td>\n",
       "      <td>14.401091</td>\n",
       "    </tr>\n",
       "    <tr>\n",
       "      <th>3</th>\n",
       "      <td>50.126761</td>\n",
       "      <td>14.456956</td>\n",
       "    </tr>\n",
       "    <tr>\n",
       "      <th>4</th>\n",
       "      <td>49.183500</td>\n",
       "      <td>15.459814</td>\n",
       "    </tr>\n",
       "  </tbody>\n",
       "</table>\n",
       "</div>"
      ],
      "text/plain": [
       "         lat        lon\n",
       "0  49.427788  15.218290\n",
       "1  50.497217  13.650265\n",
       "2  50.073417  14.401091\n",
       "3  50.126761  14.456956\n",
       "4  49.183500  15.459814"
      ]
     },
     "execution_count": 41,
     "metadata": {},
     "output_type": "execute_result"
    }
   ],
   "source": [
    "cz.data[['lat', 'lon']].head(5)"
   ]
  },
  {
   "cell_type": "markdown",
   "metadata": {},
   "source": [
    "### Validating the output data"
   ]
  },
  {
   "cell_type": "markdown",
   "metadata": {},
   "source": [
    "Last, you will want to validate the output data, given the information you provided in the configuration template (_e.g._, through the field `column`).\n",
    "\n",
    "Validation is also an automated process:"
   ]
  },
  {
   "cell_type": "code",
   "execution_count": 42,
   "metadata": {},
   "outputs": [
    {
     "name": "stderr",
     "output_type": "stream",
     "text": [
      "/Users/gjacopo/Developments/healthcare-services/src/geo_py/pyeuhcs/validate.py:164: UserWarning: \n",
      "! Input data file '../../../data/csv/CZ.csv' will be controlled for validation\n",
      "  warnings.warn(\"\\n! Input data file '%s' will be controlled for validation\" % src)\n",
      "/Users/gjacopo/Developments/healthcare-services/src/geo_py/pyeuhcs/validate.py:90: UserWarning: \n",
      "! Column 'geo_qual' empty - missing values only !\n",
      "  warnings.warn(\"\\n! Column '%s' empty - missing values only !\" % col)\n",
      "/Users/gjacopo/Developments/healthcare-services/src/geo_py/pyeuhcs/validate.py:90: UserWarning: \n",
      "! Column 'cc' empty - missing values only !\n",
      "  warnings.warn(\"\\n! Column '%s' empty - missing values only !\" % col)\n",
      "/Users/gjacopo/Developments/healthcare-services/src/geo_py/pyeuhcs/validate.py:90: UserWarning: \n",
      "! Column 'country' empty - missing values only !\n",
      "  warnings.warn(\"\\n! Column '%s' empty - missing values only !\" % col)\n",
      "/Users/gjacopo/Developments/healthcare-services/src/geo_py/pyeuhcs/validate.py:90: UserWarning: \n",
      "! Column 'cap_beds' empty - missing values only !\n",
      "  warnings.warn(\"\\n! Column '%s' empty - missing values only !\" % col)\n",
      "/Users/gjacopo/Developments/healthcare-services/src/geo_py/pyeuhcs/validate.py:90: UserWarning: \n",
      "! Column 'cap_prac' empty - missing values only !\n",
      "  warnings.warn(\"\\n! Column '%s' empty - missing values only !\" % col)\n",
      "/Users/gjacopo/Developments/healthcare-services/src/geo_py/pyeuhcs/validate.py:90: UserWarning: \n",
      "! Column 'cap_rooms' empty - missing values only !\n",
      "  warnings.warn(\"\\n! Column '%s' empty - missing values only !\" % col)\n",
      "/Users/gjacopo/Developments/healthcare-services/src/geo_py/pyeuhcs/validate.py:90: UserWarning: \n",
      "! Column 'emergency' empty - missing values only !\n",
      "  warnings.warn(\"\\n! Column '%s' empty - missing values only !\" % col)\n",
      "/Users/gjacopo/Developments/healthcare-services/src/geo_py/pyeuhcs/validate.py:90: UserWarning: \n",
      "! Column 'facility_type' empty - missing values only !\n",
      "  warnings.warn(\"\\n! Column '%s' empty - missing values only !\" % col)\n",
      "/Users/gjacopo/Developments/healthcare-services/src/geo_py/pyeuhcs/validate.py:90: UserWarning: \n",
      "! Column 'public_private' empty - missing values only !\n",
      "  warnings.warn(\"\\n! Column '%s' empty - missing values only !\" % col)\n",
      "/Users/gjacopo/Developments/healthcare-services/src/geo_py/pyeuhcs/validate.py:90: UserWarning: \n",
      "! Column 'list_specs' empty - missing values only !\n",
      "  warnings.warn(\"\\n! Column '%s' empty - missing values only !\" % col)\n",
      "/Users/gjacopo/Developments/healthcare-services/src/geo_py/pyeuhcs/validate.py:90: UserWarning: \n",
      "! Column 'tel' empty - missing values only !\n",
      "  warnings.warn(\"\\n! Column '%s' empty - missing values only !\" % col)\n",
      "/Users/gjacopo/Developments/healthcare-services/src/geo_py/pyeuhcs/validate.py:90: UserWarning: \n",
      "! Column 'email' empty - missing values only !\n",
      "  warnings.warn(\"\\n! Column '%s' empty - missing values only !\" % col)\n",
      "/Users/gjacopo/Developments/healthcare-services/src/geo_py/pyeuhcs/validate.py:90: UserWarning: \n",
      "! Column 'url' empty - missing values only !\n",
      "  warnings.warn(\"\\n! Column '%s' empty - missing values only !\" % col)\n",
      "/Users/gjacopo/Developments/healthcare-services/src/geo_py/pyeuhcs/validate.py:90: UserWarning: \n",
      "! Column 'ref_date' empty - missing values only !\n",
      "  warnings.warn(\"\\n! Column '%s' empty - missing values only !\" % col)\n"
     ]
    },
    {
     "name": "stdout",
     "output_type": "stream",
     "text": [
      "! Data passed validation (see warning reports) !\n"
     ]
    }
   ],
   "source": [
    "from pyeuhcs import validate\n",
    "validate.run(country = \"CZ\")"
   ]
  }
 ],
 "metadata": {
  "kernelspec": {
   "display_name": "Python 3",
   "language": "python",
   "name": "python3"
  },
  "language_info": {
   "codemirror_mode": {
    "name": "ipython",
    "version": 3
   },
   "file_extension": ".py",
   "mimetype": "text/x-python",
   "name": "python",
   "nbconvert_exporter": "python",
   "pygments_lexer": "ipython3",
   "version": "3.7.6"
  }
 },
 "nbformat": 4,
 "nbformat_minor": 2
}
