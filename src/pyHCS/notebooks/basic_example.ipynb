{
 "cells": [
  {
   "cell_type": "markdown",
   "metadata": {},
   "source": [
    "### Input/Output data integration and harmonisation -- Simple examples using the pyhcs package"
   ]
  },
  {
   "cell_type": "markdown",
   "metadata": {},
   "source": [
    "Let's run some setup necessary to import the package(s) required to run the project... Actually, this is needed only if `pyhcs` is not remotely installed/available from `pypi`, but it will be working only if you have a local version on your machine. "
   ]
  },
  {
   "cell_type": "code",
   "execution_count": 1,
   "metadata": {},
   "outputs": [],
   "source": [
    "import os, sys\n",
    "try:\n",
    "    thisdir = !pwd\n",
    "    package, project = 'pyHCS', 'healthcare-services'\n",
    "    assert '%s' % package.lower() in [mod.__name__ for mod in sys.modules.values()]\n",
    "except AssertionError:\n",
    "    # note: this notebook will need to be run from the project directory, otherwise...\n",
    "    try:\n",
    "        pos = thisdir[0].find(project)\n",
    "        assert pos >= 0\n",
    "    except:\n",
    "        raise IOError(\"sorry, you're doomed, you won't be able to run this notebook...\")\n",
    "    else:\n",
    "        thisdir = thisdir[0]\n",
    "    PACKPATH = os.path.join(thisdir[:pos], project, 'src', package)\n",
    "    sys.path.insert(0,PACKPATH)\n",
    "else:\n",
    "    print('package %s available to run project %s' % (package, project))\n",
    "    PACKPATH = pyhcs.__path__[0]"
   ]
  },
  {
   "cell_type": "markdown",
   "metadata": {},
   "source": [
    "Let's import the whole package (as a test) and check some basic metadata available there..."
   ]
  },
  {
   "cell_type": "code",
   "execution_count": 2,
   "metadata": {},
   "outputs": [
    {
     "name": "stdout",
     "output_type": "stream",
     "text": [
      "countries in area \u001b[1mEU28\u001b[0m are considered for harmonisation: ['BE', 'BG', 'CZ', 'DK', 'DE', 'EE', 'IE', 'EL', 'ES', 'FR', 'HR', 'IT', 'CY', 'LV', 'LT', 'LU', 'HU', 'MT', 'NL', 'AT', 'PL', 'PT', 'RO', 'SI', 'SK', 'FI', 'SE', 'UK']\n"
     ]
    }
   ],
   "source": [
    "import pyhcs\n",
    "print(\"countries in area \\033[1m%s\\033[0m are considered for harmonisation: %s\" % \n",
    "      (list(pyhcs.COUNTRIES.keys())[0], list(pyhcs.COUNTRIES.values())[0]))"
   ]
  },
  {
   "cell_type": "markdown",
   "metadata": {},
   "source": [
    "Next, we import the `config` module, and check also some of the metadata made available in this module, in particular the attributes defined for the output harmonised dataset, such as the output columns (name and type), the output encoding format, the separator for output CSV, _etc_..."
   ]
  },
  {
   "cell_type": "code",
   "execution_count": 3,
   "metadata": {},
   "outputs": [
    {
     "name": "stdout",
     "output_type": "stream",
     "text": [
      "output data will follow the configuration template: \n",
      "{'index': {'id': {'name': 'id', 'desc': 'The healthcare service identifier - This identifier is based on national identification codes, if it exists.', 'type': 'int', 'values': None}, 'name': {'name': 'hospital_name', 'desc': 'The name of the healthcare institution', 'type': 'str', 'values': None}, 'site': {'name': 'site_name', 'desc': 'The name of the specific site or branch of a healthcare institution', 'type': 'str', 'values': None}, 'lat': {'name': 'lat', 'desc': 'Latitude (WGS 84)', 'type': 'float', 'values': None}, 'lon': {'name': 'lon', 'desc': 'Longitude (WGS 84)', 'type': 'float', 'values': None}, 'geo_qual': {'name': 'geo_qual', 'desc': 'A quality indicator for the geolocation - 1: Good, 2: Medium, 3: Low, -1: Unknown', 'type': 'int', 'values': [-1, 1, 2, 3]}, 'street': {'name': 'street', 'desc': 'Street name', 'type': 'str', 'values': None}, 'number': {'name': 'house_number', 'desc': 'House number', 'type': 'str', 'values': None}, 'postcode': {'name': 'postcode', 'desc': 'Postcode', 'type': 'str', 'values': None}, 'city': {'name': 'city', 'desc': 'City name (sometimes refers to a region or a municipality)', 'type': 'str', 'values': None}, 'cc': {'name': 'cc', 'desc': 'Country code (ISO 3166-1 alpha-2 format)', 'type': 'str', 'values': ['BE', 'BG', 'CZ', 'DK', 'DE', 'EE', 'IE', 'EL', 'ES', 'FR', 'HR', 'IT', 'CY', 'LV', 'LT', 'LU', 'HU', 'MT', 'NL', 'AT', 'PL', 'PT', 'RO', 'SI', 'SK', 'FI', 'SE', 'UK']}, 'country': {'name': 'country', 'desc': 'Country name', 'type': 'str', 'values': None}, 'beds': {'name': 'cap_beds', 'desc': 'Measure of capacity by number of beds (most common)', 'type': 'int', 'values': None}, 'prac': {'name': 'cap_prac', 'desc': 'Measure of capacity by number of practitioners', 'type': 'int', 'values': None}, 'rooms': {'name': 'cap_rooms', 'desc': 'Measure of capacity by number of rooms', 'type': 'int', 'values': None}, 'ER': {'name': 'emergency', 'desc': \"Flag 'yes/no' for whether the healthcare site provides emergency medical services\", 'type': 'bool', 'values': ['yes', 'no']}, 'type': {'name': 'facility_type', 'desc': 'If the healthcare service provides a specific type of care, e.g. psychiatric hospital', 'type': 'str', 'values': None}, 'PP': {'name': 'public_private', 'desc': \"Status 'private/public' of the healthcare service\", 'type': 'int', 'values': ['public', 'private']}, 'specs': {'name': 'list_specs', 'desc': 'List of specialties recognized in the European Union and European Economic Area according to EU Directive 2005/36/EC', 'type': 'str', 'values': None}, 'tel': {'name': 'tel', 'desc': 'Telephone number', 'type': 'int', 'values': None}, 'email': {'name': 'email', 'desc': 'Email address', 'type': 'str', 'values': None}, 'url': {'name': 'url', 'desc': \"URL link to the institution's website\", 'type': 'str', 'values': None}, 'refdate': {'name': 'ref_date', 'desc': 'The reference date of the data (DD/MM/YYYY)', 'type': 'datetime', 'values': '%d/%m/%Y'}, 'pubdate': {'name': 'pub_date', 'desc': 'The date that the data was last published (DD/MM/YYYY)', 'type': 'datetime', 'values': '%d/%m/%Y'}}, 'fmt': {'geojson': 'geojson', 'json': 'json', 'csv': 'csv', 'gpkg': 'gpkg'}, 'lang': 'en', 'sep': ',', 'enc': 'utf-8', 'date': '%d/%m/%Y', 'proj': None, 'path': '/Users/gjacopo/Developments/healthcare-services/data', 'file': '%s.%s'}\n"
     ]
    },
    {
     "name": "stderr",
     "output_type": "stream",
     "text": [
      "/Users/gjacopo/Developments/healthcare-services/src/pyHCS/pyhcs/config.py:271: UserWarning: loading configuration parameters from config file\n",
      "  warnings.warn('loading configuration parameters from config file')\n"
     ]
    }
   ],
   "source": [
    "from pyhcs import config\n",
    "print('output data will follow the configuration template: \\n%s' % config.OCFGMETA)"
   ]
  },
  {
   "cell_type": "markdown",
   "metadata": {},
   "source": [
    "All fields of the configuration dictionary are listed in the `OCFGNAME` list:"
   ]
  },
  {
   "cell_type": "code",
   "execution_count": 4,
   "metadata": {},
   "outputs": [
    {
     "name": "stdout",
     "output_type": "stream",
     "text": [
      "fields of the configuration template: ['index', 'fmt', 'lang', 'sep', 'enc', 'date', 'proj', 'path', 'file']\n"
     ]
    }
   ],
   "source": [
    "print('fields of the configuration template: %s' % config.OCFGNAME)"
   ]
  },
  {
   "cell_type": "markdown",
   "metadata": {},
   "source": [
    "Note that some global variables have been defined throughout the project to handle the template attributes. For instance, the global variable `INDEX` is equivalent to the value `CFGMETA['index']`:"
   ]
  },
  {
   "cell_type": "code",
   "execution_count": 5,
   "metadata": {},
   "outputs": [
    {
     "name": "stdout",
     "output_type": "stream",
     "text": [
      "output attribute \u001b[1m'site_name'\u001b[0m defined as: {'name': 'site_name', 'desc': 'The name of the specific site or branch of a healthcare institution', 'type': 'str', 'values': None}\n",
      "output attribute \u001b[1m'lat'\u001b[0m defined as: {'name': 'lat', 'desc': 'Latitude (WGS 84)', 'type': 'float', 'values': None}\n"
     ]
    }
   ],
   "source": [
    "assert config.INDEX['site'] == config.OCFGMETA['index']['site'] \n",
    "print(\"output attribute \\033[1m'%s'\\033[0m defined as: %s\" % (config.INDEX['site']['name'], config.INDEX['site']))\n",
    "assert config.INDEX['lat'] == config.OCFGMETA['index']['lat'] \n",
    "print(\"output attribute \\033[1m'%s'\\033[0m defined as: %s\" % (config.INDEX['lat']['name'],config.INDEX['lat']))"
   ]
  },
  {
   "cell_type": "code",
   "execution_count": 6,
   "metadata": {},
   "outputs": [
    {
     "name": "stderr",
     "output_type": "stream",
     "text": [
      "/Users/gjacopo/Developments/healthcare-services/src/pyHCS/pyhcs/base.py:76: UserWarning: missing happygisco package (https://github.com/eurostat/happyGISCO) - GISCO web services not available\n",
      "  warnings.warn('missing happygisco package (https://github.com/eurostat/happyGISCO) - GISCO web services not available')\n"
     ]
    }
   ],
   "source": [
    "from pyhcs.base import MetaHCS, hcsFactory"
   ]
  },
  {
   "cell_type": "markdown",
   "metadata": {},
   "source": [
    "Let's consider a simple example: CZ data are already available with the lat/lon geographical coordinates encoded in a single column of the input data. \"Integrating\" these data is nothing else than extracting the coordinates, reshufling some of the columns and dumping it in a new table.\n",
    "Metadata regarding the input CZ data has been collected in the `meta/CZhcs.json` file and can be retrieved easily:"
   ]
  },
  {
   "cell_type": "code",
   "execution_count": 7,
   "metadata": {},
   "outputs": [
    {
     "name": "stdout",
     "output_type": "stream",
     "text": [
      "sep          : ;\n",
      "lang         : {'code': 'cs', 'name': 'czech'}\n",
      "path         : ../../../data/raw/\n",
      "index        : {'id': 'Medical devices Id', 'name': 'Medical devices Id', 'site': 'Title Cely', 'lat': 'GPS', 'lon': 'GPS', 'geo_qual': None, 'street': 'Street', 'number': 'Indicative house number', 'postcode': 'Zip code', 'city': 'Village', 'cc': 'cc', 'country': 'country', 'ER': None, 'beds': None, 'prac': None, 'rooms': None, 'type': None, 'PP': None, 'specs': None, 'tel': None, 'email': None, 'url': None, 'refdate': None, 'pubdate': 'Last Modified'}\n",
      "columns      : [{'cs': 'ZdravotnickeZarizeniId', 'en': 'Medical devices Id', 'fr': '', 'de': ''}, {'cs': 'PCZ', 'en': 'PCZ', 'fr': '', 'de': ''}, {'cs': 'PCDP', 'en': 'PCDP', 'fr': '', 'de': ''}, {'cs': 'NazevCely', 'en': 'Title Cely', 'fr': '', 'de': ''}, {'cs': 'DruhZarizeni', 'en': 'Type of device', 'fr': '', 'de': ''}, {'cs': 'Obec', 'en': 'Village', 'fr': '', 'de': ''}, {'cs': 'Psc', 'en': 'Zip code', 'fr': '', 'de': ''}, {'cs': 'Ulice', 'en': 'Street', 'fr': '', 'de': ''}, {'cs': 'CisloDomovniOrientacni', 'en': 'Indicative house number', 'fr': '', 'de': ''}, {'cs': 'Kraj', 'en': 'Region', 'fr': '', 'de': ''}, {'cs': 'KrajCode', 'en': 'Region Code', 'fr': '', 'de': ''}, {'cs': 'Okres', 'en': 'District', 'fr': '', 'de': ''}, {'cs': 'OkresCode', 'en': 'District Code', 'fr': '', 'de': ''}, {'cs': 'SpravniObvod', 'en': 'Administrative District', 'fr': '', 'de': ''}, {'cs': 'PoskytovatelTelefon', 'en': 'Phone provider', 'fr': '', 'de': ''}, {'cs': 'PoskytovatelFax', 'en': 'Fax provider', 'fr': '', 'de': ''}, {'cs': 'DatumZahajeniCinnosti', 'en': 'Launch Date', 'fr': '', 'de': ''}, {'cs': 'IdentifikatorDatoveSchranky', 'en': 'Identifier data boxes', 'fr': '', 'de': ''}, {'cs': 'PoskytovatelEmail', 'en': 'Email provider', 'fr': '', 'de': ''}, {'cs': 'PoskytovatelWeb', 'en': 'Web provider', 'fr': '', 'de': ''}, {'cs': 'PoskytovatelNazev', 'en': 'Title provider', 'fr': '', 'de': ''}, {'cs': 'Ico', 'en': 'Ico', 'fr': '', 'de': ''}, {'cs': 'TypOsoby', 'en': 'Type Persons', 'fr': '', 'de': ''}, {'cs': 'PravniFormaKod', 'en': 'Legal form Ko', 'fr': '', 'de': ''}, {'cs': 'KrajCodeSidlo', 'en': 'County Seat of Code', 'fr': '', 'de': ''}, {'cs': 'KrajSidlo', 'en': 'Region of the seat', 'fr': '', 'de': ''}, {'cs': 'OkresCodeSidlo', 'en': 'Seat of District Code', 'fr': '', 'de': ''}, {'cs': 'OkresSidlo', 'en': 'Seat of district', 'fr': '', 'de': ''}, {'cs': 'PscSidlo', 'en': 'Seat of psc', 'fr': '', 'de': ''}, {'cs': 'ObecSidlo', 'en': 'Seat of the municipality', 'fr': '', 'de': ''}, {'cs': 'UliceSidlo', 'en': 'Street seat', 'fr': '', 'de': ''}, {'cs': 'CisloDomovniOrientacniSidlo', 'en': 'Indicative Seat of House numbers', 'fr': '', 'de': ''}, {'cs': 'OborPece', 'en': 'Furnace Branch', 'fr': '', 'de': ''}, {'cs': 'FormaPece', 'en': 'form Furnaces', 'fr': '', 'de': ''}, {'cs': 'DruhPece', 'en': 'Type Furnaces', 'fr': '', 'de': ''}, {'cs': 'OdbornyZastupce', 'en': 'Professional representative', 'fr': '', 'de': ''}, {'cs': 'GPS', 'en': 'GPS', 'fr': '', 'de': ''}, {'cs': 'LastModified', 'en': 'Last Modified', 'fr': '', 'de': ''}]\n",
      "file         : export-2020-02.csv\n",
      "enc          : latin1\n",
      "country      : {'code': 'CZ', 'name': 'Czech Republic'}\n",
      "\n"
     ]
    }
   ],
   "source": [
    "import json\n",
    "with open(os.path.abspath(os.path.join(PACKPATH, 'pyhcs/meta', 'CZhcs.json')), 'r') as fp:\n",
    "    metadata = json.load(fp)\n",
    "metadata = MetaHCS(metadata)\n",
    "print(metadata)"
   ]
  },
  {
   "cell_type": "markdown",
   "metadata": {},
   "source": [
    "The metadata contains in particular information regarding the source dataset. Let's use it to actually retrieve the input data. \n",
    "Given the metadata, we dynamically create a class that will describe data from CZ:"
   ]
  },
  {
   "cell_type": "code",
   "execution_count": 8,
   "metadata": {},
   "outputs": [],
   "source": [
    "CZhcs = hcsFactory(metadata)"
   ]
  },
  {
   "cell_type": "markdown",
   "metadata": {},
   "source": [
    "then create an instance of this class: that's all we need to process the data."
   ]
  },
  {
   "cell_type": "code",
   "execution_count": 9,
   "metadata": {},
   "outputs": [],
   "source": [
    "cz = CZhcs()"
   ]
  },
  {
   "cell_type": "markdown",
   "metadata": {},
   "source": [
    "Given the `file` and `path` fields of the `metadata` variable, data can be loaded using the `load_data` method (without argument, since they are all intrinsically provided with the metadata):"
   ]
  },
  {
   "cell_type": "code",
   "execution_count": 10,
   "metadata": {},
   "outputs": [],
   "source": [
    "cz.load_data()"
   ]
  },
  {
   "cell_type": "markdown",
   "metadata": {},
   "source": [
    "Check the input data, _e.g._ let's have a look at the column names and the content of the table:"
   ]
  },
  {
   "cell_type": "code",
   "execution_count": 11,
   "metadata": {},
   "outputs": [
    {
     "name": "stdout",
     "output_type": "stream",
     "text": [
      "input data columns: ['ZdravotnickeZarizeniId', 'PCZ', 'PCDP', 'NazevCely', 'DruhZarizeni', 'Obec', 'Psc', 'Ulice', 'CisloDomovniOrientacni', 'Kraj', 'KrajCode', 'Okres', 'OkresCode', 'SpravniObvod', 'PoskytovatelTelefon', 'PoskytovatelFax', 'DatumZahajeniCinnosti', 'IdentifikatorDatoveSchranky', 'PoskytovatelEmail', 'PoskytovatelWeb', 'PoskytovatelNazev', 'Ico', 'TypOsoby', 'PravniFormaKod', 'KrajCodeSidlo', 'KrajSidlo', 'OkresCodeSidlo', 'OkresSidlo', 'PscSidlo', 'ObecSidlo', 'UliceSidlo', 'CisloDomovniOrientacniSidlo', 'OborPece', 'FormaPece', 'DruhPece', 'OdbornyZastupce', 'GPS', 'LastModified']\n"
     ]
    },
    {
     "data": {
      "text/html": [
       "<div>\n",
       "<style scoped>\n",
       "    .dataframe tbody tr th:only-of-type {\n",
       "        vertical-align: middle;\n",
       "    }\n",
       "\n",
       "    .dataframe tbody tr th {\n",
       "        vertical-align: top;\n",
       "    }\n",
       "\n",
       "    .dataframe thead th {\n",
       "        text-align: right;\n",
       "    }\n",
       "</style>\n",
       "<table border=\"1\" class=\"dataframe\">\n",
       "  <thead>\n",
       "    <tr style=\"text-align: right;\">\n",
       "      <th></th>\n",
       "      <th>ZdravotnickeZarizeniId</th>\n",
       "      <th>PCZ</th>\n",
       "      <th>PCDP</th>\n",
       "      <th>NazevCely</th>\n",
       "      <th>DruhZarizeni</th>\n",
       "      <th>Obec</th>\n",
       "      <th>Psc</th>\n",
       "      <th>Ulice</th>\n",
       "      <th>CisloDomovniOrientacni</th>\n",
       "      <th>Kraj</th>\n",
       "      <th>...</th>\n",
       "      <th>PscSidlo</th>\n",
       "      <th>ObecSidlo</th>\n",
       "      <th>UliceSidlo</th>\n",
       "      <th>CisloDomovniOrientacniSidlo</th>\n",
       "      <th>OborPece</th>\n",
       "      <th>FormaPece</th>\n",
       "      <th>DruhPece</th>\n",
       "      <th>OdbornyZastupce</th>\n",
       "      <th>GPS</th>\n",
       "      <th>LastModified</th>\n",
       "    </tr>\n",
       "  </thead>\n",
       "  <tbody>\n",
       "    <tr>\n",
       "      <th>0</th>\n",
       "      <td>138130</td>\n",
       "      <td>0</td>\n",
       "      <td>1</td>\n",
       "      <td>Zubní studio V+V s.r.o.</td>\n",
       "      <td>Samostatná ordinace PL - stomatologa</td>\n",
       "      <td>Pelhøimov</td>\n",
       "      <td>39301</td>\n",
       "      <td>Komenského</td>\n",
       "      <td>1465</td>\n",
       "      <td>Kraj Vysoèina</td>\n",
       "      <td>...</td>\n",
       "      <td>39301</td>\n",
       "      <td>Pelhøimov</td>\n",
       "      <td>Pod Náspem</td>\n",
       "      <td>641</td>\n",
       "      <td>zubní lékaøství, Dentální hygienistka</td>\n",
       "      <td>primární ambulantní péèe, specializovaná ambul...</td>\n",
       "      <td>NaN</td>\n",
       "      <td>Veronika kodová, Vít koda</td>\n",
       "      <td>49.427787867131 15.218289906425</td>\n",
       "      <td>01-02-2020 23:03</td>\n",
       "    </tr>\n",
       "    <tr>\n",
       "      <th>1</th>\n",
       "      <td>138129</td>\n",
       "      <td>0</td>\n",
       "      <td>4</td>\n",
       "      <td>TECTUM spol. s r.o.</td>\n",
       "      <td>Odbìrová místnost</td>\n",
       "      <td>Most</td>\n",
       "      <td>43401</td>\n",
       "      <td>Topolová</td>\n",
       "      <td>1234</td>\n",
       "      <td>Ústecký kraj</td>\n",
       "      <td>...</td>\n",
       "      <td>36001</td>\n",
       "      <td>Karlovy Vary</td>\n",
       "      <td>Bezruèova</td>\n",
       "      <td>1098/10</td>\n",
       "      <td>klinická biochemie</td>\n",
       "      <td>specializovaná ambulantní péèe</td>\n",
       "      <td>NaN</td>\n",
       "      <td>David Hepnar, JITKA PODROUKOVÁ</td>\n",
       "      <td>50.497217046878 13.650265371038</td>\n",
       "      <td>01-02-2020 23:03</td>\n",
       "    </tr>\n",
       "    <tr>\n",
       "      <th>2</th>\n",
       "      <td>138128</td>\n",
       "      <td>1</td>\n",
       "      <td>0</td>\n",
       "      <td>MUDr. Milan Kuèera, s.r.o.</td>\n",
       "      <td>Samostatná ordinace lékaøe specialisty</td>\n",
       "      <td>Praha</td>\n",
       "      <td>15000</td>\n",
       "      <td>Kartouzská</td>\n",
       "      <td>3274/10</td>\n",
       "      <td>Hlavní mìsto Praha</td>\n",
       "      <td>...</td>\n",
       "      <td>27201</td>\n",
       "      <td>Kladno</td>\n",
       "      <td>T. G. Masaryka</td>\n",
       "      <td>2104</td>\n",
       "      <td>dermatovenerologie</td>\n",
       "      <td>ambulantní péèe</td>\n",
       "      <td>NaN</td>\n",
       "      <td>Jan Kuèera</td>\n",
       "      <td>50.073416715218 14.401090995315</td>\n",
       "      <td>01-02-2020 23:03</td>\n",
       "    </tr>\n",
       "    <tr>\n",
       "      <th>3</th>\n",
       "      <td>138127</td>\n",
       "      <td>1</td>\n",
       "      <td>0</td>\n",
       "      <td>Tereza Horáèková</td>\n",
       "      <td>Výdejna zdravotnických prostøedkù</td>\n",
       "      <td>Praha</td>\n",
       "      <td>18200</td>\n",
       "      <td>Klapkova</td>\n",
       "      <td>154/46</td>\n",
       "      <td>Hlavní mìsto Praha</td>\n",
       "      <td>...</td>\n",
       "      <td>NaN</td>\n",
       "      <td>NaN</td>\n",
       "      <td>NaN</td>\n",
       "      <td>NaN</td>\n",
       "      <td>praktické lékárenství</td>\n",
       "      <td>NaN</td>\n",
       "      <td>lékárenská péèe</td>\n",
       "      <td>Petra Holasová</td>\n",
       "      <td>50.126760922745 14.456956313382</td>\n",
       "      <td>01-02-2020 23:03</td>\n",
       "    </tr>\n",
       "    <tr>\n",
       "      <th>4</th>\n",
       "      <td>138126</td>\n",
       "      <td>0</td>\n",
       "      <td>0</td>\n",
       "      <td>Veobecný lékaø Prevent s.r.o.</td>\n",
       "      <td>Samost. ordinace veob. prakt. lékaøe</td>\n",
       "      <td>Telè</td>\n",
       "      <td>58856</td>\n",
       "      <td>Masarykova</td>\n",
       "      <td>330</td>\n",
       "      <td>Kraj Vysoèina</td>\n",
       "      <td>...</td>\n",
       "      <td>28163</td>\n",
       "      <td>Kozojedy</td>\n",
       "      <td>1. máje</td>\n",
       "      <td>67</td>\n",
       "      <td>veobecné praktické lékaøství, veobecné prakt...</td>\n",
       "      <td>primární ambulantní péèe, zdrav. péèe poskytov...</td>\n",
       "      <td>NaN</td>\n",
       "      <td>ARNOT STANÌK</td>\n",
       "      <td>49.183499865155 15.45981410537</td>\n",
       "      <td>01-02-2020 23:03</td>\n",
       "    </tr>\n",
       "    <tr>\n",
       "      <th>5</th>\n",
       "      <td>138124</td>\n",
       "      <td>0</td>\n",
       "      <td>1</td>\n",
       "      <td>Mgr. Alice Èapková</td>\n",
       "      <td>Samostatné zaøízení fyzioterapeuta</td>\n",
       "      <td>Praha</td>\n",
       "      <td>15000</td>\n",
       "      <td>Ostrovského</td>\n",
       "      <td>253/3</td>\n",
       "      <td>Hlavní mìsto Praha</td>\n",
       "      <td>...</td>\n",
       "      <td>NaN</td>\n",
       "      <td>NaN</td>\n",
       "      <td>NaN</td>\n",
       "      <td>NaN</td>\n",
       "      <td>Fyzioterapeut, Fyzioterapeut</td>\n",
       "      <td>ambulantní péèe, zdrav. péèe poskytovaná ve vl...</td>\n",
       "      <td>NaN</td>\n",
       "      <td>NaN</td>\n",
       "      <td>50.068645322094 14.402774417737</td>\n",
       "      <td>01-02-2020 23:03</td>\n",
       "    </tr>\n",
       "    <tr>\n",
       "      <th>6</th>\n",
       "      <td>138122</td>\n",
       "      <td>11</td>\n",
       "      <td>0</td>\n",
       "      <td>FOKUS optik a.s.</td>\n",
       "      <td>Oèní optika</td>\n",
       "      <td>Tøebíè</td>\n",
       "      <td>67401</td>\n",
       "      <td>Karlovo nám.</td>\n",
       "      <td>51/40</td>\n",
       "      <td>Kraj Vysoèina</td>\n",
       "      <td>...</td>\n",
       "      <td>18200</td>\n",
       "      <td>Praha</td>\n",
       "      <td>Tøeboradická</td>\n",
       "      <td>1110/51</td>\n",
       "      <td>Optometrista</td>\n",
       "      <td>specializovaná ambulantní péèe</td>\n",
       "      <td>NaN</td>\n",
       "      <td>DAVID FRIEDMAN</td>\n",
       "      <td>49.215606066693 15.881323723794</td>\n",
       "      <td>01-02-2020 23:03</td>\n",
       "    </tr>\n",
       "    <tr>\n",
       "      <th>7</th>\n",
       "      <td>138121</td>\n",
       "      <td>2</td>\n",
       "      <td>0</td>\n",
       "      <td>BeBridge a.s., Lékárna U Slunce</td>\n",
       "      <td>Lékárna</td>\n",
       "      <td>Liberec</td>\n",
       "      <td>46014</td>\n",
       "      <td>Vrchlického</td>\n",
       "      <td>802/46</td>\n",
       "      <td>Liberecký kraj</td>\n",
       "      <td>...</td>\n",
       "      <td>63900</td>\n",
       "      <td>Brno</td>\n",
       "      <td>Bidláky</td>\n",
       "      <td>837/20</td>\n",
       "      <td>NaN</td>\n",
       "      <td>NaN</td>\n",
       "      <td>lékárenská péèe</td>\n",
       "      <td>BLANKA HUDCOVÁ</td>\n",
       "      <td>50.783464595769 15.060350115097</td>\n",
       "      <td>01-02-2020 23:03</td>\n",
       "    </tr>\n",
       "    <tr>\n",
       "      <th>8</th>\n",
       "      <td>138120</td>\n",
       "      <td>0</td>\n",
       "      <td>0</td>\n",
       "      <td>ART OPTIKA ZHÁNÌL s.r.o.</td>\n",
       "      <td>Oèní optika</td>\n",
       "      <td>Ostrava</td>\n",
       "      <td>70800</td>\n",
       "      <td>námìstí Jana Nerudy</td>\n",
       "      <td>614/6</td>\n",
       "      <td>Moravskoslezský kraj</td>\n",
       "      <td>...</td>\n",
       "      <td>74301</td>\n",
       "      <td>Bítov</td>\n",
       "      <td>NaN</td>\n",
       "      <td>147</td>\n",
       "      <td>Optometrista</td>\n",
       "      <td>specializovaná ambulantní péèe</td>\n",
       "      <td>NaN</td>\n",
       "      <td>Radovan Krejcha</td>\n",
       "      <td>49.829347272973 18.164683025831</td>\n",
       "      <td>01-02-2020 23:03</td>\n",
       "    </tr>\n",
       "    <tr>\n",
       "      <th>9</th>\n",
       "      <td>138116</td>\n",
       "      <td>0</td>\n",
       "      <td>0</td>\n",
       "      <td>ZLATICA MESJAROVÁ DiS.</td>\n",
       "      <td>Samostatné zaøízení nelékaøe - jiné</td>\n",
       "      <td>Brandýs nad Labem-Stará Boleslav</td>\n",
       "      <td>25001</td>\n",
       "      <td>Výletní</td>\n",
       "      <td>1411</td>\n",
       "      <td>Støedoèeský kraj</td>\n",
       "      <td>...</td>\n",
       "      <td>25001</td>\n",
       "      <td>Brandýs nad Labem-Stará Boleslav</td>\n",
       "      <td>Výletní</td>\n",
       "      <td>1411</td>\n",
       "      <td>Dentální hygienistka</td>\n",
       "      <td>specializovaná ambulantní péèe</td>\n",
       "      <td>NaN</td>\n",
       "      <td>NaN</td>\n",
       "      <td>50.182852358333 14.656601659872</td>\n",
       "      <td>01-02-2020 23:03</td>\n",
       "    </tr>\n",
       "  </tbody>\n",
       "</table>\n",
       "<p>10 rows × 38 columns</p>\n",
       "</div>"
      ],
      "text/plain": [
       "  ZdravotnickeZarizeniId PCZ PCDP                        NazevCely  \\\n",
       "0                 138130   0    1          Zubní studio V+V s.r.o.   \n",
       "1                 138129   0    4              TECTUM spol. s r.o.   \n",
       "2                 138128   1    0       MUDr. Milan Kuèera, s.r.o.   \n",
       "3                 138127   1    0                 Tereza Horáèková   \n",
       "4                 138126   0    0   Veobecný lékaø Prevent s.r.o.   \n",
       "5                 138124   0    1               Mgr. Alice Èapková   \n",
       "6                 138122  11    0                 FOKUS optik a.s.   \n",
       "7                 138121   2    0  BeBridge a.s., Lékárna U Slunce   \n",
       "8                 138120   0    0         ART OPTIKA ZHÁNÌL s.r.o.   \n",
       "9                 138116   0    0           ZLATICA MESJAROVÁ DiS.   \n",
       "\n",
       "                             DruhZarizeni                              Obec  \\\n",
       "0    Samostatná ordinace PL - stomatologa                         Pelhøimov   \n",
       "1                       Odbìrová místnost                              Most   \n",
       "2  Samostatná ordinace lékaøe specialisty                             Praha   \n",
       "3       Výdejna zdravotnických prostøedkù                             Praha   \n",
       "4   Samost. ordinace veob. prakt. lékaøe                              Telè   \n",
       "5      Samostatné zaøízení fyzioterapeuta                             Praha   \n",
       "6                             Oèní optika                            Tøebíè   \n",
       "7                                 Lékárna                           Liberec   \n",
       "8                             Oèní optika                           Ostrava   \n",
       "9     Samostatné zaøízení nelékaøe - jiné  Brandýs nad Labem-Stará Boleslav   \n",
       "\n",
       "     Psc                Ulice CisloDomovniOrientacni                  Kraj  \\\n",
       "0  39301           Komenského                   1465         Kraj Vysoèina   \n",
       "1  43401             Topolová                   1234          Ústecký kraj   \n",
       "2  15000           Kartouzská                3274/10    Hlavní mìsto Praha   \n",
       "3  18200             Klapkova                 154/46    Hlavní mìsto Praha   \n",
       "4  58856           Masarykova                    330         Kraj Vysoèina   \n",
       "5  15000          Ostrovského                  253/3    Hlavní mìsto Praha   \n",
       "6  67401         Karlovo nám.                  51/40         Kraj Vysoèina   \n",
       "7  46014          Vrchlického                 802/46        Liberecký kraj   \n",
       "8  70800  námìstí Jana Nerudy                  614/6  Moravskoslezský kraj   \n",
       "9  25001              Výletní                   1411      Støedoèeský kraj   \n",
       "\n",
       "         ...        PscSidlo                         ObecSidlo  \\\n",
       "0        ...           39301                         Pelhøimov   \n",
       "1        ...           36001                      Karlovy Vary   \n",
       "2        ...           27201                            Kladno   \n",
       "3        ...             NaN                               NaN   \n",
       "4        ...           28163                          Kozojedy   \n",
       "5        ...             NaN                               NaN   \n",
       "6        ...           18200                             Praha   \n",
       "7        ...           63900                              Brno   \n",
       "8        ...           74301                             Bítov   \n",
       "9        ...           25001  Brandýs nad Labem-Stará Boleslav   \n",
       "\n",
       "       UliceSidlo CisloDomovniOrientacniSidlo  \\\n",
       "0      Pod Náspem                         641   \n",
       "1       Bezruèova                     1098/10   \n",
       "2  T. G. Masaryka                        2104   \n",
       "3             NaN                         NaN   \n",
       "4         1. máje                          67   \n",
       "5             NaN                         NaN   \n",
       "6    Tøeboradická                     1110/51   \n",
       "7         Bidláky                      837/20   \n",
       "8             NaN                         147   \n",
       "9         Výletní                        1411   \n",
       "\n",
       "                                            OborPece  \\\n",
       "0              zubní lékaøství, Dentální hygienistka   \n",
       "1                                 klinická biochemie   \n",
       "2                                 dermatovenerologie   \n",
       "3                              praktické lékárenství   \n",
       "4  veobecné praktické lékaøství, veobecné prakt...   \n",
       "5                       Fyzioterapeut, Fyzioterapeut   \n",
       "6                                       Optometrista   \n",
       "7                                                NaN   \n",
       "8                                       Optometrista   \n",
       "9                               Dentální hygienistka   \n",
       "\n",
       "                                           FormaPece         DruhPece  \\\n",
       "0  primární ambulantní péèe, specializovaná ambul...              NaN   \n",
       "1                     specializovaná ambulantní péèe              NaN   \n",
       "2                                    ambulantní péèe              NaN   \n",
       "3                                                NaN  lékárenská péèe   \n",
       "4  primární ambulantní péèe, zdrav. péèe poskytov...              NaN   \n",
       "5  ambulantní péèe, zdrav. péèe poskytovaná ve vl...              NaN   \n",
       "6                     specializovaná ambulantní péèe              NaN   \n",
       "7                                                NaN  lékárenská péèe   \n",
       "8                     specializovaná ambulantní péèe              NaN   \n",
       "9                     specializovaná ambulantní péèe              NaN   \n",
       "\n",
       "                   OdbornyZastupce                              GPS  \\\n",
       "0      Veronika kodová, Vít koda  49.427787867131 15.218289906425   \n",
       "1  David Hepnar, JITKA PODROUKOVÁ  50.497217046878 13.650265371038   \n",
       "2                       Jan Kuèera  50.073416715218 14.401090995315   \n",
       "3                   Petra Holasová  50.126760922745 14.456956313382   \n",
       "4                    ARNOT STANÌK   49.183499865155 15.45981410537   \n",
       "5                              NaN  50.068645322094 14.402774417737   \n",
       "6                   DAVID FRIEDMAN  49.215606066693 15.881323723794   \n",
       "7                   BLANKA HUDCOVÁ  50.783464595769 15.060350115097   \n",
       "8                  Radovan Krejcha  49.829347272973 18.164683025831   \n",
       "9                              NaN  50.182852358333 14.656601659872   \n",
       "\n",
       "       LastModified  \n",
       "0  01-02-2020 23:03  \n",
       "1  01-02-2020 23:03  \n",
       "2  01-02-2020 23:03  \n",
       "3  01-02-2020 23:03  \n",
       "4  01-02-2020 23:03  \n",
       "5  01-02-2020 23:03  \n",
       "6  01-02-2020 23:03  \n",
       "7  01-02-2020 23:03  \n",
       "8  01-02-2020 23:03  \n",
       "9  01-02-2020 23:03  \n",
       "\n",
       "[10 rows x 38 columns]"
      ]
     },
     "execution_count": 11,
     "metadata": {},
     "output_type": "execute_result"
    }
   ],
   "source": [
    "print(\"input data columns: %s\" % list(cz.data.columns))\n",
    "cz.data.head(10)"
   ]
  },
  {
   "cell_type": "markdown",
   "metadata": {},
   "source": [
    "We know the geographical coordinates are actually stored as a single variable in the `GPS` column:"
   ]
  },
  {
   "cell_type": "code",
   "execution_count": 12,
   "metadata": {},
   "outputs": [
    {
     "data": {
      "text/plain": [
       "0    49.427787867131 15.218289906425\n",
       "1    50.497217046878 13.650265371038\n",
       "2    50.073416715218 14.401090995315\n",
       "3    50.126760922745 14.456956313382\n",
       "4     49.183499865155 15.45981410537\n",
       "5    50.068645322094 14.402774417737\n",
       "6    49.215606066693 15.881323723794\n",
       "7    50.783464595769 15.060350115097\n",
       "8    49.829347272973 18.164683025831\n",
       "9    50.182852358333 14.656601659872\n",
       "Name: GPS, dtype: object"
      ]
     },
     "execution_count": 12,
     "metadata": {},
     "output_type": "execute_result"
    }
   ],
   "source": [
    "cz.data['GPS'].head(10)"
   ]
  },
  {
   "cell_type": "markdown",
   "metadata": {},
   "source": [
    "The `index` field of the `metadata` variable actually tells us about it, and also about other potential matching: "
   ]
  },
  {
   "cell_type": "code",
   "execution_count": 13,
   "metadata": {},
   "outputs": [
    {
     "name": "stdout",
     "output_type": "stream",
     "text": [
      "coordinate attribute \u001b[1m'lat'\u001b[0m is available through the column \u001b[1m'GPS'\u001b[0m of the input table\n",
      "coordinate attribute \u001b[1m'lon'\u001b[0m is available through the column \u001b[1m'GPS'\u001b[0m of the input table\n",
      "other matching variables are listed as:\n"
     ]
    },
    {
     "data": {
      "text/plain": [
       "{'id': 'Medical devices Id',\n",
       " 'name': 'Medical devices Id',\n",
       " 'site': 'Title Cely',\n",
       " 'lat': 'GPS',\n",
       " 'lon': 'GPS',\n",
       " 'street': 'Street',\n",
       " 'number': 'Indicative house number',\n",
       " 'postcode': 'Zip code',\n",
       " 'city': 'Village',\n",
       " 'cc': 'cc',\n",
       " 'country': 'country',\n",
       " 'pubdate': 'Last Modified'}"
      ]
     },
     "execution_count": 13,
     "metadata": {},
     "output_type": "execute_result"
    }
   ],
   "source": [
    "[print(\"coordinate attribute \\033[1m'%s'\\033[0m is available through the column \\033[1m'%s'\\033[0m of the input table\" % (l, metadata['index'][l])) \n",
    "     for l in ['lat', 'lon']]\n",
    "print(\"other matching variables are listed as:\")\n",
    "{k:v for (k,v) in metadata['index'].items() if v is not None}"
   ]
  },
  {
   "cell_type": "markdown",
   "metadata": {},
   "source": [
    "The integration/matching/extraction process is actually run with the `format_data` method (this time again without arguments):"
   ]
  },
  {
   "cell_type": "code",
   "execution_count": 14,
   "metadata": {},
   "outputs": [],
   "source": [
    "cz.format_data()"
   ]
  },
  {
   "cell_type": "markdown",
   "metadata": {},
   "source": [
    "Check the output data, _e.g._ let's have a look at the column names and the content of the table:"
   ]
  },
  {
   "cell_type": "code",
   "execution_count": 15,
   "metadata": {},
   "outputs": [
    {
     "name": "stdout",
     "output_type": "stream",
     "text": [
      "output data attributes: ['id', 'site_name', 'city', 'postcode', 'street', 'house_number', 'pub_date', 'country', 'cc', 'lat', 'lon', 'geo_qual', 'hospital_name']\n"
     ]
    },
    {
     "data": {
      "text/html": [
       "<div>\n",
       "<style scoped>\n",
       "    .dataframe tbody tr th:only-of-type {\n",
       "        vertical-align: middle;\n",
       "    }\n",
       "\n",
       "    .dataframe tbody tr th {\n",
       "        vertical-align: top;\n",
       "    }\n",
       "\n",
       "    .dataframe thead th {\n",
       "        text-align: right;\n",
       "    }\n",
       "</style>\n",
       "<table border=\"1\" class=\"dataframe\">\n",
       "  <thead>\n",
       "    <tr style=\"text-align: right;\">\n",
       "      <th></th>\n",
       "      <th>id</th>\n",
       "      <th>site_name</th>\n",
       "      <th>city</th>\n",
       "      <th>postcode</th>\n",
       "      <th>street</th>\n",
       "      <th>house_number</th>\n",
       "      <th>pub_date</th>\n",
       "      <th>country</th>\n",
       "      <th>cc</th>\n",
       "      <th>lat</th>\n",
       "      <th>lon</th>\n",
       "      <th>geo_qual</th>\n",
       "      <th>hospital_name</th>\n",
       "    </tr>\n",
       "  </thead>\n",
       "  <tbody>\n",
       "    <tr>\n",
       "      <th>0</th>\n",
       "      <td>138130</td>\n",
       "      <td>Zubní studio V+V s.r.o.</td>\n",
       "      <td>Pelhøimov</td>\n",
       "      <td>39301</td>\n",
       "      <td>Komenského</td>\n",
       "      <td>1465</td>\n",
       "      <td>01-02-2020 23:03</td>\n",
       "      <td>Czech Republic</td>\n",
       "      <td>CZ</td>\n",
       "      <td>49.427788</td>\n",
       "      <td>15.218290</td>\n",
       "      <td>3</td>\n",
       "      <td>138130</td>\n",
       "    </tr>\n",
       "    <tr>\n",
       "      <th>1</th>\n",
       "      <td>138129</td>\n",
       "      <td>TECTUM spol. s r.o.</td>\n",
       "      <td>Most</td>\n",
       "      <td>43401</td>\n",
       "      <td>Topolová</td>\n",
       "      <td>1234</td>\n",
       "      <td>01-02-2020 23:03</td>\n",
       "      <td>Czech Republic</td>\n",
       "      <td>CZ</td>\n",
       "      <td>50.497217</td>\n",
       "      <td>13.650265</td>\n",
       "      <td>3</td>\n",
       "      <td>138129</td>\n",
       "    </tr>\n",
       "    <tr>\n",
       "      <th>2</th>\n",
       "      <td>138128</td>\n",
       "      <td>MUDr. Milan Kuèera, s.r.o.</td>\n",
       "      <td>Praha</td>\n",
       "      <td>15000</td>\n",
       "      <td>Kartouzská</td>\n",
       "      <td>3274/10</td>\n",
       "      <td>01-02-2020 23:03</td>\n",
       "      <td>Czech Republic</td>\n",
       "      <td>CZ</td>\n",
       "      <td>50.073417</td>\n",
       "      <td>14.401091</td>\n",
       "      <td>3</td>\n",
       "      <td>138128</td>\n",
       "    </tr>\n",
       "    <tr>\n",
       "      <th>3</th>\n",
       "      <td>138127</td>\n",
       "      <td>Tereza Horáèková</td>\n",
       "      <td>Praha</td>\n",
       "      <td>18200</td>\n",
       "      <td>Klapkova</td>\n",
       "      <td>154/46</td>\n",
       "      <td>01-02-2020 23:03</td>\n",
       "      <td>Czech Republic</td>\n",
       "      <td>CZ</td>\n",
       "      <td>50.126761</td>\n",
       "      <td>14.456956</td>\n",
       "      <td>3</td>\n",
       "      <td>138127</td>\n",
       "    </tr>\n",
       "    <tr>\n",
       "      <th>4</th>\n",
       "      <td>138126</td>\n",
       "      <td>Veobecný lékaø Prevent s.r.o.</td>\n",
       "      <td>Telè</td>\n",
       "      <td>58856</td>\n",
       "      <td>Masarykova</td>\n",
       "      <td>330</td>\n",
       "      <td>01-02-2020 23:03</td>\n",
       "      <td>Czech Republic</td>\n",
       "      <td>CZ</td>\n",
       "      <td>49.183500</td>\n",
       "      <td>15.459814</td>\n",
       "      <td>3</td>\n",
       "      <td>138126</td>\n",
       "    </tr>\n",
       "    <tr>\n",
       "      <th>5</th>\n",
       "      <td>138124</td>\n",
       "      <td>Mgr. Alice Èapková</td>\n",
       "      <td>Praha</td>\n",
       "      <td>15000</td>\n",
       "      <td>Ostrovského</td>\n",
       "      <td>253/3</td>\n",
       "      <td>01-02-2020 23:03</td>\n",
       "      <td>Czech Republic</td>\n",
       "      <td>CZ</td>\n",
       "      <td>50.068645</td>\n",
       "      <td>14.402774</td>\n",
       "      <td>3</td>\n",
       "      <td>138124</td>\n",
       "    </tr>\n",
       "    <tr>\n",
       "      <th>6</th>\n",
       "      <td>138122</td>\n",
       "      <td>FOKUS optik a.s.</td>\n",
       "      <td>Tøebíè</td>\n",
       "      <td>67401</td>\n",
       "      <td>Karlovo nám.</td>\n",
       "      <td>51/40</td>\n",
       "      <td>01-02-2020 23:03</td>\n",
       "      <td>Czech Republic</td>\n",
       "      <td>CZ</td>\n",
       "      <td>49.215606</td>\n",
       "      <td>15.881324</td>\n",
       "      <td>3</td>\n",
       "      <td>138122</td>\n",
       "    </tr>\n",
       "    <tr>\n",
       "      <th>7</th>\n",
       "      <td>138121</td>\n",
       "      <td>BeBridge a.s., Lékárna U Slunce</td>\n",
       "      <td>Liberec</td>\n",
       "      <td>46014</td>\n",
       "      <td>Vrchlického</td>\n",
       "      <td>802/46</td>\n",
       "      <td>01-02-2020 23:03</td>\n",
       "      <td>Czech Republic</td>\n",
       "      <td>CZ</td>\n",
       "      <td>50.783465</td>\n",
       "      <td>15.060350</td>\n",
       "      <td>3</td>\n",
       "      <td>138121</td>\n",
       "    </tr>\n",
       "    <tr>\n",
       "      <th>8</th>\n",
       "      <td>138120</td>\n",
       "      <td>ART OPTIKA ZHÁNÌL s.r.o.</td>\n",
       "      <td>Ostrava</td>\n",
       "      <td>70800</td>\n",
       "      <td>námìstí Jana Nerudy</td>\n",
       "      <td>614/6</td>\n",
       "      <td>01-02-2020 23:03</td>\n",
       "      <td>Czech Republic</td>\n",
       "      <td>CZ</td>\n",
       "      <td>49.829347</td>\n",
       "      <td>18.164683</td>\n",
       "      <td>3</td>\n",
       "      <td>138120</td>\n",
       "    </tr>\n",
       "    <tr>\n",
       "      <th>9</th>\n",
       "      <td>138116</td>\n",
       "      <td>ZLATICA MESJAROVÁ DiS.</td>\n",
       "      <td>Brandýs nad Labem-Stará Boleslav</td>\n",
       "      <td>25001</td>\n",
       "      <td>Výletní</td>\n",
       "      <td>1411</td>\n",
       "      <td>01-02-2020 23:03</td>\n",
       "      <td>Czech Republic</td>\n",
       "      <td>CZ</td>\n",
       "      <td>50.182852</td>\n",
       "      <td>14.656602</td>\n",
       "      <td>3</td>\n",
       "      <td>138116</td>\n",
       "    </tr>\n",
       "  </tbody>\n",
       "</table>\n",
       "</div>"
      ],
      "text/plain": [
       "       id                        site_name                              city  \\\n",
       "0  138130          Zubní studio V+V s.r.o.                         Pelhøimov   \n",
       "1  138129              TECTUM spol. s r.o.                              Most   \n",
       "2  138128       MUDr. Milan Kuèera, s.r.o.                             Praha   \n",
       "3  138127                 Tereza Horáèková                             Praha   \n",
       "4  138126   Veobecný lékaø Prevent s.r.o.                              Telè   \n",
       "5  138124               Mgr. Alice Èapková                             Praha   \n",
       "6  138122                 FOKUS optik a.s.                            Tøebíè   \n",
       "7  138121  BeBridge a.s., Lékárna U Slunce                           Liberec   \n",
       "8  138120         ART OPTIKA ZHÁNÌL s.r.o.                           Ostrava   \n",
       "9  138116           ZLATICA MESJAROVÁ DiS.  Brandýs nad Labem-Stará Boleslav   \n",
       "\n",
       "  postcode               street house_number          pub_date  \\\n",
       "0    39301           Komenského         1465  01-02-2020 23:03   \n",
       "1    43401             Topolová         1234  01-02-2020 23:03   \n",
       "2    15000           Kartouzská      3274/10  01-02-2020 23:03   \n",
       "3    18200             Klapkova       154/46  01-02-2020 23:03   \n",
       "4    58856           Masarykova          330  01-02-2020 23:03   \n",
       "5    15000          Ostrovského        253/3  01-02-2020 23:03   \n",
       "6    67401         Karlovo nám.        51/40  01-02-2020 23:03   \n",
       "7    46014          Vrchlického       802/46  01-02-2020 23:03   \n",
       "8    70800  námìstí Jana Nerudy        614/6  01-02-2020 23:03   \n",
       "9    25001              Výletní         1411  01-02-2020 23:03   \n",
       "\n",
       "          country  cc        lat        lon  geo_qual  hospital_name  \n",
       "0  Czech Republic  CZ  49.427788  15.218290         3         138130  \n",
       "1  Czech Republic  CZ  50.497217  13.650265         3         138129  \n",
       "2  Czech Republic  CZ  50.073417  14.401091         3         138128  \n",
       "3  Czech Republic  CZ  50.126761  14.456956         3         138127  \n",
       "4  Czech Republic  CZ  49.183500  15.459814         3         138126  \n",
       "5  Czech Republic  CZ  50.068645  14.402774         3         138124  \n",
       "6  Czech Republic  CZ  49.215606  15.881324         3         138122  \n",
       "7  Czech Republic  CZ  50.783465  15.060350         3         138121  \n",
       "8  Czech Republic  CZ  49.829347  18.164683         3         138120  \n",
       "9  Czech Republic  CZ  50.182852  14.656602         3         138116  "
      ]
     },
     "execution_count": 15,
     "metadata": {},
     "output_type": "execute_result"
    }
   ],
   "source": [
    "assert set(cz.data.columns).difference(set([ind['name'] for ind in config.INDEX.values()])) == set()\n",
    "print(\"output data attributes: %s\" % list(cz.data.columns))\n",
    "cz.data.head(10)"
   ]
  },
  {
   "cell_type": "markdown",
   "metadata": {},
   "source": [
    "See in particular the `lat`/`lon` attributes that were retrieved:"
   ]
  },
  {
   "cell_type": "code",
   "execution_count": 16,
   "metadata": {},
   "outputs": [
    {
     "data": {
      "text/html": [
       "<div>\n",
       "<style scoped>\n",
       "    .dataframe tbody tr th:only-of-type {\n",
       "        vertical-align: middle;\n",
       "    }\n",
       "\n",
       "    .dataframe tbody tr th {\n",
       "        vertical-align: top;\n",
       "    }\n",
       "\n",
       "    .dataframe thead th {\n",
       "        text-align: right;\n",
       "    }\n",
       "</style>\n",
       "<table border=\"1\" class=\"dataframe\">\n",
       "  <thead>\n",
       "    <tr style=\"text-align: right;\">\n",
       "      <th></th>\n",
       "      <th>lat</th>\n",
       "      <th>lon</th>\n",
       "    </tr>\n",
       "  </thead>\n",
       "  <tbody>\n",
       "    <tr>\n",
       "      <th>0</th>\n",
       "      <td>49.427788</td>\n",
       "      <td>15.218290</td>\n",
       "    </tr>\n",
       "    <tr>\n",
       "      <th>1</th>\n",
       "      <td>50.497217</td>\n",
       "      <td>13.650265</td>\n",
       "    </tr>\n",
       "    <tr>\n",
       "      <th>2</th>\n",
       "      <td>50.073417</td>\n",
       "      <td>14.401091</td>\n",
       "    </tr>\n",
       "    <tr>\n",
       "      <th>3</th>\n",
       "      <td>50.126761</td>\n",
       "      <td>14.456956</td>\n",
       "    </tr>\n",
       "    <tr>\n",
       "      <th>4</th>\n",
       "      <td>49.183500</td>\n",
       "      <td>15.459814</td>\n",
       "    </tr>\n",
       "    <tr>\n",
       "      <th>5</th>\n",
       "      <td>50.068645</td>\n",
       "      <td>14.402774</td>\n",
       "    </tr>\n",
       "    <tr>\n",
       "      <th>6</th>\n",
       "      <td>49.215606</td>\n",
       "      <td>15.881324</td>\n",
       "    </tr>\n",
       "    <tr>\n",
       "      <th>7</th>\n",
       "      <td>50.783465</td>\n",
       "      <td>15.060350</td>\n",
       "    </tr>\n",
       "    <tr>\n",
       "      <th>8</th>\n",
       "      <td>49.829347</td>\n",
       "      <td>18.164683</td>\n",
       "    </tr>\n",
       "    <tr>\n",
       "      <th>9</th>\n",
       "      <td>50.182852</td>\n",
       "      <td>14.656602</td>\n",
       "    </tr>\n",
       "  </tbody>\n",
       "</table>\n",
       "</div>"
      ],
      "text/plain": [
       "         lat        lon\n",
       "0  49.427788  15.218290\n",
       "1  50.497217  13.650265\n",
       "2  50.073417  14.401091\n",
       "3  50.126761  14.456956\n",
       "4  49.183500  15.459814\n",
       "5  50.068645  14.402774\n",
       "6  49.215606  15.881324\n",
       "7  50.783465  15.060350\n",
       "8  49.829347  18.164683\n",
       "9  50.182852  14.656602"
      ]
     },
     "execution_count": 16,
     "metadata": {},
     "output_type": "execute_result"
    }
   ],
   "source": [
    "cz.data[['lat', 'lon']].head(10)"
   ]
  },
  {
   "cell_type": "markdown",
   "metadata": {},
   "source": [
    "Obviously, you will not have to rerun these operations everytime a table is created. You can run it at once:"
   ]
  },
  {
   "cell_type": "code",
   "execution_count": 17,
   "metadata": {},
   "outputs": [
    {
     "name": "stderr",
     "output_type": "stream",
     "text": [
      "/Users/gjacopo/Developments/healthcare-services/src/pyHCS/pyhcs/harmonise.py:152: UserWarning: country py-module pyhcs.meta.CZhcs found\n",
      "  warnings.warn('country py-module %s found' % imp.__name__)\n",
      "/Users/gjacopo/Developments/healthcare-services/src/pyHCS/pyhcs/harmonise.py:167: UserWarning: no default metadata dictionary available\n",
      "  warnings.warn('no default metadata dictionary available')\n",
      "/Users/gjacopo/Developments/healthcare-services/src/pyHCS/pyhcs/harmonise.py:175: UserWarning: generic formatting/harmonisation methods used\n",
      "  warnings.warn('generic formatting/harmonisation methods used')\n",
      "/Users/gjacopo/Developments/healthcare-services/src/pyHCS/pyhcs/harmonise.py:199: UserWarning: ad-hoc metadata found - JSON-file /Users/gjacopo/Developments/healthcare-services/src/pyHCS/pyhcs/meta/CZhcs.json loaded\n",
      "  warnings.warn('ad-hoc metadata found - JSON-file %s loaded' % metaname)\n",
      "/Users/gjacopo/Developments/healthcare-services/src/pyHCS/pyhcs/harmonise.py:215: UserWarning: harmonised data for country CZ generated\n",
      "  warnings.warn('harmonised data for country %s generated' % country)\n"
     ]
    }
   ],
   "source": [
    "from pyhcs import harmonise\n",
    "cz = harmonise.run(country = \"CZ\", as_file = False)"
   ]
  },
  {
   "cell_type": "markdown",
   "metadata": {},
   "source": [
    "Check again for consistency... :"
   ]
  },
  {
   "cell_type": "code",
   "execution_count": 18,
   "metadata": {},
   "outputs": [
    {
     "data": {
      "text/html": [
       "<div>\n",
       "<style scoped>\n",
       "    .dataframe tbody tr th:only-of-type {\n",
       "        vertical-align: middle;\n",
       "    }\n",
       "\n",
       "    .dataframe tbody tr th {\n",
       "        vertical-align: top;\n",
       "    }\n",
       "\n",
       "    .dataframe thead th {\n",
       "        text-align: right;\n",
       "    }\n",
       "</style>\n",
       "<table border=\"1\" class=\"dataframe\">\n",
       "  <thead>\n",
       "    <tr style=\"text-align: right;\">\n",
       "      <th></th>\n",
       "      <th>lat</th>\n",
       "      <th>lon</th>\n",
       "    </tr>\n",
       "  </thead>\n",
       "  <tbody>\n",
       "    <tr>\n",
       "      <th>0</th>\n",
       "      <td>49.427788</td>\n",
       "      <td>15.218290</td>\n",
       "    </tr>\n",
       "    <tr>\n",
       "      <th>1</th>\n",
       "      <td>50.497217</td>\n",
       "      <td>13.650265</td>\n",
       "    </tr>\n",
       "    <tr>\n",
       "      <th>2</th>\n",
       "      <td>50.073417</td>\n",
       "      <td>14.401091</td>\n",
       "    </tr>\n",
       "    <tr>\n",
       "      <th>3</th>\n",
       "      <td>50.126761</td>\n",
       "      <td>14.456956</td>\n",
       "    </tr>\n",
       "    <tr>\n",
       "      <th>4</th>\n",
       "      <td>49.183500</td>\n",
       "      <td>15.459814</td>\n",
       "    </tr>\n",
       "    <tr>\n",
       "      <th>5</th>\n",
       "      <td>50.068645</td>\n",
       "      <td>14.402774</td>\n",
       "    </tr>\n",
       "    <tr>\n",
       "      <th>6</th>\n",
       "      <td>49.215606</td>\n",
       "      <td>15.881324</td>\n",
       "    </tr>\n",
       "    <tr>\n",
       "      <th>7</th>\n",
       "      <td>50.783465</td>\n",
       "      <td>15.060350</td>\n",
       "    </tr>\n",
       "    <tr>\n",
       "      <th>8</th>\n",
       "      <td>49.829347</td>\n",
       "      <td>18.164683</td>\n",
       "    </tr>\n",
       "    <tr>\n",
       "      <th>9</th>\n",
       "      <td>50.182852</td>\n",
       "      <td>14.656602</td>\n",
       "    </tr>\n",
       "  </tbody>\n",
       "</table>\n",
       "</div>"
      ],
      "text/plain": [
       "         lat        lon\n",
       "0  49.427788  15.218290\n",
       "1  50.497217  13.650265\n",
       "2  50.073417  14.401091\n",
       "3  50.126761  14.456956\n",
       "4  49.183500  15.459814\n",
       "5  50.068645  14.402774\n",
       "6  49.215606  15.881324\n",
       "7  50.783465  15.060350\n",
       "8  49.829347  18.164683\n",
       "9  50.182852  14.656602"
      ]
     },
     "execution_count": 18,
     "metadata": {},
     "output_type": "execute_result"
    }
   ],
   "source": [
    "cz.data[['lat', 'lon']].head(10)"
   ]
  },
  {
   "cell_type": "markdown",
   "metadata": {},
   "source": [
    "You can for instance transform the data into a `GEOJSON` collection of features, say the 10 first:"
   ]
  },
  {
   "cell_type": "code",
   "execution_count": 19,
   "metadata": {},
   "outputs": [],
   "source": [
    "# columns = set(cz.data.columns).difference(set(['lat', 'lon']))\n",
    "geom = cz.to_geojson(cz.data.iloc[0:10,:], latlon = ['lat', 'lon'])"
   ]
  },
  {
   "cell_type": "code",
   "execution_count": 20,
   "metadata": {},
   "outputs": [
    {
     "name": "stdout",
     "output_type": "stream",
     "text": [
      "the first feature of the feature collection is for instance: {'type': 'Feature', 'properties': {'site_name': 'Zubní studio V+V s.r.o.', 'house_number': '1465', 'geo_qual': 3, 'postcode': '39301', 'cc': 'CZ', 'street': 'Komenského', 'pub_date': '01-02-2020 23:03', 'hospital_name': 138130, 'country': 'Czech Republic', 'id': 138130, 'city': 'Pelhøimov'}, 'geometry': {'type': 'Point', 'coordinates': [15.218289906425, 49.427787867131]}}\n"
     ]
    }
   ],
   "source": [
    "print(\"the first feature of the feature collection is for instance: %s\" % geom.get('features',[])[0])"
   ]
  },
  {
   "cell_type": "markdown",
   "metadata": {},
   "source": [
    "You can use the formatted data to display the available information:"
   ]
  },
  {
   "cell_type": "code",
   "execution_count": 21,
   "metadata": {},
   "outputs": [],
   "source": [
    "from folium import Map, GeoJson, features"
   ]
  },
  {
   "cell_type": "code",
   "execution_count": 22,
   "metadata": {},
   "outputs": [
    {
     "data": {
      "text/html": [
       "<div style=\"width:100%;\"><div style=\"position:relative;width:100%;height:0;padding-bottom:60%;\"><iframe src=\"data:text/html;charset=utf-8;base64,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\" style=\"position:absolute;width:100%;height:100%;left:0;top:0;border:none !important;\" allowfullscreen webkitallowfullscreen mozallowfullscreen></iframe></div></div>"
      ],
      "text/plain": [
       "<folium.folium.Map at 0x120e3fba8>"
      ]
     },
     "execution_count": 22,
     "metadata": {},
     "output_type": "execute_result"
    }
   ],
   "source": [
    "prague = [50.0755, 14.4378]\n",
    "m = Map(location = prague, zoom_start = 7)\n",
    "GeoJson(json.dumps(geom), name = 'hospital',\n",
    "        tooltip=features.GeoJsonTooltip(fields=['site_name', 'city', 'postcode'], localize=True)).add_to(m)\n",
    "m"
   ]
  },
  {
   "cell_type": "code",
   "execution_count": null,
   "metadata": {},
   "outputs": [],
   "source": []
  }
 ],
 "metadata": {
  "kernelspec": {
   "display_name": "Python 3",
   "language": "python",
   "name": "python3"
  },
  "language_info": {
   "codemirror_mode": {
    "name": "ipython",
    "version": 3
   },
   "file_extension": ".py",
   "mimetype": "text/x-python",
   "name": "python",
   "nbconvert_exporter": "python",
   "pygments_lexer": "ipython3",
   "version": "3.7.1"
  }
 },
 "nbformat": 4,
 "nbformat_minor": 2
}
